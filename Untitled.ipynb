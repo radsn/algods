{
 "cells": [
  {
   "cell_type": "code",
   "execution_count": 36,
   "metadata": {},
   "outputs": [
    {
     "name": "stdout",
     "output_type": "stream",
     "text": [
      "0 [1, 2, 3, 4]\n",
      "1 [5, 6, 7, 2]\n",
      "2 [9, 8, 11, 12]\n",
      "3 [16, 14, 2, 4]\n",
      "Fail.\n"
     ]
    },
    {
     "data": {
      "text/plain": [
       "[[13, 10, 3, 1], [5, 15, 7, 6], [9, 8, 11, 12], [16, 14, 2, 4]]"
      ]
     },
     "execution_count": 36,
     "metadata": {},
     "output_type": "execute_result"
    }
   ],
   "source": [
    "def rotate_matrix(A, B): \n",
    "    #rotate layer by layer\n",
    "#     A[0][0] -- A[n][0]\n",
    "#     A[n][0] -- A[n][n]\n",
    "#     A[n][n] -- A[0][n]\n",
    "#     A[0][n] -- A[0][0]\n",
    "\n",
    "#     A[0][1] -- A[n-1][0]\n",
    "#     A[n-1][0] -- A[n][n-1]\n",
    "#     A[n][n-1] -- A[0+1][n]\n",
    "#     A[0][n] -- A[0][0]\n",
    "    n = len(A)\n",
    "    for row, col in enumerate(A):\n",
    "        print(row,col)\n",
    "        for i in range(row, len(col)):\n",
    "            temp = A[row][i]\n",
    "            A[row][i] = A[n-1-i][i] \n",
    "            A[n-1-i][i] = A[n-1][n-1-i]\n",
    "            A[n-1][n-1-i] = A[i][n-1]  \n",
    "            A[i][n-1]   = temp\n",
    "            \n",
    "    if A == B:\n",
    "        print(\"Pass!\")\n",
    "        return A\n",
    "    else:\n",
    "        print(\"Fail.\")\n",
    "        return A\n",
    "        \n",
    "\n",
    "rotate_matrix(A,B)"
   ]
  },
  {
   "cell_type": "code",
   "execution_count": 40,
   "metadata": {},
   "outputs": [
    {
     "name": "stdout",
     "output_type": "stream",
     "text": [
      "0\n",
      "1\n",
      "2\n"
     ]
    }
   ],
   "source": [
    "def rotate_matrix(A,B):\n",
    "    for i in range(len(A)):\n",
    "        fo\n",
    "\n",
    "rotate_matrix(A,B)"
   ]
  },
  {
   "cell_type": "code",
   "execution_count": 38,
   "metadata": {},
   "outputs": [],
   "source": [
    "A = [ [1,2,3],[4,5,6],[7,8,9] ]\n",
    "B = [ [7,4,1],[8,5,2],[9,6,3] ]"
   ]
  },
  {
   "cell_type": "code",
   "execution_count": 35,
   "metadata": {},
   "outputs": [],
   "source": [
    "A = [ [1,2,3,4], [5,6,7,8], [9,10,11,12], [13,14,15,16] ]\n",
    "B = [ [13,9,5,1], [14,10,6,2], [15,11,7,3], [16,12,8,4] ]"
   ]
  },
  {
   "cell_type": "code",
   "execution_count": null,
   "metadata": {},
   "outputs": [],
   "source": []
  },
  {
   "cell_type": "code",
   "execution_count": null,
   "metadata": {},
   "outputs": [],
   "source": []
  }
 ],
 "metadata": {
  "kernelspec": {
   "display_name": "Python 3",
   "language": "python",
   "name": "python3"
  },
  "language_info": {
   "codemirror_mode": {
    "name": "ipython",
    "version": 3
   },
   "file_extension": ".py",
   "mimetype": "text/x-python",
   "name": "python",
   "nbconvert_exporter": "python",
   "pygments_lexer": "ipython3",
   "version": "3.7.1"
  }
 },
 "nbformat": 4,
 "nbformat_minor": 2
}
