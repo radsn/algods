{
 "cells": [
  {
   "cell_type": "code",
   "execution_count": 27,
   "metadata": {},
   "outputs": [],
   "source": [
    "A = [1, 3, 6, 4, 1, 2]"
   ]
  },
  {
   "cell_type": "code",
   "execution_count": 28,
   "metadata": {},
   "outputs": [],
   "source": [
    "def solution(A):\n",
    "    # write your code in Python 3.6\n",
    "    #smallest positive > 0\n",
    "    #find max in array == make a set of range of numbers\n",
    "    #add A into array as well\n",
    "    #take difference between the two sets\n",
    "    maxx = 0\n",
    "    for num in A:\n",
    "        maxx = max(maxx, num)\n",
    "    \n",
    "    total = set()\n",
    "    for n in range(1, maxx):\n",
    "        total.add(n)\n",
    "    \n",
    "    Aset= set()\n",
    "    for n in A:\n",
    "        Aset.add(n)\n",
    "        \n",
    "    if maxx == 0:\n",
    "        return 1\n",
    "    \n",
    "    else:\n",
    "        ans = list(total.difference(Aset))\n",
    "        if ans == []:\n",
    "            return maxx+1\n",
    "        else:\n",
    "            return ans"
   ]
  },
  {
   "cell_type": "code",
   "execution_count": 29,
   "metadata": {},
   "outputs": [
    {
     "data": {
      "text/plain": [
       "[5]"
      ]
     },
     "execution_count": 29,
     "metadata": {},
     "output_type": "execute_result"
    }
   ],
   "source": [
    "solution(A)"
   ]
  },
  {
   "cell_type": "code",
   "execution_count": 25,
   "metadata": {},
   "outputs": [
    {
     "name": "stdout",
     "output_type": "stream",
     "text": [
      "[]\n"
     ]
    }
   ],
   "source": [
    "Aset = {1,2,3}\n",
    "Bset = {1,2,3}\n",
    "\n",
    "print(list(Aset.difference(Bset)))"
   ]
  },
  {
   "cell_type": "code",
   "execution_count": 19,
   "metadata": {},
   "outputs": [],
   "source": [
    "import random\n",
    "import time\n",
    "def url():\n",
    "    if random.random() < 0.5:\n",
    "        status_code = \"429\"\n",
    "    else:\n",
    "        status_code = \"200\"\n",
    "    \n",
    "    if status_code == \"200\":\n",
    "        return {\"tweet\": \"Hello World\"}\n",
    "    \n",
    "    elif status_code == \"429\":\n",
    "        print(\"error\")\n",
    "        time.sleep(10)  #we don't know this time\n",
    "        return {\"error\": \"Too Many Requests\"}"
   ]
  },
  {
   "cell_type": "code",
   "execution_count": 20,
   "metadata": {},
   "outputs": [
    {
     "name": "stdout",
     "output_type": "stream",
     "text": [
      "error\n"
     ]
    },
    {
     "data": {
      "text/plain": [
       "{'error': 'Too Many Requests'}"
      ]
     },
     "execution_count": 20,
     "metadata": {},
     "output_type": "execute_result"
    }
   ],
   "source": [
    "response = url()\n",
    "response"
   ]
  },
  {
   "cell_type": "code",
   "execution_count": 5,
   "metadata": {},
   "outputs": [
    {
     "name": "stdout",
     "output_type": "stream",
     "text": [
      "Unexpected behaviour\n",
      "Unexpected behaviour\n",
      "Unexpected behaviour\n",
      "Unexpected behaviour\n",
      "Unexpected behaviour\n",
      "Unexpected behaviour\n",
      "Unexpected behaviour\n",
      "Unexpected behaviour\n",
      "Unexpected behaviour\n",
      "Unexpected behaviour\n",
      "Unexpected behaviour\n",
      "Unexpected behaviour\n",
      "Unexpected behaviour\n",
      "Unexpected behaviour\n",
      "Unexpected behaviour\n",
      "Unexpected behaviour\n",
      "Unexpected behaviour\n",
      "Unexpected behaviour\n",
      "Unexpected behaviour\n",
      "Unexpected behaviour\n"
     ]
    }
   ],
   "source": [
    "import time\n",
    "import requests\n",
    "import random\n",
    "\n",
    "def printTweets(url1, url2):\n",
    "    delay = 1\n",
    "    for i in range(10):\n",
    "        \n",
    "        response = url()\n",
    "        if response.status_code == 429:\n",
    "            print(\"429 response\")\n",
    "            delay += 1\n",
    "            time.sleep(delay)\n",
    "        elif response.status_code == 200:\n",
    "            print(\"tweet:\", response.json()[\"msg\"])\n",
    "            delay /= 2\n",
    "        else:\n",
    "            print(\"Unexpected behaviour\")\n",
    "        \n",
    "\n",
    "\n",
    "url1 = \"http://demo1892568.mockable.io/not-so-fast\"\n",
    "url2 = \"http://demo3004303.mockable.io/botany123\"\n",
    "printTweets(url1, url2)\n"
   ]
  },
  {
   "cell_type": "code",
   "execution_count": 3,
   "metadata": {},
   "outputs": [
    {
     "name": "stdout",
     "output_type": "stream",
     "text": [
      "<Response [403]>\n",
      "<Response [403]>\n",
      "<Response [403]>\n",
      "<Response [403]>\n",
      "<Response [403]>\n",
      "<Response [403]>\n",
      "<Response [403]>\n",
      "<Response [403]>\n",
      "<Response [403]>\n",
      "<Response [403]>\n",
      "<Response [403]>\n",
      "<Response [403]>\n",
      "<Response [403]>\n",
      "<Response [403]>\n",
      "<Response [403]>\n",
      "<Response [403]>\n",
      "<Response [403]>\n",
      "<Response [403]>\n",
      "<Response [403]>\n",
      "<Response [403]>\n"
     ]
    }
   ],
   "source": [
    "url = \"http://demo1892568.mockable.io/not-so-fast\"\n",
    "printTweets(url)"
   ]
  },
  {
   "cell_type": "code",
   "execution_count": null,
   "metadata": {},
   "outputs": [],
   "source": []
  }
 ],
 "metadata": {
  "kernelspec": {
   "display_name": "Python 3",
   "language": "python",
   "name": "python3"
  },
  "language_info": {
   "codemirror_mode": {
    "name": "ipython",
    "version": 3
   },
   "file_extension": ".py",
   "mimetype": "text/x-python",
   "name": "python",
   "nbconvert_exporter": "python",
   "pygments_lexer": "ipython3",
   "version": "3.7.1"
  }
 },
 "nbformat": 4,
 "nbformat_minor": 2
}
