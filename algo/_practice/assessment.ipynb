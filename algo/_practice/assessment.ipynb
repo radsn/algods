{
 "cells": [
  {
   "cell_type": "markdown",
   "metadata": {},
   "source": [
    "Given a one dimensional array of data write a function that returns a new array with the data reversed. Don't just use the reverse function that is built into your environment."
   ]
  },
  {
   "cell_type": "code",
   "execution_count": 1,
   "metadata": {},
   "outputs": [],
   "source": [
    "def reverseArray(nums):\n",
    "    i = 0\n",
    "    j = len(nums)-1\n",
    "    while i <= j:\n",
    "        nums[i], nums[j] = nums[j], nums[i]\n",
    "        i += 1\n",
    "        j -= 1"
   ]
  },
  {
   "cell_type": "code",
   "execution_count": 2,
   "metadata": {},
   "outputs": [
    {
     "data": {
      "text/plain": [
       "[5, 4, 3, 2, 1]"
      ]
     },
     "execution_count": 2,
     "metadata": {},
     "output_type": "execute_result"
    }
   ],
   "source": [
    "#test:\n",
    "nums = [1,2,3,4,5]\n",
    "reverseArray(nums)\n",
    "nums"
   ]
  },
  {
   "cell_type": "markdown",
   "metadata": {},
   "source": [
    "Write a quick and dirty program (not just a function) to print a count of all the different \"words\" in a text file. Use any reasonable definition of word that makes logical sense or makes your job easy.\n",
    "\n",
    "The output should be sorted like this:\n",
    "\n",
    "```\n",
    "17 a\n",
    "14 the\n",
    "9 of\n",
    "9 in\n",
    "8 com\n",
    "7 you\n",
    "7 that\n",
    "7 social\n",
    "6 to\n",
    "```\n",
    "\n",
    "For this input file, the word \"a\" occurred 17 times, \"the\" 14 times, etc.\n",
    "\n",
    "\n"
   ]
  },
  {
   "cell_type": "code",
   "execution_count": 3,
   "metadata": {},
   "outputs": [],
   "source": [
    "def countWords(filepath):\n",
    "    wordDict = {}\n",
    "    file = open(filepath, 'r')\n",
    "    for line in file:\n",
    "        line = line.strip()\n",
    "        words = line.split(\" \")\n",
    "        for word in words:\n",
    "            if word in wordDict:\n",
    "                wordDict[word] += 1\n",
    "            else:\n",
    "                wordDict[word] = 1\n",
    "    file.close()\n",
    "    \n",
    "    for key, value in wordDict.items():\n",
    "        print(key, ' ', wordDict[key])"
   ]
  },
  {
   "cell_type": "markdown",
   "metadata": {},
   "source": [
    "Write a function that returns M random non-negative integers less than some value N, where M and N are arbitrary integers, and each output integer is unique."
   ]
  },
  {
   "cell_type": "code",
   "execution_count": 4,
   "metadata": {},
   "outputs": [],
   "source": [
    "import random\n",
    "def generate(M, N):\n",
    "    if M > N:\n",
    "        print(\"since M > N, this is not possible\")\n",
    "        return None\n",
    "    result = set()\n",
    "    while len(result) < M:\n",
    "        num = random.randint(0, N-1)\n",
    "        result.add(num)\n",
    "    return result"
   ]
  },
  {
   "cell_type": "code",
   "execution_count": 5,
   "metadata": {},
   "outputs": [
    {
     "name": "stdout",
     "output_type": "stream",
     "text": [
      "{0, 2, 4, 7, 8, 12, 13, 15, 16, 19}\n",
      "since M > N, this is not possible\n"
     ]
    }
   ],
   "source": [
    "#test:\n",
    "print(generate(10,20))\n",
    "generate(20, 10)"
   ]
  },
  {
   "cell_type": "markdown",
   "metadata": {},
   "source": [
    "Given a one dimensional array of data write a function that return M random elements of that array. Each element must be from a different position in the array. Don't just use the sample function that is built into your environment."
   ]
  },
  {
   "cell_type": "code",
   "execution_count": 6,
   "metadata": {},
   "outputs": [],
   "source": [
    "import random\n",
    "def sample(arr, M):\n",
    "    if M > len(arr):\n",
    "        print(\"since M > length of array, this is not possible\")\n",
    "        return None\n",
    "    result = []\n",
    "    used_index = set()\n",
    "    while len(result) < M:\n",
    "        idx = random.randint(0, len(arr)-1)\n",
    "        if idx not in used_index:\n",
    "            used_index.add(idx)\n",
    "            result.append(arr[idx])\n",
    "    return result"
   ]
  },
  {
   "cell_type": "code",
   "execution_count": 7,
   "metadata": {},
   "outputs": [
    {
     "data": {
      "text/plain": [
       "[30, 50, 20, 40, 60]"
      ]
     },
     "execution_count": 7,
     "metadata": {},
     "output_type": "execute_result"
    }
   ],
   "source": [
    "#test:\n",
    "nums = [10,20,30,40,50,60]\n",
    "sample(nums,5)"
   ]
  },
  {
   "cell_type": "markdown",
   "metadata": {},
   "source": [
    "Given two strings, s and t , write a function that tests whether t is a substring contained within s. The function should return the integer index within s of the first occurrence of t, or -1 if no match is found. You may not use regular expressions in your solution (unless you also implement the regex library)."
   ]
  },
  {
   "cell_type": "code",
   "execution_count": 8,
   "metadata": {},
   "outputs": [],
   "source": [
    "def isSubstring(s, t):\n",
    "    for i in range(len(s)):\n",
    "        for j in range(len(s)):\n",
    "            if t == s[i:j]:\n",
    "                return i\n",
    "    return -1"
   ]
  },
  {
   "cell_type": "code",
   "execution_count": 9,
   "metadata": {},
   "outputs": [
    {
     "data": {
      "text/plain": [
       "0"
      ]
     },
     "execution_count": 9,
     "metadata": {},
     "output_type": "execute_result"
    }
   ],
   "source": [
    "#test:\n",
    "isSubstring(\"apple\", \"app\")"
   ]
  },
  {
   "cell_type": "markdown",
   "metadata": {},
   "source": [
    "Consider a directed graph of small non-negative integers where each integer is less than 60,000 and each integer is unique. In this case, a directed graph is a data structure where a node is represented by a unique integer and each node has zero or more child nodes. As above, don't just use an existing graph library.\n",
    "\n",
    "    - Write a function that creates a node in a graph.\n",
    "    - Write a function that inserts a node as a child of another node.\n",
    "    - These functions should not allow cycles to be created. That is, a node may not directly or indirectly point to itself.\n",
    "    - Write a function to print out a graph\n",
    "\n",
    "\n",
    "Here is a simple example graph without cycles:\n",
    "\n",
    "```\n",
    "1 -> 2, 3, 4\n",
    "2 -> 5\n",
    "3 -> 6\n",
    "4 -> 3, 6\n",
    "5 -> 6\n",
    "6 -> No children\n",
    "```"
   ]
  },
  {
   "cell_type": "code",
   "execution_count": 10,
   "metadata": {},
   "outputs": [],
   "source": [
    "class Graph:\n",
    "    def __init__(self):\n",
    "        self.adjList = {}\n",
    "\n",
    "    def createNode(self, node):\n",
    "        self.adjList[node] = []\n",
    "        \n",
    "    def insertNode(self, parent, child):\n",
    "        #check if path already exists\n",
    "        visited = set()\n",
    "        def dfs(node):\n",
    "            visited.add(node)\n",
    "            for neighbor in self.adjList[node]:\n",
    "                if neighbor not in visited:\n",
    "                    dfs(neighbor)\n",
    "        dfs(child)\n",
    "        if parent not in visited:\n",
    "            self.adjList[parent].append(child)\n",
    "        else:\n",
    "            print(\"do not add edge since creates cycle\")\n",
    "    \n",
    "    def printGraph(self):\n",
    "        for key, value in self.adjList.items():\n",
    "            if len(value)>0:\n",
    "                strval = []\n",
    "                for el in value:\n",
    "                    strval.append(str(el))\n",
    "                print( key, \"->\", \", \".join(strval) )\n",
    "            else:\n",
    "                print( key, \"->\", \"No children\" )"
   ]
  },
  {
   "cell_type": "code",
   "execution_count": 11,
   "metadata": {},
   "outputs": [
    {
     "name": "stdout",
     "output_type": "stream",
     "text": [
      "1 -> 2, 3, 4\n",
      "2 -> 5\n",
      "3 -> 6\n",
      "4 -> 3, 6\n",
      "5 -> 6\n",
      "6 -> No children\n"
     ]
    }
   ],
   "source": [
    "#test:\n",
    "g = Graph()\n",
    "g.createNode(1)\n",
    "g.createNode(2)\n",
    "g.createNode(3)\n",
    "g.createNode(4)\n",
    "g.createNode(5)\n",
    "g.createNode(6)\n",
    "g.insertNode(1,2)\n",
    "g.insertNode(1,3)\n",
    "g.insertNode(1,4)\n",
    "g.insertNode(2,5)\n",
    "g.insertNode(3,6)\n",
    "g.insertNode(4,3)\n",
    "g.insertNode(4,6)\n",
    "g.insertNode(5,6)\n",
    "g.printGraph()"
   ]
  }
 ],
 "metadata": {
  "kernelspec": {
   "display_name": "Python 3",
   "language": "python",
   "name": "python3"
  },
  "language_info": {
   "codemirror_mode": {
    "name": "ipython",
    "version": 3
   },
   "file_extension": ".py",
   "mimetype": "text/x-python",
   "name": "python",
   "nbconvert_exporter": "python",
   "pygments_lexer": "ipython3",
   "version": "3.7.1"
  }
 },
 "nbformat": 4,
 "nbformat_minor": 2
}
