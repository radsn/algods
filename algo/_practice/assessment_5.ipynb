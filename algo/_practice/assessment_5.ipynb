{
 "cells": [
  {
   "cell_type": "markdown",
   "metadata": {},
   "source": [
    "1. Implement a function called calculator() that takes one of four single-character symbols ('+', '-', '/', '*') and returns another function that, when called, performs that operation on two inputs and returns the result as a string showing the operands, the operator, and the result. In addition, calculator() should optionally take a list that collects the strings resulting from each call of any returned function. An interactive Python session would look like this:\n",
    "\n",
    "    >>> tape = []\n",
    "    >>> func1 = calculator('+', tape)\n",
    "    >>> func1(10, 20)\n",
    "    10+20=30\n",
    "    >>> func2 = calculator('-', tape)\n",
    "    >>> func2(4, 6)\n",
    "    4-6=-2\n",
    "    >>> func2(8, 3)\n",
    "    8-3=5\n",
    "    >>> tape\n",
    "    ['10+20=30', '4-6=-2', '8-3=5']\n"
   ]
  },
  {
   "cell_type": "code",
   "execution_count": 17,
   "metadata": {},
   "outputs": [],
   "source": [
    "import operator\n",
    "\n",
    "def calculator(symbol, tape):\n",
    "    ops = {'+' : operator.add, \n",
    "           '-' : operator.sub, \n",
    "           '/' : operator.truediv, \n",
    "           '*' : operator.mul}\n",
    "    symbols = set(['+','-','/','*'])\n",
    "    if symbol not in symbols:\n",
    "        return \"retry and enter valid symbol\"\n",
    "\n",
    "    def calc(a,b):\n",
    "        result = ops[symbol](a,b)\n",
    "        temp = str(a) + symbol + str(b) + \"=\" + str(result)\n",
    "        tape.append(temp)\n",
    "        return temp\n",
    "    \n",
    "    return calc\n",
    "    "
   ]
  },
  {
   "cell_type": "code",
   "execution_count": 21,
   "metadata": {},
   "outputs": [
    {
     "data": {
      "text/plain": [
       "['10+20=30', '4-6=-2', '8-3=5']"
      ]
     },
     "execution_count": 21,
     "metadata": {},
     "output_type": "execute_result"
    }
   ],
   "source": [
    "tape = []\n",
    "func1 = calculator('+', tape)\n",
    "func1(10,20)\n",
    "func2 = calculator('-', tape)\n",
    "func2(4, 6)\n",
    "func2(8, 3)\n",
    "tape"
   ]
  },
  {
   "cell_type": "markdown",
   "metadata": {},
   "source": [
    "\n",
    "3. Implement words() such that it accepts a path to a text file (of size up to 1TB) and returns an object iterable over the words (where words are defined as a contiguous sequence of letters from the English alphabet) contained within that file. Accessing each word will look like this:\n",
    "\n",
    "    for word in words(file_path):\n",
    "        pass"
   ]
  },
  {
   "cell_type": "code",
   "execution_count": 26,
   "metadata": {},
   "outputs": [],
   "source": [
    "def words(file_path):\n",
    "    with open('file_path', 'r') as infile: #open and read the file\n",
    "        for line in infile: #for every line in file\n",
    "            yield line.split() #splits each line into words and returns iterable generator"
   ]
  },
  {
   "cell_type": "markdown",
   "metadata": {},
   "source": [
    "4. Write a generator find() that takes two arguments: a nested list containing both integers and lists of integers (of unbound nesting depth), and an integer \"target\" to search for in the nested list provided as the first argument. This generator should yield ordered lists of indexes to access the target integer.\n",
    "\n",
    ">>> nums = [0, 42, [300, [], 200, [[101]]], 1000, 200]\n",
    ">>> for coords in find(nums, 101):\n",
    "...     print(coords)\n",
    "...\n",
    "[2, 3, 0, 0]\n",
    ">>> nums[2][3][0][0]\n",
    "101\n",
    "\n",
    "If the target integer is found in multiple locations, the index lists should be yielded in order from shallowest to deepest nesting:\n",
    "\n",
    ">>> for coords in find(nums, 200):\n",
    "...     print(coords)\n",
    "...\n",
    "[4]\n",
    "[2, 2]\n",
    ">>> nums[4]\n",
    "200\n",
    ">>> nums[2][2]\n",
    "200\n",
    "\n",
    "You are encouraged to explain your thought process when approaching the problem, such as how you think it should be solved and what the space and time complexity of your solution will be. This explanation will be considered even if an implementation is not completed or attempted.\n"
   ]
  },
  {
   "cell_type": "code",
   "execution_count": 84,
   "metadata": {},
   "outputs": [],
   "source": [
    "#two steps: if index directly in target then append it; else need to check nested lists via recursion\n",
    "#time: O(n*n) - need to iterate through the entire list so O(n) but each element can be n length so O(n*n)\n",
    "#space: O(n) using an array to append results\n",
    "def find(nums, target):\n",
    "    result = []\n",
    "    for idx, num in enumerate(nums):\n",
    "        if target == num:\n",
    "            result.append(idx)\n",
    "        if isinstance(num, list):\n",
    "            path = find(num, target)\n",
    "            if path:\n",
    "                temp = [idx]+path\n",
    "                result.append(temp)\n",
    "    return result"
   ]
  },
  {
   "cell_type": "code",
   "execution_count": 85,
   "metadata": {},
   "outputs": [],
   "source": [
    "nums = [0, 42, [300, [], 200, [[101]]], 1000, 200]"
   ]
  },
  {
   "cell_type": "code",
   "execution_count": 86,
   "metadata": {},
   "outputs": [
    {
     "data": {
      "text/plain": [
       "[[2, 2], 4]"
      ]
     },
     "execution_count": 86,
     "metadata": {},
     "output_type": "execute_result"
    }
   ],
   "source": [
    "find(nums, 200)"
   ]
  },
  {
   "cell_type": "code",
   "execution_count": 87,
   "metadata": {},
   "outputs": [],
   "source": [
    "import pandas as pd\n",
    "\n",
    "def mult(left, right):\n",
    "    a = pd.Series((100, 1, None, 65), dtype=object)\n",
    "    b = pd.Series((-85, -234, 32, 104), dtype=int)\n",
    "    c = pd.Series((205.3, 3.5, 234.3, 8403.32), dtype=float)\n",
    "    df = pd.DataFrame(dict(a=a, b=b, c=c))\n",
    "    for _ in range(int(1e4)):\n",
    "        df[left] * df[right]"
   ]
  },
  {
   "cell_type": "code",
   "execution_count": 88,
   "metadata": {},
   "outputs": [
    {
     "name": "stdout",
     "output_type": "stream",
     "text": [
      "1.96 s ± 32.8 ms per loop (mean ± std. dev. of 7 runs, 1 loop each)\n"
     ]
    }
   ],
   "source": [
    " %timeit mult('a', 'b')"
   ]
  },
  {
   "cell_type": "code",
   "execution_count": 89,
   "metadata": {},
   "outputs": [
    {
     "name": "stdout",
     "output_type": "stream",
     "text": [
      "1.96 s ± 68.8 ms per loop (mean ± std. dev. of 7 runs, 1 loop each)\n"
     ]
    }
   ],
   "source": [
    "%timeit mult('a', 'c')"
   ]
  },
  {
   "cell_type": "code",
   "execution_count": 90,
   "metadata": {},
   "outputs": [
    {
     "name": "stdout",
     "output_type": "stream",
     "text": [
      "747 ms ± 23.8 ms per loop (mean ± std. dev. of 7 runs, 1 loop each)\n"
     ]
    }
   ],
   "source": [
    "%timeit mult('b', 'c')"
   ]
  },
  {
   "cell_type": "markdown",
   "metadata": {},
   "source": [
    "     In [1]: %timeit mult('a', 'b')\n",
    "    2.38 s ± 46.4 ms per loop (mean ± std. dev. of 7 runs, 1 loop  each)\n",
    "\n",
    "    In [2]: %timeit mult('a', 'c')\n",
    "    2.37 s ± 19.6 ms per loop (mean ± std. dev. of 7 runs, 1 loop each)\n",
    "\n",
    "    In [3]: %timeit mult('b', 'c')\n",
    "    827 ms ± 48 ms per loop (mean ± std. dev. of 7 runs, 1 loop each)\n"
   ]
  },
  {
   "cell_type": "markdown",
   "metadata": {},
   "source": [
    "1) A&B and A&C is highest time since its a mutiplication between object and (int and float) --  both are similar times as standard types are multiplied by object\n",
    "2) B*C is smallest time since it is a multiplication between standard types int and float"
   ]
  },
  {
   "cell_type": "code",
   "execution_count": null,
   "metadata": {},
   "outputs": [],
   "source": []
  }
 ],
 "metadata": {
  "kernelspec": {
   "display_name": "Python 3",
   "language": "python",
   "name": "python3"
  },
  "language_info": {
   "codemirror_mode": {
    "name": "ipython",
    "version": 3
   },
   "file_extension": ".py",
   "mimetype": "text/x-python",
   "name": "python",
   "nbconvert_exporter": "python",
   "pygments_lexer": "ipython3",
   "version": "3.7.1"
  }
 },
 "nbformat": 4,
 "nbformat_minor": 2
}
