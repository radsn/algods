{
 "cells": [
  {
   "cell_type": "markdown",
   "metadata": {},
   "source": [
    "elements of A = positions and indices = time<br>\n",
    "Find total counts of when same velocity as nC2 "
   ]
  },
  {
   "cell_type": "code",
   "execution_count": 1,
   "metadata": {},
   "outputs": [],
   "source": [
    "def findContiguous(A):\n",
    "    #first find the entire velocity array\n",
    "    velocity = []\n",
    "    for i in range(len(A)-1):\n",
    "        velocity.append(A[i+1]-A[i])\n",
    "    \n",
    "    total = 0\n",
    "    contiguous = 1\n",
    "    \n",
    "    for i in range(len(velocity)-1):\n",
    "        if velocity[i] == velocity[i+1]:\n",
    "            contiguous += 1\n",
    "        else:\n",
    "            #update total which is nC2 where n = contiguous\n",
    "            total += contiguous * (contiguous - 1) / 2\n",
    "            contiguous = 1 #reset \n",
    "    total += contiguous * (contiguous - 1) / 2  #doesnot enter else if all same el at the end\n",
    "    return total"
   ]
  },
  {
   "cell_type": "code",
   "execution_count": 2,
   "metadata": {},
   "outputs": [
    {
     "data": {
      "text/plain": [
       "5.0"
      ]
     },
     "execution_count": 2,
     "metadata": {},
     "output_type": "execute_result"
    }
   ],
   "source": [
    "A = [-1,1,3,3,3,2,3,2,1,0] #elements of A = positions and indices = time\n",
    "findContiguous(A)"
   ]
  },
  {
   "cell_type": "markdown",
   "metadata": {},
   "source": [
    "Binary Search: iterative binary search with deferred detection of equality"
   ]
  },
  {
   "cell_type": "code",
   "execution_count": 3,
   "metadata": {},
   "outputs": [],
   "source": [
    "def binarySearch(A, X):\n",
    "    N = len(A)\n",
    "    if N == 0:\n",
    "        return -1\n",
    "    l = 0\n",
    "    r = N - 1\n",
    "    \n",
    "    while l < r:\n",
    "        m = (l + r) // 2\n",
    "        \n",
    "#         print(l,m,r)\n",
    "#         print(A[l], A[m], A[r])\n",
    "#         print()\n",
    "        \n",
    "        if A[m] >= X:\n",
    "            r = m\n",
    "        else:\n",
    "            l = m + 1\n",
    "    if A[l] == X:\n",
    "        return l\n",
    "    return -1"
   ]
  },
  {
   "cell_type": "code",
   "execution_count": 4,
   "metadata": {},
   "outputs": [
    {
     "data": {
      "text/plain": [
       "2"
      ]
     },
     "execution_count": 4,
     "metadata": {},
     "output_type": "execute_result"
    }
   ],
   "source": [
    "A = [1,2,5,9,10]\n",
    "X = 5\n",
    "binarySearch(A, X)"
   ]
  },
  {
   "cell_type": "code",
   "execution_count": 5,
   "metadata": {},
   "outputs": [
    {
     "data": {
      "text/plain": [
       "3"
      ]
     },
     "execution_count": 5,
     "metadata": {},
     "output_type": "execute_result"
    }
   ],
   "source": [
    "A = [0,1,2,5,6,6,7,7]\n",
    "X = 5\n",
    "binarySearch(A, X)"
   ]
  },
  {
   "cell_type": "markdown",
   "metadata": {},
   "source": [
    "For N, return array of N unique numbers that sum to 0"
   ]
  },
  {
   "cell_type": "code",
   "execution_count": 6,
   "metadata": {},
   "outputs": [],
   "source": [
    "def Nsum0(N):\n",
    "    #two cases: odd (include 0) and even (don't include 0)\n",
    "    ans = []\n",
    "    for i in range(1, N//2+1): #start at 1 and go upto half of N\n",
    "        ans.append(i)\n",
    "        ans.append(-i)\n",
    "    if N % 2 != 0:\n",
    "        ans.append(0)\n",
    "    return ans"
   ]
  },
  {
   "cell_type": "code",
   "execution_count": 7,
   "metadata": {},
   "outputs": [
    {
     "name": "stdout",
     "output_type": "stream",
     "text": [
      "[1, -1, 0]\n",
      "[1, -1, 2, -2]\n"
     ]
    }
   ],
   "source": [
    "print(Nsum0(3))\n",
    "print(Nsum0(4))"
   ]
  }
 ],
 "metadata": {
  "kernelspec": {
   "display_name": "Python 3",
   "language": "python",
   "name": "python3"
  },
  "language_info": {
   "codemirror_mode": {
    "name": "ipython",
    "version": 3
   },
   "file_extension": ".py",
   "mimetype": "text/x-python",
   "name": "python",
   "nbconvert_exporter": "python",
   "pygments_lexer": "ipython3",
   "version": "3.7.1"
  }
 },
 "nbformat": 4,
 "nbformat_minor": 2
}
