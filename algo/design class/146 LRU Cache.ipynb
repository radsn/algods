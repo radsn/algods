{
 "cells": [
  {
   "cell_type": "markdown",
   "metadata": {},
   "source": [
    "Design a data structure that follows the constraints of a **`Least Recently Used (LRU) cache`**.\n",
    "\n",
    "Implement the `LRUCache` class:\n",
    "\n",
    "`LRUCache(int capacity)` Initialize the LRU cache with **positive** size `capacity`.\n",
    "\n",
    "`int get(int key)` Return the value of the `key` if the key exists, otherwise return `-1`.\n",
    "\n",
    "`void put(int key, int value)` Update the value of the `key` if the `key` exists. Otherwise, add the `key-value` pair to the cache. If the number of keys exceeds the `capacity` from this operation, **evict** the least recently used key."
   ]
  },
  {
   "cell_type": "code",
   "execution_count": 1,
   "metadata": {},
   "outputs": [],
   "source": [
    "import collections\n",
    "\n",
    "class LRUCache(object):\n",
    "\n",
    "    def __init__(self, capacity):\n",
    "        self.capacity = capacity\n",
    "        self.cache = {}\n",
    "        self.q = collections.deque()\n",
    "\n",
    "\n",
    "    def get(self, key):\n",
    "        #if key not in cache, return -1\n",
    "        #if key in cache, change order make it latest and then return value\n",
    "        if key not in self.cache:\n",
    "            return -1\n",
    "        self.q.remove(key)\n",
    "        self.q.append(key)\n",
    "        return self.cache[key]\n",
    "\n",
    "    \n",
    "    def put(self, key, value):\n",
    "        #if key already in cache, change order to make it latest and set to new value\n",
    "        #if key does not exist and len<cap, add key in cache and queue\n",
    "        #if key does not exist and len=>cap, remove least recently used from queue and cache, add new key in queue and cache\n",
    "        if key in self.cache:\n",
    "            self.q.remove(key)\n",
    "            self.q.append(key)\n",
    "            self.cache[key] = value\n",
    "        else:\n",
    "            if len(self.cache) < self.capacity:\n",
    "                self.q.append(key)\n",
    "                self.cache[key] = value\n",
    "            else:\n",
    "                oldkey = self.q.popleft() \n",
    "                self.cache.pop(oldkey)      # O(n) time to delete item from hashmap\n",
    "                self.q.append(key)\n",
    "                self.cache[key] = value"
   ]
  },
  {
   "cell_type": "code",
   "execution_count": 2,
   "metadata": {},
   "outputs": [
    {
     "name": "stdout",
     "output_type": "stream",
     "text": [
      "None\n",
      "None\n",
      "1\n",
      "None\n",
      "-1\n",
      "None\n",
      "-1\n",
      "3\n",
      "4\n"
     ]
    }
   ],
   "source": [
    "lRUCache = LRUCache(2)\n",
    "print(lRUCache.put(1, 1))\n",
    "print(lRUCache.put(2, 2))\n",
    "print(lRUCache.get(1))\n",
    "print(lRUCache.put(3, 3))\n",
    "print(lRUCache.get(2))\n",
    "print(lRUCache.put(4, 4))\n",
    "print(lRUCache.get(1))\n",
    "print(lRUCache.get(3))\n",
    "print(lRUCache.get(4))"
   ]
  },
  {
   "cell_type": "markdown",
   "metadata": {},
   "source": [
    "We're asked to implement the structure which provides the following operations in O(1) time :\n",
    "\n",
    "- Get the key / Check if the key exists\n",
    "- Put the key\n",
    "- Delete the first added key\n",
    "\n",
    "The first two operations in O(1) time are provided by the standard hashmap, and the last one by linked list.\n",
    "\n",
    "OrderedDict combines behind both hashmap and linked list."
   ]
  },
  {
   "cell_type": "markdown",
   "metadata": {},
   "source": [
    "`OrderedDict.move_to_end(item, last=True/False)`<br>\n",
    "`OrderedDict.popitem(last=True/False)`"
   ]
  },
  {
   "cell_type": "code",
   "execution_count": 3,
   "metadata": {},
   "outputs": [],
   "source": [
    "from collections import OrderedDict\n",
    "\n",
    "class LRUCache:\n",
    "\n",
    "    def __init__(self, capacity: int):\n",
    "        self.capacity = capacity\n",
    "        self.cache = collections.OrderedDict()\n",
    "\n",
    "    \n",
    "    def get(self, key: int) -> int:\n",
    "        #if key not in OrderedDict, return -1\n",
    "        #if key in OrderedDict, move_to_end(make it last)\n",
    "        if key not in self.cache:\n",
    "            return -1\n",
    "        self.cache.move_to_end(key, last=True)\n",
    "        return self.cache[key]\n",
    "\n",
    "    \n",
    "    def put(self, key: int, value: int) -> None:\n",
    "        #if key already in OrderedDict, move_to_end(make it last)\n",
    "        #else if key does not exist, add key into OrderedDict\n",
    "        #if len=>cap, pop first item\n",
    "        if key in self.cache:\n",
    "            self.cache.move_to_end(key, last=True)\n",
    "        self.cache[key] = value\n",
    "        if len(self.cache) > self.capacity:\n",
    "            self.cache.popitem(last=False)"
   ]
  }
 ],
 "metadata": {
  "kernelspec": {
   "display_name": "Python 3",
   "language": "python",
   "name": "python3"
  },
  "language_info": {
   "codemirror_mode": {
    "name": "ipython",
    "version": 3
   },
   "file_extension": ".py",
   "mimetype": "text/x-python",
   "name": "python",
   "nbconvert_exporter": "python",
   "pygments_lexer": "ipython3",
   "version": "3.7.1"
  }
 },
 "nbformat": 4,
 "nbformat_minor": 2
}
