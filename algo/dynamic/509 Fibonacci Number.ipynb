{
 "cells": [
  {
   "cell_type": "markdown",
   "metadata": {},
   "source": [
    "The Fibonacci numbers, commonly denoted F(n) form a sequence, called the Fibonacci sequence, such that each number is the sum of the two preceding ones, starting from 0 and 1.\n",
    "\n",
    "`F(0) = 0,   F(1) = 1\n",
    " F(N) = F(N - 1) + F(N - 2), for N > 1.`\n",
    "\n",
    "Given N, calculate F(N)."
   ]
  },
  {
   "cell_type": "markdown",
   "metadata": {},
   "source": [
    "recursion: O(2^N) time | O(N) space <br>\n",
    "amount of operations needed for each level of recursion grows exponentially as depth approaches N"
   ]
  },
  {
   "cell_type": "code",
   "execution_count": 1,
   "metadata": {},
   "outputs": [],
   "source": [
    "def fib(N):\n",
    "    if N <= 1:\n",
    "        return N\n",
    "    return fib(N-1) + fib(N-2)"
   ]
  },
  {
   "cell_type": "markdown",
   "metadata": {},
   "source": [
    "top down approach using memoization<br>\n",
    "leverage recursion but not repeating any subproblem calc (store into dictionary)"
   ]
  },
  {
   "cell_type": "code",
   "execution_count": 2,
   "metadata": {},
   "outputs": [],
   "source": [
    "def fib(N):\n",
    "    \n",
    "    def memoize(N, memo):\n",
    "        if N in memo:\n",
    "            return memo[N]\n",
    "        memo[N] = memoize(N-1, memo) + memoize(N-2, memo)\n",
    "        return memo[N]\n",
    "    \n",
    "    if N <= 1:\n",
    "        return N\n",
    "    cache = {0:0, 1:1}\n",
    "    return memoize(N, cache)"
   ]
  },
  {
   "cell_type": "markdown",
   "metadata": {},
   "source": [
    "bottom up approach (iterative table)"
   ]
  },
  {
   "cell_type": "code",
   "execution_count": 3,
   "metadata": {},
   "outputs": [],
   "source": [
    "def fib(N):\n",
    "    if N == 0:\n",
    "        return 0\n",
    "    if N == 1:\n",
    "        return 1\n",
    "    dp = [-1]*(N+1)\n",
    "    for i in range(2, N+1):\n",
    "        dp[i] = dp[i-1] + dp[i-2]\n",
    "    return dp[N]"
   ]
  }
 ],
 "metadata": {
  "kernelspec": {
   "display_name": "Python 3",
   "language": "python",
   "name": "python3"
  },
  "language_info": {
   "codemirror_mode": {
    "name": "ipython",
    "version": 3
   },
   "file_extension": ".py",
   "mimetype": "text/x-python",
   "name": "python",
   "nbconvert_exporter": "python",
   "pygments_lexer": "ipython3",
   "version": "3.7.1"
  }
 },
 "nbformat": 4,
 "nbformat_minor": 2
}
