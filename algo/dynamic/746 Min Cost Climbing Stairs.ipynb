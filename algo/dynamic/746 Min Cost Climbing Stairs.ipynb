{
 "cells": [
  {
   "cell_type": "markdown",
   "metadata": {},
   "source": [
    "On a staircase, the `i`-th step has some non-negative cost `cost[i]` assigned (0 indexed).\n",
    "\n",
    "Once you pay the cost, you can either climb one or two steps. You need to find minimum cost to reach the top of the floor, and you can either start from the step with index 0, or the step with index 1."
   ]
  },
  {
   "cell_type": "markdown",
   "metadata": {},
   "source": [
    "bottom-up iterative table"
   ]
  },
  {
   "cell_type": "code",
   "execution_count": 1,
   "metadata": {},
   "outputs": [],
   "source": [
    "# O(n) time | O(1) space\n",
    "def minCostClimbingStairs(cost):\n",
    "    dp = [-1]*len(cost)\n",
    "    dp[0] = cost[0]\n",
    "    dp[1] = cost[1]\n",
    "    for i in range(2, len(cost)):\n",
    "        dp[i] = cost[i] + min(dp[i-1], dp[i-2])\n",
    "    return min(dp[-1], dp[-2])"
   ]
  },
  {
   "cell_type": "code",
   "execution_count": 2,
   "metadata": {},
   "outputs": [
    {
     "data": {
      "text/plain": [
       "15"
      ]
     },
     "execution_count": 2,
     "metadata": {},
     "output_type": "execute_result"
    }
   ],
   "source": [
    "cost = [10, 15, 20]\n",
    "minCostClimbingStairs(cost)"
   ]
  },
  {
   "cell_type": "markdown",
   "metadata": {},
   "source": [
    "allocate table which stores min cost path values for each step<br>\n",
    "mincost at any step = cost at myself + min{ mincost at 1step before, mincost at 2 steps before }<br>\n",
    "note mincost at final destination has no cost associated with itself"
   ]
  }
 ],
 "metadata": {
  "kernelspec": {
   "display_name": "Python 3",
   "language": "python",
   "name": "python3"
  },
  "language_info": {
   "codemirror_mode": {
    "name": "ipython",
    "version": 3
   },
   "file_extension": ".py",
   "mimetype": "text/x-python",
   "name": "python",
   "nbconvert_exporter": "python",
   "pygments_lexer": "ipython3",
   "version": "3.7.1"
  }
 },
 "nbformat": 4,
 "nbformat_minor": 2
}
