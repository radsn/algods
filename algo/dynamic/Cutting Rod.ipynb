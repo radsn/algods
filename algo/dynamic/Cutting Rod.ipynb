{
 "cells": [
  {
   "cell_type": "code",
   "execution_count": 4,
   "metadata": {},
   "outputs": [],
   "source": [
    "# O(b^h) = O(L^L) = O(L!) time | O(height) = O(L) space\n",
    "cutRod(n, prices):\n",
    "    if n == 0:\n",
    "        return 0\n",
    "    result = -1\n",
    "    for i in range(1, n+1):\n",
    "        result = max(result, prices[i] + cutRod(n-i, prices))\n",
    "    return result"
   ]
  },
  {
   "cell_type": "markdown",
   "metadata": {},
   "source": [
    "iterative:<br>\n",
    "1. create the DP table - data structure, type, size<br>\n",
    "2. initialize DP table<br>\n",
    "3. find traversal direction - need start point and direction<br>\n",
    "4. populate the DP table\n",
    "\n",
    "each cell has the max sale price for that length of rod"
   ]
  },
  {
   "cell_type": "code",
   "execution_count": 4,
   "metadata": {},
   "outputs": [],
   "source": [
    "# O(L^2) time | O(L) space\n",
    "def cutRod(n, prices):\n",
    "    dp = [-1]* (n+1)\n",
    "    dp[0] = 0\n",
    "    dp[1] = prices[1]\n",
    "    for i in range(2, n+1):\n",
    "        for j in range(1,i+1):\n",
    "            dp[i] = max(dp[i], prices[j] + dp[i-j])\n",
    "    print(dp)\n",
    "    return dp[n]"
   ]
  },
  {
   "cell_type": "code",
   "execution_count": 5,
   "metadata": {},
   "outputs": [
    {
     "name": "stdout",
     "output_type": "stream",
     "text": [
      "[0, 1, 3, 4, 8, 9, 11]\n"
     ]
    },
    {
     "data": {
      "text/plain": [
       "11"
      ]
     },
     "execution_count": 5,
     "metadata": {},
     "output_type": "execute_result"
    }
   ],
   "source": [
    "prices = [0,1,3,3,8,8,10]\n",
    "cutRod(6,prices)"
   ]
  },
  {
   "cell_type": "code",
   "execution_count": null,
   "metadata": {},
   "outputs": [],
   "source": []
  },
  {
   "cell_type": "code",
   "execution_count": null,
   "metadata": {},
   "outputs": [],
   "source": []
  }
 ],
 "metadata": {
  "kernelspec": {
   "display_name": "Python 3",
   "language": "python",
   "name": "python3"
  },
  "language_info": {
   "codemirror_mode": {
    "name": "ipython",
    "version": 3
   },
   "file_extension": ".py",
   "mimetype": "text/x-python",
   "name": "python",
   "nbconvert_exporter": "python",
   "pygments_lexer": "ipython3",
   "version": "3.7.1"
  }
 },
 "nbformat": 4,
 "nbformat_minor": 2
}
