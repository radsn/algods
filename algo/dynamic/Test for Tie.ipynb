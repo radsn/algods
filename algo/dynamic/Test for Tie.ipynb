{
 "cells": [
  {
   "cell_type": "code",
   "execution_count": 1,
   "metadata": {},
   "outputs": [],
   "source": [
    "def testTie(arr):\n",
    "    total = sum(arr)\n",
    "    if total % 2 != 0: return False\n",
    "    return helper(arr, 0, sum/2)\n",
    "\n",
    "def helper(arr, i, summ):\n",
    "    if summ == 0: return True\n",
    "    if i == len(arr): return False\n",
    "    result = False\n",
    "    if summ >= arr[i]:\n",
    "        result = helper(arr, i+1, summ-input[i]) #include\n",
    "    return result or helper(arr, i+1, summ) #exclude\n"
   ]
  },
  {
   "cell_type": "code",
   "execution_count": null,
   "metadata": {},
   "outputs": [],
   "source": []
  }
 ],
 "metadata": {
  "kernelspec": {
   "display_name": "Python 3",
   "language": "python",
   "name": "python3"
  },
  "language_info": {
   "codemirror_mode": {
    "name": "ipython",
    "version": 3
   },
   "file_extension": ".py",
   "mimetype": "text/x-python",
   "name": "python",
   "nbconvert_exporter": "python",
   "pygments_lexer": "ipython3",
   "version": "3.7.1"
  }
 },
 "nbformat": 4,
 "nbformat_minor": 2
}
