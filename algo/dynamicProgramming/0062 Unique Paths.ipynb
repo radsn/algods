{
 "cells": [
  {
   "cell_type": "markdown",
   "id": "66b7e281",
   "metadata": {},
   "source": [
    "A robot is located at the top-left corner of a m x n grid (marked 'Start' in the diagram below).\n",
    "\n",
    "The robot can only move either down or right at any point in time. The robot is trying to reach the bottom-right corner of the grid (marked 'Finish' in the diagram below).\n",
    "\n",
    "How many possible unique paths are there?"
   ]
  },
  {
   "cell_type": "code",
   "execution_count": 21,
   "id": "0c5edc6b",
   "metadata": {},
   "outputs": [],
   "source": [
    "# T(m,n) : O(mn) | S(m,n) : O(mn)\n",
    "def uniquePaths(m, n):\n",
    "    table = [[0 for _ in range(n)] for _ in range(m)]\n",
    "    for row in range(m): #Basecase : col0\n",
    "        table[row][0] = 1\n",
    "    for col in range(n):  #Basecase : row0\n",
    "        table[0][col] = 1\n",
    "    for row in range(1, m):\n",
    "        for col in range(1, n):\n",
    "            table[row][col] = table[row-1][col] + table[row][col-1]\n",
    "    print(table)\n",
    "    return table[m-1][n-1]"
   ]
  },
  {
   "cell_type": "code",
   "execution_count": 22,
   "id": "c547ecbc",
   "metadata": {},
   "outputs": [
    {
     "name": "stdout",
     "output_type": "stream",
     "text": [
      "[[1, 1], [1, 2], [1, 3]]\n"
     ]
    },
    {
     "data": {
      "text/plain": [
       "3"
      ]
     },
     "execution_count": 22,
     "metadata": {},
     "output_type": "execute_result"
    }
   ],
   "source": [
    "uniquePaths(3, 2)"
   ]
  },
  {
   "cell_type": "markdown",
   "id": "b55e5798",
   "metadata": {},
   "source": [
    "focus on the last step : can reach last step from only 2 places i.e. from top, from left<br>\n",
    "f(i,j) = number of unique paths from (0,0) to (i,j)<br>\n",
    "f(i,j) = f(i-1,j) + f(i,j-1)<br>\n",
    "unique subproblems = mn<br>\n",
    "basecase: row=0, col=0 == 1<br>"
   ]
  }
 ],
 "metadata": {
  "kernelspec": {
   "display_name": "Python 3 (ipykernel)",
   "language": "python",
   "name": "python3"
  },
  "language_info": {
   "codemirror_mode": {
    "name": "ipython",
    "version": 3
   },
   "file_extension": ".py",
   "mimetype": "text/x-python",
   "name": "python",
   "nbconvert_exporter": "python",
   "pygments_lexer": "ipython3",
   "version": "3.8.2"
  }
 },
 "nbformat": 4,
 "nbformat_minor": 5
}
