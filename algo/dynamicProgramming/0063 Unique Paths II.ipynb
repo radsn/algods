{
 "cells": [
  {
   "cell_type": "markdown",
   "id": "4f7f0afa",
   "metadata": {},
   "source": [
    "same as Unique Paths I problem but also given an ObstacleGrid to locate the obstacles."
   ]
  },
  {
   "cell_type": "code",
   "execution_count": 1,
   "id": "52bf53e1",
   "metadata": {},
   "outputs": [],
   "source": [
    "def uniquePathsWithObstacles(obstacleGrid):\n",
    "    m = len(obstacleGrid)\n",
    "    n = len(obstacleGrid[0])\n",
    "    table = [[0 for _ in range(n)] for _ in range(m)]\n",
    "    if obstacleGrid[0][0] == 1: #Basecase : (0,0)\n",
    "        return 0\n",
    "    for row in range(m):  #Basecase : col0\n",
    "        if obstacleGrid[row][0] == 1:\n",
    "            break\n",
    "        table[row][0] = 1\n",
    "    for col in range(n):  #Basecase : row0\n",
    "        if obstacleGrid[0][col] == 1:\n",
    "            break\n",
    "        table[0][col] = 1\n",
    "    for row in range(1, m):\n",
    "        for col in range(1, n):\n",
    "            if obstacleGrid[row][col] == 1: #continue - since cache already initialized with 0\n",
    "                continue\n",
    "            table[row][col] = table[row-1][col] + table[row][col-1]\n",
    "    print(table)\n",
    "    return table[m-1][n-1]"
   ]
  },
  {
   "cell_type": "markdown",
   "id": "37186e05",
   "metadata": {},
   "source": [
    "focus on the last rightmost blank<br>\n",
    "f(i,j) = number of paths from (0,0) to (i,j)<br>\n",
    "f(i,j) = f(i-1,j) + f(i,j-1)<br>\n",
    "number of unique subproblems = mn<br>\n",
    "basecase: row=0, col=0 == 0 -- if obstacle, break out and dont fill out other rows and cols"
   ]
  },
  {
   "cell_type": "code",
   "execution_count": 2,
   "id": "a3dd27e6",
   "metadata": {},
   "outputs": [
    {
     "name": "stdout",
     "output_type": "stream",
     "text": [
      "[[1, 1, 1], [1, 0, 1], [1, 1, 2]]\n"
     ]
    },
    {
     "data": {
      "text/plain": [
       "2"
      ]
     },
     "execution_count": 2,
     "metadata": {},
     "output_type": "execute_result"
    }
   ],
   "source": [
    "obstacleGrid = [[0,0,0],[0,1,0],[0,0,0]]\n",
    "uniquePathsWithObstacles(obstacleGrid)"
   ]
  }
 ],
 "metadata": {
  "kernelspec": {
   "display_name": "Python 3 (ipykernel)",
   "language": "python",
   "name": "python3"
  },
  "language_info": {
   "codemirror_mode": {
    "name": "ipython",
    "version": 3
   },
   "file_extension": ".py",
   "mimetype": "text/x-python",
   "name": "python",
   "nbconvert_exporter": "python",
   "pygments_lexer": "ipython3",
   "version": "3.8.2"
  }
 },
 "nbformat": 4,
 "nbformat_minor": 5
}
