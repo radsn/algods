{
 "cells": [
  {
   "cell_type": "markdown",
   "id": "0f29170f",
   "metadata": {},
   "source": [
    "Given a m x n grid filled with non-negative numbers, find a path from top left to bottom right, which minimizes the sum of all numbers along its path.\n",
    "\n",
    "Note: You can only move either down or right at any point in time."
   ]
  },
  {
   "cell_type": "code",
   "execution_count": 1,
   "id": "16f745e7",
   "metadata": {},
   "outputs": [],
   "source": [
    "# T(m,n) : O(mn) | S(m,n) : O(mn)\n",
    "def minPathSum(grid):\n",
    "    m = len(grid)\n",
    "    n = len(grid[0])\n",
    "    table = [[0 for _ in range(n)] for _ in range(m)]\n",
    "    table[0][0] = grid[0][0] #Basecase : (0,0)\n",
    "    for row in range(1,m):   #Basecase : col0\n",
    "        table[row][0] = grid[row][0] + table[row-1][0]\n",
    "    for col in range(1,n):   #Basecase : row0\n",
    "        table[0][col] = grid[0][col] + table[0][col-1]\n",
    "    for row in range(1, m):\n",
    "        for col in range(1, n):\n",
    "            table[row][col] = grid[row][col] + min(table[row-1][col], table[row][col-1])\n",
    "    return table[m-1][n-1]"
   ]
  },
  {
   "cell_type": "code",
   "execution_count": 2,
   "id": "9bde4f7c",
   "metadata": {},
   "outputs": [
    {
     "data": {
      "text/plain": [
       "7"
      ]
     },
     "execution_count": 2,
     "metadata": {},
     "output_type": "execute_result"
    }
   ],
   "source": [
    "grid = [[1,3,1],[1,5,1],[4,2,1]]\n",
    "minPathSum(grid)"
   ]
  },
  {
   "cell_type": "markdown",
   "id": "a57a6789",
   "metadata": {},
   "source": [
    "focus on the last cell : either from top or from left<br>\n",
    "f(i,j) = min path sum from (0,0) to (i,j)<br>\n",
    "f(i,j) = min( f(i-1,j), f(i,j-1) ) + grid[i][j] --- min(left, top) + mycost"
   ]
  }
 ],
 "metadata": {
  "kernelspec": {
   "display_name": "Python 3 (ipykernel)",
   "language": "python",
   "name": "python3"
  },
  "language_info": {
   "codemirror_mode": {
    "name": "ipython",
    "version": 3
   },
   "file_extension": ".py",
   "mimetype": "text/x-python",
   "name": "python",
   "nbconvert_exporter": "python",
   "pygments_lexer": "ipython3",
   "version": "3.8.2"
  }
 },
 "nbformat": 4,
 "nbformat_minor": 5
}
