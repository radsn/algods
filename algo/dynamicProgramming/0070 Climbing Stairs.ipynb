{
 "cells": [
  {
   "cell_type": "markdown",
   "id": "7cea8cc0",
   "metadata": {},
   "source": [
    "You are climbing a staircase. It takes n steps to reach the top.\n",
    "\n",
    "Each time you can either climb 1 or 2 steps. In how many distinct ways can you climb to the top?"
   ]
  },
  {
   "cell_type": "code",
   "execution_count": 1,
   "id": "8234285e",
   "metadata": {},
   "outputs": [],
   "source": [
    "# T(n)=O(n) | S(n)=O(n)\n",
    "def climbStairs(n):\n",
    "    if n==1: return 1\n",
    "    table = [0] * (n)\n",
    "    table[0] = 1\n",
    "    table[1] = 2\n",
    "    for step in range(2, n):\n",
    "        table[step] = table[step-1] + table[step-2]\n",
    "    return table[-1]"
   ]
  },
  {
   "cell_type": "markdown",
   "id": "3666e1b8",
   "metadata": {},
   "source": [
    "focus on last step : from prev step or prev prev step<br>\n",
    "f(i) = number of ways from 0 to i<br>\n",
    "f(i) = f(i-1) + f(i-2)<br>\n",
    "same as Fibonacci"
   ]
  },
  {
   "cell_type": "code",
   "execution_count": 2,
   "id": "0831a655",
   "metadata": {},
   "outputs": [
    {
     "data": {
      "text/plain": [
       "2"
      ]
     },
     "execution_count": 2,
     "metadata": {},
     "output_type": "execute_result"
    }
   ],
   "source": [
    "climbStairs(2)"
   ]
  }
 ],
 "metadata": {
  "kernelspec": {
   "display_name": "Python 3 (ipykernel)",
   "language": "python",
   "name": "python3"
  },
  "language_info": {
   "codemirror_mode": {
    "name": "ipython",
    "version": 3
   },
   "file_extension": ".py",
   "mimetype": "text/x-python",
   "name": "python",
   "nbconvert_exporter": "python",
   "pygments_lexer": "ipython3",
   "version": "3.8.2"
  }
 },
 "nbformat": 4,
 "nbformat_minor": 5
}
