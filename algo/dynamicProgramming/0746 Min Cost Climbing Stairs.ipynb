{
 "cells": [
  {
   "cell_type": "markdown",
   "metadata": {},
   "source": [
    "On a staircase, the `i`-th step has some non-negative cost `cost[i]` assigned (0 indexed).\n",
    "\n",
    "Once you pay the cost, you can either climb one or two steps. You need to find minimum cost to reach the top of the floor, and you can either start from the step with index 0, or the step with index 1."
   ]
  },
  {
   "cell_type": "markdown",
   "metadata": {},
   "source": [
    "bottom-up iterative table"
   ]
  },
  {
   "cell_type": "code",
   "execution_count": 1,
   "metadata": {},
   "outputs": [],
   "source": [
    "# O(n) time | O(1) space\n",
    "def minCostClimbingStairs(cost):\n",
    "    table = [-1]*len(cost)\n",
    "    table[0] = cost[0]\n",
    "    table[1] = cost[1]\n",
    "    for i in range(2, len(cost)):\n",
    "        table[i] = cost[i] + min(table[i-1], table[i-2])\n",
    "    return min(table[-1], table[-2])"
   ]
  },
  {
   "cell_type": "code",
   "execution_count": 2,
   "metadata": {},
   "outputs": [],
   "source": [
    "def minCostClimbingStairs(cost):\n",
    "    cost.insert(0,0) #src floor\n",
    "    cost.append(0)   #dest floor\n",
    "    table = [0] * (len(cost))\n",
    "    table[0] = 0\n",
    "    table[1] = cost[1]\n",
    "    print(cost)\n",
    "    for i in range(2,len(table)):\n",
    "        table[i] = min(table[i-1], table[i-2]) + cost[i]\n",
    "    return table[-1]"
   ]
  },
  {
   "cell_type": "code",
   "execution_count": 3,
   "metadata": {},
   "outputs": [
    {
     "name": "stdout",
     "output_type": "stream",
     "text": [
      "[0, 10, 15, 20, 0]\n"
     ]
    },
    {
     "data": {
      "text/plain": [
       "15"
      ]
     },
     "execution_count": 3,
     "metadata": {},
     "output_type": "execute_result"
    }
   ],
   "source": [
    "cost = [10, 15, 20]\n",
    "minCostClimbingStairs(cost)"
   ]
  },
  {
   "cell_type": "markdown",
   "metadata": {},
   "source": [
    "focus on last step: reach from f(i-1) or f(i-2)<br>\n",
    "f(i) = min cost path from 0 to i<br>\n",
    "f(i) = min( f(i-1),f(i-2) ) + cost[i]<br>\n",
    "BaseCase: step0=0, step1=cost[0]\n",
    "\n",
    "allocate table which stores min cost path values for each step<br>\n",
    "mincost at any step = cost at myself + min( mincost at step-1, mincost at step-2 )<br>\n",
    "note mincost at final destination has no cost associated with itself"
   ]
  }
 ],
 "metadata": {
  "kernelspec": {
   "display_name": "Python 3 (ipykernel)",
   "language": "python",
   "name": "python3"
  },
  "language_info": {
   "codemirror_mode": {
    "name": "ipython",
    "version": 3
   },
   "file_extension": ".py",
   "mimetype": "text/x-python",
   "name": "python",
   "nbconvert_exporter": "python",
   "pygments_lexer": "ipython3",
   "version": "3.8.2"
  }
 },
 "nbformat": 4,
 "nbformat_minor": 2
}
