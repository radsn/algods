{
 "cells": [
  {
   "cell_type": "markdown",
   "metadata": {},
   "source": [
    "You are given coins of different denominations and a total amount of money amount. Write a function to compute the fewest number of coins that you need to make up that amount. If that amount of money cannot be made up by any combination of the coins, return -1.\n",
    "\n",
    "You may assume that you have an infinite number of each kind of coin."
   ]
  },
  {
   "cell_type": "markdown",
   "metadata": {},
   "source": [
    "bottom up iterative (table)"
   ]
  },
  {
   "cell_type": "code",
   "execution_count": 1,
   "metadata": {},
   "outputs": [],
   "source": [
    "def coinChange(coins, amount):\n",
    "    dp = [float(\"+inf\")]*(amount+1)\n",
    "    dp[0] = 0\n",
    "    for i in range(1, amount+1):\n",
    "        for c in coins:\n",
    "            if c <= i:\n",
    "                dp[i] = min(dp[i], dp[i-c]+1)\n",
    "    return dp[amount] if dp[amount]!=float(\"inf\") else -1"
   ]
  },
  {
   "cell_type": "markdown",
   "metadata": {},
   "source": [
    "make a table dp for minimum number of coins needed for amount (0 to amount+1)<br>\n",
    "dp[0]=0, and all c in coins dp[coin]=1 <br>\n",
    "for each amount, F(6) = min{F(6-1), F(6-2), F(6-5)}+1 -- where +1 refers to c in coins i.e. 1,2,5. Minimum number of coins equals to c (+1) plus min number found by subtracting each c in for loop, (if c <= i valid)-- i.e. if i=1 then cannot subtract c=3,5 since amount 1 is smaller than c)<br>\n",
    "formula: dp[i] = min{dp[i], dp[i-c]+1} we update dp[i] for each c in the coins and only choose the value that is minimum"
   ]
  },
  {
   "cell_type": "code",
   "execution_count": 2,
   "metadata": {},
   "outputs": [
    {
     "data": {
      "text/plain": [
       "3"
      ]
     },
     "execution_count": 2,
     "metadata": {},
     "output_type": "execute_result"
    }
   ],
   "source": [
    "coins = [1,2,5]\n",
    "amount = 11\n",
    "coinChange(coins, amount)"
   ]
  }
 ],
 "metadata": {
  "kernelspec": {
   "display_name": "Python 3",
   "language": "python",
   "name": "python3"
  },
  "language_info": {
   "codemirror_mode": {
    "name": "ipython",
    "version": 3
   },
   "file_extension": ".py",
   "mimetype": "text/x-python",
   "name": "python",
   "nbconvert_exporter": "python",
   "pygments_lexer": "ipython3",
   "version": "3.7.1"
  }
 },
 "nbformat": 4,
 "nbformat_minor": 2
}
