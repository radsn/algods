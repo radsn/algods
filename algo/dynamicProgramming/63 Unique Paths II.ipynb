{
 "cells": [
  {
   "cell_type": "markdown",
   "id": "aa79816f",
   "metadata": {},
   "source": [
    "same as unique paths I problem but with given an ObstacleGrid to locate the obstacle."
   ]
  },
  {
   "cell_type": "code",
   "execution_count": null,
   "id": "24962cbf",
   "metadata": {},
   "outputs": [],
   "source": [
    "def uniquePathsWithObstacles(obstacleGrid):\n",
    "    m = len(obstacleGrid)\n",
    "    n = len(obstacleGrid[0])\n",
    "    table = [[0 for _ in range(n)] for _ in range(m)]\n",
    "    if obstacleGrid[0][0] == 1: #Basecase : (0,0)\n",
    "        return 0\n",
    "    for row in range(m):  #Basecase : col0\n",
    "        if obstacleGrid[row][0] == 1:\n",
    "            break\n",
    "        table[row][0] = 1\n",
    "    for col in range(n):  #Basecase : row0\n",
    "        if obstacleGrid[0][col] == 1:\n",
    "            break\n",
    "        table[0][col] = 1\n",
    "    for row in range(1, m):\n",
    "        for col in range(1, n):\n",
    "            if obstacleGrid[row][col] == 1: #cache 0 - continue since already initialized with 0\n",
    "                continue\n",
    "            table[row][col] = table[row-1][col] + table[row][col-1]\n",
    "    print(table)\n",
    "    return table[-1][-1]"
   ]
  }
 ],
 "metadata": {
  "kernelspec": {
   "display_name": "Python 3 (ipykernel)",
   "language": "python",
   "name": "python3"
  },
  "language_info": {
   "codemirror_mode": {
    "name": "ipython",
    "version": 3
   },
   "file_extension": ".py",
   "mimetype": "text/x-python",
   "name": "python",
   "nbconvert_exporter": "python",
   "pygments_lexer": "ipython3",
   "version": "3.8.2"
  }
 },
 "nbformat": 4,
 "nbformat_minor": 5
}
