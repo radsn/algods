{
 "cells": [
  {
   "cell_type": "markdown",
   "id": "902fb7c5",
   "metadata": {},
   "source": [
    "Count number of ways of choosing k elements from set of n elements."
   ]
  },
  {
   "cell_type": "markdown",
   "id": "a2f8908d",
   "metadata": {},
   "source": [
    "recurrence eqn: C(n,k) = C(n-1,k) + C(n-1,k-1) <br>\n",
    "number of unique subproblems: (n+1)(k+1)<br>\n",
    "Base Case: k=0, k=n == 1<br>\n",
    "Invalid: if k>n -- shape is like triangle -- rightmost column is always k"
   ]
  },
  {
   "cell_type": "code",
   "execution_count": 1,
   "id": "7f49b617",
   "metadata": {},
   "outputs": [],
   "source": [
    "# T(n,k)=O(nk) | S(n,k)=O(nk)\n",
    "def countingSubsets(n,k):\n",
    "    if k==0 or k==n : return 1 #Base Case\n",
    "    table = [[0 for _ in range(k+1)] for _ in range(n+1)]\n",
    "    for row in range(n+1): #Base Case : col=0\n",
    "        table[row][0] = 1\n",
    "    for col in range(k+1): #Base Case : diagonal\n",
    "        table[col][col] = 1        \n",
    "    for row in range(1, n+1):\n",
    "        for col in range(1,min(row+1,k+1)):\n",
    "            table[row][col] = table[row-1][col] + table[row-1][col-1]\n",
    "    print(table)\n",
    "    return table[n][k]"
   ]
  },
  {
   "cell_type": "code",
   "execution_count": 2,
   "id": "1229ea09",
   "metadata": {},
   "outputs": [
    {
     "name": "stdout",
     "output_type": "stream",
     "text": [
      "[[1, 0, 0, 0, 0], [1, 1, 0, 0, 0], [1, 2, 1, 0, 0], [1, 3, 3, 1, 0], [1, 4, 6, 4, 1], [1, 5, 10, 10, 5], [1, 6, 15, 20, 15]]\n"
     ]
    },
    {
     "data": {
      "text/plain": [
       "15"
      ]
     },
     "execution_count": 2,
     "metadata": {},
     "output_type": "execute_result"
    }
   ],
   "source": [
    "countingSubsets(6,4)"
   ]
  }
 ],
 "metadata": {
  "kernelspec": {
   "display_name": "Python 3 (ipykernel)",
   "language": "python",
   "name": "python3"
  },
  "language_info": {
   "codemirror_mode": {
    "name": "ipython",
    "version": 3
   },
   "file_extension": ".py",
   "mimetype": "text/x-python",
   "name": "python",
   "nbconvert_exporter": "python",
   "pygments_lexer": "ipython3",
   "version": "3.8.2"
  }
 },
 "nbformat": 4,
 "nbformat_minor": 5
}
