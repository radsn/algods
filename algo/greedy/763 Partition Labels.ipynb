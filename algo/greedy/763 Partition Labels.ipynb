{
 "cells": [
  {
   "cell_type": "markdown",
   "metadata": {},
   "source": [
    "A string S of lowercase English letters is given. We want to partition this string into as many parts as possible so that each letter appears in at most one part, and return a list of integers representing the size of these parts."
   ]
  },
  {
   "cell_type": "markdown",
   "metadata": {},
   "source": [
    "1st iteration - count all the letters into dictionary <br>\n",
    "2nd iteration - increment C whenever first encounter char, decrement C when char count == total <br>\n",
    "key is to cut either when char count == 0 or char count == total `i.e. C==0`"
   ]
  },
  {
   "cell_type": "markdown",
   "metadata": {},
   "source": [
    "storing 2nd iteration in another ds --- use set and decrement current dictionary <br>"
   ]
  },
  {
   "cell_type": "code",
   "execution_count": 1,
   "metadata": {},
   "outputs": [],
   "source": [
    "def partitionLabels(S):\n",
    "    counter = {}\n",
    "    for char in S:\n",
    "        if char not in counter:\n",
    "            counter[char] = 1\n",
    "        else:\n",
    "            counter[char] += 1\n",
    "    \n",
    "    result = []\n",
    "    c = 0\n",
    "    d = set()\n",
    "    start = 0\n",
    "    for i, char in enumerate(S):\n",
    "        if char not in d:\n",
    "            d.add(char)\n",
    "            c += 1\n",
    "        counter[char] -= 1\n",
    "        if counter[char] == 0:\n",
    "            c -= 1\n",
    "        if c == 0:\n",
    "            result.append(len(S[start:i+1]))\n",
    "            start = i+1\n",
    "    return result"
   ]
  },
  {
   "cell_type": "markdown",
   "metadata": {},
   "source": [
    "storing 2nd iteration in another ds --- use another dictionary to count char"
   ]
  },
  {
   "cell_type": "code",
   "execution_count": 2,
   "metadata": {},
   "outputs": [],
   "source": [
    "def partitionLabels(S):\n",
    "    counter = {}\n",
    "    for char in S:\n",
    "        if char not in counter:\n",
    "            counter[char] = 1\n",
    "        else:\n",
    "            counter[char] += 1\n",
    "\n",
    "    result = []\n",
    "    c = 0\n",
    "    d = {}\n",
    "    start = 0\n",
    "    for i, char in enumerate(S):\n",
    "        if char not in d:\n",
    "            d[char] = 1\n",
    "            c += 1\n",
    "        else:\n",
    "            d[char] += 1\n",
    "        if d[char] == counter[char]:\n",
    "            c -= 1\n",
    "        if c == 0:\n",
    "            result.append(len(S[start:i+1]))\n",
    "            start = i+1\n",
    "    return result"
   ]
  },
  {
   "cell_type": "markdown",
   "metadata": {},
   "source": [
    "1st iteration - store the end interval of all chars into dictionary <br>\n",
    "2nd iteration - keep check on maxendidx and when i == maxendidx, return"
   ]
  },
  {
   "cell_type": "code",
   "execution_count": 3,
   "metadata": {},
   "outputs": [],
   "source": [
    "def partitionLabels(S):\n",
    "    d = {}\n",
    "    for i, char in enumerate(S):\n",
    "        d[char] = i\n",
    "    \n",
    "    result = []\n",
    "    maxend = 0\n",
    "    start = 0\n",
    "    for i, char in enumerate(S):\n",
    "        maxend = max(maxend, d[char])\n",
    "        if i == maxend:\n",
    "            result.append(len(S[start:maxend+1]))\n",
    "            start = maxend + 1\n",
    "    return result"
   ]
  },
  {
   "cell_type": "code",
   "execution_count": 4,
   "metadata": {},
   "outputs": [
    {
     "data": {
      "text/plain": [
       "[9, 7, 8]"
      ]
     },
     "execution_count": 4,
     "metadata": {},
     "output_type": "execute_result"
    }
   ],
   "source": [
    "S = \"ababcbacadefegdehijhklij\"\n",
    "partitionLabels(S)"
   ]
  }
 ],
 "metadata": {
  "kernelspec": {
   "display_name": "Python 3",
   "language": "python",
   "name": "python3"
  },
  "language_info": {
   "codemirror_mode": {
    "name": "ipython",
    "version": 3
   },
   "file_extension": ".py",
   "mimetype": "text/x-python",
   "name": "python",
   "nbconvert_exporter": "python",
   "pygments_lexer": "ipython3",
   "version": "3.7.1"
  }
 },
 "nbformat": 4,
 "nbformat_minor": 2
}
