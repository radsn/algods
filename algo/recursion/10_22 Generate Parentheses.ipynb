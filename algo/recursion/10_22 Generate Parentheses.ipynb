{
 "cells": [
  {
   "cell_type": "markdown",
   "metadata": {},
   "source": [
    "Given n pairs of parentheses, write a function to generate all combinations of well-formed parentheses."
   ]
  },
  {
   "cell_type": "markdown",
   "metadata": {},
   "source": [
    "constraint: \"well-formed\""
   ]
  },
  {
   "cell_type": "code",
   "execution_count": 1,
   "metadata": {},
   "outputs": [],
   "source": [
    "def generateParenthesis(n):\n",
    "    result = []\n",
    "\n",
    "    def helper(numleft, numright, slate):\n",
    "        \n",
    "        #BackTrackingCase:\n",
    "        if numleft > numright:\n",
    "            return \n",
    "        if numleft < 0 or numright < 0:\n",
    "            return \n",
    "        \n",
    "        #BaseCase: leaf node where subproblem size is zero\n",
    "        if numleft == 0 and numright == 0:\n",
    "            result.append(\"\".join(slate[:]))\n",
    "            return\n",
    "\n",
    "        #RecursiveCase:\n",
    "        # add '('\n",
    "        slate.append('(')\n",
    "        helper(numleft-1, numright, slate)\n",
    "        slate.pop()\n",
    "        # add ')'\n",
    "        slate.append(')')\n",
    "        helper(numleft, numright-1, slate)\n",
    "        slate.pop()\n",
    "\n",
    "    helper(n, n, [])\n",
    "    return result"
   ]
  },
  {
   "cell_type": "code",
   "execution_count": 2,
   "metadata": {},
   "outputs": [
    {
     "data": {
      "text/plain": [
       "['()']"
      ]
     },
     "execution_count": 2,
     "metadata": {},
     "output_type": "execute_result"
    }
   ],
   "source": [
    "generateParenthesis(1) #1"
   ]
  },
  {
   "cell_type": "code",
   "execution_count": 3,
   "metadata": {},
   "outputs": [
    {
     "data": {
      "text/plain": [
       "['(())', '()()']"
      ]
     },
     "execution_count": 3,
     "metadata": {},
     "output_type": "execute_result"
    }
   ],
   "source": [
    "generateParenthesis(2) #2"
   ]
  },
  {
   "cell_type": "code",
   "execution_count": 4,
   "metadata": {
    "scrolled": true
   },
   "outputs": [
    {
     "data": {
      "text/plain": [
       "['((()))', '(()())', '(())()', '()(())', '()()()']"
      ]
     },
     "execution_count": 4,
     "metadata": {},
     "output_type": "execute_result"
    }
   ],
   "source": [
    "generateParenthesis(3) #5"
   ]
  },
  {
   "cell_type": "markdown",
   "metadata": {},
   "source": [
    "Q1) Is this a combinatorial enumeration problem? Since we are generating all possible orderings means it is combination enumeration problem.\n",
    "\n",
    "Q2) How many blanks? 2n\n",
    "\n",
    "Q3) What are we filling the blanks with? 2 choices: '(' and ')' i.e. not unique\n",
    "\n",
    "Q4) Combinatorial explosion of options? Yes, forms a sequence called Catalan sequence."
   ]
  },
  {
   "cell_type": "markdown",
   "metadata": {},
   "source": [
    "ignore the constraint first and generate all orderings of the parentheses (implement the code for general fill in the blank problem). Write code for average worker in the hierarchy who is assigned the subproblem where the prefix is already fixed (set of decisions made by upper management calls); the worker only focuses the leftmost blank of the subproblem and how many choices are there for the leftmost blank. \n",
    "\n",
    "Each blank has 2 choices: left parentheses or right parentheses\n",
    "\n",
    "how to represent the subproblem definition: need to know how many left parentheses and right parentheses are remaining to be used\n",
    "\n",
    "Add backtracking case: How to incorporate the constraint?\n",
    "- Can we look at the slate and detect a violation?\n",
    "- Or can we look forward, and look at the remaining left and right parentheses and figure out if futile to continue\n",
    "\n",
    "After adding backtrack case check if it works well with base case: Basecase means we have reached leaf node and never backtracked meaning we never encountered a case where numleft > numright. This means that the solution is well-formed and can be appended into the global bag."
   ]
  },
  {
   "cell_type": "markdown",
   "metadata": {},
   "source": [
    "time & space complexity: #strings * length of string = O(2^2n * 2n)\n",
    "\n",
    "number of strings = #choices=2, #blanks = 2n\n"
   ]
  },
  {
   "cell_type": "code",
   "execution_count": 5,
   "metadata": {},
   "outputs": [],
   "source": [
    "def generateParenthesis(n):\n",
    "    result = []\n",
    "\n",
    "    def helper(left, right, slate):\n",
    "        if left < right:\n",
    "            return \n",
    "        if len(slate) > 2*n:\n",
    "            return\n",
    "        if left == right and len(slate) == 2*n:\n",
    "            result.append(\"\".join(slate[:]))\n",
    "            return        \n",
    "        for choice in [\"(\", \")\"]:\n",
    "            slate.append(choice)\n",
    "            if choice == \"(\":\n",
    "                helper(left+1, right, slate)\n",
    "            else:\n",
    "                helper(left, right+1, slate)\n",
    "            slate.pop()\n",
    "    helper(0,0,[])\n",
    "    return result"
   ]
  }
 ],
 "metadata": {
  "kernelspec": {
   "display_name": "Python 3 (ipykernel)",
   "language": "python",
   "name": "python3"
  },
  "language_info": {
   "codemirror_mode": {
    "name": "ipython",
    "version": 3
   },
   "file_extension": ".py",
   "mimetype": "text/x-python",
   "name": "python",
   "nbconvert_exporter": "python",
   "pygments_lexer": "ipython3",
   "version": "3.8.2"
  }
 },
 "nbformat": 4,
 "nbformat_minor": 2
}
