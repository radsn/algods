{
 "cells": [
  {
   "cell_type": "markdown",
   "metadata": {},
   "source": [
    "Given a string containing digits from 2-9 inclusive, return all possible letter combinations that the number could represent."
   ]
  },
  {
   "cell_type": "code",
   "execution_count": 1,
   "metadata": {},
   "outputs": [],
   "source": [
    "def letterCombinations(digits):\n",
    "    result = []\n",
    "    hmap = { '2': ['a', 'b', 'c'],\n",
    "             '3': ['d', 'e', 'f'],\n",
    "             '4': ['g', 'h', 'i'],\n",
    "             '5': ['j', 'k', 'l'],\n",
    "             '6': ['m', 'n', 'o'],\n",
    "             '7': ['p', 'q', 'r', 's'],\n",
    "             '8': ['t', 'u', 'v'],\n",
    "             '9': ['w', 'x', 'y', 'z'] }\n",
    "\n",
    "    def helper(S, i, slate):\n",
    "        #BaseCase:\n",
    "        if i == len(S):\n",
    "            if len(slate) > 0:\n",
    "                result.append(\"\".join(slate))\n",
    "                return \n",
    "        else:\n",
    "            for c in hmap[S[i]]:\n",
    "                helper(S, i+1, slate+[c])\n",
    "\n",
    "    helper(digits, 0, [])\n",
    "    return result"
   ]
  },
  {
   "cell_type": "code",
   "execution_count": 2,
   "metadata": {},
   "outputs": [
    {
     "data": {
      "text/plain": [
       "['ad', 'ae', 'af', 'bd', 'be', 'bf', 'cd', 'ce', 'cf']"
      ]
     },
     "execution_count": 2,
     "metadata": {},
     "output_type": "execute_result"
    }
   ],
   "source": [
    "digits = \"23\"\n",
    "letterCombinations(digits)"
   ]
  },
  {
   "cell_type": "code",
   "execution_count": 3,
   "metadata": {},
   "outputs": [],
   "source": [
    "def letterCombinations(digits):   \n",
    "    hmap = {}\n",
    "    letters = [\"abc\", \"def\", \"ghi\", \"jkl\", \"mno\", \"pqrs\", \"tuv\", \"wxyz\"]\n",
    "    for i in range(2,10):\n",
    "        hmap[str(i)] = letters[i-2]\n",
    "    result = []\n",
    "\n",
    "    def helper(S,i, slate):\n",
    "        if i == len(S):\n",
    "            if len(slate)>0:\n",
    "                result.append(\"\".join(slate))\n",
    "                return\n",
    "        else:\n",
    "            for choice in hmap[S[i]]:\n",
    "                slate.append(choice)\n",
    "                helper(S, i+1, slate)\n",
    "                slate.pop()\n",
    "\n",
    "    helper(digits, 0, [])\n",
    "    return result"
   ]
  },
  {
   "cell_type": "code",
   "execution_count": 4,
   "metadata": {
    "scrolled": true
   },
   "outputs": [
    {
     "data": {
      "text/plain": [
       "['ad', 'ae', 'af', 'bd', 'be', 'bf', 'cd', 'ce', 'cf']"
      ]
     },
     "execution_count": 4,
     "metadata": {},
     "output_type": "execute_result"
    }
   ],
   "source": [
    "digits = \"23\"\n",
    "letterCombinations(digits)"
   ]
  },
  {
   "cell_type": "markdown",
   "metadata": {},
   "source": [
    "2 blanks and 3 choices in each so total 9 combinations (3 x 3) - basically recursion.  Choose one option and recurse.\n",
    "\n",
    "**time complexity:**  (#choices)^ (#input length) = number of nodes in the whole tree (adding up)\n",
    "\n",
    " $\\mathcal{O}(3^N \\times 4^M)$, where N is the number of digits in the input that maps to 3 letters (e.g. 2, 3, 4, 5, 6, 8) and M is the number of digits in the input that maps to 4 letters (e.g. 7, 9), and N+M is the total number digits in the input.\n",
    " \n",
    "**space complexity:** #combinations that can be formed (leaf nodes)\n",
    " \n",
    "  $\\mathcal{O}(3^N \\times 4^M)$\n",
    " "
   ]
  }
 ],
 "metadata": {
  "kernelspec": {
   "display_name": "Python 3",
   "language": "python",
   "name": "python3"
  },
  "language_info": {
   "codemirror_mode": {
    "name": "ipython",
    "version": 3
   },
   "file_extension": ".py",
   "mimetype": "text/x-python",
   "name": "python",
   "nbconvert_exporter": "python",
   "pygments_lexer": "ipython3",
   "version": "3.7.1"
  }
 },
 "nbformat": 4,
 "nbformat_minor": 2
}
