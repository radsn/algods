{
 "cells": [
  {
   "cell_type": "markdown",
   "metadata": {},
   "source": [
    "Given a set of distinct integers, nums, return all possible subsets (the power set)."
   ]
  },
  {
   "cell_type": "markdown",
   "metadata": {},
   "source": [
    "recursive dfs <br> adding leftmost element each time"
   ]
  },
  {
   "cell_type": "code",
   "execution_count": 1,
   "metadata": {},
   "outputs": [],
   "source": [
    "#immutable parameters\n",
    "def subsets(nums):\n",
    "    result = []\n",
    "    \n",
    "    def helper(array, slate):\n",
    "        if len(array)==0:\n",
    "            result.append(slate)\n",
    "            return\n",
    "        else:\n",
    "            #exclude\n",
    "            newarray = array[1:]\n",
    "            helper(newarray,slate)\n",
    "            #include\n",
    "            newarray = array[1:]\n",
    "            newslate = slate + str(array[0])\n",
    "            helper(newarray, newslate)\n",
    "    helper(nums, \"\")\n",
    "    return result"
   ]
  },
  {
   "cell_type": "code",
   "execution_count": 2,
   "metadata": {},
   "outputs": [],
   "source": [
    "def subsets(nums):\n",
    "    result = []\n",
    "    \n",
    "    def helper(array, slate):\n",
    "        if len(array)==0:\n",
    "            result.append(slate[:])\n",
    "            return\n",
    "        else:\n",
    "            #exclude\n",
    "            newarray = array[1:]\n",
    "            helper(newarray,slate)\n",
    "            #include\n",
    "            newarray = array[1:]\n",
    "            slate.append(array[0])\n",
    "            helper(newarray, slate)\n",
    "            slate.pop()\n",
    "    helper(nums, [])\n",
    "    return result"
   ]
  },
  {
   "cell_type": "code",
   "execution_count": 3,
   "metadata": {},
   "outputs": [
    {
     "data": {
      "text/plain": [
       "[[], [3], [2], [2, 3], [1], [1, 3], [1, 2], [1, 2, 3]]"
      ]
     },
     "execution_count": 3,
     "metadata": {},
     "output_type": "execute_result"
    }
   ],
   "source": [
    "nums = [1,2,3]\n",
    "subsets(nums)"
   ]
  },
  {
   "cell_type": "code",
   "execution_count": 4,
   "metadata": {},
   "outputs": [],
   "source": [
    "# constant S, mutable slate\n",
    "def subsets(nums):\n",
    "    result = []\n",
    "\n",
    "    def helper(nums, i, slate):\n",
    "        if i == len(nums):\n",
    "            result.append(slate)\n",
    "        else:\n",
    "            helper(nums, i+1, slate)            #exclude\n",
    "            helper(nums, i+1, slate+[nums[i]])  #include\n",
    "\n",
    "    helper(nums, 0, [])\n",
    "    return result"
   ]
  },
  {
   "cell_type": "code",
   "execution_count": 5,
   "metadata": {},
   "outputs": [],
   "source": [
    "def subsets(nums):\n",
    "    result = []\n",
    "        \n",
    "    def helper(S, i, slate):\n",
    "        if i == len(S):\n",
    "            result.append(slate[:])\n",
    "        else:\n",
    "            #exclude S[i]\n",
    "            helper(nums, i+1, slate)\n",
    "            #include S[i]\n",
    "            slate.append(S[i])\n",
    "            helper(nums, i+1, slate)\n",
    "            slate.pop()\n",
    "\n",
    "    helper(nums, 0, [])\n",
    "    return result"
   ]
  },
  {
   "cell_type": "markdown",
   "metadata": {},
   "source": [
    "time complexity:<br>\n",
    "leaf node = O(2^n) * O(n) = number of subsets * copy/clone of each slate (avg length = n/2)<br>\n",
    "internal node = O(2^n) * O(1) <br>\n",
    "Time : O(n*2^n)\n",
    "\n",
    "space complexity = input + aux space + output<br>\n",
    "input = n = array nums<br>\n",
    "aux space = stack = O(n) since mutable slate<br>\n",
    "output = 2^n * n = number of subsets * length of each subset (avg=n/2)<br>\n",
    "Space : O(n*2^n)"
   ]
  },
  {
   "cell_type": "markdown",
   "metadata": {},
   "source": [
    "iterative"
   ]
  },
  {
   "cell_type": "code",
   "execution_count": 6,
   "metadata": {},
   "outputs": [],
   "source": [
    "def powerset(array):\n",
    "    subsets = [[]]\n",
    "    for each_el in array:\n",
    "        new_subset = []\n",
    "        for each_subset in subsets:\n",
    "            new_subset.append(each_subset + [each_el])\n",
    "        subsets += new_subset\n",
    "    return subsets"
   ]
  },
  {
   "cell_type": "code",
   "execution_count": 7,
   "metadata": {},
   "outputs": [],
   "source": [
    "def powerset(array):\n",
    "    subsets = [[]]\n",
    "    for each_el in array:\n",
    "        for i in range(len(subsets)): #range(len) fixes the size of subset at for loop in the start only\n",
    "            subsets.append(subsets[i] + [each_el])\n",
    "    return subsets"
   ]
  },
  {
   "cell_type": "code",
   "execution_count": 8,
   "metadata": {},
   "outputs": [
    {
     "data": {
      "text/plain": [
       "[[], [1], [2], [1, 2], [3], [1, 3], [2, 3], [1, 2, 3]]"
      ]
     },
     "execution_count": 8,
     "metadata": {},
     "output_type": "execute_result"
    }
   ],
   "source": [
    "nums = [1,2,3]\n",
    "powerset(nums)"
   ]
  },
  {
   "cell_type": "markdown",
   "metadata": {},
   "source": [
    "recursive BFS <br>\n",
    "subsets from n-1 already done --> fill last element in the rightmost"
   ]
  },
  {
   "cell_type": "code",
   "execution_count": 9,
   "metadata": {},
   "outputs": [],
   "source": [
    "#[1,2,3]\n",
    "def powerset(nums, idx = None):\n",
    "    if idx == None:  #calling the function initially without any index\n",
    "        idx = len(nums)-1\n",
    "    elif idx < 0: #base case\n",
    "        return [[]]\n",
    "    ele = nums[idx]\n",
    "    subsets = powerset(nums, idx-1) #[[],[1],[2],[1,2]]\n",
    "    for i in range(len(subsets)): #same as iterative\n",
    "        subsets.append(subsets[i] + [ele])\n",
    "    return subsets"
   ]
  },
  {
   "cell_type": "markdown",
   "metadata": {},
   "source": [
    "[1,2,3,4] <br>\n",
    "<br>\n",
    "powerset([1,2,3,4], None) ----> [[],[1],[2],[1,2],[3],[1,3],[2,3],[1,2,3],[4],[1,4],[2,4],[1,2,4],[3,4],[1,3,4],[2,3,4],[1,2,3,4]] <br>\n",
    "idx=3 (None set to 3)<br>\n",
    "ele=4<br>\n",
    "subsets=powerset([1,2,3], 2) -> [[],[1],[2],[1,2],[3],[1,3],[2,3],[1,2,3]]<br>\n",
    "####<br>\n",
    "ele = 3<br>\n",
    "subsets=powerset([1,2], 1) ---> [[],[1],[2],[1,2]]<br>\n",
    "####<br>\n",
    "ele = 2<br>\n",
    "subsets=powerset([1], 0) -----> [[], [1]]<br>\n",
    "####<br>\n",
    "ele = 1<br>\n",
    "subsets=powerset([], -1) -----> [[]]<br>\n",
    "####<br>"
   ]
  }
 ],
 "metadata": {
  "kernelspec": {
   "display_name": "Python 3 (ipykernel)",
   "language": "python",
   "name": "python3"
  },
  "language_info": {
   "codemirror_mode": {
    "name": "ipython",
    "version": 3
   },
   "file_extension": ".py",
   "mimetype": "text/x-python",
   "name": "python",
   "nbconvert_exporter": "python",
   "pygments_lexer": "ipython3",
   "version": "3.8.2"
  }
 },
 "nbformat": 4,
 "nbformat_minor": 2
}
