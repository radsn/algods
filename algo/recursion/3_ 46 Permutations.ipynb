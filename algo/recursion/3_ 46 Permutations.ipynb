{
 "cells": [
  {
   "cell_type": "markdown",
   "metadata": {},
   "source": [
    "Given a collection of distinct integers, return all possible permutations."
   ]
  },
  {
   "cell_type": "code",
   "execution_count": 1,
   "metadata": {},
   "outputs": [],
   "source": [
    "#immutable parameters\n",
    "#changing nums; new copy of slate each time\n",
    "def permute(nums):\n",
    "    result = []\n",
    "    def helper(array, slate):\n",
    "        if len(array)==0 and len(slate)!=0: #len(slate)!=0 -- if nums=[], result=[[]]\n",
    "            result.append(slate)  #reference to slate - new copy passed to subordinate\n",
    "            return\n",
    "        else:\n",
    "            for i in range(len(array)):\n",
    "                #newslate = slate+[array[i]]\n",
    "                newarray = array[:i] + array[i+1:]\n",
    "                helper(newarray,slate+[array[i]])  # making copy : newslate=slate+[array[i]]\n",
    "    helper(nums, [])\n",
    "    return result"
   ]
  },
  {
   "cell_type": "code",
   "execution_count": 2,
   "metadata": {},
   "outputs": [],
   "source": [
    "#changing nums; mutable slate\n",
    "def permute(nums):\n",
    "    result = []\n",
    "    def helper(array, slate):\n",
    "        if len(array)==0 and len(slate)!=0: #len(slate)!=0 -- if nums=[], result=[[]]\n",
    "            result.append(slate[:])  #making copy of slate\n",
    "            return\n",
    "        else:\n",
    "            for i in range(len(array)):\n",
    "                slate.append(array[i])\n",
    "                newarray = array[:i] + array[i+1:] \n",
    "                helper(newarray,slate)\n",
    "                slate.pop() #mutable slate - same slate used for each perm\n",
    "    helper(nums, [])\n",
    "    return result"
   ]
  },
  {
   "cell_type": "markdown",
   "metadata": {},
   "source": [
    "space: input=O(n) + aux=O(n^2) + output=O(n! * n) ==> O(n! * n)<br>\n",
    "using immutable slate (new copy of slate for every subordinate and new copy of array for every subordinate) - call stack is n in height and n length per subordinate = O(n^2)\n",
    "\n",
    "time: leaf node=O(n!)O(1) + internal node=O(n!)O(n) ==> O(n! * n)"
   ]
  },
  {
   "cell_type": "code",
   "execution_count": 3,
   "metadata": {},
   "outputs": [],
   "source": [
    "#constant nums; mutable slate\n",
    "#inplace generation of all permutations\n",
    "def permute(nums):\n",
    "    result = []\n",
    "\n",
    "    def swap(i,j,S):\n",
    "        S[i], S[j] = S[j], S[i]\n",
    "\n",
    "    def helper(S, i, slate):\n",
    "        #leaf node\n",
    "        if i == len(S):\n",
    "            result.append(slate[:])\n",
    "        else:\n",
    "            #internal node\n",
    "            for pick in range(i, len(S)): \n",
    "                swap(pick, i, S) #options: apart from pick pass subproblem suffix to subordinate as contiguous fragment\n",
    "                slate.append(S[i]) #move pick to leftmost \n",
    "                helper(S, i+1, slate)\n",
    "                slate.pop()\n",
    "                swap(pick, i, S)\n",
    "\n",
    "    helper(nums, 0, [])\n",
    "    return result"
   ]
  },
  {
   "cell_type": "markdown",
   "metadata": {},
   "source": [
    "[1,2,3]<br>\n",
    "in for loop will be picking 1, 2, 3 at each iteration<br>\n",
    "pick 1 -> pass [2,3] to subordinate<br>\n",
    "pick 2 -> need swap to pass [1,3] as subproblem suffix to subordinate as contiguous fragment<br>\n",
    "pick 3 -> need swap to pass [1,2] as subproblem suffix to subordinate as contiguous fragment<br>"
   ]
  },
  {
   "cell_type": "code",
   "execution_count": 4,
   "metadata": {},
   "outputs": [
    {
     "data": {
      "text/plain": [
       "[[1, 2, 3], [1, 3, 2], [2, 1, 3], [2, 3, 1], [3, 2, 1], [3, 1, 2]]"
      ]
     },
     "execution_count": 4,
     "metadata": {},
     "output_type": "execute_result"
    }
   ],
   "source": [
    "nums = [1,2,3]\n",
    "permute(nums)"
   ]
  },
  {
   "cell_type": "markdown",
   "metadata": {},
   "source": [
    "space: input=O(n) + aux=O(n) + output=O(n! * n) ==> O(n! * n)\n",
    "\n",
    "time: leaf node=O(n!)O(n) + internal node<=O(n!)O(n) ==> O(n! * n)\n",
    "\n",
    "n! is the number of permutations, n is the length of each permutation\n",
    "                                                    "
   ]
  },
  {
   "cell_type": "markdown",
   "metadata": {},
   "source": [
    "unlike subset problem where choices are only 2, permutation has arbitrary number of choices (so need a for loop to go through each choice), note that the choices decreases as you go down the recursion tree.\n",
    "\n",
    "In permutation need to swap in order to pass a **subproblem suffix as contiguous fragment** to each subordinate down the recursion tree."
   ]
  },
  {
   "cell_type": "code",
   "execution_count": 5,
   "metadata": {},
   "outputs": [],
   "source": [
    "#optimization - no separate slate\n",
    "#using prefix of nums as partial solution (slate)\n",
    "def permute(nums):\n",
    "    result = []\n",
    "\n",
    "    def swap(i,j,S):\n",
    "        S[i], S[j] = S[j], S[i]\n",
    "\n",
    "    def helper(S, i):\n",
    "        #leaf node\n",
    "        if i == len(S):\n",
    "            result.append(S[:])\n",
    "        else:\n",
    "            #internal node\n",
    "            for pick in range(i, len(S)): \n",
    "                swap(pick, i, S) #options: apart from pick pass subproblem suffix to subordinate as contiguous fragment\n",
    "                helper(S, i+1)\n",
    "                swap(pick, i, S)\n",
    "\n",
    "    helper(nums, 0)\n",
    "    return result"
   ]
  },
  {
   "cell_type": "code",
   "execution_count": 6,
   "metadata": {},
   "outputs": [
    {
     "data": {
      "text/plain": [
       "[[1, 2, 3], [1, 3, 2], [2, 1, 3], [2, 3, 1], [3, 2, 1], [3, 1, 2]]"
      ]
     },
     "execution_count": 6,
     "metadata": {},
     "output_type": "execute_result"
    }
   ],
   "source": [
    "nums = [1,2,3]\n",
    "permute(nums)"
   ]
  }
 ],
 "metadata": {
  "kernelspec": {
   "display_name": "Python 3 (ipykernel)",
   "language": "python",
   "name": "python3"
  },
  "language_info": {
   "codemirror_mode": {
    "name": "ipython",
    "version": 3
   },
   "file_extension": ".py",
   "mimetype": "text/x-python",
   "name": "python",
   "nbconvert_exporter": "python",
   "pygments_lexer": "ipython3",
   "version": "3.8.2"
  }
 },
 "nbformat": 4,
 "nbformat_minor": 2
}
