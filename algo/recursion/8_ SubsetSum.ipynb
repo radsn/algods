{
 "cells": [
  {
   "cell_type": "markdown",
   "metadata": {},
   "source": [
    "Given n unique distinct numbers, generate only subsets that equal to target sum."
   ]
  },
  {
   "cell_type": "markdown",
   "metadata": {},
   "source": [
    "**key :** code up Subset I without constraint + later add backtracking case<br>\n",
    "note: after adding backtracking case, check if it still works with base case<br>\n",
    "note: in Subset I enumerate through all subsets"
   ]
  },
  {
   "cell_type": "markdown",
   "metadata": {},
   "source": [
    "**sum constraint** : subset sum == target"
   ]
  },
  {
   "cell_type": "code",
   "execution_count": 1,
   "metadata": {},
   "outputs": [],
   "source": [
    "def subset_sum(nums, target):\n",
    "    result = []\n",
    "    \n",
    "    def helper(S, i, slate, slatesum):\n",
    "        #BackTracking case:\n",
    "        if slatesum == target:\n",
    "            result.append(slate[:])\n",
    "            return\n",
    "        elif slatesum > target:\n",
    "            return \n",
    "        \n",
    "        #Basecase:\n",
    "        if i == len(S):\n",
    "            return \n",
    "        \n",
    "        #Recursive:\n",
    "        else:\n",
    "            #exclude\n",
    "            helper(S, i+1, slate,  slatesum) \n",
    "            \n",
    "            #include\n",
    "            slate.append(S[i])\n",
    "            helper(S, i+1, slate, slatesum+S[i])\n",
    "            slate.pop()\n",
    "            \n",
    "    helper(nums, 0, [], 0)\n",
    "    return result"
   ]
  },
  {
   "cell_type": "code",
   "execution_count": 2,
   "metadata": {},
   "outputs": [
    {
     "data": {
      "text/plain": [
       "[[2, 3, 5], [1, 4, 5], [1, 2, 3, 4]]"
      ]
     },
     "execution_count": 2,
     "metadata": {},
     "output_type": "execute_result"
    }
   ],
   "source": [
    "arr = [1,2,3,4,5]\n",
    "k = 10\n",
    "subset_sum(arr, k)"
   ]
  },
  {
   "cell_type": "markdown",
   "metadata": {},
   "source": [
    "**counting constraint** : count number of subsets that sum to target"
   ]
  },
  {
   "cell_type": "code",
   "execution_count": 3,
   "metadata": {},
   "outputs": [],
   "source": [
    "def subset_count(nums, target):\n",
    "    result = [0]\n",
    "    \n",
    "    def helper(S, i, slate, slatesum, target):\n",
    "        #BackTracking case:\n",
    "        if slatesum == target:\n",
    "            result[0] += 1\n",
    "            return\n",
    "        elif slatesum > target:\n",
    "            return \n",
    "        \n",
    "        #Basecase:\n",
    "        if i == len(S):\n",
    "            return \n",
    "        \n",
    "        #Recursive:\n",
    "        else:\n",
    "            #exclude\n",
    "            helper(S, i+1, slate,  slatesum, target) \n",
    "            \n",
    "            #include\n",
    "            slate.append(S[i])\n",
    "            helper(S, i+1, slate, slatesum+S[i], target)\n",
    "            slate.pop()\n",
    "            \n",
    "    helper(nums, 0, [], 0, target)\n",
    "    return result[0]"
   ]
  },
  {
   "cell_type": "code",
   "execution_count": 4,
   "metadata": {},
   "outputs": [],
   "source": [
    "def subset_count(nums, target):\n",
    "    \n",
    "    def helper(S, i, slate, slatesum):\n",
    "        #BackTracking case:\n",
    "        if slatesum == target:\n",
    "            return 1\n",
    "        elif slatesum > target:\n",
    "            return 0\n",
    "        \n",
    "        #Basecase:\n",
    "        if i == len(S):\n",
    "            return 0\n",
    "        \n",
    "        #Recursive:\n",
    "        else:\n",
    "            return helper(S, i+1, slate, slatesum) + helper(S, i+1, slate+[S[i]], slatesum+S[i])\n",
    "            \n",
    "    return helper(nums, 0, [], 0)"
   ]
  },
  {
   "cell_type": "code",
   "execution_count": 5,
   "metadata": {},
   "outputs": [],
   "source": [
    "def subset_count(nums, target):\n",
    "    \n",
    "    def helper(S, i, slatesum):\n",
    "        #BackTracking case:\n",
    "        if slatesum == target:\n",
    "            return 1\n",
    "        elif slatesum > target:\n",
    "            return 0\n",
    "        \n",
    "        #Basecase:\n",
    "        if i == len(S):\n",
    "            return 0\n",
    "        \n",
    "        #Recursive:\n",
    "        exclude = helper(S, i+1, slatesum)\n",
    "        \n",
    "        slatesum = slatesum+S[i]\n",
    "        include = helper(S, i+1, slatesum)\n",
    "        \n",
    "        return exclude + include\n",
    "            \n",
    "    return helper(nums, 0, 0)"
   ]
  },
  {
   "cell_type": "code",
   "execution_count": 6,
   "metadata": {},
   "outputs": [
    {
     "data": {
      "text/plain": [
       "3"
      ]
     },
     "execution_count": 6,
     "metadata": {},
     "output_type": "execute_result"
    }
   ],
   "source": [
    "arr = [1,2,3,4,5]\n",
    "k = 10\n",
    "subset_count(arr, k)"
   ]
  },
  {
   "cell_type": "markdown",
   "metadata": {},
   "source": [
    "**Decision T/F constraint** : is there one subset that sums to target"
   ]
  },
  {
   "cell_type": "code",
   "execution_count": 7,
   "metadata": {},
   "outputs": [],
   "source": [
    "def is_subset(nums, target):\n",
    "    def helper(S, i, slatesum):\n",
    "        #BackTracking case:\n",
    "        if slatesum == target:\n",
    "            return True\n",
    "        if slatesum > target:\n",
    "            return False\n",
    "        if i == len(S):\n",
    "            return False\n",
    "        \n",
    "        exclude = helper(S, i+1,slatesum)\n",
    "        if exclude: return True\n",
    "        \n",
    "        slatesum = slatesum+S[i]\n",
    "        include = helper(S, i+1, slatesum)\n",
    "        if include: return True\n",
    "        \n",
    "        return exclude or include\n",
    "    return helper(nums, 0, 0)"
   ]
  },
  {
   "cell_type": "code",
   "execution_count": 8,
   "metadata": {
    "scrolled": true
   },
   "outputs": [
    {
     "name": "stdout",
     "output_type": "stream",
     "text": [
      "False\n"
     ]
    }
   ],
   "source": [
    "arr = [1,2,3]\n",
    "k = 10\n",
    "print(is_subset(arr, k))"
   ]
  }
 ],
 "metadata": {
  "kernelspec": {
   "display_name": "Python 3 (ipykernel)",
   "language": "python",
   "name": "python3"
  },
  "language_info": {
   "codemirror_mode": {
    "name": "ipython",
    "version": 3
   },
   "file_extension": ".py",
   "mimetype": "text/x-python",
   "name": "python",
   "nbconvert_exporter": "python",
   "pygments_lexer": "ipython3",
   "version": "3.8.2"
  }
 },
 "nbformat": 4,
 "nbformat_minor": 2
}
