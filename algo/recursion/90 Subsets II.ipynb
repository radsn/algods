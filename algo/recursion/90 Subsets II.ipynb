{
 "cells": [
  {
   "cell_type": "markdown",
   "metadata": {},
   "source": [
    "Given a collection of integers that might contain duplicates, nums, return all possible subsets (the power set). The solution set must not contain duplicate subsets."
   ]
  },
  {
   "cell_type": "code",
   "execution_count": 1,
   "metadata": {},
   "outputs": [],
   "source": [
    "def subsetsWithDup(nums):\n",
    "    result = []\n",
    "    nums.sort()\n",
    "    \n",
    "    def helper(S, i, slate):\n",
    "        if i == len(S):\n",
    "            result.append(slate[:])\n",
    "            return\n",
    "        else:\n",
    "            count = 1\n",
    "            for j in range(i+1, len(S)): # or whileloop: while j < len(S)  and S[j]==S[i] initialize j=i+1\n",
    "                if S[j] != S[i]:\n",
    "                    break\n",
    "                count += 1\n",
    "            \n",
    "            #exclude\n",
    "            helper(S, i+count, slate)\n",
    "            \n",
    "            #include\n",
    "            for c in range(count):\n",
    "                slate.append(S[i])\n",
    "                helper(S, i+count, slate)\n",
    "            \n",
    "            for c in range(count):\n",
    "                slate.pop()\n",
    "                \n",
    "    helper(nums, 0, [])\n",
    "    return result"
   ]
  },
  {
   "cell_type": "code",
   "execution_count": 2,
   "metadata": {},
   "outputs": [
    {
     "data": {
      "text/plain": [
       "[[], [2], [2, 2], [1], [1, 2], [1, 2, 2]]"
      ]
     },
     "execution_count": 2,
     "metadata": {},
     "output_type": "execute_result"
    }
   ],
   "source": [
    "nums = [1,2,2]\n",
    "subsetsWithDup(nums)"
   ]
  },
  {
   "cell_type": "code",
   "execution_count": 3,
   "metadata": {},
   "outputs": [],
   "source": [
    "def subsetsWithDup(nums):\n",
    "    result = []\n",
    "    counter = {}                   #create hashmap of count\n",
    "    for num in nums:\n",
    "        if num not in counter:\n",
    "            counter[num] = 1\n",
    "        else:\n",
    "            counter[num] += 1\n",
    "    unique_nums = list(set(nums))  #create array of unique elements\n",
    "\n",
    "    def helper(S, i, slate):\n",
    "        if i == len(S):\n",
    "            result.append(slate[:])\n",
    "            return\n",
    "        else:\n",
    "            #exclude\n",
    "            helper(S, i+1, slate)\n",
    "\n",
    "            #include\n",
    "            count = counter[S[i]]\n",
    "            for c in range(count):\n",
    "                slate.append(S[i])\n",
    "                helper(S, i+1, slate)\n",
    "            for c in range(count):\n",
    "                slate.pop()\n",
    "\n",
    "    helper(unique_nums, 0, [])     #pass in unique_nums\n",
    "    return result"
   ]
  },
  {
   "cell_type": "code",
   "execution_count": 4,
   "metadata": {},
   "outputs": [
    {
     "data": {
      "text/plain": [
       "[[], [2], [2, 2], [1], [1, 2], [1, 2, 2]]"
      ]
     },
     "execution_count": 4,
     "metadata": {},
     "output_type": "execute_result"
    }
   ],
   "source": [
    "nums = [1,2,2]\n",
    "subsetsWithDup(nums)"
   ]
  },
  {
   "cell_type": "markdown",
   "metadata": {},
   "source": [
    "instead of normal subset question where we ask: 0 inclusion vs 1 inclusion for each element\n",
    "\n",
    "now we ask: inclusion from 0 to count=k for each element\n",
    "\n",
    "2 approaches: \n",
    "1. presorting or \n",
    "2. count and store in hashmap and traverse a unique array"
   ]
  }
 ],
 "metadata": {
  "kernelspec": {
   "display_name": "Python 3",
   "language": "python",
   "name": "python3"
  },
  "language_info": {
   "codemirror_mode": {
    "name": "ipython",
    "version": 3
   },
   "file_extension": ".py",
   "mimetype": "text/x-python",
   "name": "python",
   "nbconvert_exporter": "python",
   "pygments_lexer": "ipython3",
   "version": "3.7.1"
  }
 },
 "nbformat": 4,
 "nbformat_minor": 2
}
