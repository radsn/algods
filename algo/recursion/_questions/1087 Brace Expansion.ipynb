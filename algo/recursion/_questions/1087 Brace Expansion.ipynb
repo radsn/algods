{
 "cells": [
  {
   "cell_type": "markdown",
   "id": "b5602ed1",
   "metadata": {},
   "source": [
    "Input: `\"{a,b}c{d,e}f\"` <br>\n",
    "Outpt: `[\"acdf\",\"acef\",\"bcdf\",\"bcef\"]`\n",
    "\n",
    "Input: `\"abcd\"`<br>\n",
    "Outpt: `[\"abcd\"]`"
   ]
  },
  {
   "cell_type": "code",
   "execution_count": null,
   "id": "b26cb222",
   "metadata": {},
   "outputs": [],
   "source": [
    "def expand(s):\n",
    "    result = []\n",
    "    def helper(S, i, slate):\n",
    "        if i == len(S):\n",
    "            result.append(slate[:])\n",
    "        if S[i] == \"{\":\n",
    "            j = S.find(\"}\")\n",
    "            for idx in range(i+1, j+1):\n",
    "                slate.append(S[idx])\n",
    "                helper(S, j+1, slate)\n",
    "                slate.pop()\n",
    "        else:\n",
    "            slate.append(S[i])\n",
    "            helper(S,i, slate)\n",
    "            slate.pop()\n"
   ]
  }
 ],
 "metadata": {
  "kernelspec": {
   "display_name": "Python 3 (ipykernel)",
   "language": "python",
   "name": "python3"
  },
  "language_info": {
   "codemirror_mode": {
    "name": "ipython",
    "version": 3
   },
   "file_extension": ".py",
   "mimetype": "text/x-python",
   "name": "python",
   "nbconvert_exporter": "python",
   "pygments_lexer": "ipython3",
   "version": "3.8.2"
  }
 },
 "nbformat": 4,
 "nbformat_minor": 5
}
