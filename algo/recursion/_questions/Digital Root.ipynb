{
 "cells": [
  {
   "cell_type": "code",
   "execution_count": 1,
   "id": "523a3577",
   "metadata": {},
   "outputs": [],
   "source": [
    "def digital_root(n):\n",
    "    \n",
    "    def helper(n):\n",
    "        if n == 0: #base case\n",
    "            return 0\n",
    "        summ = 0\n",
    "        summ += (n % 10) + helper(n//10)\n",
    "        if summ >= 10:\n",
    "            return helper(summ)\n",
    "        return summ\n",
    "    return helper(n)"
   ]
  },
  {
   "cell_type": "code",
   "execution_count": 2,
   "id": "9e602fdc",
   "metadata": {},
   "outputs": [
    {
     "data": {
      "text/plain": [
       "1"
      ]
     },
     "execution_count": 2,
     "metadata": {},
     "output_type": "execute_result"
    }
   ],
   "source": [
    "digital_root(1234)"
   ]
  },
  {
   "cell_type": "code",
   "execution_count": 3,
   "id": "733c6186",
   "metadata": {},
   "outputs": [],
   "source": [
    "def helper(S, i):\n",
    "    if i == len(S):\n",
    "        return 0\n",
    "    ele = int(S[i])\n",
    "    if ele == 0:\n",
    "        return 0\n",
    "    summ = 0\n",
    "    summ += ele + helper(S, i+1)\n",
    "    if summ >= 10:\n",
    "        return helper(str(summ),0)\n",
    "    return summ\n",
    "\n",
    "def digital_root(n):\n",
    "    return helper(str(n), 0)"
   ]
  },
  {
   "cell_type": "code",
   "execution_count": 4,
   "id": "7789d9b8",
   "metadata": {},
   "outputs": [
    {
     "data": {
      "text/plain": [
       "1"
      ]
     },
     "execution_count": 4,
     "metadata": {},
     "output_type": "execute_result"
    }
   ],
   "source": [
    "digital_root(1234)"
   ]
  }
 ],
 "metadata": {
  "kernelspec": {
   "display_name": "Python 3 (ipykernel)",
   "language": "python",
   "name": "python3"
  },
  "language_info": {
   "codemirror_mode": {
    "name": "ipython",
    "version": 3
   },
   "file_extension": ".py",
   "mimetype": "text/x-python",
   "name": "python",
   "nbconvert_exporter": "python",
   "pygments_lexer": "ipython3",
   "version": "3.8.2"
  }
 },
 "nbformat": 4,
 "nbformat_minor": 5
}
