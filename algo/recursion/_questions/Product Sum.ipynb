{
 "cells": [
  {
   "cell_type": "markdown",
   "id": "166bec5b",
   "metadata": {},
   "source": [
    "Function takes in \"special\" array and returns its product sum.\n",
    "\n",
    "Depth of \"special\" array is how far nested it is.<br>\n",
    "[] = 1<br>\n",
    "[[]] = 2<br>\n",
    "[[[]]] = 3<br>\n",
    "\n",
    "product sum of:<br>\n",
    "[x,y] = x+y <br>\n",
    "[x,[y,z]] = x+2(y+z) <br>\n",
    "[x,[y,[z]]] = x+2(y+3z) <br>\n",
    "\n",
    "classic recursion : subproblem that looks like original problem (subarrays within arrays)\n",
    "\n",
    "approach -> depth * (sum all elements in same array)\n",
    "\n",
    "starting from left to right:<br>\n",
    "1. initialize sum as 0<br>\n",
    "2. use second parameter depth initialized to 1<br>\n",
    "3. iterate thru every element:\n",
    "    - if number : add to sum <br>\n",
    "    - if special array : recurse with depth+1 and add to sum <br>\n",
    "4. return sum multiplied by current depth<br>"
   ]
  },
  {
   "cell_type": "code",
   "execution_count": 1,
   "id": "cf18b5e2",
   "metadata": {},
   "outputs": [],
   "source": [
    "# T(n): O(n) all elements including subarray element\n",
    "# S(n): O(multiplier) i.e. the depth of subarrays \n",
    "# Bottom Up DFS\n",
    "def productSum(array):\n",
    "    if len(array) == 0 : return 0\n",
    "    def helper(S, depth):\n",
    "        #basically sum all elements and multiply by depth\n",
    "        partialsum = 0 #initialize at 0\n",
    "        for ele in S:  #iterate thru each element (add them)\n",
    "            if type(ele) == list: #since its a list (recurse with depth+1)\n",
    "                partialsum += helper(ele, depth+1)\n",
    "            else:\n",
    "                partialsum += ele\n",
    "        return partialsum * depth \n",
    "    return helper(array, 1) #depth starts at 1"
   ]
  },
  {
   "cell_type": "code",
   "execution_count": 2,
   "id": "e357287a",
   "metadata": {
    "scrolled": true
   },
   "outputs": [
    {
     "data": {
      "text/plain": [
       "230"
      ]
     },
     "execution_count": 2,
     "metadata": {},
     "output_type": "execute_result"
    }
   ],
   "source": [
    "productSum([10,[20,[30]]])"
   ]
  }
 ],
 "metadata": {
  "kernelspec": {
   "display_name": "Python 3 (ipykernel)",
   "language": "python",
   "name": "python3"
  },
  "language_info": {
   "codemirror_mode": {
    "name": "ipython",
    "version": 3
   },
   "file_extension": ".py",
   "mimetype": "text/x-python",
   "name": "python",
   "nbconvert_exporter": "python",
   "pygments_lexer": "ipython3",
   "version": "3.8.2"
  }
 },
 "nbformat": 4,
 "nbformat_minor": 5
}
