{
 "cells": [
  {
   "cell_type": "markdown",
   "metadata": {},
   "source": [
    "Given a collection of candidate numbers (candidates) and a target number (target), find all unique combinations in candidates where the candidate numbers sums to target. The solution set must not contain duplicate combinations."
   ]
  },
  {
   "cell_type": "code",
   "execution_count": 1,
   "metadata": {},
   "outputs": [],
   "source": [
    "def combinationSum2(candidates, target):\n",
    "    result = []\n",
    "    candidates.sort()\n",
    "\n",
    "    def helper(S, i, slate, slatesum, target):\n",
    "        #BacktrackingCase: 2 cases to consider\n",
    "        if slatesum == target:\n",
    "            result.append(slate[:])\n",
    "            return\n",
    "        elif slatesum > target:\n",
    "            return\n",
    "\n",
    "        #BaseCase:\n",
    "        if i == len(candidates):\n",
    "            return \n",
    "\n",
    "        #RecursiveCase:\n",
    "        else:\n",
    "            count = 1\n",
    "            for j in range(i+1,  len(S)):\n",
    "                if S[j] == S[i]:\n",
    "                    count += 1\n",
    "                else:\n",
    "                    break\n",
    "\n",
    "            #exclude\n",
    "            helper(S, i+count, slate, slatesum, target)\n",
    "\n",
    "            # multi-inclusion\n",
    "            for c in range(count):\n",
    "                slate.append(S[i])\n",
    "                slatesum = slatesum + S[i]\n",
    "                helper(S, i+count, slate, slatesum, target)\n",
    "            for c in range(count):\n",
    "                slate.pop()\n",
    "\n",
    "    helper(candidates, 0, [], 0, target)\n",
    "    return result"
   ]
  },
  {
   "cell_type": "code",
   "execution_count": 2,
   "metadata": {},
   "outputs": [
    {
     "data": {
      "text/plain": [
       "[[2, 6], [1, 7], [1, 2, 5], [1, 1, 6]]"
      ]
     },
     "execution_count": 2,
     "metadata": {},
     "output_type": "execute_result"
    }
   ],
   "source": [
    "candidates = [10,1,2,7,6,1,5]\n",
    "target = 8\n",
    "combinationSum2(candidates, target)"
   ]
  },
  {
   "cell_type": "markdown",
   "metadata": {},
   "source": [
    "Approach:\n",
    "    \n",
    "ignore constraint first and write out generating all subsets without duplicates (code for subsetsII). Key is to do multi-inclusion choice, instead of 0 inclusion vs 1 inclusion by sorting the array in the start.\n",
    "\n",
    "2 backtracking cases, by checking the contents of the slate: if the slatesum > k then return and backtrack, or if the slatesum == k then add into global bag and backtrack. After writing backtrack case, always recheck basecase (slatesum < k) in which we just return and do not append into global bag."
   ]
  }
 ],
 "metadata": {
  "kernelspec": {
   "display_name": "Python 3",
   "language": "python",
   "name": "python3"
  },
  "language_info": {
   "codemirror_mode": {
    "name": "ipython",
    "version": 3
   },
   "file_extension": ".py",
   "mimetype": "text/x-python",
   "name": "python",
   "nbconvert_exporter": "python",
   "pygments_lexer": "ipython3",
   "version": "3.7.1"
  }
 },
 "nbformat": 4,
 "nbformat_minor": 2
}
