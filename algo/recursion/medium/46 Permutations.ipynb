{
 "cells": [
  {
   "cell_type": "markdown",
   "metadata": {},
   "source": [
    "Given a collection of distinct integers, return all possible permutations."
   ]
  },
  {
   "cell_type": "code",
   "execution_count": 1,
   "metadata": {},
   "outputs": [],
   "source": [
    "def permute(nums):\n",
    "    result = []\n",
    "\n",
    "    def swap(i,j,S):\n",
    "        S[i], S[j] = S[j], S[i]\n",
    "\n",
    "    def helper(S, i, slate):\n",
    "        #leaf node\n",
    "        if i == len(S):\n",
    "            result.append(slate)\n",
    "        else:\n",
    "            #internal node\n",
    "            for pick in range(i, len(S)): \n",
    "                swap(pick, i, S)\n",
    "                helper(S, i+1, slate+[S[i]])\n",
    "                swap(pick, i, S)\n",
    "\n",
    "    helper(nums, 0, [])\n",
    "    return result"
   ]
  },
  {
   "cell_type": "code",
   "execution_count": 2,
   "metadata": {},
   "outputs": [
    {
     "data": {
      "text/plain": [
       "[[1, 2, 3], [1, 3, 2], [2, 1, 3], [2, 3, 1], [3, 2, 1], [3, 1, 2]]"
      ]
     },
     "execution_count": 2,
     "metadata": {},
     "output_type": "execute_result"
    }
   ],
   "source": [
    "nums = [1,2,3]\n",
    "permute(nums)"
   ]
  },
  {
   "cell_type": "markdown",
   "metadata": {},
   "source": [
    "space: input =  O(n) + aux = O(n) + output = O(n! * n) ==> O(n! * n)\n",
    "\n",
    "time: leaf node = O(n!) * O(n) + internal node = O(n!) * O(1) ==> O(n! * n)\n",
    "\n",
    "n! is the number of permutations, n is the size of each permutation\n",
    "                                                    "
   ]
  },
  {
   "cell_type": "markdown",
   "metadata": {},
   "source": [
    "unlike subset problem where choices are only 2, permutation has arbitrary number of choices (so need a for loop to go through each choice), note that the choices decreases as you go down the recursion tree.\n",
    "\n",
    "In permutation need to swap in order to pass a subproblem that is in contiguous fragment to each subordinate down the recursion tree."
   ]
  }
 ],
 "metadata": {
  "kernelspec": {
   "display_name": "Python 3",
   "language": "python",
   "name": "python3"
  },
  "language_info": {
   "codemirror_mode": {
    "name": "ipython",
    "version": 3
   },
   "file_extension": ".py",
   "mimetype": "text/x-python",
   "name": "python",
   "nbconvert_exporter": "python",
   "pygments_lexer": "ipython3",
   "version": "3.7.1"
  }
 },
 "nbformat": 4,
 "nbformat_minor": 2
}
