{
 "cells": [
  {
   "cell_type": "markdown",
   "metadata": {},
   "source": [
    "Given a collection of numbers that might contain duplicates, return all possible unique permutations."
   ]
  },
  {
   "cell_type": "code",
   "execution_count": 1,
   "metadata": {},
   "outputs": [],
   "source": [
    "def permuteUnique(nums):\n",
    "    result = []\n",
    "\n",
    "    def helper(S, i, slate):\n",
    "        #leaf nodes\n",
    "        if i == len(S):\n",
    "            result.append(slate)\n",
    "            return \n",
    "        else: #internal nodes\n",
    "            hset = set()\n",
    "            for pick in range(i, len(S)):\n",
    "                if S[pick] not in hset:\n",
    "                    hset.add(S[pick])\n",
    "                    S[pick], S[i] = S[i], S[pick]\n",
    "                    helper(S, i+1, slate+[S[i]])\n",
    "                    S[pick], S[i] = S[i], S[pick]\n",
    "\n",
    "    helper(nums, 0, [])\n",
    "    return result"
   ]
  },
  {
   "cell_type": "code",
   "execution_count": 2,
   "metadata": {},
   "outputs": [
    {
     "data": {
      "text/plain": [
       "[[1, 1, 2], [1, 2, 1], [2, 1, 1]]"
      ]
     },
     "execution_count": 2,
     "metadata": {},
     "output_type": "execute_result"
    }
   ],
   "source": [
    "nums = [1,1,2]\n",
    "permuteUnique(nums)"
   ]
  },
  {
   "cell_type": "markdown",
   "metadata": {},
   "source": [
    "space: input = O(n) + aux = hashset O(n^2) + output = O(n! n) ==> O(n! n)\n",
    "\n",
    "time: leaf node = O(n!) O(n) + internal node = O(n!) O(1) ==> O(n! * n) [worst case assume all distinct]\n",
    "\n",
    "n! is the number of permutations, n is the size of each permutation"
   ]
  },
  {
   "cell_type": "markdown",
   "metadata": {},
   "source": [
    "key: each picked number must be unique to avoid duplicate work. So use a hashset (store all picked number) and only do work if unique picked number; otherwise, skip if picked number already exists inside the hashset."
   ]
  }
 ],
 "metadata": {
  "kernelspec": {
   "display_name": "Python 3",
   "language": "python",
   "name": "python3"
  },
  "language_info": {
   "codemirror_mode": {
    "name": "ipython",
    "version": 3
   },
   "file_extension": ".py",
   "mimetype": "text/x-python",
   "name": "python",
   "nbconvert_exporter": "python",
   "pygments_lexer": "ipython3",
   "version": "3.7.1"
  }
 },
 "nbformat": 4,
 "nbformat_minor": 2
}
