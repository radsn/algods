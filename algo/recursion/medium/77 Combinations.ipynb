{
 "cells": [
  {
   "cell_type": "markdown",
   "metadata": {},
   "source": [
    "Given two integers n and k, return all possible combinations of k numbers out of 1 ... n."
   ]
  },
  {
   "cell_type": "markdown",
   "metadata": {},
   "source": [
    "basically a subset problem with a constraint (instead of generating all subsets, we generate subsets of only size 2)"
   ]
  },
  {
   "cell_type": "code",
   "execution_count": 1,
   "metadata": {},
   "outputs": [],
   "source": [
    "def combine(n, k):\n",
    "    result = []\n",
    "\n",
    "    def helper(n, k, i, slate):\n",
    "        #Backtracking case:\n",
    "        if len(slate) == k:\n",
    "            result.append(slate)\n",
    "            return\n",
    "        #Base case: means length of slate < k\n",
    "        if i == n+1:\n",
    "            # result.append(slate) do not append len < k to result\n",
    "            return\n",
    "        #Recursive case:\n",
    "        else:\n",
    "            helper(n, k, i+1, slate) #exclude i\n",
    "            helper(n, k, i+1, slate+[i]) #include i\n",
    "\n",
    "    helper(n, k, 1, [])\n",
    "    return result"
   ]
  },
  {
   "cell_type": "code",
   "execution_count": 2,
   "metadata": {
    "scrolled": true
   },
   "outputs": [
    {
     "data": {
      "text/plain": [
       "[[3, 4], [2, 4], [2, 3], [1, 4], [1, 3], [1, 2]]"
      ]
     },
     "execution_count": 2,
     "metadata": {},
     "output_type": "execute_result"
    }
   ],
   "source": [
    "n = 4\n",
    "k = 2\n",
    "combine(n, k)"
   ]
  },
  {
   "cell_type": "code",
   "execution_count": 3,
   "metadata": {},
   "outputs": [],
   "source": [
    "def combine(n, k):\n",
    "    result = []\n",
    "    def helper(n, k, i, slate):\n",
    "        if len(slate) == k: #Backtracking case\n",
    "            result.append(slate[:])\n",
    "            return\n",
    "        if i == n+1: #Base case\n",
    "            return\n",
    "        else: #Recursive case\n",
    "            helper(n, k, i+1, slate)\n",
    "            slate.append(i)\n",
    "            helper(n, k, i+1, slate)\n",
    "            slate.pop()\n",
    "\n",
    "    helper(n, k, 1, [])\n",
    "    return result"
   ]
  },
  {
   "cell_type": "code",
   "execution_count": 4,
   "metadata": {},
   "outputs": [
    {
     "data": {
      "text/plain": [
       "[[1]]"
      ]
     },
     "execution_count": 4,
     "metadata": {},
     "output_type": "execute_result"
    }
   ],
   "source": [
    "n = 1\n",
    "k = 1\n",
    "combine(n, k)"
   ]
  },
  {
   "cell_type": "markdown",
   "metadata": {},
   "source": [
    "Time complexity : O(k * NCk) is a number of combinations of length k to build. append / pop (add / removeLast) operations are constant-time ones and the only consuming part here is to append the built combination of length k to the output.\n",
    "\n",
    "Space complexity : O(NCk) to keep all the combinations for an output."
   ]
  },
  {
   "cell_type": "markdown",
   "metadata": {},
   "source": [
    "**Backtracking:** Algo design strategy for adding constraints in a combinatorial enumeration prooblem.\n",
    "\n",
    "We can evaluate the partially constructed solutions to a combinatorial search problem: if none of the ways to fill in the remaining blanks can lead to a solution (or if we can directly identify the one, single solution that will emerge), we do not need to work to fill in the remaining blanks.\n",
    "\n",
    "Instead, we backtrack from that internal node, and prune away the subtree rooted at it.\n",
    "\n",
    "Though it leads to an exponential improvement in combinatorial search, the resulting time is not polynomial, but an \"improved exponential time\"."
   ]
  }
 ],
 "metadata": {
  "kernelspec": {
   "display_name": "Python 3",
   "language": "python",
   "name": "python3"
  },
  "language_info": {
   "codemirror_mode": {
    "name": "ipython",
    "version": 3
   },
   "file_extension": ".py",
   "mimetype": "text/x-python",
   "name": "python",
   "nbconvert_exporter": "python",
   "pygments_lexer": "ipython3",
   "version": "3.7.1"
  }
 },
 "nbformat": 4,
 "nbformat_minor": 2
}
