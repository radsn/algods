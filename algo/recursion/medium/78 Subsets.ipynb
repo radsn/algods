{
 "cells": [
  {
   "cell_type": "markdown",
   "metadata": {},
   "source": [
    "Given a set of distinct integers, nums, return all possible subsets (the power set)."
   ]
  },
  {
   "cell_type": "code",
   "execution_count": 1,
   "metadata": {},
   "outputs": [],
   "source": [
    "def subsets(nums):\n",
    "    result = []\n",
    "\n",
    "    def helper(nums, i, slate):\n",
    "        if i == len(nums):\n",
    "            result.append(slate)\n",
    "        else:\n",
    "            helper(nums, i+1, slate)            #exclude\n",
    "            helper(nums, i+1, slate+[nums[i]])  #include\n",
    "\n",
    "    helper(nums, 0, [])\n",
    "    return result"
   ]
  },
  {
   "cell_type": "code",
   "execution_count": 2,
   "metadata": {},
   "outputs": [
    {
     "data": {
      "text/plain": [
       "[[], [3], [2], [2, 3], [1], [1, 3], [1, 2], [1, 2, 3]]"
      ]
     },
     "execution_count": 2,
     "metadata": {},
     "output_type": "execute_result"
    }
   ],
   "source": [
    "nums = [1,2,3]\n",
    "subsets(nums)"
   ]
  },
  {
   "cell_type": "code",
   "execution_count": 3,
   "metadata": {},
   "outputs": [],
   "source": [
    "def subsets(nums):\n",
    "    result = []\n",
    "        \n",
    "    def helper(S, i, slate):\n",
    "        if i == len(S):\n",
    "            result.append(slate[:])\n",
    "        else:\n",
    "            #exclude S[i]\n",
    "            helper(nums, i+1, slate)\n",
    "            #include S[i]\n",
    "            slate.append(S[i])\n",
    "            helper(nums, i+1, slate)\n",
    "            slate.pop()\n",
    "\n",
    "    helper(nums, 0, [])\n",
    "    return result"
   ]
  }
 ],
 "metadata": {
  "kernelspec": {
   "display_name": "Python 3",
   "language": "python",
   "name": "python3"
  },
  "language_info": {
   "codemirror_mode": {
    "name": "ipython",
    "version": 3
   },
   "file_extension": ".py",
   "mimetype": "text/x-python",
   "name": "python",
   "nbconvert_exporter": "python",
   "pygments_lexer": "ipython3",
   "version": "3.7.1"
  }
 },
 "nbformat": 4,
 "nbformat_minor": 2
}
