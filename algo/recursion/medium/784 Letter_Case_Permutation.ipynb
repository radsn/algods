{
 "cells": [
  {
   "cell_type": "markdown",
   "metadata": {},
   "source": [
    "Given a string S, we can transform every letter individually to be lowercase or uppercase to create another string."
   ]
  },
  {
   "cell_type": "code",
   "execution_count": 1,
   "metadata": {},
   "outputs": [],
   "source": [
    "#immutable partial solution\n",
    "def letterCasePermutation(S):\n",
    "    result = [] #pass a global bag which can be filled without passing as a parameter in helper\n",
    "    \n",
    "    def helper(S, i, partialsol):\n",
    "        if i == len(S):\n",
    "            result.append(partialsol)\n",
    "            return\n",
    "        else:\n",
    "            if S[i].isalpha():\n",
    "                helper(S, i+1, partialsol+S[i].lower())\n",
    "                helper(S, i+1, partialsol+S[i].upper())\n",
    "            else:\n",
    "                helper(S, i+1, partialsol+S[i])\n",
    "    \n",
    "    helper(S, 0, \"\")\n",
    "    return result"
   ]
  },
  {
   "cell_type": "markdown",
   "metadata": {},
   "source": [
    "time complexity: \n",
    "leaf node = O(1) * O(2^n) + internal node = O(n) * O(2^n) since string concat ==> total: O(n*2^n)\n",
    "\n",
    "space complexity = input + aux space + output\n",
    "\n",
    "input = n; aux space = stack = O(n^2); output = 2^n * n ==> total: O(n*2^n)\n",
    "\n",
    "note: number of strings = 2^n and length of string = n"
   ]
  },
  {
   "cell_type": "code",
   "execution_count": 2,
   "metadata": {},
   "outputs": [
    {
     "data": {
      "text/plain": [
       "['a1b2', 'a1B2', 'A1b2', 'A1B2']"
      ]
     },
     "execution_count": 2,
     "metadata": {},
     "output_type": "execute_result"
    }
   ],
   "source": [
    "S = \"a1b2\"\n",
    "letterCasePermutation(S)"
   ]
  },
  {
   "cell_type": "code",
   "execution_count": 3,
   "metadata": {},
   "outputs": [],
   "source": [
    "#mutable partial solution\n",
    "def letterCasePermutation(S):\n",
    "    result = []\n",
    "    \n",
    "    def helper(S, i, partialsolArray):\n",
    "        if i == len(S):\n",
    "            result.append(\"\".join(partialsolArray))\n",
    "            return \n",
    "        else:\n",
    "            if S[i].isdigit():\n",
    "                partialsolArray.append(S[i])\n",
    "                helper(S, i+1, partialsolArray)\n",
    "                partialsolArray.pop()\n",
    "            else:\n",
    "                partialsolArray.append(S[i].lower())\n",
    "                helper(S, i+1, partialsolArray)\n",
    "                partialsolArray.pop()\n",
    "                partialsolArray.append(S[i].upper())\n",
    "                helper(S, i+1, partialsolArray)\n",
    "                partialsolArray.pop()\n",
    "    helper(S, 0, [])\n",
    "    return result"
   ]
  },
  {
   "cell_type": "code",
   "execution_count": 4,
   "metadata": {},
   "outputs": [],
   "source": [
    "def letterCasePermutation(S):\n",
    "    result = []\n",
    "\n",
    "    def helper(S, i, partialsolArray):\n",
    "        if i == len(S):\n",
    "            result.append(\"\".join(partialsolArray))\n",
    "            return \n",
    "        else:\n",
    "            if S[i].isdigit():\n",
    "                helper(S, i+1, partialsolArray+[S[i]])\n",
    "            else:\n",
    "                helper(S, i+1, partialsolArray+[S[i].lower()])\n",
    "                helper(S, i+1, partialsolArray+[S[i].upper()])\n",
    "    helper(S, 0, [])\n",
    "    return result"
   ]
  },
  {
   "cell_type": "markdown",
   "metadata": {},
   "source": [
    "time complexity: \n",
    "leaf node = O(n) * O(2^n) since create fresh string + internal node = O(1) * O(2^n)==> total: O(n*2^n)\n",
    "\n",
    "space complexity = input + aux space + output\n",
    "\n",
    "input = n; aux space = stack = O(n); output = 2^n * n ==> total: O(n*2^n)\n",
    "\n",
    "note: number of case variations strings = 2^n and length of string = n"
   ]
  }
 ],
 "metadata": {
  "kernelspec": {
   "display_name": "Python 3",
   "language": "python",
   "name": "python3"
  },
  "language_info": {
   "codemirror_mode": {
    "name": "ipython",
    "version": 3
   },
   "file_extension": ".py",
   "mimetype": "text/x-python",
   "name": "python",
   "nbconvert_exporter": "python",
   "pygments_lexer": "ipython3",
   "version": "3.7.1"
  }
 },
 "nbformat": 4,
 "nbformat_minor": 2
}
