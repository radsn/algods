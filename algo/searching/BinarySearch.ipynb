{
 "cells": [
  {
   "cell_type": "markdown",
   "metadata": {},
   "source": [
    "In a **sorted** array, binary search algorithm works by finding the number in the middle of the input array and comparing it to the target number.\n",
    "\n",
    "`if middle number < target: ignore left \n",
    "if middle number > target: ignore right`\n",
    "\n",
    "Eliminates half of the array each time until number is found OR until array runs out of numbers `left <= right` (left crosses the right).\n",
    "\n",
    "key: use integer division to calculate mid index"
   ]
  },
  {
   "cell_type": "code",
   "execution_count": 1,
   "metadata": {},
   "outputs": [],
   "source": [
    "# Iteratively: O(logn) time | O(1) space\n",
    "def binarySearch1(array, target):\n",
    "    left = 0\n",
    "    right = len(array)-1\n",
    "    while left <= right:\n",
    "        mid = (left + right) // 2\n",
    "        if target < array[mid]:\n",
    "            right = mid-1\n",
    "        elif target > array[mid]:\n",
    "            left = mid+1\n",
    "        else:\n",
    "            return mid\n",
    "    return -1"
   ]
  },
  {
   "cell_type": "code",
   "execution_count": 2,
   "metadata": {},
   "outputs": [
    {
     "data": {
      "text/plain": [
       "3"
      ]
     },
     "execution_count": 2,
     "metadata": {},
     "output_type": "execute_result"
    }
   ],
   "source": [
    "array = [0, 1, 21, 33, 45, 45, 61, 71, 72, 73]\n",
    "target = 33\n",
    "binarySearch1(array, target)"
   ]
  },
  {
   "cell_type": "code",
   "execution_count": 3,
   "metadata": {},
   "outputs": [],
   "source": [
    "# Recursively: O(logn) time | O(logn) space\n",
    "def binarySearch2(array, target):\n",
    "    return binarySearchHelper(array, target, 0, len(array)-1) #track left and right pointer - pass in whole array\n",
    "  \n",
    "def binarySearchHelper(array, target, leftIdx, rightIdx):\n",
    "    if leftIdx > rightIdx:\n",
    "        return -1\n",
    "    mid = (leftIdx + rightIdx) // 2\n",
    "    if target == array[mid]:\n",
    "        return mid\n",
    "    elif target < array[mid]:\n",
    "        return binarySearchHelper(array, target, leftIdx, mid-1)\n",
    "    else:\n",
    "        return binarySearchHelper(array, target, mid+1, rightIdx)"
   ]
  },
  {
   "cell_type": "code",
   "execution_count": 4,
   "metadata": {},
   "outputs": [
    {
     "data": {
      "text/plain": [
       "3"
      ]
     },
     "execution_count": 4,
     "metadata": {},
     "output_type": "execute_result"
    }
   ],
   "source": [
    "array = [0, 1, 21, 33, 45, 45, 61, 71, 72, 73]\n",
    "target = 33\n",
    "binarySearch2(array, target)"
   ]
  }
 ],
 "metadata": {
  "kernelspec": {
   "display_name": "Python 3",
   "language": "python",
   "name": "python3"
  },
  "language_info": {
   "codemirror_mode": {
    "name": "ipython",
    "version": 3
   },
   "file_extension": ".py",
   "mimetype": "text/x-python",
   "name": "python",
   "nbconvert_exporter": "python",
   "pygments_lexer": "ipython3",
   "version": "3.7.1"
  }
 },
 "nbformat": 4,
 "nbformat_minor": 2
}
