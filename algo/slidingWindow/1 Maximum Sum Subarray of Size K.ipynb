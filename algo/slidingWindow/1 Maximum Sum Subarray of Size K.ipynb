{
 "cells": [
  {
   "cell_type": "markdown",
   "metadata": {},
   "source": [
    "Given an array of positive numbers and a positive number ‘k,’ find the maximum sum of any contiguous subarray of size ‘k’."
   ]
  },
  {
   "cell_type": "markdown",
   "metadata": {},
   "source": [
    "bruteforce: calculate sum of all k sized subarrays to find subarray with the highest sum.<br>\n",
    "need to reset sum to 0 after each k sized subarray. <br>\n",
    "O(N*k) time\n",
    "    "
   ]
  },
  {
   "cell_type": "code",
   "execution_count": 1,
   "metadata": {},
   "outputs": [],
   "source": [
    "def maxSubarraySizeK(arr, k):\n",
    "    maxsum = 0\n",
    "    windowsum = 0\n",
    "    for i in range(len(arr)-k+1):\n",
    "        windowsum = 0\n",
    "        for j in range(i, i+k):\n",
    "            windowsum += arr[j]\n",
    "        maxsum = max(maxsum, windowsum)\n",
    "    return maxsum"
   ]
  },
  {
   "cell_type": "code",
   "execution_count": 2,
   "metadata": {},
   "outputs": [],
   "source": [
    "def maxSubarraySizeK(arr, k):\n",
    "    maxsum = 0\n",
    "    start = 0\n",
    "    end = start + k - 1\n",
    "    windowsum = 0\n",
    "    while end < len(arr):\n",
    "        for i in range(start, end+1):\n",
    "            windowsum += arr[i]\n",
    "        maxsum = max(maxsum, windowsum)\n",
    "        windowsum = 0\n",
    "        end += 1\n",
    "        start += 1\n",
    "    return maxsum"
   ]
  },
  {
   "cell_type": "code",
   "execution_count": 3,
   "metadata": {},
   "outputs": [
    {
     "data": {
      "text/plain": [
       "9"
      ]
     },
     "execution_count": 3,
     "metadata": {},
     "output_type": "execute_result"
    }
   ],
   "source": [
    "arr = [2,1,5,1,3,2]\n",
    "k = 3\n",
    "maxSubarraySizeK(arr, k)"
   ]
  },
  {
   "cell_type": "markdown",
   "metadata": {},
   "source": [
    "better approach: utilize sum of the previous subarray.<br>\n",
    "subtract element going out of sliding window and add new element getting included in sliding window.<br>\n",
    "key: sliding window size is fixed to k.<br>\n",
    "O(N) time"
   ]
  },
  {
   "cell_type": "code",
   "execution_count": 4,
   "metadata": {},
   "outputs": [],
   "source": [
    "def maxSubarraySizeK(arr, k):\n",
    "    maxsum = 0\n",
    "    windowsum = 0\n",
    "    start = 0\n",
    "    for i in range(len(arr)):\n",
    "        windowsum += arr[i]\n",
    "        \n",
    "        if i >= k-1:\n",
    "            maxsum = max(maxsum, windowsum)\n",
    "            windowsum -= arr[start]\n",
    "            start += 1\n",
    "    return maxsum"
   ]
  }
 ],
 "metadata": {
  "kernelspec": {
   "display_name": "Python 3",
   "language": "python",
   "name": "python3"
  },
  "language_info": {
   "codemirror_mode": {
    "name": "ipython",
    "version": 3
   },
   "file_extension": ".py",
   "mimetype": "text/x-python",
   "name": "python",
   "nbconvert_exporter": "python",
   "pygments_lexer": "ipython3",
   "version": "3.7.1"
  }
 },
 "nbformat": 4,
 "nbformat_minor": 2
}
