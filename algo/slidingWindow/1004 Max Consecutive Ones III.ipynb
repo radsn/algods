{
 "cells": [
  {
   "cell_type": "markdown",
   "metadata": {},
   "source": [
    "**Given an array A of 0s and 1s, we may change up to K values from 0 to 1.**\n",
    "\n",
    "**Return the length of the longest (contiguous) subarray that contains only 1s.**"
   ]
  },
  {
   "cell_type": "markdown",
   "metadata": {},
   "source": [
    " maintain atmost K zeros between two indices\n",
    " \n",
    "sliding window<br>\n",
    "use for loop for endidx while maintaining count of zeros; whenever countzeros exceeds K, correct it by moving start index forward until countzeros == K; measure length at each iteration of for loop"
   ]
  },
  {
   "cell_type": "code",
   "execution_count": 5,
   "metadata": {},
   "outputs": [],
   "source": [
    "def longestOnes(A, K):\n",
    "    #start both idx1 and idx2 at 0 \n",
    "    #increment idx2 always (for loop) and maintain countzeros \n",
    "    #increment idx1 if countzeros > K\n",
    "    #measure length each time\n",
    "    start = 0\n",
    "    zeros = 0\n",
    "    maxlength = 0\n",
    "\n",
    "    for end in range(len(A)):\n",
    "\n",
    "        if A[end] == 0:\n",
    "            zeros += 1\n",
    "\n",
    "        while zeros > K:\n",
    "            if A[start] == 0:\n",
    "                zeros -= 1\n",
    "            start += 1\n",
    "\n",
    "        maxlength = max(maxlength, end-start+1)\n",
    "\n",
    "    return maxlength"
   ]
  },
  {
   "cell_type": "code",
   "execution_count": 6,
   "metadata": {},
   "outputs": [
    {
     "data": {
      "text/plain": [
       "6"
      ]
     },
     "execution_count": 6,
     "metadata": {},
     "output_type": "execute_result"
    }
   ],
   "source": [
    "A = [1,1,1,0,0,0,1,1,1,1,0]\n",
    "K = 2\n",
    "longestOnes(A, K)"
   ]
  },
  {
   "cell_type": "code",
   "execution_count": null,
   "metadata": {},
   "outputs": [],
   "source": []
  }
 ],
 "metadata": {
  "kernelspec": {
   "display_name": "Python 3",
   "language": "python",
   "name": "python3"
  },
  "language_info": {
   "codemirror_mode": {
    "name": "ipython",
    "version": 3
   },
   "file_extension": ".py",
   "mimetype": "text/x-python",
   "name": "python",
   "nbconvert_exporter": "python",
   "pygments_lexer": "ipython3",
   "version": "3.7.1"
  }
 },
 "nbformat": 4,
 "nbformat_minor": 2
}
