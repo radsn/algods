{
 "cells": [
  {
   "cell_type": "markdown",
   "metadata": {},
   "source": [
    "Given an array of positive numbers and a positive number ‘S,’ find the length of the smallest contiguous subarray whose sum is greater than or equal to ‘S’. Return 0 if no such subarray exists."
   ]
  },
  {
   "cell_type": "code",
   "execution_count": 1,
   "metadata": {},
   "outputs": [],
   "source": [
    "# O(N) time\n",
    "def smallestSubarraySum(arr, s):\n",
    "    minlength = float(\"inf\")\n",
    "    start = 0\n",
    "    windowsum = 0\n",
    "    for i in range(len(arr)):\n",
    "        windowsum += arr[i]\n",
    "        \n",
    "        while windowsum >= s and start < len(arr):\n",
    "            minlength = min(minlength, i - start + 1)\n",
    "            windowsum -= arr[start]\n",
    "            start += 1\n",
    "            \n",
    "    return minlength if minlength != float(\"inf\") else 0"
   ]
  },
  {
   "cell_type": "code",
   "execution_count": 2,
   "metadata": {},
   "outputs": [
    {
     "data": {
      "text/plain": [
       "2"
      ]
     },
     "execution_count": 2,
     "metadata": {},
     "output_type": "execute_result"
    }
   ],
   "source": [
    "arr = [2, 1, 5, 2, 3, 2]\n",
    "s = 7\n",
    "smallestSubarraySum(arr, s)"
   ]
  },
  {
   "cell_type": "code",
   "execution_count": 3,
   "metadata": {},
   "outputs": [
    {
     "data": {
      "text/plain": [
       "0"
      ]
     },
     "execution_count": 3,
     "metadata": {},
     "output_type": "execute_result"
    }
   ],
   "source": [
    "arr = [3, 4, 1, 1, 6]\n",
    "s = 0\n",
    "smallestSubarraySum(arr, s)"
   ]
  },
  {
   "cell_type": "markdown",
   "metadata": {},
   "source": [
    "sliding window size is not fixed<br>\n",
    "sliding window solution only works for POSITIVE numbers.<br>\n",
    "if negative numbers also present, cannot use sliding window (**leetcode Q560**)\n",
    "1. Add up elements from the beginning of the array until sum >= S\n",
    "2. these elements constitute our sliding window -- since asked to find smallest such window with sum >= S, store length as min so far.\n",
    "3. Keep adding one element in sliding window in a stepwise fashion.\n",
    "4. Also at each step, if sum >= S shrink window from beginning until window's sum is smaller than S again (while loop)."
   ]
  }
 ],
 "metadata": {
  "kernelspec": {
   "display_name": "Python 3",
   "language": "python",
   "name": "python3"
  },
  "language_info": {
   "codemirror_mode": {
    "name": "ipython",
    "version": 3
   },
   "file_extension": ".py",
   "mimetype": "text/x-python",
   "name": "python",
   "nbconvert_exporter": "python",
   "pygments_lexer": "ipython3",
   "version": "3.7.1"
  }
 },
 "nbformat": 4,
 "nbformat_minor": 2
}
