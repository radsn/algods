{
 "cells": [
  {
   "cell_type": "markdown",
   "metadata": {},
   "source": [
    "Given a string, find the length of the longest substring, which has no repeating characters."
   ]
  },
  {
   "cell_type": "markdown",
   "metadata": {},
   "source": [
    "bruteforce: \"unique\" keyword means think set()<br>\n",
    "generate all possible substrings and find the maxlength among the unique substrings"
   ]
  },
  {
   "cell_type": "code",
   "execution_count": 1,
   "metadata": {},
   "outputs": [],
   "source": [
    "# O(n^3) time | O(k) space len of set\n",
    "def longestUniqueSubstring(string):\n",
    "    maxlength = 0\n",
    "    for i in range(len(string)):\n",
    "        for j in range(len(string)):\n",
    "            if len(string[i:j+1]) == len(set(string[i:j+1])):\n",
    "                maxlength = max(maxlength, len(string[i:j+1]))\n",
    "    return maxlength"
   ]
  },
  {
   "cell_type": "markdown",
   "metadata": {},
   "source": [
    "- In brute force, repeatedly check each substring to see if it has duplicates. But this is unnecessary. If a substring $s_{ij}$, from index `i` to `j-1` is already checked to have no duplicates, then only need to check if `s[j]` in already in the substring.\n",
    "\n",
    "- To check if a char is already in the current substring, scan the entire substring leading to O(n^2) time.\n",
    "\n",
    "- Or do better by using hashmap as a sliding window, such that checking if a char is already in the current substring is O(1) time."
   ]
  },
  {
   "cell_type": "markdown",
   "metadata": {},
   "source": [
    "dynamic sliding window using hashmap to store chars in current window<br>\n",
    "1. until unique keep adding into hashmap and storing maxlength so far\n",
    "2. if already present in hashmap, shrink the window by incrementing start pointer until past the character already present (encountered first time). While shrinking, remove the characters from the hashmap.\n",
    "3. check the maxlength after removal (need to check maxlength in both if and else condition OR just if condition)"
   ]
  },
  {
   "cell_type": "code",
   "execution_count": 2,
   "metadata": {},
   "outputs": [],
   "source": [
    "# O(2n) time | O(k) space size of set\n",
    "def longestUniqueSubstring(string):\n",
    "    maxlength = 0\n",
    "    start = 0\n",
    "    d = {}\n",
    "    for i, char in enumerate(string):\n",
    "        if char not in d:\n",
    "            d[char] = 1\n",
    "        else:\n",
    "            while string[start] != char:\n",
    "                del d[string[start]]\n",
    "                start += 1\n",
    "            start += 1\n",
    "        maxlength = max(maxlength, i-start+1)\n",
    "    return maxlength "
   ]
  },
  {
   "cell_type": "markdown",
   "metadata": {},
   "source": [
    "or dynamic sliding window using hashset to store chars in current window --- set tells us whether a character exists or not<br>\n",
    "1. if not in set, add and slide the end pointer to the right\n",
    "2. stop when s[end] is already in set and store the maxlength so far\n",
    "3. increment start pointer to right and remove each char from set as incrementing until s[end] is no longer in set"
   ]
  },
  {
   "cell_type": "code",
   "execution_count": 3,
   "metadata": {},
   "outputs": [],
   "source": [
    "def longestUniqueSubstring(string):\n",
    "    maxlength = 0\n",
    "    start = 0\n",
    "    end = 0\n",
    "    d = set()\n",
    "    while start < len(string) and end < len(string):\n",
    "        if string[end] not in d:\n",
    "            d.add(string[end])\n",
    "            end += 1\n",
    "            maxlength = max(maxlength, end-start)\n",
    "        else:\n",
    "            d.remove(string[start])\n",
    "            start += 1\n",
    "    return maxlength"
   ]
  },
  {
   "cell_type": "code",
   "execution_count": 4,
   "metadata": {},
   "outputs": [
    {
     "data": {
      "text/plain": [
       "5"
      ]
     },
     "execution_count": 4,
     "metadata": {},
     "output_type": "execute_result"
    }
   ],
   "source": [
    "string = \"tmmzuxt\"\n",
    "longestUniqueSubstring(string)"
   ]
  },
  {
   "cell_type": "markdown",
   "metadata": {},
   "source": [
    "optimal sliding window<br>\n",
    "1. use hashmap to store the last index of each character processed.\n",
    "2. whenever encounter repeating character, shrink window by skipping chars such that only distinct characters inside window.<br>\n",
    "shinking via skipping all chars until past repeated character via `start=max(start, 1+d[char])`\n",
    "\n",
    "The reasoning is that if s[j] have duplicate in range [i,j) with index j', we don't need to increase i little by little. We can skip all the elemnts in the range [i,j'] and let i to be j'+1 directly."
   ]
  },
  {
   "cell_type": "code",
   "execution_count": 5,
   "metadata": {},
   "outputs": [],
   "source": [
    "# O(n) time | O(k) space\n",
    "def longestUniqueSubstring(string):\n",
    "    maxlength = 0\n",
    "    start = 0\n",
    "    d = {}\n",
    "    for i, char in enumerate(string):\n",
    "        if char not in d:\n",
    "            d[char] = i\n",
    "        else:\n",
    "            start = max(start, d[char]+1)\n",
    "            d[char] = i\n",
    "        maxlength = max(maxlength, i-start+1)\n",
    "    return maxlength"
   ]
  },
  {
   "cell_type": "code",
   "execution_count": 6,
   "metadata": {},
   "outputs": [],
   "source": [
    "#variant\n",
    "def longestUniqueSubstring(string):\n",
    "    maxlength = 0\n",
    "    start = 0\n",
    "    d = {}\n",
    "    for i, char in enumerate(string):\n",
    "        if char in d:\n",
    "            start = max(start, d[char]+1)\n",
    "        d[char] = i\n",
    "        maxlength = max(maxlength, i-start+1)\n",
    "    return maxlength"
   ]
  },
  {
   "cell_type": "code",
   "execution_count": 7,
   "metadata": {},
   "outputs": [
    {
     "data": {
      "text/plain": [
       "5"
      ]
     },
     "execution_count": 7,
     "metadata": {},
     "output_type": "execute_result"
    }
   ],
   "source": [
    "string = \"tmmzuxt\"\n",
    "longestUniqueSubstring(string)"
   ]
  }
 ],
 "metadata": {
  "kernelspec": {
   "display_name": "Python 3",
   "language": "python",
   "name": "python3"
  },
  "language_info": {
   "codemirror_mode": {
    "name": "ipython",
    "version": 3
   },
   "file_extension": ".py",
   "mimetype": "text/x-python",
   "name": "python",
   "nbconvert_exporter": "python",
   "pygments_lexer": "ipython3",
   "version": "3.7.1"
  }
 },
 "nbformat": 4,
 "nbformat_minor": 2
}
