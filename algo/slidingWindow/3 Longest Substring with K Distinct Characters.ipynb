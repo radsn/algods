{
 "cells": [
  {
   "cell_type": "markdown",
   "metadata": {},
   "source": [
    "Given a string, find the length of the longest substring in it with no more than K distinct characters."
   ]
  },
  {
   "cell_type": "code",
   "execution_count": 1,
   "metadata": {},
   "outputs": [],
   "source": [
    "# O(N) time | O(k) space\n",
    "def longestSubstring(string, k):\n",
    "    d = {}\n",
    "    maxlength = 0\n",
    "    start = 0\n",
    "    \n",
    "    for i, char in enumerate(string):\n",
    "        if char not in d:\n",
    "            d[char] = 1\n",
    "        else:\n",
    "            d[char] += 1\n",
    "    \n",
    "    while len(d) > k:\n",
    "        d[string[start]] -= 1\n",
    "        if d[string[start]] == 0:\n",
    "            del d[string[start]]\n",
    "        start += 1\n",
    "    \n",
    "    maxlength = max(maxlength, i - start + 1)\n",
    "    \n",
    "    return maxlength"
   ]
  },
  {
   "cell_type": "code",
   "execution_count": 2,
   "metadata": {},
   "outputs": [
    {
     "data": {
      "text/plain": [
       "5"
      ]
     },
     "execution_count": 2,
     "metadata": {},
     "output_type": "execute_result"
    }
   ],
   "source": [
    "string=\"cbbebi\"\n",
    "k=3\n",
    "longestSubstring(string, k)"
   ]
  },
  {
   "cell_type": "markdown",
   "metadata": {},
   "source": [
    "dynamic sliding window: using hashmap <br>\n",
    "1. insert characters from beginning of string until we have k distinct characters in hashmap.\n",
    "2. these characters will constitute sliding window - keep record of max length so far.\n",
    "3. keep adding one character in the sliding window in stepwise fashion.\n",
    "4. shrink the window from beginning if count of distinct characters in hashmap is larger than k.\n",
    "5. while shrinking, decrement character's frequency going out of the window and remove it from hashmap if its frequency becomes zero.\n",
    "6. at end of each step, check if current window length is longest so far."
   ]
  }
 ],
 "metadata": {
  "kernelspec": {
   "display_name": "Python 3",
   "language": "python",
   "name": "python3"
  },
  "language_info": {
   "codemirror_mode": {
    "name": "ipython",
    "version": 3
   },
   "file_extension": ".py",
   "mimetype": "text/x-python",
   "name": "python",
   "nbconvert_exporter": "python",
   "pygments_lexer": "ipython3",
   "version": "3.7.1"
  }
 },
 "nbformat": 4,
 "nbformat_minor": 2
}
