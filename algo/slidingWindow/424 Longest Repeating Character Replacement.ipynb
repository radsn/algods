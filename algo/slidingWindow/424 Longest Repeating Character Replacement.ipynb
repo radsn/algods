{
 "cells": [
  {
   "cell_type": "markdown",
   "metadata": {},
   "source": [
    "Given a string with lowercase letters only, if you are allowed to replace no more than ‘k’ letters with any letter, find the length of the longest substring having the same letters after replacement."
   ]
  },
  {
   "cell_type": "code",
   "execution_count": 1,
   "metadata": {},
   "outputs": [],
   "source": [
    "# time O(n) | O(26) = O(1) space\n",
    "def longestSubstringReplace(string, k):\n",
    "    maxlength = 0\n",
    "    start = 0\n",
    "    repeated = 0\n",
    "    d = {}\n",
    "    \n",
    "    for i, char in enumerate(string):\n",
    "        if char not in d:\n",
    "            d[char] = 1\n",
    "        else:\n",
    "            d[char] += 1\n",
    "        repeated = max(repeated, d[char])\n",
    "    \n",
    "        totallen = i-start+1\n",
    "        if totallen - repeated > k:\n",
    "            d[string[start]] -= 1\n",
    "            start += 1\n",
    "        \n",
    "        maxlength = max(maxlength, i-start+1)\n",
    "        \n",
    "    return maxlength"
   ]
  },
  {
   "cell_type": "markdown",
   "metadata": {},
   "source": [
    "to return the longest substring change the last bit:\n",
    "        \n",
    "        res = \"\"\n",
    "        if i-start+1 > maxlength:\n",
    "            maxlength = i-start+1\n",
    "            res = string[start:i+1]\n",
    "        return res\n",
    "        "
   ]
  },
  {
   "cell_type": "markdown",
   "metadata": {},
   "source": [
    "1. iterate thru the string to add one letter at a time in the window.\n",
    "2. track count of the max repeated letter in any window.\n",
    "3. at any time, we have window which has one letter repeated meaning others need to be replaced `totallen - repeated == k`\n",
    "4. if more than k remaining letters, shrink window -- note maintaining fixed window length of `repeated+k` length until the end, with repeated getting updated whenever it becomes bigger. (not using while loop instead using only if condition)\n",
    "\n",
    "note: no need to update repeated when shrinking window. The answer: in any window, since we have to replace all the remaining letters to get the longest substring having the same letter, we can’t get a better answer from any other window even though all occurrences of the letter with frequency repeated is not in the current window."
   ]
  },
  {
   "cell_type": "code",
   "execution_count": 2,
   "metadata": {},
   "outputs": [
    {
     "data": {
      "text/plain": [
       "5"
      ]
     },
     "execution_count": 2,
     "metadata": {},
     "output_type": "execute_result"
    }
   ],
   "source": [
    "longestSubstringReplace(\"aabccbb\", 2)"
   ]
  }
 ],
 "metadata": {
  "kernelspec": {
   "display_name": "Python 3",
   "language": "python",
   "name": "python3"
  },
  "language_info": {
   "codemirror_mode": {
    "name": "ipython",
    "version": 3
   },
   "file_extension": ".py",
   "mimetype": "text/x-python",
   "name": "python",
   "nbconvert_exporter": "python",
   "pygments_lexer": "ipython3",
   "version": "3.7.1"
  }
 },
 "nbformat": 4,
 "nbformat_minor": 2
}
