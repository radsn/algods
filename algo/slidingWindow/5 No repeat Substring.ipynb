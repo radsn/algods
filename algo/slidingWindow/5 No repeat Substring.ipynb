{
 "cells": [
  {
   "cell_type": "markdown",
   "metadata": {},
   "source": [
    "Given a string, find the length of the longest substring, which has no repeating characters."
   ]
  },
  {
   "cell_type": "markdown",
   "metadata": {},
   "source": [
    "bruteforce: \"unique\" keyword means think set()<br>\n",
    "generate all possible substrings and find the maxlength among the unique substrings"
   ]
  },
  {
   "cell_type": "code",
   "execution_count": 1,
   "metadata": {},
   "outputs": [],
   "source": [
    "# O(n^3) time | O(k) space len of set\n",
    "def longestUniqueSubstring(string):\n",
    "    maxlength = 0\n",
    "    for i in range(len(string)):\n",
    "        for j in range(len(string)):\n",
    "            if len(string[i:j+1]) == len(set(string[i:j+1])):\n",
    "                maxlength = max(maxlength, len(string[i:j+1]))\n",
    "    return maxlength"
   ]
  },
  {
   "cell_type": "markdown",
   "metadata": {},
   "source": [
    "dynamic sliding window using hashmap<br>\n",
    "1. until unique keep adding into hashmap and storing maxlength so far\n",
    "2. if already present in hashmap, shrink the window by incrementing start pointer until past the character already present (encountered first time). While shrinking, remove the characters from the hashmap.\n",
    "3. check the maxlength after removal (need to check maxlength in both if and else condition)"
   ]
  },
  {
   "cell_type": "code",
   "execution_count": 2,
   "metadata": {},
   "outputs": [],
   "source": [
    "# O(2n) time | O(k) space size of set\n",
    "def longestUniqueSubstring(string):\n",
    "    maxlength = 0\n",
    "    start = 0\n",
    "    d = {}\n",
    "    for i, char in enumerate(string):\n",
    "        if char not in d:\n",
    "            d[char] = 1\n",
    "        else:\n",
    "            while string[start] != char:\n",
    "                del d[string[start]]\n",
    "                start += 1\n",
    "            start += 1\n",
    "        maxlength = max(maxlength, i-start+1)\n",
    "    return maxlength "
   ]
  },
  {
   "cell_type": "code",
   "execution_count": 3,
   "metadata": {},
   "outputs": [
    {
     "data": {
      "text/plain": [
       "5"
      ]
     },
     "execution_count": 3,
     "metadata": {},
     "output_type": "execute_result"
    }
   ],
   "source": [
    "string = \"tmmzuxt\"\n",
    "longestUniqueSubstring(string)"
   ]
  },
  {
   "cell_type": "markdown",
   "metadata": {},
   "source": [
    "optimal sliding window<br>\n",
    "1. use hashmap to store the last index of each character processed.\n",
    "2. whenever encounter repeating character, shrink window by skipping chars such that only distinct characters inside window.<br>\n",
    "shinking via skipping all chars until past repeated character via `start=max(start, 1+d[char])`"
   ]
  },
  {
   "cell_type": "code",
   "execution_count": 4,
   "metadata": {},
   "outputs": [],
   "source": [
    "# O(n) time | O(k) space\n",
    "def longestUniqueSubstring(string):\n",
    "    maxlength = 0\n",
    "    start = 0\n",
    "    d = {}\n",
    "    for i, char in enumerate(string):\n",
    "        if char not in d:\n",
    "            d[char] = i\n",
    "        else:\n",
    "            start = max(start, d[char]+1)\n",
    "            d[char] = i\n",
    "        maxlength = max(maxlength, i-start+1)\n",
    "    return maxlength"
   ]
  },
  {
   "cell_type": "code",
   "execution_count": 5,
   "metadata": {},
   "outputs": [
    {
     "data": {
      "text/plain": [
       "5"
      ]
     },
     "execution_count": 5,
     "metadata": {},
     "output_type": "execute_result"
    }
   ],
   "source": [
    "string = \"tmmzuxt\"\n",
    "longestUniqueSubstring(string)"
   ]
  }
 ],
 "metadata": {
  "kernelspec": {
   "display_name": "Python 3",
   "language": "python",
   "name": "python3"
  },
  "language_info": {
   "codemirror_mode": {
    "name": "ipython",
    "version": 3
   },
   "file_extension": ".py",
   "mimetype": "text/x-python",
   "name": "python",
   "nbconvert_exporter": "python",
   "pygments_lexer": "ipython3",
   "version": "3.7.1"
  }
 },
 "nbformat": 4,
 "nbformat_minor": 2
}
