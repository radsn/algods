{
 "cells": [
  {
   "cell_type": "markdown",
   "metadata": {},
   "source": [
    "### Hint\n",
    "Traverse the input array, swapping all two adjacent elements that are out of order while keeping track of any swaps that you make (Boolean Flag).\n",
    "\n",
    "Once you arrive at the end of the array, check if you have made any swaps; if not, the array is sorted and return; otherwise, repeat all the steps again until the array is sorted.\n",
    "\n",
    "Optimization: in every loop, do not check through the entire array. Traverse through a decreasing range of array (since the highest number bubbles up to the end of the array and becomes fixed)."
   ]
  },
  {
   "cell_type": "code",
   "execution_count": 23,
   "metadata": {
    "scrolled": true
   },
   "outputs": [
    {
     "name": "stdout",
     "output_type": "stream",
     "text": [
      "6\n"
     ]
    }
   ],
   "source": [
    "arr = [1, 2, 3, 4, 5, 6]\n",
    "size = len(arr)\n",
    "print(size)"
   ]
  },
  {
   "cell_type": "code",
   "execution_count": 24,
   "metadata": {},
   "outputs": [
    {
     "data": {
      "text/plain": [
       "[6, 5, 4, 3, 2, 1]"
      ]
     },
     "execution_count": 24,
     "metadata": {},
     "output_type": "execute_result"
    }
   ],
   "source": [
    "list(range(size,0,-1))"
   ]
  },
  {
   "cell_type": "code",
   "execution_count": 25,
   "metadata": {},
   "outputs": [
    {
     "data": {
      "text/plain": [
       "[5, 4, 3, 2, 1, 0]"
      ]
     },
     "execution_count": 25,
     "metadata": {},
     "output_type": "execute_result"
    }
   ],
   "source": [
    "list(reversed(range(0,size)))"
   ]
  },
  {
   "cell_type": "code",
   "execution_count": 26,
   "metadata": {},
   "outputs": [
    {
     "data": {
      "text/plain": [
       "[5, 4, 3, 2, 1]"
      ]
     },
     "execution_count": 26,
     "metadata": {},
     "output_type": "execute_result"
    }
   ],
   "source": [
    "list(range(len(arr)-1 , 0 , -1))"
   ]
  },
  {
   "cell_type": "code",
   "execution_count": 27,
   "metadata": {},
   "outputs": [
    {
     "data": {
      "text/plain": [
       "[5, 4, 3, 2, 1]"
      ]
     },
     "execution_count": 27,
     "metadata": {},
     "output_type": "execute_result"
    }
   ],
   "source": [
    "list(reversed(range(1, len(arr))))"
   ]
  },
  {
   "cell_type": "code",
   "execution_count": 29,
   "metadata": {},
   "outputs": [],
   "source": [
    "def swap(idx1, idx2, array):\n",
    "    array[idx1], array[idx2] = array[idx2], array[idx1]"
   ]
  },
  {
   "cell_type": "code",
   "execution_count": 30,
   "metadata": {},
   "outputs": [],
   "source": [
    "arr = [8, 5, 2, 9, 5, 6, 3]"
   ]
  },
  {
   "cell_type": "code",
   "execution_count": 31,
   "metadata": {},
   "outputs": [],
   "source": [
    "# Naive way - not keeping track of sorted\n",
    "def BubbleSort1(arr):\n",
    "    for last in range(len(arr)-1, 0, -1):\n",
    "        for i in range(last):\n",
    "            if arr[i] > arr[i+1]:\n",
    "                swap(i, i+1, arr)\n",
    "    return arr"
   ]
  },
  {
   "cell_type": "code",
   "execution_count": 32,
   "metadata": {},
   "outputs": [],
   "source": [
    "def BubbleSort1(arr):\n",
    "    for last in reversed(range(1, len(arr))):\n",
    "        for i in range(last):\n",
    "            if arr[i] > arr[i+1]:\n",
    "                swap(i, i+1, arr)\n",
    "    return arr"
   ]
  },
  {
   "cell_type": "code",
   "execution_count": 36,
   "metadata": {},
   "outputs": [
    {
     "data": {
      "text/plain": [
       "[2, 3, 5, 5, 6, 8, 9]"
      ]
     },
     "execution_count": 36,
     "metadata": {},
     "output_type": "execute_result"
    }
   ],
   "source": [
    "BubbleSort1(arr)"
   ]
  },
  {
   "cell_type": "code",
   "execution_count": 34,
   "metadata": {},
   "outputs": [],
   "source": [
    "# boolean flag without optimization\n",
    "def BubbleSort2(arr):\n",
    "    isSorted = False\n",
    "    while not isSorted:\n",
    "        isSorted = True\n",
    "        for i in range(len(arr)-1):\n",
    "            if arr[i] > arr[i+1]:\n",
    "                swap(i, i+1, arr)\n",
    "                isSorted = False\n",
    "    return arr"
   ]
  },
  {
   "cell_type": "code",
   "execution_count": 35,
   "metadata": {},
   "outputs": [],
   "source": [
    "# boolean flag with optimization\n",
    "def BubbleSort2(arr):\n",
    "    isSorted = False\n",
    "    counter = 0\n",
    "    while not isSorted:\n",
    "        isSorted = True\n",
    "        for i in range(len(arr)-1 - counter):\n",
    "            if arr[i] > arr[i+1]:\n",
    "                swap(i, i+1, arr)\n",
    "                isSorted = False\n",
    "        counter -= 1\n",
    "    return arr"
   ]
  },
  {
   "cell_type": "code",
   "execution_count": 18,
   "metadata": {},
   "outputs": [
    {
     "data": {
      "text/plain": [
       "[2, 3, 5, 5, 6, 8, 9]"
      ]
     },
     "execution_count": 18,
     "metadata": {},
     "output_type": "execute_result"
    }
   ],
   "source": [
    "BubbleSort2(arr)"
   ]
  },
  {
   "cell_type": "code",
   "execution_count": 19,
   "metadata": {},
   "outputs": [],
   "source": [
    "# boolean flag with optimization\n",
    "def BubbleSort3(arr):\n",
    "    exchange = True\n",
    "    last = len(arr)-1\n",
    "    while exchange and last>0:\n",
    "        exchange = False\n",
    "        for i in range(last):\n",
    "            if arr[i] > arr[i+1]:\n",
    "                swap(i, i+1, arr)\n",
    "                exchange = True\n",
    "        last -= 1\n",
    "    return arr"
   ]
  },
  {
   "cell_type": "code",
   "execution_count": 20,
   "metadata": {
    "scrolled": true
   },
   "outputs": [
    {
     "data": {
      "text/plain": [
       "[2, 3, 5, 5, 6, 8, 9]"
      ]
     },
     "execution_count": 20,
     "metadata": {},
     "output_type": "execute_result"
    }
   ],
   "source": [
    "BubbleSort3(arr)"
   ]
  }
 ],
 "metadata": {
  "kernelspec": {
   "display_name": "Python 3",
   "language": "python",
   "name": "python3"
  },
  "language_info": {
   "codemirror_mode": {
    "name": "ipython",
    "version": 3
   },
   "file_extension": ".py",
   "mimetype": "text/x-python",
   "name": "python",
   "nbconvert_exporter": "python",
   "pygments_lexer": "ipython3",
   "version": "3.7.1"
  }
 },
 "nbformat": 4,
 "nbformat_minor": 2
}
