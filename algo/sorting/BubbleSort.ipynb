{
 "cells": [
  {
   "cell_type": "markdown",
   "metadata": {},
   "source": [
    "Traverse the input array, swapping all two adjacent elements that are out of order while keeping track of any swaps that you make (Boolean Flag).\n",
    "\n",
    "Once you arrive at the end of the array, check if you have made any swaps; if not, the array is sorted and return; otherwise, repeat all the steps again until the array is sorted.\n",
    "\n",
    "Optimization: in every loop, do not check through the entire array. Traverse through a decreasing range of array (since the highest number bubbles up to the end of the array and becomes fixed)."
   ]
  },
  {
   "cell_type": "markdown",
   "metadata": {},
   "source": [
    "Best case : O(n) - container is already sorted (if boolean flag used)\n",
    "\n",
    "Worst case: O($n^2$) - container in reverse order\n",
    "\n",
    "Avg case  : O($n^2$)\n",
    "\n",
    "Space: O(1) inplace"
   ]
  },
  {
   "cell_type": "raw",
   "metadata": {},
   "source": [
    "#scan the array from right to left, and bubble up the minimum to the left by repeated exchanges.\n",
    "Repeat n times:\n",
    "    While scanning the array from right to left:\n",
    "        if A[i-1] > A[i], swap them"
   ]
  },
  {
   "cell_type": "code",
   "execution_count": 1,
   "metadata": {},
   "outputs": [],
   "source": [
    "arr = [1, 2, 3, 4, 5, 6]\n",
    "size = len(arr)\n",
    "print(size)"
   ]
  },
  {
   "cell_type": "code",
   "execution_count": 2,
   "metadata": {},
   "outputs": [],
   "source": [
    "list(range(size,0,-1))"
   ]
  },
  {
   "cell_type": "code",
   "execution_count": 3,
   "metadata": {},
   "outputs": [],
   "source": [
    "list(reversed(range(0,size)))"
   ]
  },
  {
   "cell_type": "code",
   "execution_count": 4,
   "metadata": {},
   "outputs": [],
   "source": [
    "list(range(len(arr)-1 , 0 , -1))"
   ]
  },
  {
   "cell_type": "code",
   "execution_count": 5,
   "metadata": {},
   "outputs": [
    {
     "data": {
      "text/plain": [
       "[5, 4, 3, 2, 1]"
      ]
     },
     "execution_count": 5,
     "metadata": {},
     "output_type": "execute_result"
    }
   ],
   "source": [
    "list(reversed(range(1, len(arr))))"
   ]
  },
  {
   "cell_type": "code",
   "execution_count": 6,
   "metadata": {},
   "outputs": [],
   "source": [
    "def swap(idx1, idx2, array):\n",
    "    array[idx1], array[idx2] = array[idx2], array[idx1]"
   ]
  },
  {
   "cell_type": "code",
   "execution_count": 7,
   "metadata": {},
   "outputs": [],
   "source": [
    "arr = [8, 5, 2, 9, 5, 6, 3]"
   ]
  },
  {
   "cell_type": "markdown",
   "metadata": {},
   "source": [
    "************************************************************************"
   ]
  },
  {
   "cell_type": "code",
   "execution_count": 8,
   "metadata": {},
   "outputs": [],
   "source": [
    "# scan right to left - bubble up the maximum element to the end\n",
    "def BubbleSort0(array):\n",
    "    for i in range(len(array)):\n",
    "        for j in range(len(array)-1):\n",
    "            if array[j] > array[j+1]:\n",
    "                swap(j,j+1,array)\n",
    "    return array"
   ]
  },
  {
   "cell_type": "code",
   "execution_count": 9,
   "metadata": {},
   "outputs": [],
   "source": [
    "# same as above but with boolean flag while loop - check if sorted \n",
    "def BubbleSort0(arr):\n",
    "    isSorted = False\n",
    "    while not isSorted:\n",
    "        isSorted = True\n",
    "        for i in range(len(arr)-1):\n",
    "            if arr[i] > arr[i+1]:\n",
    "                swap(i, i+1, arr)\n",
    "                isSorted = False\n",
    "    return arr"
   ]
  },
  {
   "cell_type": "code",
   "execution_count": 10,
   "metadata": {},
   "outputs": [],
   "source": [
    "# same as above but with boolean flag while loop + optimization\n",
    "def BubbleSort0(arr):\n",
    "    isSorted = False\n",
    "    counter = 0\n",
    "    while not isSorted:\n",
    "        isSorted = True\n",
    "        for i in range(len(arr)-1 - counter):\n",
    "            if arr[i] > arr[i+1]:\n",
    "                swap(i, i+1, arr)\n",
    "                isSorted = False\n",
    "        counter += 1\n",
    "    return arr"
   ]
  },
  {
   "cell_type": "code",
   "execution_count": 11,
   "metadata": {},
   "outputs": [
    {
     "data": {
      "text/plain": [
       "[2, 3, 5, 5, 6, 8, 9]"
      ]
     },
     "execution_count": 11,
     "metadata": {},
     "output_type": "execute_result"
    }
   ],
   "source": [
    "BubbleSort0(arr)"
   ]
  },
  {
   "cell_type": "markdown",
   "metadata": {},
   "source": [
    "************************************************************************"
   ]
  },
  {
   "cell_type": "code",
   "execution_count": 12,
   "metadata": {},
   "outputs": [],
   "source": [
    "def bubbleSort1(arr):\n",
    "    for start in range(len(arr)):\n",
    "        for i in range(len(arr)-1,start,-1):\n",
    "            if arr[i-1] > arr[i]:\n",
    "                swap(i,i-1,arr)\n",
    "    return arr"
   ]
  },
  {
   "cell_type": "code",
   "execution_count": 13,
   "metadata": {},
   "outputs": [
    {
     "data": {
      "text/plain": [
       "[2, 3, 5, 5, 6, 8, 9]"
      ]
     },
     "execution_count": 13,
     "metadata": {},
     "output_type": "execute_result"
    }
   ],
   "source": [
    "bubbleSort1(arr)"
   ]
  },
  {
   "cell_type": "code",
   "execution_count": 14,
   "metadata": {},
   "outputs": [],
   "source": [
    "# Naive way - not keeping track of sorted\n",
    "def BubbleSort2(arr):\n",
    "    for last in range(len(arr)-1, 0, -1):\n",
    "        for i in range(last):\n",
    "            if arr[i] > arr[i+1]:\n",
    "                swap(i, i+1, arr)\n",
    "    return arr"
   ]
  },
  {
   "cell_type": "code",
   "execution_count": 15,
   "metadata": {},
   "outputs": [],
   "source": [
    "def BubbleSort2(arr):\n",
    "    for last in reversed(range(1, len(arr))):\n",
    "        for i in range(last):\n",
    "            if arr[i] > arr[i+1]:\n",
    "                swap(i, i+1, arr)\n",
    "    return arr"
   ]
  },
  {
   "cell_type": "code",
   "execution_count": 16,
   "metadata": {},
   "outputs": [
    {
     "data": {
      "text/plain": [
       "[2, 3, 5, 5, 6, 8, 9]"
      ]
     },
     "execution_count": 16,
     "metadata": {},
     "output_type": "execute_result"
    }
   ],
   "source": [
    "BubbleSort2(arr)"
   ]
  },
  {
   "cell_type": "code",
   "execution_count": 17,
   "metadata": {},
   "outputs": [],
   "source": [
    "# boolean flag with optimization\n",
    "def BubbleSort3(arr):\n",
    "    exchange = True\n",
    "    last = len(arr)-1\n",
    "    while exchange and last>0:\n",
    "        exchange = False\n",
    "        for i in range(last):\n",
    "            if arr[i] > arr[i+1]:\n",
    "                swap(i, i+1, arr)\n",
    "                exchange = True\n",
    "        last -= 1\n",
    "    return arr"
   ]
  },
  {
   "cell_type": "code",
   "execution_count": 18,
   "metadata": {
    "scrolled": true
   },
   "outputs": [
    {
     "data": {
      "text/plain": [
       "[2, 3, 5, 5, 6, 8, 9]"
      ]
     },
     "execution_count": 18,
     "metadata": {},
     "output_type": "execute_result"
    }
   ],
   "source": [
    "BubbleSort3(arr)"
   ]
  }
 ],
 "metadata": {
  "kernelspec": {
   "display_name": "Python 3",
   "language": "python",
   "name": "python3"
  },
  "language_info": {
   "codemirror_mode": {
    "name": "ipython",
    "version": 3
   },
   "file_extension": ".py",
   "mimetype": "text/x-python",
   "name": "python",
   "nbconvert_exporter": "python",
   "pygments_lexer": "ipython3",
   "version": "3.7.1"
  }
 },
 "nbformat": 4,
 "nbformat_minor": 2
}
