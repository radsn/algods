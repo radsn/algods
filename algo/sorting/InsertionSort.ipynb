{
 "cells": [
  {
   "cell_type": "markdown",
   "metadata": {},
   "source": [
    "Divide the input array into two subarrays in place\n",
    "    - first subarray should be sorted at all times and start with a length of 1\n",
    "    - second subarray should be unsorted starting at `i=1`\n",
    "Iterate through the entire unsorted subarray `i=1 to lastIdx`, inserting all of its elements into the sorted subarray in the correct position by (note: check the unsorted element with the last left element and continue checking thru entire left if unsorted element is less)\n",
    "    - swapping them inplace \n",
    "    - or shifting elements to the right and at last step rewrite value at correct position"
   ]
  },
  {
   "cell_type": "markdown",
   "metadata": {},
   "source": [
    "Best case : O(n) - container is already sorted (does not enter while loop)\n",
    "\n",
    "Worst case: O($n^2$) - container in reverse order\n",
    "\n",
    "Avg case  : O($n^2$)\n",
    "\n",
    "Space: O(1) inplace"
   ]
  },
  {
   "cell_type": "code",
   "execution_count": 1,
   "metadata": {},
   "outputs": [],
   "source": [
    "array = [8, 5, 2, 9, 5, 6, 3]"
   ]
  },
  {
   "cell_type": "code",
   "execution_count": 2,
   "metadata": {},
   "outputs": [],
   "source": [
    "def swap(idx1, idx2, arr):\n",
    "    arr[idx1], arr[idx2] = arr[idx2], arr[idx1]"
   ]
  },
  {
   "cell_type": "code",
   "execution_count": 3,
   "metadata": {},
   "outputs": [],
   "source": [
    "# swap multiple times\n",
    "def insertionSort1(array):\n",
    "    for i in range(1, len(array)): #unsorted portion\n",
    "        j = i\n",
    "        while j>0 and array[j] < array[j-1]:\n",
    "            swap(j, j-1, array)\n",
    "            j -= 1\n",
    "    return array"
   ]
  },
  {
   "cell_type": "code",
   "execution_count": 4,
   "metadata": {},
   "outputs": [
    {
     "data": {
      "text/plain": [
       "[2, 3, 5, 5, 6, 8, 9]"
      ]
     },
     "execution_count": 4,
     "metadata": {},
     "output_type": "execute_result"
    }
   ],
   "source": [
    "insertionSort1(array)"
   ]
  },
  {
   "cell_type": "code",
   "execution_count": 5,
   "metadata": {},
   "outputs": [],
   "source": [
    "# shifting elements to the right\n",
    "def insertionSort2(array):\n",
    "    for i in range(1, len(array)):\n",
    "        temp = array[i]  #store unsorted element value\n",
    "        j = i\n",
    "        while j > 0 and temp < array[j-1]:\n",
    "            array[j] = array[j-1]\n",
    "            j -=1\n",
    "        array[j] = temp\n",
    "    return array"
   ]
  },
  {
   "cell_type": "code",
   "execution_count": 6,
   "metadata": {},
   "outputs": [
    {
     "data": {
      "text/plain": [
       "[2, 3, 5, 5, 6, 8, 9]"
      ]
     },
     "execution_count": 6,
     "metadata": {},
     "output_type": "execute_result"
    }
   ],
   "source": [
    "insertionSort2(array)"
   ]
  }
 ],
 "metadata": {
  "kernelspec": {
   "display_name": "Python 3",
   "language": "python",
   "name": "python3"
  },
  "language_info": {
   "codemirror_mode": {
    "name": "ipython",
    "version": 3
   },
   "file_extension": ".py",
   "mimetype": "text/x-python",
   "name": "python",
   "nbconvert_exporter": "python",
   "pygments_lexer": "ipython3",
   "version": "3.7.1"
  }
 },
 "nbformat": 4,
 "nbformat_minor": 2
}
