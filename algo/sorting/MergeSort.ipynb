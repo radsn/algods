{
 "cells": [
  {
   "cell_type": "markdown",
   "metadata": {},
   "source": [
    "**Divide and Conquer:** divides input arrays into two halves based on midpoint, recursively calls for the two halves and then merges the two sorted halves."
   ]
  },
  {
   "cell_type": "code",
   "execution_count": 1,
   "metadata": {},
   "outputs": [],
   "source": [
    "# returns a new sorted auxillary array\n",
    "def mergeSort(nums):\n",
    "    if len(nums) <= 1: \n",
    "        return nums \n",
    "    mid = len(nums)//2\n",
    "    left = mergeSort(nums[:mid])\n",
    "    right = mergeSort(nums[mid:])\n",
    "    return merge(left, right)    "
   ]
  },
  {
   "cell_type": "code",
   "execution_count": 2,
   "metadata": {},
   "outputs": [],
   "source": [
    "def mergeSort(nums):\n",
    "    return mergeSortHelper(0, len(nums)-1, nums)\n",
    "\n",
    "def mergeSortHelper(start, end, nums):\n",
    "    if start >= end:\n",
    "        return nums[start:start+1]\n",
    "    mid = (start + end) // 2\n",
    "    left = mergeSortHelper(start, mid, nums)\n",
    "    right = mergeSortHelper(mid+1, end, nums)\n",
    "    return merge(left, right)"
   ]
  },
  {
   "cell_type": "code",
   "execution_count": 3,
   "metadata": {},
   "outputs": [],
   "source": [
    "def merge(left, right):\n",
    "    l = 0\n",
    "    r = 0\n",
    "    aux = []\n",
    "    while l < len(left) and r < len(right):\n",
    "        if left[l] <= right[r]:\n",
    "            aux.append(left[l])\n",
    "            l+=1\n",
    "        else:\n",
    "            aux.append(right[r])\n",
    "            r+=1\n",
    "    while l < len(left):\n",
    "        aux.append(left[l])\n",
    "        l+=1\n",
    "    while r < len(right):\n",
    "        aux.append(right[r])\n",
    "        r+=1\n",
    "    return aux"
   ]
  },
  {
   "cell_type": "code",
   "execution_count": 4,
   "metadata": {},
   "outputs": [
    {
     "data": {
      "text/plain": [
       "[5, 6, 7, 11, 12, 13]"
      ]
     },
     "execution_count": 4,
     "metadata": {},
     "output_type": "execute_result"
    }
   ],
   "source": [
    "arr = [12,11,13,5,6,7]\n",
    "mergeSort(arr)"
   ]
  },
  {
   "cell_type": "markdown",
   "metadata": {},
   "source": [
    "***"
   ]
  },
  {
   "cell_type": "code",
   "execution_count": 5,
   "metadata": {},
   "outputs": [],
   "source": [
    "# overwrites the original input as sorted\n",
    "def mergeSort(arr):\n",
    "    if len(arr) > 1:\n",
    "        mid = len(arr) // 2\n",
    "        left = arr[:mid]\n",
    "        right = arr[mid:]\n",
    "        mergeSort(left)\n",
    "        mergeSort(right)\n",
    "\n",
    "        l = 0\n",
    "        r = 0\n",
    "        k = 0\n",
    "\n",
    "        # overwrites sorted on the smaller subarray arr\n",
    "        while l < len(left) and r < len(right):\n",
    "            if left[l] <= right[r]:\n",
    "                arr[k] = left[l]\n",
    "                l+=1\n",
    "            elif left[l] > right[r]:\n",
    "                arr[k] = right[r]\n",
    "                r+=1\n",
    "            k+=1\n",
    "        while l < len(left):\n",
    "            arr[k] = left[l]\n",
    "            l+=1\n",
    "            k+=1\n",
    "        while r < len(right):\n",
    "            arr[k] = right[r]\n",
    "            r+=1\n",
    "            k+=1"
   ]
  },
  {
   "cell_type": "code",
   "execution_count": 6,
   "metadata": {},
   "outputs": [
    {
     "data": {
      "text/plain": [
       "[5, 6, 7, 11, 12, 13]"
      ]
     },
     "execution_count": 6,
     "metadata": {},
     "output_type": "execute_result"
    }
   ],
   "source": [
    "arr = [12,11,13,5,6,7]\n",
    "mergeSort(arr)\n",
    "arr"
   ]
  },
  {
   "cell_type": "markdown",
   "metadata": {},
   "source": [
    "***"
   ]
  },
  {
   "cell_type": "code",
   "execution_count": 7,
   "metadata": {},
   "outputs": [],
   "source": [
    "def mergeSort(nums):\n",
    "    return mergeSortHelper(0, len(nums)-1, nums)\n",
    "\n",
    "def mergeSortHelper(start, end, nums):\n",
    "    if start >= end:\n",
    "        return nums\n",
    "    mid = (start + end) // 2\n",
    "    mergeSortHelper(start, mid, nums)\n",
    "    mergeSortHelper(mid+1, end, nums)\n",
    "    merge(start, mid, end, nums)\n",
    "    return nums\n",
    "\n",
    "def merge(start, mid, end, nums):\n",
    "    l = start\n",
    "    r = mid+1\n",
    "    aux = []\n",
    "    while l <= mid and r <= end:\n",
    "        if nums[l] <= nums[r]:\n",
    "            aux.append(nums[l])\n",
    "            l+=1\n",
    "        else:\n",
    "            aux.append(nums[r])\n",
    "            r+=1\n",
    "    while l <= mid:\n",
    "        aux.append(nums[l])\n",
    "        l+=1\n",
    "    while r <= end:\n",
    "        aux.append(nums[r])\n",
    "        r+=1\n",
    "    nums[start:end+1] = aux"
   ]
  },
  {
   "cell_type": "code",
   "execution_count": 8,
   "metadata": {},
   "outputs": [
    {
     "name": "stdout",
     "output_type": "stream",
     "text": [
      "[5, 6, 7, 11, 12, 13]\n"
     ]
    }
   ],
   "source": [
    "arr = [12,11,13,5,6,7]\n",
    "print(mergeSort(arr))"
   ]
  },
  {
   "cell_type": "markdown",
   "metadata": {},
   "source": [
    "***"
   ]
  },
  {
   "cell_type": "code",
   "execution_count": 9,
   "metadata": {},
   "outputs": [],
   "source": [
    "def mergeSort(array):\n",
    "    # Write your code here.\n",
    "    return helper(array, 0, len(array)-1)\n",
    "\n",
    "def helper(subarray, start, end):\n",
    "    if start >= end:\n",
    "        return subarray\n",
    "    # divide into 2 subproblems\n",
    "    mid = (start + end) // 2\n",
    "    helper(subarray, start, mid)\n",
    "    helper(subarray, mid+1, end)\n",
    "    # merge 2 subproblems\n",
    "    i=start\n",
    "    j=mid+1\n",
    "    aux = []\n",
    "    while i<=mid and j<=end:\n",
    "        if subarray[i] <= subarray[j]:\n",
    "            aux.append(subarray[i])\n",
    "            i+=1\n",
    "        else:\n",
    "            aux.append(subarray[j])\n",
    "            j+=1\n",
    "    while i<=mid:\n",
    "        aux.append(subarray[i])\n",
    "        i+=1\n",
    "    while j<=end:\n",
    "        aux.append(subarray[j])\n",
    "        j+=1\n",
    "    subarray[start:end+1] = aux  # copy from aux into original array\n",
    "    return subarray"
   ]
  },
  {
   "cell_type": "code",
   "execution_count": 10,
   "metadata": {},
   "outputs": [
    {
     "name": "stdout",
     "output_type": "stream",
     "text": [
      "[5, 6, 7, 11, 12, 13]\n"
     ]
    }
   ],
   "source": [
    "arr = [12,11,13,5,6,7]\n",
    "print(mergeSort(arr))"
   ]
  }
 ],
 "metadata": {
  "kernelspec": {
   "display_name": "Python 3 (ipykernel)",
   "language": "python",
   "name": "python3"
  },
  "language_info": {
   "codemirror_mode": {
    "name": "ipython",
    "version": 3
   },
   "file_extension": ".py",
   "mimetype": "text/x-python",
   "name": "python",
   "nbconvert_exporter": "python",
   "pygments_lexer": "ipython3",
   "version": "3.8.2"
  }
 },
 "nbformat": 4,
 "nbformat_minor": 2
}
