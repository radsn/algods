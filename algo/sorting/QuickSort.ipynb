{
 "cells": [
  {
   "cell_type": "markdown",
   "metadata": {},
   "source": [
    "Partition array based on a pivot value: \"less than pivotVal\" <-> \"pivotVal\" <-> \"greater than pivotVal\"\n",
    "\n",
    "Pick a pivotIdx (pick 0) - if picked at random, always swap with index0 and put pivotVal at `i=0`\n",
    "\n",
    "Iterate through the rest of the array using two pointers, left at `i=1` and right at `i=end`\n",
    "\n",
    "Compare each left value and right value to the pivot value until left passes right `left <= right`\n",
    "\n",
    "Position pivotVal at final position: swap values at pivotIdx with rightIdx\n",
    "\n",
    "Divide and Conquer: pick pivot (i=0) on the respective left subarray and right subarray and repeat the process until input array is fully sorted\n",
    "\n",
    "Base case: `if startIdx >= endIdx: return` (only one element is already sorted)\n",
    "\n",
    "`quicksorthelper(array, startIdx, pivotIdx-1)` recursively call quicksort on left subarray\n",
    "\n",
    "`quicksorthelper(array, pivotIdx+1, endIdx)`   recursively call quicksort on right subarray\n"
   ]
  },
  {
   "cell_type": "markdown",
   "metadata": {},
   "source": [
    "#### Pseudocode"
   ]
  },
  {
   "cell_type": "raw",
   "metadata": {},
   "source": [
    "QuickSort(A):\n",
    "    if len(A) <= 1: return \n",
    "    Pick pivotIdx = A[i] at random\n",
    "    PARTITION the rest of A into: \n",
    "        L(less than pivotVal)\n",
    "        R(greater than pivotVal)\n",
    "    Replace A with [L, pivot, R]\n",
    "    QuickSort(L)\n",
    "    QuickSort(R)"
   ]
  },
  {
   "cell_type": "markdown",
   "metadata": {},
   "source": [
    "#### Complexity Analysis\n",
    "\n",
    "Best case : O(nlogn)\n",
    "- if pivot partitions the array into equal-sized parts, then total log(n) calls of quicksort until size of subarrays is 1\n",
    "- every call of quicksort takes O(n) time - left and right pointer iterate thru all elements in each subarray\n",
    "\n",
    "Worst case: O($n^2$)\n",
    "- if pivot chosen is the largest or smallest value in the array (so partition creates one subarray of size 1 and other subarray of size n-1)\n",
    "- if array is sorted, reverse sorted, or nearly sorted\n",
    "\n",
    "Avg case : O(nlogn)\n",
    "\n",
    "Space: O(logn) frames on call stack"
   ]
  },
  {
   "cell_type": "code",
   "execution_count": 6,
   "metadata": {},
   "outputs": [],
   "source": [
    "def quickSort(array):\n",
    "    quickSortHelper(array, 0, len(array)-1) #call on entire array\n",
    "    return array\n",
    "    \n",
    "def quickSortHelper(array, startIdx, endIdx):\n",
    "    if startIdx < endIdx:\n",
    "        pivotIdx = partition(array, startIdx, endIdx)\n",
    "        quickSortHelper(array, startIdx, pivotIdx-1)\n",
    "        quickSortHelper(array, pivotIdx+1, endIdx)\n",
    "\n",
    "# two-pointer approach to partition the array based on pivotVal\n",
    "def partition(array, startIdx, endIdx):\n",
    "    pivotIdx = startIdx\n",
    "    leftIdx = startIdx+1\n",
    "    rightIdx = len(array)-1\n",
    "    while leftIdx <= rightIdx:\n",
    "        if array[leftIdx] > array[pivotIdx] and array[rightIdx] < array[pivotIdx]:\n",
    "            swap(leftIdx, rightIdx, array)\n",
    "        if array[leftIdx] <= array[pivotIdx]:\n",
    "            leftIdx += 1\n",
    "        if array[rightIdx] >= array[pivotIdx]:\n",
    "            rightIdx -= 1\n",
    "    swap(rightIdx, pivotIdx, array)\n",
    "    return rightIdx  #location of final position of pivot\n",
    "\n",
    "def swap(i, j, array):\n",
    "    array[i], array[j] = array[j], array[i]"
   ]
  },
  {
   "cell_type": "code",
   "execution_count": 7,
   "metadata": {},
   "outputs": [
    {
     "data": {
      "text/plain": [
       "[2, 3, 5, 5, 6, 8, 9]"
      ]
     },
     "execution_count": 7,
     "metadata": {},
     "output_type": "execute_result"
    }
   ],
   "source": [
    "array = [8,5,2,9,5,6,3]\n",
    "quickSort(array)"
   ]
  }
 ],
 "metadata": {
  "kernelspec": {
   "display_name": "Python 3",
   "language": "python",
   "name": "python3"
  },
  "language_info": {
   "codemirror_mode": {
    "name": "ipython",
    "version": 3
   },
   "file_extension": ".py",
   "mimetype": "text/x-python",
   "name": "python",
   "nbconvert_exporter": "python",
   "pygments_lexer": "ipython3",
   "version": "3.7.1"
  }
 },
 "nbformat": 4,
 "nbformat_minor": 2
}
