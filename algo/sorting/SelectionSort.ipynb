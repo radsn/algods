{
 "cells": [
  {
   "cell_type": "markdown",
   "metadata": {},
   "source": [
    "Divide the input array into two subarrays inplace = one is sorted; other is unsorted.\n",
    "\n",
    "Think of starting with completly unsorted array at  `i=0`  - find the smallest (or largest) element in the unsorted subarray starting at  `j=i+1`  and insert into sorted array with a swap.\n",
    "\n",
    "Repeat this process of finding the smallest (or largest) element in the unsorted array and insert it in its correct position in the sorted subarray with a swap until the entire array is sorted.\n",
    "\n",
    "Optimization: consider the unsorted array as 1 less than last index (just one number will always be sorted)."
   ]
  },
  {
   "cell_type": "markdown",
   "metadata": {},
   "source": [
    "Best case : O($n^2$)\n",
    "\n",
    "Worst case: O($n^2$)\n",
    "\n",
    "Avg case  : O($n^2$)\n",
    "\n",
    "Space: O(1) inplace"
   ]
  },
  {
   "cell_type": "code",
   "execution_count": 1,
   "metadata": {},
   "outputs": [],
   "source": [
    "def swap(idx1, idx2, array):\n",
    "    array[idx1], array[idx2] = array[idx2], array[idx1]"
   ]
  },
  {
   "cell_type": "code",
   "execution_count": 2,
   "metadata": {},
   "outputs": [],
   "source": [
    "arr = [8, 5, 2, 9, 5, 6, 3]"
   ]
  },
  {
   "cell_type": "code",
   "execution_count": 3,
   "metadata": {},
   "outputs": [],
   "source": [
    "def selectionSort1(array):\n",
    "    for i in range(len(array) - 1):\n",
    "        minIdx = i\n",
    "        for j in range(i+1, len(array)):\n",
    "            if array[minIdx] > array[j]:\n",
    "                minIdx = j\n",
    "        swap(i, minIdx, array)\n",
    "    return array"
   ]
  },
  {
   "cell_type": "code",
   "execution_count": 4,
   "metadata": {},
   "outputs": [
    {
     "data": {
      "text/plain": [
       "[2, 3, 5, 5, 6, 8, 9]"
      ]
     },
     "execution_count": 4,
     "metadata": {},
     "output_type": "execute_result"
    }
   ],
   "source": [
    "selectionSort1(arr)"
   ]
  },
  {
   "cell_type": "code",
   "execution_count": 5,
   "metadata": {},
   "outputs": [],
   "source": [
    "def selectionSort2(array):\n",
    "    i = 0\n",
    "    while i < len(array)-1:\n",
    "        minIdx = i\n",
    "        for j in range(i+1, len(array)):\n",
    "            if array[minIdx] > array[j]:\n",
    "                minIdx = j\n",
    "        swap(i, minIdx, array)\n",
    "        i += 1\n",
    "    return array"
   ]
  },
  {
   "cell_type": "code",
   "execution_count": 6,
   "metadata": {},
   "outputs": [
    {
     "data": {
      "text/plain": [
       "[2, 3, 5, 5, 6, 8, 9]"
      ]
     },
     "execution_count": 6,
     "metadata": {},
     "output_type": "execute_result"
    }
   ],
   "source": [
    "selectionSort2(arr)"
   ]
  }
 ],
 "metadata": {
  "kernelspec": {
   "display_name": "Python 3",
   "language": "python",
   "name": "python3"
  },
  "language_info": {
   "codemirror_mode": {
    "name": "ipython",
    "version": 3
   },
   "file_extension": ".py",
   "mimetype": "text/x-python",
   "name": "python",
   "nbconvert_exporter": "python",
   "pygments_lexer": "ipython3",
   "version": "3.7.1"
  }
 },
 "nbformat": 4,
 "nbformat_minor": 2
}
