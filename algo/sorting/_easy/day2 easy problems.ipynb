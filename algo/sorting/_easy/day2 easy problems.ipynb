{
 "cells": [
  {
   "cell_type": "markdown",
   "metadata": {},
   "source": [
    "### 26 Remove Duplicates from Sorted Array\n",
    "Given a sorted array nums, remove duplicates in-place such that element appears only once and return the new length."
   ]
  },
  {
   "cell_type": "code",
   "execution_count": 1,
   "metadata": {},
   "outputs": [],
   "source": [
    "# O(n) time | O(1) space\n",
    "def removeDuplicates(nums):\n",
    "    slow = 0\n",
    "    for fast in range(1, len(nums)):\n",
    "        if nums[fast] != nums[slow]:\n",
    "            slow += 1\n",
    "            nums[slow] = nums[fast]\n",
    "    return len(nums[0:slow+1])"
   ]
  },
  {
   "cell_type": "code",
   "execution_count": 2,
   "metadata": {},
   "outputs": [
    {
     "name": "stdout",
     "output_type": "stream",
     "text": [
      "2\n",
      "5\n"
     ]
    }
   ],
   "source": [
    "nums1 = [1,1,2]\n",
    "nums2 = [0,0,1,1,1,2,2,3,3,4]\n",
    "print(removeDuplicates(nums1))\n",
    "print(removeDuplicates(nums2))"
   ]
  },
  {
   "cell_type": "markdown",
   "metadata": {},
   "source": [
    " **takeaway:** Since the array is already sorted, use two-pointer approach with slow and fast.\n",
    "- if nums[slow]==nums[fast], increment fast to skip duplicates\n",
    "- if nums[slow]!=nums[fast], duplicate run has ended so copy its value in nums[slow+1]\n",
    "\n",
    "repeat until fast traverses until end of array"
   ]
  },
  {
   "cell_type": "markdown",
   "metadata": {},
   "source": [
    "### 905 Sort Array by Parity\n",
    "Return array consisting of all even elements followed by all odd elements."
   ]
  },
  {
   "cell_type": "code",
   "execution_count": 3,
   "metadata": {},
   "outputs": [],
   "source": [
    "# use custom comparator: O(nlogn) time\n",
    "def sortArrayByParity(nums):\n",
    "    nums.sort(key = lambda x: x%2)\n",
    "    return nums"
   ]
  },
  {
   "cell_type": "code",
   "execution_count": 4,
   "metadata": {},
   "outputs": [],
   "source": [
    "# two pass: write all even elements first, then write all odd elements\n",
    "# O(n) time | O(n) space\n",
    "def sortArrayByParity(nums):\n",
    "    return [num for num in nums if num%2 == 0] + [num for num in nums if num%2 == 1]"
   ]
  },
  {
   "cell_type": "code",
   "execution_count": 5,
   "metadata": {},
   "outputs": [],
   "source": [
    "# QuickSort: O(n) time | O(1) space inplace -- note there is no pivot\n",
    "# 2-pointer approach from opposite ends\n",
    "def sortArrayByParity(nums):\n",
    "    left = 0\n",
    "    right = len(nums)-1\n",
    "    while left < right: \n",
    "        if nums[left] % 2 > nums[right] % 2:\n",
    "            swap(left, right, nums)\n",
    "        if nums[left] % 2 == 0: \n",
    "            left += 1\n",
    "        if nums[right] % 2 == 1:\n",
    "            right -=1 \n",
    "    return nums\n",
    "\n",
    "def swap(i,j,array):\n",
    "    array[i], array[j] = array[j], array[i]"
   ]
  },
  {
   "cell_type": "code",
   "execution_count": 6,
   "metadata": {},
   "outputs": [
    {
     "data": {
      "text/plain": [
       "[4, 2, 1, 3]"
      ]
     },
     "execution_count": 6,
     "metadata": {},
     "output_type": "execute_result"
    }
   ],
   "source": [
    "nums = [3,1,2,4]\n",
    "sortArrayByParity(nums)"
   ]
  },
  {
   "cell_type": "code",
   "execution_count": 3,
   "metadata": {},
   "outputs": [
    {
     "data": {
      "text/plain": [
       "'1, '"
      ]
     },
     "execution_count": 3,
     "metadata": {},
     "output_type": "execute_result"
    }
   ],
   "source": [
    "str(1) + ', '"
   ]
  },
  {
   "cell_type": "code",
   "execution_count": null,
   "metadata": {},
   "outputs": [],
   "source": []
  }
 ],
 "metadata": {
  "kernelspec": {
   "display_name": "Python 3",
   "language": "python",
   "name": "python3"
  },
  "language_info": {
   "codemirror_mode": {
    "name": "ipython",
    "version": 3
   },
   "file_extension": ".py",
   "mimetype": "text/x-python",
   "name": "python",
   "nbconvert_exporter": "python",
   "pygments_lexer": "ipython3",
   "version": "3.7.1"
  }
 },
 "nbformat": 4,
 "nbformat_minor": 2
}
