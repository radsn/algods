{
 "cells": [
  {
   "cell_type": "markdown",
   "metadata": {},
   "source": [
    "Given K sorted arrays arr, of size N each, merge them into a new array res, such that res is a sorted array. Assume N is very large compared to K. N may not even be known. The arrays could be just sorted streams, for instance, timestamp streams. All arrays might be sorted in increasing manner or decreasing manner. Sort all of them in the manner they appear in input."
   ]
  },
  {
   "cell_type": "code",
   "execution_count": 1,
   "metadata": {},
   "outputs": [],
   "source": [
    "import heapq\n",
    "def mergeArrays(arr):\n",
    "    heap = []\n",
    "    \n",
    "    asc = True\n",
    "    for a in arr:\n",
    "        if a[0] > a[1]:\n",
    "            asc = False\n",
    "            break\n",
    "        \n",
    "    \n",
    "    for i, a in enumerate(arr):\n",
    "        if asc:\n",
    "            heap.append((a[0], i, 0))\n",
    "        else:\n",
    "            heap.append((-1*a[0], i, 0))\n",
    "    heapq.heapify(heap)\n",
    "    \n",
    "    res = []\n",
    "    while heap:\n",
    "        val, arrIdx, eleIdx = heapq.heappop(heap)\n",
    "        if asc:\n",
    "            res.append(val)\n",
    "        else:\n",
    "            res.append(-1*val)\n",
    "        if eleIdx + 1 < len(arr[arrIdx]):\n",
    "            if asc:\n",
    "                next_tuple = (arr[arrIdx][eleIdx+1], arrIdx, eleIdx+1)\n",
    "            else:\n",
    "                next_tuple = (-1*arr[arrIdx][eleIdx+1], arrIdx, eleIdx+1)\n",
    "            heapq.heappush(heap, next_tuple)\n",
    "    return res"
   ]
  },
  {
   "cell_type": "code",
   "execution_count": 2,
   "metadata": {},
   "outputs": [
    {
     "data": {
      "text/plain": [
       "[0, 1, 2, 3, 4, 5, 6, 7, 8, 9, 10, 11]"
      ]
     },
     "execution_count": 2,
     "metadata": {},
     "output_type": "execute_result"
    }
   ],
   "source": [
    "arr = [[1, 3, 5, 7], [2, 4, 6, 8], [0, 9, 10, 11]] # K=3, N=4\n",
    "mergeArrays(arr)"
   ]
  },
  {
   "cell_type": "markdown",
   "metadata": {},
   "source": [
    "brute force: O(k^2 * n) time\n",
    "\n",
    "merge sort: O(klogk * n) time | O(nm) space\n",
    "\n",
    "min heap: O(klogk * m) time | O(n) space"
   ]
  }
 ],
 "metadata": {
  "kernelspec": {
   "display_name": "Python 3",
   "language": "python",
   "name": "python3"
  },
  "language_info": {
   "codemirror_mode": {
    "name": "ipython",
    "version": 3
   },
   "file_extension": ".py",
   "mimetype": "text/x-python",
   "name": "python",
   "nbconvert_exporter": "python",
   "pygments_lexer": "ipython3",
   "version": "3.7.1"
  }
 },
 "nbformat": 4,
 "nbformat_minor": 2
}
