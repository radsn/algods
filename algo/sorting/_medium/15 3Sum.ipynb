{
 "cells": [
  {
   "cell_type": "markdown",
   "metadata": {},
   "source": [
    "#### Distinct Integers in array\n",
    "SORTING and traversing it once. Use two pointers (left and right) in while loop."
   ]
  },
  {
   "cell_type": "code",
   "execution_count": 2,
   "metadata": {},
   "outputs": [],
   "source": [
    "# O(n^2) time | O(n) space\n",
    "def threeNumberSum(array, targetSum):\n",
    "    array.sort()\n",
    "    triplets = []\n",
    "    for i in range(len(array)-2): # since left and right pointers ahead\n",
    "        left = i+1\n",
    "        right = len(array)-1\n",
    "        while left < right:\n",
    "            currentSum = array[i] + array[left] + array[right]\n",
    "            if currentSum == targetSum:\n",
    "                triplets.append([array[i], array[left], array[right]])\n",
    "                left += 1\n",
    "                right -= 1\n",
    "            elif currentSum < targetSum:\n",
    "                left += 1\n",
    "            elif currentSum > targetSum:\n",
    "                right -= 1\n",
    "    return triplets"
   ]
  },
  {
   "cell_type": "code",
   "execution_count": 3,
   "metadata": {},
   "outputs": [
    {
     "data": {
      "text/plain": [
       "[[-8, 2, 6], [-8, 3, 5], [-6, 1, 5]]"
      ]
     },
     "execution_count": 3,
     "metadata": {},
     "output_type": "execute_result"
    }
   ],
   "source": [
    "array = [12, 3, 1, 2, -6, 5, -8, 6]\n",
    "targetSum = 0\n",
    "threeNumberSum(array, targetSum)"
   ]
  },
  {
   "cell_type": "code",
   "execution_count": null,
   "metadata": {},
   "outputs": [],
   "source": []
  }
 ],
 "metadata": {
  "kernelspec": {
   "display_name": "Python 3",
   "language": "python",
   "name": "python3"
  },
  "language_info": {
   "codemirror_mode": {
    "name": "ipython",
    "version": 3
   },
   "file_extension": ".py",
   "mimetype": "text/x-python",
   "name": "python",
   "nbconvert_exporter": "python",
   "pygments_lexer": "ipython3",
   "version": "3.7.1"
  }
 },
 "nbformat": 4,
 "nbformat_minor": 2
}
