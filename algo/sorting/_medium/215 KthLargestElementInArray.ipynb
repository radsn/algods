{
 "cells": [
  {
   "cell_type": "markdown",
   "metadata": {},
   "source": [
    "Sort upto a point such that the kth largest element falls in the n-k index"
   ]
  },
  {
   "cell_type": "markdown",
   "metadata": {},
   "source": [
    "**BruteForce:** total O(nlogn) = presorting O(nlogn) and lookup kth-largest index O(1)\n",
    "\n",
    "Index of kth largest: n-k\n",
    "\n",
    "Index of kth smallest: k-1\n",
    "\n",
    "**Intuition:**\n",
    "- Selection Sort: only upto point where kth largest element falls into index n-k => k scans = O(nk) ~ O(n^2)\n",
    "- Bubble Sort/ Insertion Sort: O(n^2)\n",
    "- intuition of heap: rather than pick the smallest element k times (like in selection sort), transform the input array so that it is represented as a balanced tree such that repeatedly finding smallest element becomes O(logn) rather than O(n).\n",
    "    - Min Heap of size k: time O(logk) per number so total time: O(nlogk) ~ O(nlogn) = BruteForce\n",
    "        1. ***Compare with kth largest root min*** [ O(1) ]\n",
    "        2. ***Insert*** [ O(logk) ]\n",
    "            - ignore smaller than root \n",
    "            - only insert larger than root\n",
    "        3. ***Extract min if exceeds size k*** [ O(logk) ] \n",
    "    - Max Heap of size n: extract max k times so total time: O(klogn) ~ O(nlogn) = BruteForce\n",
    "        1. Insert all elements in max heap [ O(logk) ]\n",
    "        2. Extract [ O(logn) ]\n",
    "- Merge Sort: kth largest in right half, and final destination in left half -- only in the final merge of the left and right, the kth largest falls into its final position (worst case the kth largest element falls in its right index in the last merge step). In merge sort, every element could be moving all the way until the end.\n",
    "\n",
    "**Best Solution**\n",
    "- Quick Sort: pick a pivot, put in the right spot, and only sort the one side of the partition where the n-k index is located. Do one round of partitioning and find the final position of pivot and compare with our index of interest n-k.\n",
    "\n",
    "\n",
    "- one round of partition O(n) and find the final pivot index position\n",
    "- compare the pivot position we found to the n-k index\n",
    "- recurse on only one side where the n-k index might lie compared to pivot\n",
    "    - if n-k_Idx == pivot_idx: return pivot_idx\n",
    "    - elif n-k_Idx < pivot_idx: recurse only on the left\n",
    "    - elif n-k_Idx > pivot_idx: recurse only on the right\n",
    "    \n",
    "Best Case: O(n) time - only one round of partitioning since n-k_Idx == pivot_idx\n",
    "\n",
    "Worst Case: O(n) time partition + recurse on only one portion (decreasing geometric series so sum is constant) = O(n)"
   ]
  },
  {
   "cell_type": "code",
   "execution_count": 3,
   "metadata": {},
   "outputs": [
    {
     "ename": "SyntaxError",
     "evalue": "unexpected EOF while parsing (<ipython-input-3-c9920e683a9b>, line 3)",
     "output_type": "error",
     "traceback": [
      "\u001b[0;36m  File \u001b[0;32m\"<ipython-input-3-c9920e683a9b>\"\u001b[0;36m, line \u001b[0;32m3\u001b[0m\n\u001b[0;31m    \u001b[0m\n\u001b[0m    ^\u001b[0m\n\u001b[0;31mSyntaxError\u001b[0m\u001b[0;31m:\u001b[0m unexpected EOF while parsing\n"
     ]
    }
   ],
   "source": [
    "# O(n) time | O(1) space\n",
    "def quickSort():\n",
    "    "
   ]
  },
  {
   "cell_type": "code",
   "execution_count": null,
   "metadata": {},
   "outputs": [],
   "source": []
  }
 ],
 "metadata": {
  "kernelspec": {
   "display_name": "Python 3",
   "language": "python",
   "name": "python3"
  },
  "language_info": {
   "codemirror_mode": {
    "name": "ipython",
    "version": 3
   },
   "file_extension": ".py",
   "mimetype": "text/x-python",
   "name": "python",
   "nbconvert_exporter": "python",
   "pygments_lexer": "ipython3",
   "version": "3.7.1"
  }
 },
 "nbformat": 4,
 "nbformat_minor": 2
}
