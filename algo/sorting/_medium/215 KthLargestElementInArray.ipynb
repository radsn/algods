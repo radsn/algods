{
 "cells": [
  {
   "cell_type": "markdown",
   "metadata": {},
   "source": [
    "Sort upto a point such that the kth largest element falls in the n-k index"
   ]
  },
  {
   "cell_type": "markdown",
   "metadata": {},
   "source": [
    "**BruteForce:** total O(nlogn) = presorting O(nlogn) and lookup kth-largest index O(1)\n",
    "\n",
    "**Intuition:**\n",
    "- Selection Sort: only upto point where kth largest element falls into index n-k => k scans = O(nk) ~ O(n^2)\n",
    "- Bubble Sort/ Insertion Sort: O(n^2)\n",
    "- intuition of heap: rather than pick the smallest element k times (like in selection sort), transform the input array so that it is represented as a balanced tree such that repeatedly finding smallest element becomes O(logn) rather than O(n).\n",
    "    - Min Heap of size k: time O(logk) per number so total time: O(nlogk) ~ O(nlogn) = BruteForce\n",
    "        1. ***Compare with kth largest root min*** [ O(1) ]\n",
    "        2. ***Insert*** [ O(logk) ]\n",
    "            - ignore smaller than root \n",
    "            - only insert larger than root\n",
    "        3. ***Extract min if exceeds size k*** [ O(logk) ] \n",
    "    - Max Heap of size n: extract max k times so total time: O(klogn) ~ O(nlogn) = BruteForce\n",
    "        1. Insert all elements in max heap [ O(logk) ]\n",
    "        2. Extract [ O(logn) ]\n",
    "- Merge Sort: kth largest in right half, and final destination in left half -- only in the final merge of the left and right, the kth largest falls into its final position (worst case the kth largest element falls in its right index in the last merge step). In merge sort, every element could be moving all the way until the end.\n",
    "\n",
    "**Best Solution**\n",
    "- Quick Sort: pick a pivot, put in the right spot, and only sort the one side of the partition where the n-k index is located. Do one round of partitioning and find the final position of pivot and compare with our index of interest n-k.\n",
    "\n",
    "\n",
    "- one round of partition O(n) and find the final pivot index position\n",
    "- compare the pivot position we found to the n-k index\n",
    "- recurse on only one side where the n-k index might lie compared to pivot\n",
    "    - if n-k_Idx == pivot_idx: return pivot_idx\n",
    "    - elif n-k_Idx < pivot_idx: recurse only on the left\n",
    "    - elif n-k_Idx > pivot_idx: recurse only on the right\n",
    "    \n",
    "Best Case: O(n) time - only one round of partitioning since n-k_Idx == pivot_idx\n",
    "\n",
    "Worst Case: O(n) time partition + recurse on only one portion (decreasing geometric series so sum is constant) = O(n)"
   ]
  },
  {
   "cell_type": "markdown",
   "metadata": {},
   "source": [
    "**Use this strategy for:**\n",
    "    \n",
    "Index of kth largest: n-k \n",
    "\n",
    "Index of kth smallest: k-1\n",
    "\n",
    "Index of median: \n",
    "    - odd = (n+1)/2 \n",
    "    - even = avg[ (n/2) + (n/2 -1) ]"
   ]
  },
  {
   "cell_type": "code",
   "execution_count": 1,
   "metadata": {},
   "outputs": [],
   "source": [
    "# O(n) time | O(1) space\n",
    "def quickSelect(nums, k):\n",
    "    index = len(nums)-k\n",
    "    helper(nums, 0, len(nums)-1, index)\n",
    "    return nums[index]\n",
    "\n",
    "\n",
    "def helper(nums, start, end, index):\n",
    "    \"\"\"sub partition of the input array but asked to focus on a specific index\"\"\"\n",
    "    if start == end: #index always exists\n",
    "        return \n",
    "    \n",
    "    pivot_id = partition(nums, start, end)\n",
    "    \n",
    "    #recursively call quickSelect on only one side\n",
    "    if index == pivot_id:\n",
    "        return \n",
    "    elif index < pivot_id:\n",
    "        helper(nums, start, pivot_id-1, index)\n",
    "    else: #index > pivot_id\n",
    "        helper(nums, pivot_id+1, end, index)\n",
    "\n",
    "        \n",
    "def partition(nums, start, end):\n",
    "    \"\"\"partition block exact same as QuickSort (make sure to always compare with pivot value)\"\"\"\n",
    "    pivotIdx = start                            #randomly assign pivot index\n",
    "    smaller = start\n",
    "    for larger in range(start+1, len(nums)):\n",
    "        if nums[larger] < nums[smaller]:\n",
    "            smaller += 1\n",
    "            swap(smaller, larger, nums)\n",
    "    swap(smaller, pivotIdx, nums)           \n",
    "    return smaller                              #final pivot index at smaller index\n",
    "\n",
    "\n",
    "def swap(i, j, arr):\n",
    "    arr[i], arr[j] = arr[j], arr[i]"
   ]
  },
  {
   "cell_type": "code",
   "execution_count": 5,
   "metadata": {},
   "outputs": [
    {
     "data": {
      "text/plain": [
       "4"
      ]
     },
     "execution_count": 5,
     "metadata": {},
     "output_type": "execute_result"
    },
    {
     "data": {
      "text/plain": [
       "4"
      ]
     },
     "execution_count": 5,
     "metadata": {},
     "output_type": "execute_result"
    },
    {
     "data": {
      "text/plain": [
       "4"
      ]
     },
     "execution_count": 5,
     "metadata": {},
     "output_type": "execute_result"
    }
   ],
   "source": [
    "nums = [3,2,1,5,6,4]\n",
    "k = 2\n",
    "nums = [3,2,3,1,2,4,5,5,6]\n",
    "k = 4\n",
    "quickSelect(nums, k)"
   ]
  },
  {
   "cell_type": "code",
   "execution_count": 32,
   "metadata": {},
   "outputs": [],
   "source": [
    "def quickSelect(nums, k):\n",
    "    index = len(nums) - k\n",
    "    helper(nums, 0, len(nums)-1, index)\n",
    "    return nums[index]\n",
    "\n",
    "def helper(nums, start, end, index):\n",
    "    if start == end:\n",
    "        return\n",
    "    pivot_id = partition(nums, start, end)\n",
    "    \n",
    "    #recursively call quickSelect on only one side\n",
    "    if index == pivot_id:\n",
    "        return\n",
    "    elif index < pivot_id:\n",
    "        helper(nums, start, pivot_id-1, index)\n",
    "    else: #index > pivot_id\n",
    "        helper(nums, pivot_id+1, end, index)\n",
    "    \n",
    "\n",
    "def partition(nums, start, end):\n",
    "    \"\"\"rememeber to always compare entire array numbers with pivot value\"\"\"\n",
    "    pivotIdx = start\n",
    "    left = start+1\n",
    "    right = end\n",
    "    while left <= right:\n",
    "        if nums[left] > nums[pivotIdx] and nums[right] < nums[pivotIdx]:\n",
    "            swap(left, right, nums)\n",
    "        if nums[left] <= nums[pivotIdx]:\n",
    "            left+=1\n",
    "        if nums[right] >= nums[pivotIdx]:\n",
    "            right-=1\n",
    "    swap(right, pivotIdx, nums)\n",
    "    return right\n",
    "            \n",
    "    \n",
    "def swap(i, j, arr):\n",
    "    arr[i], arr[j] = arr[j], arr[i]"
   ]
  },
  {
   "cell_type": "code",
   "execution_count": 33,
   "metadata": {},
   "outputs": [
    {
     "data": {
      "text/plain": [
       "5"
      ]
     },
     "execution_count": 33,
     "metadata": {},
     "output_type": "execute_result"
    },
    {
     "data": {
      "text/plain": [
       "5"
      ]
     },
     "execution_count": 33,
     "metadata": {},
     "output_type": "execute_result"
    },
    {
     "data": {
      "text/plain": [
       "5"
      ]
     },
     "execution_count": 33,
     "metadata": {},
     "output_type": "execute_result"
    }
   ],
   "source": [
    "nums = [3,2,1,5,6,4]\n",
    "k = 2\n",
    "quickSelect(nums, k)"
   ]
  },
  {
   "cell_type": "code",
   "execution_count": null,
   "metadata": {},
   "outputs": [],
   "source": []
  }
 ],
 "metadata": {
  "kernelspec": {
   "display_name": "Python 3",
   "language": "python",
   "name": "python3"
  },
  "language_info": {
   "codemirror_mode": {
    "name": "ipython",
    "version": 3
   },
   "file_extension": ".py",
   "mimetype": "text/x-python",
   "name": "python",
   "nbconvert_exporter": "python",
   "pygments_lexer": "ipython3",
   "version": "3.7.1"
  }
 },
 "nbformat": 4,
 "nbformat_minor": 2
}
