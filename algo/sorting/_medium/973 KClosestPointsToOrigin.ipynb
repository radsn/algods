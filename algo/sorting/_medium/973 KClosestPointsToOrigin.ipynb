{
 "cells": [
  {
   "cell_type": "markdown",
   "metadata": {},
   "source": [
    "Brute: Sort the points by distance and take the closest K points - sort via custom key function distance to origin"
   ]
  },
  {
   "cell_type": "code",
   "execution_count": 1,
   "metadata": {},
   "outputs": [],
   "source": [
    "# O(nlogn) time\n",
    "def kClosest(points, K):\n",
    "    points.sort( key = lambda x: sqrt( (x[0]**2)+(x[1]**2) ))\n",
    "    return points[:K]"
   ]
  },
  {
   "cell_type": "markdown",
   "metadata": {},
   "source": [
    "QuickSelect for k smallest - Hoare partition "
   ]
  },
  {
   "cell_type": "code",
   "execution_count": 24,
   "metadata": {},
   "outputs": [],
   "source": [
    "import random\n",
    "\n",
    "# O(n) time\n",
    "def kClosest(points, K):\n",
    "    dist = lambda i: points[i][0]**2 + points[i][1]**2\n",
    "    ksmallest = K-1\n",
    "\n",
    "    def swap(i, j, arr):\n",
    "        arr[i], arr[j] = arr[j], arr[i]\n",
    "\n",
    "    def sort(start, end, idx):\n",
    "        if start >= end: return\n",
    "        k = random.randint(start, end)\n",
    "        swap(start, k, points)\n",
    "\n",
    "        mid = partition(start, end)\n",
    "        if mid == idx: return\n",
    "        if idx < mid:\n",
    "            sort(start, mid-1, idx)\n",
    "        elif idx > mid:\n",
    "            sort(mid+1, end, idx)\n",
    "\n",
    "    def partition(start, end):\n",
    "        pidx = start\n",
    "        pivotVal = dist(pidx)\n",
    "        i = start+1\n",
    "        j = end\n",
    "\n",
    "        while True:\n",
    "            while i<=j and dist(i) <= pivotVal: #while loop need to add condition i<j again!\n",
    "                i += 1\n",
    "            while i<=j and dist(j) >= pivotVal: \n",
    "                j -= 1\n",
    "            if i > j: break \n",
    "            swap(i, j, points)\n",
    "        swap(pidx, j, points)\n",
    "        return j  #actual location of pivotidx\n",
    "        #need to check condition i<j in the while loop and after completion of while loop (3 times total)\n",
    "\n",
    "    sort(0, len(points) - 1, ksmallest)\n",
    "    return points[:K]"
   ]
  },
  {
   "cell_type": "code",
   "execution_count": 25,
   "metadata": {},
   "outputs": [
    {
     "data": {
      "text/plain": [
       "[[-2, 2], [2, -2]]"
      ]
     },
     "execution_count": 25,
     "metadata": {},
     "output_type": "execute_result"
    }
   ],
   "source": [
    "points = [[1,3],[-2,2],[2,-2]]\n",
    "K = 2\n",
    "kClosest(points, K)"
   ]
  },
  {
   "cell_type": "markdown",
   "metadata": {},
   "source": [
    "QuickSelect for k smallest - Lomuto partition "
   ]
  },
  {
   "cell_type": "code",
   "execution_count": 22,
   "metadata": {},
   "outputs": [],
   "source": [
    "def kClosest(points, K):\n",
    "    distance = lambda i: points[i][0]**2 + points[i][1]**2\n",
    "    ksmallest = K-1\n",
    "    \n",
    "    def swap(i, j, arr):\n",
    "        arr[i], arr[j] = arr[j], arr[i]\n",
    "\n",
    "    def helper(start, end, idx):\n",
    "        if start == end: return\n",
    "        pIdx = partition(start, end)\n",
    "        if pIdx == idx:\n",
    "            return\n",
    "        elif pIdx < idx:\n",
    "            helper(pIdx+1, end, idx)\n",
    "        else:\n",
    "            helper(start, pIdx-1, idx)\n",
    "\n",
    "    def partition(start, end):\n",
    "        pivotIdx = start\n",
    "        pivotVal = distance(pivotIdx)\n",
    "        smaller = start\n",
    "        for larger in range(start+1, len(points)):\n",
    "            if distance(larger) < pivotVal:\n",
    "                smaller += 1\n",
    "                swap(smaller, larger, points)\n",
    "        swap(pivotIdx, smaller, points)\n",
    "        return smaller   #final position of pivotIdx is at smaller\n",
    "    \n",
    "    helper(0, len(points) - 1, ksmallest)\n",
    "    return points[:K]"
   ]
  }
 ],
 "metadata": {
  "kernelspec": {
   "display_name": "Python 3",
   "language": "python",
   "name": "python3"
  },
  "language_info": {
   "codemirror_mode": {
    "name": "ipython",
    "version": 3
   },
   "file_extension": ".py",
   "mimetype": "text/x-python",
   "name": "python",
   "nbconvert_exporter": "python",
   "pygments_lexer": "ipython3",
   "version": "3.7.1"
  }
 },
 "nbformat": 4,
 "nbformat_minor": 2
}
