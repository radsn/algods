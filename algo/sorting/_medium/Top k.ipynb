{
 "cells": [
  {
   "cell_type": "code",
   "execution_count": 12,
   "metadata": {},
   "outputs": [],
   "source": [
    "arr = [1, 5, 4, 4, 2]\n",
    "k = 2\n",
    "# [4,5]"
   ]
  },
  {
   "cell_type": "code",
   "execution_count": null,
   "metadata": {},
   "outputs": [],
   "source": []
  },
  {
   "cell_type": "code",
   "execution_count": 14,
   "metadata": {},
   "outputs": [],
   "source": [
    "import heapq\n",
    "\n",
    "def topK(arr, k):\n",
    "    \n",
    "    if len(arr) < k:\n",
    "        return arr\n",
    "    \n",
    "    res = set()\n",
    "    \n",
    "    # maintain a heap of size k\n",
    "    heapq.heapify(arr)\n",
    "    \n",
    "    while len(arr) > k: # only size k\n",
    "        heapq.heappop(arr)\n",
    "    \n",
    "    for i in range(len(arr)):\n",
    "        res.add(heapq.heappop(arr))\n",
    "    \n",
    "    return list(res)"
   ]
  },
  {
   "cell_type": "code",
   "execution_count": 15,
   "metadata": {},
   "outputs": [],
   "source": [
    "arr=[1, 5, 1, 5, 1]\n",
    "k =3 "
   ]
  },
  {
   "cell_type": "code",
   "execution_count": 16,
   "metadata": {},
   "outputs": [
    {
     "data": {
      "text/plain": [
       "[1, 5]"
      ]
     },
     "execution_count": 16,
     "metadata": {},
     "output_type": "execute_result"
    }
   ],
   "source": [
    "topK(arr, k)"
   ]
  },
  {
   "cell_type": "code",
   "execution_count": 17,
   "metadata": {},
   "outputs": [],
   "source": [
    "def topK(arr, k):\n",
    "    pivotIdx = len(arr) - k\n",
    "    swap(pivotIdx, 0, arr)\n",
    "    \n",
    "    left = 1\n",
    "    right = len(arr)-1\n",
    "\n",
    "    while left < right:\n",
    "        if arr[left] > arr[pivotIdx] and arr[right] < arr[pivotIdx]:\n",
    "            swap(left, right, arr)\n",
    "        if arr[left] < arr[pivotIdx]:\n",
    "            left+= 1\n",
    "        if arr[right] > arr[pivotIdx]:\n",
    "            right -= 1\n",
    "        \n",
    "            \n",
    "        \n",
    "    \n",
    "\n",
    "\n",
    "\n",
    "    \n",
    "def swap(i,j, arr):\n",
    "    arr[i], arr[j] = arr[j], arr[i]"
   ]
  },
  {
   "cell_type": "code",
   "execution_count": null,
   "metadata": {},
   "outputs": [],
   "source": []
  }
 ],
 "metadata": {
  "kernelspec": {
   "display_name": "Python 3",
   "language": "python",
   "name": "python3"
  },
  "language_info": {
   "codemirror_mode": {
    "name": "ipython",
    "version": 3
   },
   "file_extension": ".py",
   "mimetype": "text/x-python",
   "name": "python",
   "nbconvert_exporter": "python",
   "pygments_lexer": "ipython3",
   "version": "3.7.1"
  }
 },
 "nbformat": 4,
 "nbformat_minor": 2
}
