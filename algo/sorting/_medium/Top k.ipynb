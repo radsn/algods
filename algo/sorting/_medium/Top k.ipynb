{
 "cells": [
  {
   "cell_type": "code",
   "execution_count": 1,
   "metadata": {},
   "outputs": [],
   "source": [
    "arr = [1, 5, 4, 4, 2]\n",
    "K = 2\n",
    "# [4,5]"
   ]
  },
  {
   "cell_type": "code",
   "execution_count": null,
   "metadata": {},
   "outputs": [],
   "source": [
    "def topK(arr, k):\n",
    "    pivotIdx = len(arr) - k\n",
    "    swap(pivotIdx, 0, arr)\n",
    "    \n",
    "    left = 1\n",
    "    right = len(arr)-1\n",
    "\n",
    "    while left < right:\n",
    "        if arr[left] > arr[pivotIdx] and arr[right] < arr[pivotIdx]:\n",
    "            swap(left, right, arr)\n",
    "        if arr[left] < arr[pivotIdx]:\n",
    "            left+= 1\n",
    "        if arr[right] > arr[pivotIdx]:\n",
    "            right -= 1\n",
    "        \n",
    "            \n",
    "        \n",
    "    \n",
    "\n",
    "\n",
    "\n",
    "    \n",
    "def swap(i,j, arr):\n",
    "    arr[i], arr[j] = arr[j], arr[i]"
   ]
  }
 ],
 "metadata": {
  "kernelspec": {
   "display_name": "Python 3",
   "language": "python",
   "name": "python3"
  },
  "language_info": {
   "codemirror_mode": {
    "name": "ipython",
    "version": 3
   },
   "file_extension": ".py",
   "mimetype": "text/x-python",
   "name": "python",
   "nbconvert_exporter": "python",
   "pygments_lexer": "ipython3",
   "version": "3.7.1"
  }
 },
 "nbformat": 4,
 "nbformat_minor": 2
}
