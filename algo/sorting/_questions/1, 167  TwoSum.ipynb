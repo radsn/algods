{
 "cells": [
  {
   "cell_type": "code",
   "execution_count": 3,
   "metadata": {},
   "outputs": [],
   "source": [
    "nums = [3, 5, -4, 8, 11, 1, -1, 6]\n",
    "targetSum = 10"
   ]
  },
  {
   "cell_type": "code",
   "execution_count": 2,
   "metadata": {},
   "outputs": [],
   "source": [
    "# BruteForce: O(n^2) time | O(1) space\n",
    "def twoSum1(nums, targetSum):\n",
    "    for i in range(len(nums)-1):\n",
    "        for j in range(i+1, len(nums)):\n",
    "            currentSum = nums[i] + nums[j]\n",
    "            if currentSum == targetSum:\n",
    "                return [nums[i], nums[j]]\n",
    "    return []"
   ]
  },
  {
   "cell_type": "code",
   "execution_count": 4,
   "metadata": {},
   "outputs": [],
   "source": [
    "# Sorting + 2pointers approach: O(nlogn) time | O(1) space\n",
    "def twoSum2(nums, targetSum):\n",
    "    nums.sort()\n",
    "    left = 0\n",
    "    right = len(nums)-1\n",
    "    while left < right:  # no = sign : need left and right to be unique numbers\n",
    "        currentSum = nums[left] + nums[right]\n",
    "        if currentSum > targetSum:\n",
    "            right -= 1\n",
    "        elif currentSum < targetSum:\n",
    "            left += 1\n",
    "        else:\n",
    "            return [nums[left], nums[right]]\n",
    "    return []"
   ]
  },
  {
   "cell_type": "code",
   "execution_count": 9,
   "metadata": {},
   "outputs": [],
   "source": [
    "# 2pass Hash : O(n) time | O(n) space\n",
    "def twoSum3(nums, targetSum):\n",
    "    hmap = dict()\n",
    "    for i in range(len(nums)):  #first iteration: add el value as key and index as key\n",
    "        num = nums[i]\n",
    "        hmap[num] = i\n",
    "    for j, el in enumerate(nums):  #second iteration: check if complement exists\n",
    "        complement = targetSum - el\n",
    "        if complement in hmap and j != hmap[complement]:  #check complement is not el itself\n",
    "            return [el, complement]\n",
    "    return []"
   ]
  },
  {
   "cell_type": "code",
   "execution_count": 7,
   "metadata": {},
   "outputs": [],
   "source": [
    "# 1pass Hash : O(n) time | O(n) space - optimized\n",
    "# while iterating and inserting in hmap, search for complement at the same time\n",
    "def twoSum4(nums, targetSum):\n",
    "    hmap = set()\n",
    "    for num in nums:\n",
    "        #check for complement in hmap, while adding the element found while iterating\n",
    "        complement = targetSum - num\n",
    "        if complement in hmap:\n",
    "            return [num, complement]\n",
    "        else:\n",
    "            hmap.add(num)\n",
    "    return []"
   ]
  },
  {
   "cell_type": "code",
   "execution_count": 11,
   "metadata": {},
   "outputs": [
    {
     "data": {
      "text/plain": [
       "[-1, 11]"
      ]
     },
     "execution_count": 11,
     "metadata": {},
     "output_type": "execute_result"
    }
   ],
   "source": [
    "twoSum4(nums, targetSum)"
   ]
  }
 ],
 "metadata": {
  "kernelspec": {
   "display_name": "Python 3 (ipykernel)",
   "language": "python",
   "name": "python3"
  },
  "language_info": {
   "codemirror_mode": {
    "name": "ipython",
    "version": 3
   },
   "file_extension": ".py",
   "mimetype": "text/x-python",
   "name": "python",
   "nbconvert_exporter": "python",
   "pygments_lexer": "ipython3",
   "version": "3.8.2"
  }
 },
 "nbformat": 4,
 "nbformat_minor": 2
}
