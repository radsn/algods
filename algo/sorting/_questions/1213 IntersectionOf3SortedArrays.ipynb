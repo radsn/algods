{
 "cells": [
  {
   "cell_type": "code",
   "execution_count": 1,
   "metadata": {},
   "outputs": [],
   "source": [
    "arr1 = [1,2,3,4,5]\n",
    "arr2 = [1,2,5,7,9]\n",
    "arr3 = [1,3,4,5,8]"
   ]
  },
  {
   "cell_type": "code",
   "execution_count": 2,
   "metadata": {},
   "outputs": [],
   "source": [
    "# O(m+n+o) time | O(intersect of m,n,o) space\n",
    "def arraysIntersection(arr1, arr2, arr3):\n",
    "    res = []\n",
    "    idx1, idx2, idx3 = 0, 0, 0\n",
    "    while idx1 < len(arr1) and idx2 < len(arr2) and idx3 < len(arr3):\n",
    "        if arr1[idx1] == arr2[idx2] and arr2[idx2] == arr3[idx3]:\n",
    "            res.append(arr1[idx1])\n",
    "            idx1 += 1\n",
    "            idx2 += 1\n",
    "            idx3 += 1\n",
    "        else:\n",
    "            #move pointer only if less than max value of currentVal of 3 arrays\n",
    "            max_element = max(arr1[idx1], arr2[idx2], arr3[idx3])\n",
    "            if arr1[idx1] < max_element:\n",
    "                    idx1 += 1\n",
    "            if arr2[idx2] < max_element:\n",
    "                idx2 += 1\n",
    "            if arr3[idx3] < max_element:\n",
    "                idx3 += 1\n",
    "    return res"
   ]
  },
  {
   "cell_type": "code",
   "execution_count": 3,
   "metadata": {},
   "outputs": [
    {
     "data": {
      "text/plain": [
       "[1, 5]"
      ]
     },
     "execution_count": 3,
     "metadata": {},
     "output_type": "execute_result"
    }
   ],
   "source": [
    "arraysIntersection(arr1, arr2, arr3)"
   ]
  },
  {
   "cell_type": "code",
   "execution_count": 4,
   "metadata": {},
   "outputs": [],
   "source": [
    "from collections import Counter\n",
    "def arraysIntersection(arr1, arr2, arr3):\n",
    "    res = []\n",
    "    counter = Counter(arr1+arr2+arr3)\n",
    "    for keys, values in counter.items():\n",
    "        if values == 3:\n",
    "            res.append(keys)\n",
    "    return res"
   ]
  },
  {
   "cell_type": "code",
   "execution_count": 5,
   "metadata": {},
   "outputs": [],
   "source": [
    "def arraysIntersection(arr1, arr2, arr3):\n",
    "    def intersect(a1, a2):\n",
    "        res = []\n",
    "        idx1, idx2 = 0, 0\n",
    "        while idx1 < len(a1) and idx2 < len(a2):\n",
    "            if a1[idx1] == a2[idx2]:\n",
    "                res.append(a1[idx1])\n",
    "                idx1+=1\n",
    "                idx2+=1\n",
    "            elif a1[idx1] < a2[idx2]:\n",
    "                idx1+=1\n",
    "            else:\n",
    "                idx2+=1\n",
    "        return res\n",
    "    return intersect( intersect(arr1,arr2), arr3 )"
   ]
  }
 ],
 "metadata": {
  "kernelspec": {
   "display_name": "Python 3",
   "language": "python",
   "name": "python3"
  },
  "language_info": {
   "codemirror_mode": {
    "name": "ipython",
    "version": 3
   },
   "file_extension": ".py",
   "mimetype": "text/x-python",
   "name": "python",
   "nbconvert_exporter": "python",
   "pygments_lexer": "ipython3",
   "version": "3.7.1"
  }
 },
 "nbformat": 4,
 "nbformat_minor": 2
}
