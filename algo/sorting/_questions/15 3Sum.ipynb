{
 "cells": [
  {
   "cell_type": "markdown",
   "metadata": {},
   "source": [
    "SORTING and traversing it once. Use two pointers (left and right) in while loop.\n",
    "\n",
    "Since every element that sums to targetSum is unique, = sign **not in** while loop"
   ]
  },
  {
   "cell_type": "code",
   "execution_count": 3,
   "metadata": {},
   "outputs": [],
   "source": [
    "# O(n^2) time | O(n) space\n",
    "def threeNumberSum(array, targetSum):\n",
    "    array.sort()  # O(nlogn)\n",
    "    triplets = []\n",
    "    for i in range(len(array)-2): # since left and right pointers ahead\n",
    "        left = i+1\n",
    "        right = len(array)-1\n",
    "        while left < right:  # no = sign : since left and right should point to unique elements\n",
    "            currentSum = array[i] + array[left] + array[right]\n",
    "            if currentSum < targetSum:\n",
    "                left += 1\n",
    "            elif currentSum > targetSum:\n",
    "                right -= 1\n",
    "            else:\n",
    "                ans = [array[i], array[left], array[right]]  # within ans elements are also in sorted order\n",
    "                if ans not in triplets:  # to avoid duplicate entries\n",
    "                    triplets.append(ans)\n",
    "                left += 1\n",
    "                right -= 1\n",
    "    return triplets"
   ]
  },
  {
   "cell_type": "markdown",
   "metadata": {},
   "source": [
    "Hashmap - Unsorted - O(n^2) | O(n)\n",
    "\n",
    "- skip duplicates in outer loop using dups <br>\n",
    "- for the same iteration of outer loop, store complement in seen\n",
    "\n",
    "If we have a very large array with many duplicates and a few matching triplets, the \"No-Sort\" approach would be more memory efficient. Lookups in a hashset, though requiring a constant time, are expensive compared to the direct memory access."
   ]
  },
  {
   "cell_type": "code",
   "execution_count": 37,
   "metadata": {},
   "outputs": [],
   "source": [
    "def threeNumberSum2(array, targetSum):\n",
    "    triplets = []\n",
    "    dups = set()\n",
    "    seen = dict()\n",
    "    for idx1, val1 in enumerate(array):\n",
    "        if val1 not in dups:  #skip duplicates in outer loop\n",
    "            dups.add(val1)\n",
    "            for idx2, val2 in enumerate(array[idx1+1:]):\n",
    "                val3 = 0 - val1 - val2\n",
    "                if val3 in seen and seen[val3] == idx1: #for the same iteration of idx1, checking if complement present in that iteration\n",
    "                    ans = [val1, val2, val3]\n",
    "                    ans.sort()               #need to order before storing\n",
    "                    if ans not in triplets:  #skip additions of duplicated triplets\n",
    "                        triplets.append(ans)\n",
    "                else:\n",
    "                    seen[val2]=idx1  \n",
    "    return triplets"
   ]
  },
  {
   "cell_type": "code",
   "execution_count": 38,
   "metadata": {},
   "outputs": [
    {
     "data": {
      "text/plain": [
       "[[-8, 3, 5], [-6, 1, 5], [-8, 2, 6]]"
      ]
     },
     "execution_count": 38,
     "metadata": {},
     "output_type": "execute_result"
    }
   ],
   "source": [
    "array = [12, 3, 1, 2, -6, 5, -8, 6]\n",
    "targetSum = 0\n",
    "threeNumberSum2(array, targetSum)"
   ]
  }
 ],
 "metadata": {
  "kernelspec": {
   "display_name": "Python 3 (ipykernel)",
   "language": "python",
   "name": "python3"
  },
  "language_info": {
   "codemirror_mode": {
    "name": "ipython",
    "version": 3
   },
   "file_extension": ".py",
   "mimetype": "text/x-python",
   "name": "python",
   "nbconvert_exporter": "python",
   "pygments_lexer": "ipython3",
   "version": "3.8.2"
  }
 },
 "nbformat": 4,
 "nbformat_minor": 2
}
