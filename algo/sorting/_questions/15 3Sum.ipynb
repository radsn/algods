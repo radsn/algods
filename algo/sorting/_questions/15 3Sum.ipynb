{
 "cells": [
  {
   "cell_type": "markdown",
   "metadata": {},
   "source": [
    "#### Distinct Integers in array\n",
    "SORTING and traversing it once. Use two pointers (left and right) in while loop.\n",
    "\n",
    "Since every element that sums to targetSum is unique, = sign **not in** while loop"
   ]
  },
  {
   "cell_type": "code",
   "execution_count": 1,
   "metadata": {},
   "outputs": [],
   "source": [
    "# O(n^2) time | O(n) space\n",
    "def threeNumberSum(array, targetSum):\n",
    "    array.sort()  # O(nlogn)\n",
    "    triplets = []\n",
    "    for i in range(len(array)-2): # since left and right pointers ahead\n",
    "        left = i+1\n",
    "        right = len(array)-1\n",
    "        while left < right:  # no = sign since only unique elements for left and right\n",
    "            currentSum = array[i] + array[left] + array[right]\n",
    "            if currentSum < targetSum:\n",
    "                left += 1\n",
    "            elif currentSum > targetSum:\n",
    "                right -= 1\n",
    "            else:\n",
    "                ans = [array[i], array[left], array[right]]  # within ans elements are also in sorted order\n",
    "                if ans not in triplets:  # to avoid duplicate entries\n",
    "                    triplets.append(ans)\n",
    "                left += 1\n",
    "                right -= 1\n",
    "    return triplets"
   ]
  },
  {
   "cell_type": "code",
   "execution_count": 2,
   "metadata": {},
   "outputs": [
    {
     "data": {
      "text/plain": [
       "[[-8, 2, 6], [-8, 3, 5], [-6, 1, 5]]"
      ]
     },
     "execution_count": 2,
     "metadata": {},
     "output_type": "execute_result"
    }
   ],
   "source": [
    "array = [12, 3, 1, 2, -6, 5, -8, 6]\n",
    "targetSum = 0\n",
    "threeNumberSum(array, targetSum)"
   ]
  }
 ],
 "metadata": {
  "kernelspec": {
   "display_name": "Python 3 (ipykernel)",
   "language": "python",
   "name": "python3"
  },
  "language_info": {
   "codemirror_mode": {
    "name": "ipython",
    "version": 3
   },
   "file_extension": ".py",
   "mimetype": "text/x-python",
   "name": "python",
   "nbconvert_exporter": "python",
   "pygments_lexer": "ipython3",
   "version": "3.8.2"
  }
 },
 "nbformat": 4,
 "nbformat_minor": 2
}
