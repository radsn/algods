{
 "cells": [
  {
   "cell_type": "markdown",
   "metadata": {},
   "source": [
    "Given an array of meeting time intervals consisting of start and end times [[s1,e1],[s2,e2],...] (si < ei), determine if a person could attend all meetings."
   ]
  },
  {
   "cell_type": "code",
   "execution_count": 1,
   "metadata": {},
   "outputs": [],
   "source": [
    "#bruteforce: O(n^2) time | O(1) space\n",
    "def canAttendMeetings(intervals):\n",
    "    def overlap(i1, i2):\n",
    "        return min(i1[1], i2[1]) > max(i1[0], i2[0])\n",
    "\n",
    "    for i in range(len(intervals)):\n",
    "        for j in range(i+1, len(intervals)):\n",
    "            if overlap(intervals[i], intervals[j]):\n",
    "                return False\n",
    "    return True"
   ]
  },
  {
   "cell_type": "markdown",
   "metadata": {},
   "source": [
    "non-overlap condition: minimum end time of two intervals <= maximum start time of the two intervals.<br>\n",
    "overlap condition: minimum end time of two intervals > maximum start time of the two intervals."
   ]
  },
  {
   "cell_type": "code",
   "execution_count": 2,
   "metadata": {},
   "outputs": [],
   "source": [
    "#sorting: O(nlogn) time | O(1) space\n",
    "def canAttendMeetings(intervals):\n",
    "    intervals.sort(key = lambda x: x[0])\n",
    "    for i in range(len(intervals)-1):\n",
    "        if intervals[i][1] > intervals[i+1][0]:\n",
    "            return False\n",
    "    return True"
   ]
  },
  {
   "cell_type": "markdown",
   "metadata": {},
   "source": [
    "takeaway: sort by starttime and compare endtime with starttime of consecutive intervals"
   ]
  },
  {
   "cell_type": "code",
   "execution_count": 3,
   "metadata": {},
   "outputs": [],
   "source": [
    "intervals1 = [[0,30],[5,10],[15,20]] #output: false\n",
    "intervals2 = [[7,10],[2,4]]          #output: true"
   ]
  },
  {
   "cell_type": "code",
   "execution_count": 4,
   "metadata": {},
   "outputs": [
    {
     "name": "stdout",
     "output_type": "stream",
     "text": [
      "False\n",
      "True\n"
     ]
    }
   ],
   "source": [
    "print(canAttendMeetings(intervals1))\n",
    "print(canAttendMeetings(intervals2))"
   ]
  }
 ],
 "metadata": {
  "kernelspec": {
   "display_name": "Python 3",
   "language": "python",
   "name": "python3"
  },
  "language_info": {
   "codemirror_mode": {
    "name": "ipython",
    "version": 3
   },
   "file_extension": ".py",
   "mimetype": "text/x-python",
   "name": "python",
   "nbconvert_exporter": "python",
   "pygments_lexer": "ipython3",
   "version": "3.7.1"
  }
 },
 "nbformat": 4,
 "nbformat_minor": 2
}
