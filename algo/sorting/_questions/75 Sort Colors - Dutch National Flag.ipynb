{
 "cells": [
  {
   "cell_type": "markdown",
   "metadata": {},
   "source": [
    "Takeaways: \n",
    "- curr pointer traverses the entire array in while loop\n",
    "- p0: tracks rightmost boundary of zeros \n",
    "- p2: tracks leftmost boundary of twos\n",
    "- key is to move the curr pointer if num == 0 or 1\n",
    "- key is to stop the while loop once curr pointer is past the rightmost boundary of twos (end of array)"
   ]
  },
  {
   "cell_type": "markdown",
   "metadata": {},
   "source": [
    "Use three pointers to track the rightmost boundary of zeros, the leftmost boundary of twos and the current element under the consideration.\n",
    "\n",
    "The idea of solution is to move curr pointer along the array:\n",
    "- if nums[curr] == 0 : swap it with nums[p0] , p0++ curr++\n",
    "- if nums[curr] == 2 : swap it with nums[p2] , p2--\n",
    "- if nums[curr] == 1 : curr++\n",
    "\n",
    "**using Hoare's partition with p1/curr index in while loop**"
   ]
  },
  {
   "cell_type": "code",
   "execution_count": 1,
   "metadata": {},
   "outputs": [],
   "source": [
    "# O(n) time | O(1) space\n",
    "def sortColors(nums):\n",
    "    p0 = 0\n",
    "    p2 = len(nums)-1\n",
    "    curr = 0\n",
    "    while curr <= p2: # think in terms of boundary lines\n",
    "        if nums[curr] == 0:\n",
    "            nums[p0], nums[curr] = nums[curr], nums[p0]\n",
    "            p0 += 1\n",
    "            curr += 1\n",
    "        if nums[curr] == 2:\n",
    "            nums[p2], nums[curr] = nums[curr], nums[p2]\n",
    "            p2 -= 1\n",
    "        else:\n",
    "            curr += 1"
   ]
  },
  {
   "cell_type": "code",
   "execution_count": 2,
   "metadata": {},
   "outputs": [
    {
     "name": "stdout",
     "output_type": "stream",
     "text": [
      "[0, 0, 1, 1, 2, 2]\n"
     ]
    }
   ],
   "source": [
    "nums = [2,0,2,1,1,0]\n",
    "sortColors(nums)\n",
    "print(nums)"
   ]
  }
 ],
 "metadata": {
  "kernelspec": {
   "display_name": "Python 3 (ipykernel)",
   "language": "python",
   "name": "python3"
  },
  "language_info": {
   "codemirror_mode": {
    "name": "ipython",
    "version": 3
   },
   "file_extension": ".py",
   "mimetype": "text/x-python",
   "name": "python",
   "nbconvert_exporter": "python",
   "pygments_lexer": "ipython3",
   "version": "3.8.2"
  }
 },
 "nbformat": 4,
 "nbformat_minor": 2
}
