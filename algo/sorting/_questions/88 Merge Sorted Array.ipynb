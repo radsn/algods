{
 "cells": [
  {
   "cell_type": "markdown",
   "metadata": {},
   "source": [
    "Given two **sorted** integer arrays nums1 and nums2, merge nums2 into nums1 as one sorted array. Assume nums1 array has large enough buffer at the end to hold nums2. Modify nums1 inplace."
   ]
  },
  {
   "cell_type": "code",
   "execution_count": 1,
   "metadata": {},
   "outputs": [],
   "source": [
    "nums1 = [1,2,3,0,0,0]\n",
    "m = 3\n",
    "nums2 = [2,5,6]\n",
    "n = 3"
   ]
  },
  {
   "cell_type": "markdown",
   "metadata": {},
   "source": [
    "Naive approach: merge both lists into one and then to sort."
   ]
  },
  {
   "cell_type": "code",
   "execution_count": 2,
   "metadata": {},
   "outputs": [],
   "source": [
    "# O((n+m)log(n+m)) time | O(1) space\n",
    "def merge1(nums1, m, nums2, n):\n",
    "    nums1[:] = sorted(nums1[:m] + nums2)"
   ]
  },
  {
   "cell_type": "markdown",
   "metadata": {},
   "source": [
    "TwoPointers start at beginning with auxillary space"
   ]
  },
  {
   "cell_type": "code",
   "execution_count": 3,
   "metadata": {},
   "outputs": [],
   "source": [
    "# O(m+n) time | O(m) space\n",
    "def merge2(nums1, m, nums2, n):\n",
    "    nums1_copy = nums1[:m]\n",
    "    idx1, idx2, k = 0, 0, 0\n",
    "    \n",
    "    while idx1 < m and idx2 < n:\n",
    "        if nums1_copy[idx1] <= nums2[idx2]:\n",
    "            nums1[k] = nums1_copy[idx1]\n",
    "            idx1 += 1\n",
    "        else:\n",
    "            nums1[k] = nums2[idx2]\n",
    "            idx2 += 1\n",
    "        k += 1\n",
    "    if idx1 < m:\n",
    "        nums1[k:] = nums1_copy[idx1:]\n",
    "    if idx2 < n:\n",
    "        nums1[k:] = nums2[idx2:]"
   ]
  },
  {
   "cell_type": "markdown",
   "metadata": {},
   "source": [
    "TwoPointers start from the end: insert elements from the back of the array, where there is space -- traverse from the end of the array to the beginning."
   ]
  },
  {
   "cell_type": "code",
   "execution_count": 4,
   "metadata": {},
   "outputs": [],
   "source": [
    "# O(m+n) time | O(1) space\n",
    "def merge3(nums1, m, nums2, n):\n",
    "    idx1 = m-1\n",
    "    idx2 = n-1\n",
    "    k = m+n-1\n",
    "    while idx1 >= 0 and idx2 >= 0:\n",
    "        if nums1[idx1] > nums2[idx2]:\n",
    "            nums1[k] = nums1[idx1]\n",
    "            idx1 -= 1\n",
    "        else: #nums1[idx1] <= nums2[idx2]\n",
    "            nums1[k] = nums2[idx2]\n",
    "            idx2 -= 1\n",
    "        k -=1\n",
    "    while idx2 >= 0:\n",
    "        nums1[k] = nums2[idx2]\n",
    "        idx2 -= 1\n",
    "        k -=1"
   ]
  },
  {
   "cell_type": "code",
   "execution_count": 5,
   "metadata": {},
   "outputs": [
    {
     "name": "stdout",
     "output_type": "stream",
     "text": [
      "[1, 2, 3, 0, 0, 0]\n",
      "[1, 2, 2, 3, 5, 6]\n"
     ]
    }
   ],
   "source": [
    "print(nums1)\n",
    "merge3(nums1, m, nums2, n)\n",
    "print(nums1)"
   ]
  }
 ],
 "metadata": {
  "kernelspec": {
   "display_name": "Python 3",
   "language": "python",
   "name": "python3"
  },
  "language_info": {
   "codemirror_mode": {
    "name": "ipython",
    "version": 3
   },
   "file_extension": ".py",
   "mimetype": "text/x-python",
   "name": "python",
   "nbconvert_exporter": "python",
   "pygments_lexer": "ipython3",
   "version": "3.7.1"
  }
 },
 "nbformat": 4,
 "nbformat_minor": 2
}
