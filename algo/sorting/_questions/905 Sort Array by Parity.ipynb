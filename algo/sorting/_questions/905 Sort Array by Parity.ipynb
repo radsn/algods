{
 "cells": [
  {
   "cell_type": "markdown",
   "id": "1003d049",
   "metadata": {},
   "source": [
    "Return array consisting of all even elements followed by all odd elements.\n",
    "(Order doesn't matter)"
   ]
  },
  {
   "cell_type": "code",
   "execution_count": 1,
   "id": "4e7f7843",
   "metadata": {},
   "outputs": [],
   "source": [
    "# use custom comparator: O(nlogn) time\n",
    "def sortArrayByParity(nums):\n",
    "    nums.sort(key = lambda x: x%2)\n",
    "    return nums"
   ]
  },
  {
   "cell_type": "code",
   "execution_count": 2,
   "id": "3620d9b2",
   "metadata": {},
   "outputs": [],
   "source": [
    "# two pass: write all even elements first, then write all odd elements\n",
    "# O(n) time | O(n) space\n",
    "def sortArrayByParity(nums):\n",
    "    return [num for num in nums if num%2 == 0] + [num for num in nums if num%2 == 1]"
   ]
  },
  {
   "cell_type": "markdown",
   "id": "15d5ed6f",
   "metadata": {},
   "source": [
    "Quick Sort : Hoare's partition\n",
    "\n",
    "if = sign **not in** the while loop : 3 if conditions <br>\n",
    "if = sign **in** the while loop : if, elif, else"
   ]
  },
  {
   "cell_type": "code",
   "execution_count": 3,
   "id": "dc687c8b",
   "metadata": {},
   "outputs": [],
   "source": [
    "# Hoare's partition: O(n) time | O(1) space inplace -- note there is no pivot\n",
    "# 2-pointer approach from opposite ends\n",
    "def sortArrayByParity(nums):\n",
    "    left = 0\n",
    "    right = len(nums)-1\n",
    "    while left < right: \n",
    "        if nums[left] % 2 > nums[right] % 2:  # if swap is first if condition, do not increment/decrement 2 pointers\n",
    "            swap(left, right, nums)\n",
    "        if nums[left] % 2 == 0: \n",
    "            left += 1\n",
    "        if nums[right] % 2 == 1:\n",
    "            right -=1 \n",
    "    return nums\n",
    "\n",
    "def swap(i,j,array):\n",
    "    array[i], array[j] = array[j], array[i]"
   ]
  },
  {
   "cell_type": "code",
   "execution_count": 4,
   "id": "8497d31d",
   "metadata": {},
   "outputs": [],
   "source": [
    "def sortArrayByParity(arr):\n",
    "    even = 0\n",
    "    odd = len(arr)-1\n",
    "    while even <= odd:\n",
    "        if arr[even] %2 == 0:\n",
    "            even+=1\n",
    "        elif arr[odd] %2 != 0:\n",
    "            odd-=1\n",
    "        else:\n",
    "            swap(even, odd, arr)\n",
    "            even+=1\n",
    "            odd-=1\n",
    "    return arr\n",
    "\n",
    "def swap(i,j,arr):\n",
    "    arr[i],arr[j] = arr[j],arr[i]"
   ]
  }
 ],
 "metadata": {
  "kernelspec": {
   "display_name": "Python 3 (ipykernel)",
   "language": "python",
   "name": "python3"
  },
  "language_info": {
   "codemirror_mode": {
    "name": "ipython",
    "version": 3
   },
   "file_extension": ".py",
   "mimetype": "text/x-python",
   "name": "python",
   "nbconvert_exporter": "python",
   "pygments_lexer": "ipython3",
   "version": "3.8.2"
  }
 },
 "nbformat": 4,
 "nbformat_minor": 5
}
