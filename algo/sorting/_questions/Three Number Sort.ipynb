{
 "cells": [
  {
   "cell_type": "markdown",
   "id": "1a4d3cea",
   "metadata": {},
   "source": [
    "Input : <br>\n",
    "array of integers<br>\n",
    "order = [x,y,z] represents a desired order of elements in the first array\n",
    "\n",
    "Write a function that sorts the first array according to the desired order in the second array.\n",
    "\n",
    "The function should perform this in place and not use any auxiliary space.\n",
    "\n",
    "(similar to Dutch National Flag problem)"
   ]
  },
  {
   "cell_type": "code",
   "execution_count": 5,
   "id": "da1e9355",
   "metadata": {},
   "outputs": [],
   "source": [
    "array = [1,0,0,-1,-1,0,1,1]\n",
    "order = [0,1,-1]"
   ]
  },
  {
   "cell_type": "markdown",
   "id": "0e2922ad",
   "metadata": {},
   "source": [
    "Naive Approach: Bucket sort\n",
    "\n",
    "- iterate through array : count for each unique values\n",
    "- modify existing array : rewrite on the original array"
   ]
  },
  {
   "cell_type": "code",
   "execution_count": 6,
   "id": "bd2edbf2",
   "metadata": {},
   "outputs": [],
   "source": [
    "def swap(i,j, A):\n",
    "    A[i],A[j] = A[j],A[i]"
   ]
  },
  {
   "cell_type": "code",
   "execution_count": 7,
   "id": "5914cd15",
   "metadata": {},
   "outputs": [],
   "source": [
    "def threeNumberSort1(array, order):\n",
    "    valueCounts = [0,0,0]  #track count of each order array element\n",
    "    \n",
    "    for element in array:\n",
    "        orderIdx = order.index(element)\n",
    "        valueCounts[orderIdx] += 1\n",
    "    \n",
    "    #change orginal array based on valueCounts\n",
    "    for i in range(3):\n",
    "        value = order[i]\n",
    "        count = valueCounts[i]\n",
    "        \n",
    "        "
   ]
  },
  {
   "cell_type": "code",
   "execution_count": 8,
   "id": "dc358425",
   "metadata": {},
   "outputs": [],
   "source": [
    "def threeNumberSort3(array, order):\n",
    "    val0 = order[0]\n",
    "    val1 = order[1]\n",
    "    val2 = order[2]\n",
    "    \n",
    "    p0, p1, p2 = 0, 0, len(array)-1\n",
    "    \n",
    "    while p1 <= p2:\n",
    "        if array[p1]==val0:\n",
    "            swap(p1,p0,array)\n",
    "            p0+=1\n",
    "            p1+=1\n",
    "        elif array[p1]==val2:\n",
    "            swap(p1,p2,array)\n",
    "            p2-=1\n",
    "        else:\n",
    "            p1+=1\n",
    "    return array            "
   ]
  },
  {
   "cell_type": "code",
   "execution_count": 9,
   "id": "0879c1dd",
   "metadata": {},
   "outputs": [
    {
     "data": {
      "text/plain": [
       "[0, 0, 0, 1, 1, 1, -1, -1]"
      ]
     },
     "execution_count": 9,
     "metadata": {},
     "output_type": "execute_result"
    }
   ],
   "source": [
    "threeNumberSort3(array, order)"
   ]
  }
 ],
 "metadata": {
  "kernelspec": {
   "display_name": "Python 3 (ipykernel)",
   "language": "python",
   "name": "python3"
  },
  "language_info": {
   "codemirror_mode": {
    "name": "ipython",
    "version": 3
   },
   "file_extension": ".py",
   "mimetype": "text/x-python",
   "name": "python",
   "nbconvert_exporter": "python",
   "pygments_lexer": "ipython3",
   "version": "3.8.2"
  }
 },
 "nbformat": 4,
 "nbformat_minor": 5
}
