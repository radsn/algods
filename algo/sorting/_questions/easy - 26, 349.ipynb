{
 "cells": [
  {
   "cell_type": "markdown",
   "metadata": {},
   "source": [
    "### 26 Remove Duplicates from Sorted Array\n",
    "Given a sorted array nums, remove duplicates in-place such that element appears only once and return the new length."
   ]
  },
  {
   "cell_type": "code",
   "execution_count": 1,
   "metadata": {},
   "outputs": [],
   "source": [
    "# O(n) time | O(1) space\n",
    "def removeDuplicates(nums):\n",
    "    slow = 0\n",
    "    for fast in range(1, len(nums)):\n",
    "        if nums[fast] != nums[slow]:\n",
    "            slow += 1\n",
    "            nums[slow] = nums[fast]\n",
    "    return len(nums[0:slow+1])"
   ]
  },
  {
   "cell_type": "code",
   "execution_count": 2,
   "metadata": {},
   "outputs": [
    {
     "name": "stdout",
     "output_type": "stream",
     "text": [
      "2\n",
      "5\n"
     ]
    }
   ],
   "source": [
    "nums1 = [1,1,2]\n",
    "nums2 = [0,0,1,1,1,2,2,3,3,4]\n",
    "print(removeDuplicates(nums1))\n",
    "print(removeDuplicates(nums2))"
   ]
  },
  {
   "cell_type": "markdown",
   "metadata": {},
   "source": [
    " **takeaway:** Since the array is already sorted, use two-pointer approach with slow and fast.\n",
    "- if nums[slow]==nums[fast], increment fast to skip duplicates\n",
    "- if nums[slow]!=nums[fast], duplicate run has ended so copy its value in nums[slow+1]\n",
    "\n",
    "repeat until fast traverses until end of array"
   ]
  },
  {
   "cell_type": "markdown",
   "metadata": {},
   "source": [
    "### 349 Intersection of 2 Sorted Arrays\n",
    "**key**: to avoid duplicates in the output always use a set!\n",
    "Also, always draw it out and think of =, >, < steps."
   ]
  },
  {
   "cell_type": "code",
   "execution_count": 13,
   "metadata": {},
   "outputs": [],
   "source": [
    "nums1 = [4,9,5]\n",
    "nums2 = [9,4,9,8,4]\n",
    "nums1.sort()\n",
    "nums2.sort()"
   ]
  },
  {
   "cell_type": "markdown",
   "metadata": {},
   "source": [
    "##### Time complexity:\n",
    "\n",
    "if m = n: Binary Search O(mlogn), 2PointerApproach O(m+n)\n",
    "\n",
    "if m << n: Binary Search O(logn), 2PointerApproach O(n) --- switch to binary search if size of one array is too small"
   ]
  },
  {
   "cell_type": "code",
   "execution_count": 17,
   "metadata": {},
   "outputs": [],
   "source": [
    "# 2Pointers SET\n",
    "def intersectionSortedArrays(nums1, nums2):\n",
    "    out = set()\n",
    "    idx1 = 0\n",
    "    idx2 = 0\n",
    "    \n",
    "    while idx1 < len(nums1) and idx2 < len(nums2):\n",
    "        if nums1[idx1] == nums2[idx2]:\n",
    "            out.add(nums1[idx1])\n",
    "            idx1 += 1\n",
    "            idx2 += 1\n",
    "        elif nums1[idx1] < nums2[idx2]:\n",
    "            idx1 += 1\n",
    "        elif nums1[idx1] > nums2[idx2]:\n",
    "            idx2 += 1\n",
    "    return list(out)"
   ]
  },
  {
   "cell_type": "code",
   "execution_count": 18,
   "metadata": {},
   "outputs": [
    {
     "data": {
      "text/plain": [
       "[9, 4]"
      ]
     },
     "execution_count": 18,
     "metadata": {},
     "output_type": "execute_result"
    }
   ],
   "source": [
    "intersectionSortedArrays(nums1, nums2)"
   ]
  },
  {
   "cell_type": "code",
   "execution_count": 21,
   "metadata": {},
   "outputs": [],
   "source": [
    "# 2Pointers ARRAY\n",
    "def intersectionSortedArrays(nums1, nums2):\n",
    "    out = []\n",
    "    idx1 = 0\n",
    "    idx2 = 0\n",
    "    \n",
    "    while idx1 < len(nums1) and idx2 < len(nums2):\n",
    "        if nums1[idx1] == nums2[idx2]:\n",
    "            out.append(nums1[idx1])\n",
    "            idx1 += 1\n",
    "            idx2 += 1\n",
    "        elif nums1[idx1] < nums2[idx2]:\n",
    "            idx1 += 1\n",
    "        elif nums1[idx1] > nums2[idx2]:\n",
    "            idx2 += 1\n",
    "        \n",
    "        # skip duplicates\n",
    "        while idx1 != 0 and idx1 < len(nums1) and nums1[idx1] == nums1[idx1-1]:\n",
    "            idx1 += 1\n",
    "        while idx2 != 0 and idx2 < len(nums2) and nums2[idx2] == nums2[idx2-1]:\n",
    "            idx2 += 1\n",
    "    return out"
   ]
  },
  {
   "cell_type": "code",
   "execution_count": null,
   "metadata": {},
   "outputs": [],
   "source": []
  }
 ],
 "metadata": {
  "kernelspec": {
   "display_name": "Python 3 (ipykernel)",
   "language": "python",
   "name": "python3"
  },
  "language_info": {
   "codemirror_mode": {
    "name": "ipython",
    "version": 3
   },
   "file_extension": ".py",
   "mimetype": "text/x-python",
   "name": "python",
   "nbconvert_exporter": "python",
   "pygments_lexer": "ipython3",
   "version": "3.8.2"
  }
 },
 "nbformat": 4,
 "nbformat_minor": 2
}
