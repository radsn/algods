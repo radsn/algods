{
 "cells": [
  {
   "cell_type": "markdown",
   "metadata": {},
   "source": [
    "**One Away:** There are three types of edits that can be performed on strings: insert a character, remove a character, or replace a character. Given two strings, write a function to check if they are one edit (or zero edits) away."
   ]
  },
  {
   "cell_type": "code",
   "execution_count": 14,
   "metadata": {},
   "outputs": [],
   "source": [
    "def oneAway(s1, s2):\n",
    "    \n",
    "    def check(s1,s2):\n",
    "        count = 0\n",
    "        for char in s1:\n",
    "            if char in s2:\n",
    "                count += 1\n",
    "        return count == len(s2)-1 or count == len(s2)\n",
    "    \n",
    "    if len(s1) > len(s2):\n",
    "        return check(s1,s2)\n",
    "    else:\n",
    "        return check(s2,s1)"
   ]
  },
  {
   "cell_type": "code",
   "execution_count": 1,
   "metadata": {},
   "outputs": [],
   "source": [
    "def oneAway(s1, s2):\n",
    "    d1 = {}\n",
    "    d2 = {}\n",
    "    for char in s1:\n",
    "        if char in d1:\n",
    "            d1[char] += 1\n",
    "        else:\n",
    "            d1[char] = 1\n",
    "    for char in s2:\n",
    "        if char in d2:\n",
    "            d2[char] += 1\n",
    "        else:\n",
    "            d2[char] = 1\n",
    "    \n",
    "    arr = []\n",
    "    for key in d1.keys():\n",
    "        if d1[key] != d2[key]:\n",
    "            arr.append(key)\n",
    "            \n",
    "    return len(d1)==len(d2) or len(d1)==len(d2)-1 or len(d1)-1==len(d2)"
   ]
  },
  {
   "cell_type": "code",
   "execution_count": 15,
   "metadata": {},
   "outputs": [
    {
     "data": {
      "text/plain": [
       "True"
      ]
     },
     "execution_count": 15,
     "metadata": {},
     "output_type": "execute_result"
    }
   ],
   "source": [
    "oneAway(\"pale\", \"ple\")\n",
    "oneAway(\"pales\", \"pale\")\n",
    "oneAway(\"pale\", \"bale\")\n",
    "oneAway(\"pale\", \"bake\")\n",
    "oneAway(\"a\",\"a\")"
   ]
  },
  {
   "cell_type": "code",
   "execution_count": null,
   "metadata": {},
   "outputs": [],
   "source": []
  }
 ],
 "metadata": {
  "kernelspec": {
   "display_name": "Python 3",
   "language": "python",
   "name": "python3"
  },
  "language_info": {
   "codemirror_mode": {
    "name": "ipython",
    "version": 3
   },
   "file_extension": ".py",
   "mimetype": "text/x-python",
   "name": "python",
   "nbconvert_exporter": "python",
   "pygments_lexer": "ipython3",
   "version": "3.7.1"
  }
 },
 "nbformat": 4,
 "nbformat_minor": 2
}
