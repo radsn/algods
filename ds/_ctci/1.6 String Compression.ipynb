{
 "cells": [
  {
   "cell_type": "markdown",
   "metadata": {},
   "source": [
    "**String Compression:** Implement a method to perform basic string compression using the counts of repeated characters. For example, the string aabcccccaaa would become a2blc5a3. If the \"compressed\" string would not become smaller than the original string, your method should return the original string. You can assume the string has only uppercase and lowercase letters (a - z)."
   ]
  },
  {
   "cell_type": "markdown",
   "metadata": {},
   "source": [
    "using while loop"
   ]
  },
  {
   "cell_type": "code",
   "execution_count": 1,
   "metadata": {},
   "outputs": [],
   "source": [
    "# O(n) time | O(n) space\n",
    "def stringCompression(string):\n",
    "    #need to preserve order = iterate through entire string; count if repeated chars\n",
    "    #if len same return original else return compressed string \n",
    "    compArr = []\n",
    "    i = 0\n",
    "    while i < len(string):\n",
    "        count = 1\n",
    "        while i < len(string)-1 and string[i] == string[i+1]:\n",
    "            count += 1\n",
    "            i += 1\n",
    "        compArr.append( string[i] + str(count) )\n",
    "        i += 1\n",
    "    \n",
    "    compStr = \"\".join(compArr)\n",
    "    \n",
    "    if len(compStr) < len(string):\n",
    "        return compStr\n",
    "    else:\n",
    "        return string"
   ]
  },
  {
   "cell_type": "markdown",
   "metadata": {},
   "source": [
    "using for loop"
   ]
  },
  {
   "cell_type": "code",
   "execution_count": 2,
   "metadata": {},
   "outputs": [],
   "source": [
    "def stringCompression(string): \n",
    "    if len(string) == 0:  #mandatory check needed as cannot access string[0] in empty string\n",
    "        return string\n",
    "    \n",
    "    compArr = []\n",
    "    curr = string[0]\n",
    "    count = 1\n",
    "    for char in string[1:]:\n",
    "        if curr == char:\n",
    "            count += 1\n",
    "        else:\n",
    "            compArr.append( curr + str(count) )\n",
    "            curr = char\n",
    "            count = 1\n",
    "    compArr.append( curr + str(count) )  #need to add this as only appends in 'else' \n",
    "    compStr = \"\".join(compArr)\n",
    "    \n",
    "    if len(compStr) < len(string): \n",
    "        return compStr\n",
    "    else:\n",
    "        return string"
   ]
  },
  {
   "cell_type": "code",
   "execution_count": 3,
   "metadata": {},
   "outputs": [],
   "source": [
    "def stringCompression(string):\n",
    "    compArr = []\n",
    "    count = 0\n",
    "    \n",
    "    for i in range(len(string)):\n",
    "        count += 1\n",
    "    \n",
    "        if i+1 >= len(string) or string[i] != string[i+1]:\n",
    "            compArr.append(string[i])\n",
    "            compArr.append(str(count))\n",
    "            count = 0\n",
    "        \n",
    "    return min(string, \"\".join(compArr), key=len)"
   ]
  },
  {
   "cell_type": "code",
   "execution_count": 4,
   "metadata": {},
   "outputs": [
    {
     "data": {
      "text/plain": [
       "'a2b1c5a3'"
      ]
     },
     "execution_count": 4,
     "metadata": {},
     "output_type": "execute_result"
    }
   ],
   "source": [
    "stringCompression(\"aabcccccaaa\")"
   ]
  },
  {
   "cell_type": "markdown",
   "metadata": {},
   "source": [
    "cannot use hashmap as need to preserve order of the characters as they are counted\n",
    "\n",
    "instead just use an array, append the letter + str(count) to it "
   ]
  }
 ],
 "metadata": {
  "kernelspec": {
   "display_name": "Python 3",
   "language": "python",
   "name": "python3"
  },
  "language_info": {
   "codemirror_mode": {
    "name": "ipython",
    "version": 3
   },
   "file_extension": ".py",
   "mimetype": "text/x-python",
   "name": "python",
   "nbconvert_exporter": "python",
   "pygments_lexer": "ipython3",
   "version": "3.7.1"
  }
 },
 "nbformat": 4,
 "nbformat_minor": 2
}
