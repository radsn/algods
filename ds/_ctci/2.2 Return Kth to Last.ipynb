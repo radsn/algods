{
 "cells": [
  {
   "cell_type": "markdown",
   "metadata": {},
   "source": [
    "**Implement an algorithm to find the kth to last element of a singly linked list.**"
   ]
  },
  {
   "cell_type": "markdown",
   "metadata": {},
   "source": [
    "if linked list size is known: then kth to last element is `length-k` element.<br>\n",
    "else: do two passes on linkedlist, first pass gets the size of list and second pass gets the kth to last element."
   ]
  },
  {
   "cell_type": "markdown",
   "metadata": {},
   "source": [
    "iterative<br>\n",
    "2 pointers: offset fast pointer k steps ahead of slow pointer<br>\n",
    "move both pointers at same pace until fast reaches end of linkedlist"
   ]
  },
  {
   "cell_type": "code",
   "execution_count": 1,
   "metadata": {},
   "outputs": [],
   "source": [
    "# O(n) time | O(1) space\n",
    "def kthToLast(head, k):\n",
    "    slow = head\n",
    "    fast = head\n",
    "    \n",
    "    #offset fast k nodes ahead of slow\n",
    "    for _ in range(k):\n",
    "        if not fast: return None  #outofbounds: case when k > len\n",
    "        fast = fast.next\n",
    "    \n",
    "    #move both in sync until fast is null\n",
    "    while fast:\n",
    "        fast = fast.next\n",
    "        slow = slow.next\n",
    "        \n",
    "    return slow"
   ]
  },
  {
   "cell_type": "code",
   "execution_count": 2,
   "metadata": {},
   "outputs": [],
   "source": [
    "class ListNode:\n",
    "    def __init__(self, value):\n",
    "        self.val = value\n",
    "        self.next = None"
   ]
  },
  {
   "cell_type": "code",
   "execution_count": 3,
   "metadata": {},
   "outputs": [],
   "source": [
    "head = ListNode(1)\n",
    "head.next = ListNode(2)\n",
    "head.next.next = ListNode(3)\n",
    "head.next.next.next = ListNode(4)\n",
    "head.next.next.next.next = ListNode(5)"
   ]
  },
  {
   "cell_type": "code",
   "execution_count": 4,
   "metadata": {},
   "outputs": [
    {
     "name": "stdout",
     "output_type": "stream",
     "text": [
      "4\n",
      "None\n"
     ]
    }
   ],
   "source": [
    "print(kthToLast(head, 2).val)\n",
    "print(kthToLast(head, 10))"
   ]
  }
 ],
 "metadata": {
  "kernelspec": {
   "display_name": "Python 3",
   "language": "python",
   "name": "python3"
  },
  "language_info": {
   "codemirror_mode": {
    "name": "ipython",
    "version": 3
   },
   "file_extension": ".py",
   "mimetype": "text/x-python",
   "name": "python",
   "nbconvert_exporter": "python",
   "pygments_lexer": "ipython3",
   "version": "3.7.1"
  }
 },
 "nbformat": 4,
 "nbformat_minor": 2
}
