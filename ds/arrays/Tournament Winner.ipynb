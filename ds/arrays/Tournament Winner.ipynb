{
 "cells": [
  {
   "cell_type": "markdown",
   "id": "60a700e8",
   "metadata": {},
   "source": [
    "2 arrays : competitions and results<br>\n",
    "competitions = [homeTeam, awayTeam]<br>\n",
    "results contain info about winner of each corresponding competition in competitions array where results[i] denotes the winner of competitions[i]<br>\n",
    "1 = homeTeam won<br>\n",
    "0 = awayTeam won<br>\n",
    "Team receives 3 points for winning and 0 points for losing\n",
    "\n",
    "**competitions = [[\"HTML\",\"C#\"], [\"C#\",\"Python\"], [\"Python\",\"HTML\"]]<br>\n",
    "results = [0,0,1]<br>\n",
    "output = \"Python\"** since html=0, c#=3, python=6\n",
    "\n",
    "note: calculating points is not required, count itself will give same info."
   ]
  },
  {
   "cell_type": "code",
   "execution_count": 1,
   "id": "f848a8b5",
   "metadata": {},
   "outputs": [],
   "source": [
    "# O(n) time : 2 loops\n",
    "# O(k) space : k=number of teams\n",
    "def tournamentWinner(competitions, results):\n",
    "    team_counter = {}\n",
    "    for i, each_competition in enumerate(competitions):\n",
    "        homeTeam, awayTeam = each_competition\n",
    "        if results[i] == 1:\n",
    "            if homeTeam not in team_counter:\n",
    "                team_counter[homeTeam] = 1\n",
    "            else:\n",
    "                team_counter[homeTeam] += 1\n",
    "        else:\n",
    "            if awayTeam not in team_counter:\n",
    "                team_counter[awayTeam] = 1\n",
    "            else:\n",
    "                team_counter[awayTeam] += 1\n",
    "    maxcount = 0\n",
    "    maxkey = \"\"\n",
    "    for key, val in team_counter.items():\n",
    "        if val > maxcount:\n",
    "            maxcount = val\n",
    "            maxkey = key\n",
    "    return maxkey"
   ]
  },
  {
   "cell_type": "code",
   "execution_count": 2,
   "id": "da57320f",
   "metadata": {},
   "outputs": [],
   "source": [
    "# O(n) time : 1 loop only\n",
    "# O(k) space : k+1=number of teams\n",
    "def tournamentWinner(competitions, results):\n",
    "    currentBestTeam = \"\"\n",
    "    scores = {currentBestTeam:0} #initialize maxScoreTeam as 0 in hmap\n",
    "    for idx, competition in enumerate(competitions):\n",
    "        result = results[idx]\n",
    "        homeTeam, awayTeam = competition\n",
    "        \n",
    "        # find the winner and update in hmap\n",
    "        winningTeam = homeTeam if result==1 else awayTeam\n",
    "        updateScores(winningTeam, 3, scores)\n",
    "        \n",
    "        # update maxScoreTeam in the same loop\n",
    "        if scores[winningTeam] > scores[currentBestTeam]:\n",
    "            currentBestTeam = winningTeam\n",
    "    return currentBestTeam\n",
    "        \n",
    "def updateScores(team, points, scores):\n",
    "    if team not in scores:\n",
    "        scores[team] = 0 #create and initialize the key first\n",
    "    scores[team] += 3\n",
    "    "
   ]
  },
  {
   "cell_type": "code",
   "execution_count": 3,
   "id": "1c61ca76",
   "metadata": {},
   "outputs": [
    {
     "data": {
      "text/plain": [
       "'Python'"
      ]
     },
     "execution_count": 3,
     "metadata": {},
     "output_type": "execute_result"
    }
   ],
   "source": [
    "competitions = [[\"HTML\",\"C#\"], [\"C#\",\"Python\"], [\"Python\",\"HTML\"]]\n",
    "results = [0,0,1]\n",
    "tournamentWinner(competitions, results)"
   ]
  }
 ],
 "metadata": {
  "kernelspec": {
   "display_name": "Python 3 (ipykernel)",
   "language": "python",
   "name": "python3"
  },
  "language_info": {
   "codemirror_mode": {
    "name": "ipython",
    "version": 3
   },
   "file_extension": ".py",
   "mimetype": "text/x-python",
   "name": "python",
   "nbconvert_exporter": "python",
   "pygments_lexer": "ipython3",
   "version": "3.8.2"
  }
 },
 "nbformat": 4,
 "nbformat_minor": 5
}
