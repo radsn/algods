{
 "cells": [
  {
   "cell_type": "markdown",
   "id": "45868ab9",
   "metadata": {},
   "source": [
    "Determine whether the second array is a subsequence of the first array.\n",
    "\n",
    "Subsequence : set of elements that are not necessarily adjacent in the array but that are in the same order as they appear in the array."
   ]
  },
  {
   "cell_type": "markdown",
   "id": "3ca029a9",
   "metadata": {},
   "source": [
    "- need to traverse both arrays\n",
    "- two pointers approach"
   ]
  },
  {
   "cell_type": "code",
   "execution_count": 1,
   "id": "5e717ad5",
   "metadata": {},
   "outputs": [],
   "source": [
    "# O(n) time | O(1) space\n",
    "# while loop\n",
    "def isValidSubsequence(array, sequence):\n",
    "    arrIdx = 0\n",
    "    seqIdx = 0\n",
    "    while arrIdx < len(array) and seqIdx<(len(sequence)):\n",
    "        if array[arrIdx] == sequence[seqIdx]:\n",
    "            seqIdx +=1\n",
    "        arrIdx +=1\n",
    "    return seqIdx == len(sequence)"
   ]
  },
  {
   "cell_type": "code",
   "execution_count": 2,
   "id": "ae9d1358",
   "metadata": {},
   "outputs": [],
   "source": [
    "# for loop\n",
    "def isValidSubsequence(array, sequence):\n",
    "    seqIdx = 0\n",
    "    for ele in array:\n",
    "        if seqIdx == len(sequence):\n",
    "            break\n",
    "        if sequence[seqIdx] == ele:\n",
    "            seqIdx +=1\n",
    "    return seqIdx == len(sequence)"
   ]
  }
 ],
 "metadata": {
  "kernelspec": {
   "display_name": "Python 3 (ipykernel)",
   "language": "python",
   "name": "python3"
  },
  "language_info": {
   "codemirror_mode": {
    "name": "ipython",
    "version": 3
   },
   "file_extension": ".py",
   "mimetype": "text/x-python",
   "name": "python",
   "nbconvert_exporter": "python",
   "pygments_lexer": "ipython3",
   "version": "3.8.2"
  }
 },
 "nbformat": 4,
 "nbformat_minor": 5
}
