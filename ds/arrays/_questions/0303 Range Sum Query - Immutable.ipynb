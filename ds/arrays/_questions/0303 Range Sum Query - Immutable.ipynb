{
 "cells": [
  {
   "cell_type": "markdown",
   "metadata": {},
   "source": [
    "Given an integer array nums, find the sum of the elements between indices i and j (i ≤ j), inclusive. Implement the NumArray class."
   ]
  },
  {
   "cell_type": "markdown",
   "metadata": {},
   "source": [
    "anticipate all the range queries (pair of 2 numbers) -- think of how many possible queries are there? n(n-1)/2<br>\n",
    "preprocessing: store all the answers to n(n-1)/2 queries in S(n)=O(n^2) in a hash table.<br>\n",
    "time O(1) lookup and O(n^2) space"
   ]
  },
  {
   "cell_type": "code",
   "execution_count": null,
   "metadata": {},
   "outputs": [],
   "source": []
  },
  {
   "cell_type": "markdown",
   "metadata": {},
   "source": [
    "constant time and less space than O(n^2)"
   ]
  },
  {
   "cell_type": "code",
   "execution_count": null,
   "metadata": {},
   "outputs": [],
   "source": []
  },
  {
   "cell_type": "markdown",
   "metadata": {},
   "source": [
    "Enhance-and-Conquer / Input Enhancement:<br>\n",
    "- Enhance the input to compute and store some derived data\n",
    "- Conquer \n",
    "ex: PrefixSum"
   ]
  },
  {
   "cell_type": "code",
   "execution_count": null,
   "metadata": {},
   "outputs": [],
   "source": []
  }
 ],
 "metadata": {
  "kernelspec": {
   "display_name": "Python 3",
   "language": "python",
   "name": "python3"
  },
  "language_info": {
   "codemirror_mode": {
    "name": "ipython",
    "version": 3
   },
   "file_extension": ".py",
   "mimetype": "text/x-python",
   "name": "python",
   "nbconvert_exporter": "python",
   "pygments_lexer": "ipython3",
   "version": "3.7.1"
  }
 },
 "nbformat": 4,
 "nbformat_minor": 2
}
