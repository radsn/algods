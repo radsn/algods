{
 "cells": [
  {
   "cell_type": "markdown",
   "metadata": {},
   "source": [
    "think how to detect a new window - what is the starting point and ending point for this window"
   ]
  },
  {
   "cell_type": "code",
   "execution_count": 1,
   "metadata": {},
   "outputs": [],
   "source": [
    "def findMaxConsecutiveOnes(nums):\n",
    "    max_count = 0\n",
    "    count = 0\n",
    "    for num in nums:\n",
    "        if num == 1:\n",
    "            count += 1\n",
    "        else:\n",
    "            max_count = max(max_count, count)\n",
    "            count = 0\n",
    "    return max(max_count, count) "
   ]
  },
  {
   "cell_type": "markdown",
   "metadata": {},
   "source": [
    "for loop: need to max again at the end <br>\n",
    "or put max_count in the if and can return max_count in line 10"
   ]
  },
  {
   "cell_type": "code",
   "execution_count": 2,
   "metadata": {},
   "outputs": [],
   "source": [
    "def findMaxConsecutiveOnes(nums):\n",
    "    max_count = 0\n",
    "    i = 0\n",
    "    while i < len(nums):\n",
    "        count = 0\n",
    "        while i < len(nums) and nums[i] == 1:\n",
    "            count += 1\n",
    "            i += 1\n",
    "        max_count = max(count, max_count)\n",
    "        i += 1\n",
    "    return max_count"
   ]
  },
  {
   "cell_type": "markdown",
   "metadata": {},
   "source": [
    "remember to initialize the variable (think where to initialize) before using it <br>\n",
    "while loop: i<len(nums) is again needed with conditional if when using while loop <br>\n",
    "remember to avoid infinite loop and check for termination when using while (initialize, conditon, increment)"
   ]
  },
  {
   "cell_type": "code",
   "execution_count": 3,
   "metadata": {},
   "outputs": [],
   "source": [
    "def findMaxConsecutiveOnes(nums):\n",
    "    #following template for max consecutive II / III -- need to maintain 0 zeros always btw idx1 and idx2\n",
    "    maxones = 0\n",
    "    countzeros = 0\n",
    "    idx1 = 0\n",
    "    for idx2 in range(len(nums)):\n",
    "        if nums[idx2] == 0:\n",
    "            countzeros += 1\n",
    "\n",
    "        while countzeros > 0:\n",
    "            if nums[idx1] == 0:\n",
    "                countzeros -= 1\n",
    "            idx1 += 1\n",
    "\n",
    "        maxones = max(maxones, idx2-idx1+1)\n",
    "\n",
    "    return maxones"
   ]
  },
  {
   "cell_type": "code",
   "execution_count": 4,
   "metadata": {},
   "outputs": [
    {
     "data": {
      "text/plain": [
       "3"
      ]
     },
     "execution_count": 4,
     "metadata": {},
     "output_type": "execute_result"
    }
   ],
   "source": [
    "nums = [0,1,0,1,1,0,1,1,1]\n",
    "findMaxConsecutiveOnes(nums)"
   ]
  }
 ],
 "metadata": {
  "kernelspec": {
   "display_name": "Python 3",
   "language": "python",
   "name": "python3"
  },
  "language_info": {
   "codemirror_mode": {
    "name": "ipython",
    "version": 3
   },
   "file_extension": ".py",
   "mimetype": "text/x-python",
   "name": "python",
   "nbconvert_exporter": "python",
   "pygments_lexer": "ipython3",
   "version": "3.7.1"
  }
 },
 "nbformat": 4,
 "nbformat_minor": 2
}
