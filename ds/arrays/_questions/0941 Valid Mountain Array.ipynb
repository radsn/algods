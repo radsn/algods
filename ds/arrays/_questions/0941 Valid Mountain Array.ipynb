{
 "cells": [
  {
   "cell_type": "markdown",
   "metadata": {},
   "source": [
    "Given an array A of integers, return true if and only if it is a valid mountain array.\n",
    "\n",
    "Recall that A is a mountain array if and only if:\n",
    "\n",
    "`A.length >= 3` <br>\n",
    "There exists some i with 0 < i < A.length - 1 such that: <br>\n",
    "`A[0] < A[1] < ... A[i-1] < A[i]` <br>\n",
    "`A[i] > A[i+1] > ... > A[A.length - 1]`"
   ]
  },
  {
   "cell_type": "code",
   "execution_count": 1,
   "metadata": {},
   "outputs": [],
   "source": [
    "# one pass: O(n) time | O(1) space\n",
    "def validMountainArray(A):\n",
    "    #start at index 0\n",
    "    #first check A[i+1] > A[i] -- i++ break when not \n",
    "    #two conditions check: i != len(A) (completely ascending) and i != 0 (completely descending)\n",
    "    #then check if A[i+1] < A[i] i++ \n",
    "    #check if i == len(A)\n",
    "\n",
    "    if len(A) < 3:               #check if len(array) > 3\n",
    "        return False \n",
    "\n",
    "    i = 0\n",
    "    while i < len(A)-1:\n",
    "        if A[i+1] > A[i]:        #check if strictly ascending\n",
    "            i += 1\n",
    "        else:\n",
    "            break                #break when stops ascending\n",
    "            \n",
    "    if i == 0 or i == len(A)-1:  #peak cannot be first or last\n",
    "        return False\n",
    "\n",
    "    while i < len(A)-1:          #check if strictly descending\n",
    "        if A[i+1] < A[i]:\n",
    "            i+=1\n",
    "        else:\n",
    "            break\n",
    "\n",
    "    return i == len(A)-1         #return True if i == end of array"
   ]
  },
  {
   "cell_type": "code",
   "execution_count": 2,
   "metadata": {},
   "outputs": [
    {
     "name": "stdout",
     "output_type": "stream",
     "text": [
      "True\n",
      "False\n"
     ]
    }
   ],
   "source": [
    "A1 = [0,3,2,1]\n",
    "A2 = [3,5,5]\n",
    "print(validMountainArray(A1))\n",
    "print(validMountainArray(A2))"
   ]
  }
 ],
 "metadata": {
  "kernelspec": {
   "display_name": "Python 3",
   "language": "python",
   "name": "python3"
  },
  "language_info": {
   "codemirror_mode": {
    "name": "ipython",
    "version": 3
   },
   "file_extension": ".py",
   "mimetype": "text/x-python",
   "name": "python",
   "nbconvert_exporter": "python",
   "pygments_lexer": "ipython3",
   "version": "3.7.1"
  }
 },
 "nbformat": 4,
 "nbformat_minor": 2
}
