{
 "cells": [
  {
   "cell_type": "markdown",
   "metadata": {},
   "source": [
    "Given an array of integers sorted in non-decreasing, return an array of squares of each number, also in sorted non-decreasing order."
   ]
  },
  {
   "cell_type": "code",
   "execution_count": 1,
   "metadata": {},
   "outputs": [],
   "source": [
    "# O(nlogn) time | O(1) space\n",
    "def sortedSquares(nums):\n",
    "    for i in range(len(nums)):\n",
    "        nums[i] = nums[i]**2\n",
    "    nums.sort()\n",
    "    return nums"
   ]
  },
  {
   "cell_type": "code",
   "execution_count": 2,
   "metadata": {},
   "outputs": [
    {
     "data": {
      "text/plain": [
       "[0, 1, 9, 16, 100]"
      ]
     },
     "execution_count": 2,
     "metadata": {},
     "output_type": "execute_result"
    }
   ],
   "source": [
    "arr = [-4,-1,0,3,10]\n",
    "sortedSquares(arr)"
   ]
  },
  {
   "cell_type": "markdown",
   "metadata": {},
   "source": [
    "iterate over the negative part in reverse, and the positive part in the forward direction\n",
    "\n",
    "merge these arrays together using two pointer technique"
   ]
  },
  {
   "cell_type": "code",
   "execution_count": 3,
   "metadata": {},
   "outputs": [],
   "source": [
    "def sortedSquares(nums):\n",
    "    # neg, pos: negative, positive\n",
    "    pos = 0\n",
    "    while pos < len(nums) and nums[pos] < 0:\n",
    "        pos += 1\n",
    "    neg = pos - 1\n",
    "    \n",
    "    out = []\n",
    "    while neg >= 0 and pos < len(nums):\n",
    "        if nums[neg]**2 < nums[pos]**2:\n",
    "            out.append(nums[neg]**2)\n",
    "            neg -= 1\n",
    "        else:\n",
    "            out.append(nums[pos]**2)\n",
    "            pos += 1\n",
    "        \n",
    "    while neg >= 0:\n",
    "        out.append(nums[neg]**2)\n",
    "        neg += 1\n",
    "    while pos < len(nums):\n",
    "        out.append(nums[pos]**2)\n",
    "        pos += 1\n",
    "        \n",
    "    return out"
   ]
  },
  {
   "cell_type": "markdown",
   "metadata": {},
   "source": [
    "use list reversal"
   ]
  },
  {
   "cell_type": "code",
   "execution_count": 4,
   "metadata": {},
   "outputs": [],
   "source": [
    "def sortedSquares(nums):\n",
    "    out = []\n",
    "    l, r = 0, len(nums)-1\n",
    "    while l <= r:\n",
    "        left, right = abs(nums[l]), abs(nums[r])\n",
    "        if left > right:\n",
    "            out.append(left**2)\n",
    "            l += 1\n",
    "        else:\n",
    "            out.append(right**2)\n",
    "            r -= 1\n",
    "    return out[::-1]"
   ]
  }
 ],
 "metadata": {
  "kernelspec": {
   "display_name": "Python 3",
   "language": "python",
   "name": "python3"
  },
  "language_info": {
   "codemirror_mode": {
    "name": "ipython",
    "version": 3
   },
   "file_extension": ".py",
   "mimetype": "text/x-python",
   "name": "python",
   "nbconvert_exporter": "python",
   "pygments_lexer": "ipython3",
   "version": "3.7.1"
  }
 },
 "nbformat": 4,
 "nbformat_minor": 2
}
