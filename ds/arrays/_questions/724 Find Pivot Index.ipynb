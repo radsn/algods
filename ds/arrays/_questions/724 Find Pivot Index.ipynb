{
 "cells": [
  {
   "cell_type": "markdown",
   "metadata": {},
   "source": [
    "Given an array of integers nums, write a method that returns the \"pivot\" index of this array.\n",
    "\n",
    "We define the pivot index as the index where the sum of all the numbers to the left of the index is equal to the sum of all the numbers to the right of the index.\n",
    "\n",
    "If no such index exists, we should return -1. If there are multiple pivot indexes, you should return the left-most pivot index."
   ]
  },
  {
   "cell_type": "code",
   "execution_count": 1,
   "metadata": {},
   "outputs": [],
   "source": [
    "# O(n) time | O(1) space\n",
    "def pivotIndex(nums):\n",
    "    total = sum(nums)  #for num in nums: summ += num\n",
    "    leftsum = 0\n",
    "    for i, num in enumerate(nums):\n",
    "        rightsum = total - num - leftsum\n",
    "        if leftsum == rightsum:\n",
    "            return i\n",
    "        leftsum += num\n",
    "    return -1"
   ]
  },
  {
   "cell_type": "code",
   "execution_count": 2,
   "metadata": {},
   "outputs": [],
   "source": [
    "#variant:\n",
    "def pivotIndex(nums):\n",
    "    left = 0\n",
    "    right = sum(nums)\n",
    "    for i, num in enumerate(nums):\n",
    "        right -= num\n",
    "        if left == right:\n",
    "            return i\n",
    "        left += num\n",
    "    return -1"
   ]
  },
  {
   "cell_type": "markdown",
   "metadata": {},
   "source": [
    "longway with helper to calc sum of subarrays"
   ]
  },
  {
   "cell_type": "code",
   "execution_count": 3,
   "metadata": {},
   "outputs": [],
   "source": [
    "def pivotIndex(nums):\n",
    "    \n",
    "    def calcSum(start, end): #pass start and end in helper method\n",
    "        summ = 0\n",
    "        for num in nums[start:end+1]:\n",
    "            summ += num\n",
    "        return summ\n",
    "\n",
    "    for i in range(len(nums)):\n",
    "        left = calcSum(0, i-1)\n",
    "        right = calcSum(i+1, len(nums)-1)\n",
    "        if left == right:\n",
    "            return i \n",
    "    return -1"
   ]
  },
  {
   "cell_type": "code",
   "execution_count": 4,
   "metadata": {},
   "outputs": [
    {
     "data": {
      "text/plain": [
       "3"
      ]
     },
     "execution_count": 4,
     "metadata": {},
     "output_type": "execute_result"
    }
   ],
   "source": [
    "nums = [1,7,3,6,5,6]\n",
    "pivotIndex(nums)"
   ]
  }
 ],
 "metadata": {
  "kernelspec": {
   "display_name": "Python 3",
   "language": "python",
   "name": "python3"
  },
  "language_info": {
   "codemirror_mode": {
    "name": "ipython",
    "version": 3
   },
   "file_extension": ".py",
   "mimetype": "text/x-python",
   "name": "python",
   "nbconvert_exporter": "python",
   "pygments_lexer": "ipython3",
   "version": "3.7.1"
  }
 },
 "nbformat": 4,
 "nbformat_minor": 2
}
