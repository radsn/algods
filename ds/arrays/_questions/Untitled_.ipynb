{
 "cells": [
  {
   "cell_type": "code",
   "execution_count": 265,
   "metadata": {},
   "outputs": [],
   "source": []
  },
  {
   "cell_type": "code",
   "execution_count": 273,
   "metadata": {},
   "outputs": [
    {
     "name": "stdout",
     "output_type": "stream",
     "text": [
      "0 2 4\n",
      "1 5 10\n",
      "\n",
      "0 1 2\n",
      "1 2 5\n",
      "\n"
     ]
    },
    {
     "data": {
      "text/plain": [
       "2"
      ]
     },
     "execution_count": 273,
     "metadata": {},
     "output_type": "execute_result"
    }
   ],
   "source": [
    "A = [1,2,5,9,10]\n",
    "X = 5\n",
    "solution(A, X)"
   ]
  },
  {
   "cell_type": "code",
   "execution_count": 272,
   "metadata": {},
   "outputs": [
    {
     "name": "stdout",
     "output_type": "stream",
     "text": [
      "0 3 7\n",
      "0 5 7\n",
      "\n",
      "0 1 3\n",
      "0 1 5\n",
      "\n",
      "2 2 3\n",
      "2 2 5\n",
      "\n"
     ]
    },
    {
     "data": {
      "text/plain": [
       "3"
      ]
     },
     "execution_count": 272,
     "metadata": {},
     "output_type": "execute_result"
    }
   ],
   "source": [
    "A = [0,1,2,5,6,6,7,7]\n",
    "X = 5\n",
    "solution(A, X)"
   ]
  },
  {
   "cell_type": "markdown",
   "metadata": {},
   "source": [
    "#### Check if Subarray Sum Equals K\n",
    "Given a sequence of positive integers nums and an integer k, return whether there is a continuous sequence of nums that sums up to exactly k."
   ]
  },
  {
   "cell_type": "code",
   "execution_count": 274,
   "metadata": {},
   "outputs": [],
   "source": [
    "def solution(N):\n",
    "    # write your code in Python 3.6\n",
    "    ans = []\n",
    "    for i in range(1, N//2+1):\n",
    "        ans.append(i)\n",
    "        ans.append(-i)\n",
    "    if N % 2 != 0:\n",
    "        ans.append(0)\n",
    "    return ans"
   ]
  },
  {
   "cell_type": "code",
   "execution_count": 279,
   "metadata": {},
   "outputs": [
    {
     "data": {
      "text/plain": [
       "[1, -1, 2, -2, 3, -3, 0]"
      ]
     },
     "execution_count": 279,
     "metadata": {},
     "output_type": "execute_result"
    }
   ],
   "source": [
    "solution(7)"
   ]
  },
  {
   "cell_type": "code",
   "execution_count": null,
   "metadata": {},
   "outputs": [],
   "source": []
  },
  {
   "cell_type": "code",
   "execution_count": null,
   "metadata": {},
   "outputs": [],
   "source": []
  },
  {
   "cell_type": "code",
   "execution_count": null,
   "metadata": {},
   "outputs": [],
   "source": []
  },
  {
   "cell_type": "code",
   "execution_count": null,
   "metadata": {},
   "outputs": [],
   "source": []
  },
  {
   "cell_type": "code",
   "execution_count": null,
   "metadata": {},
   "outputs": [],
   "source": []
  },
  {
   "cell_type": "code",
   "execution_count": null,
   "metadata": {},
   "outputs": [],
   "source": []
  },
  {
   "cell_type": "code",
   "execution_count": null,
   "metadata": {},
   "outputs": [],
   "source": []
  },
  {
   "cell_type": "code",
   "execution_count": null,
   "metadata": {},
   "outputs": [],
   "source": []
  },
  {
   "cell_type": "markdown",
   "metadata": {},
   "source": [
    "brute (2 loops)"
   ]
  },
  {
   "cell_type": "code",
   "execution_count": 96,
   "metadata": {},
   "outputs": [],
   "source": [
    "# O(n^2) time | O(1) space\n",
    "def hasSequence(nums, k):\n",
    "    for i in range(len(nums)):\n",
    "        total = nums[i]\n",
    "        for j in range(i+1, len(nums)):\n",
    "            total += nums[j]\n",
    "            if total == k:\n",
    "                return True\n",
    "            if total > k:\n",
    "                break\n",
    "    return False"
   ]
  },
  {
   "cell_type": "markdown",
   "metadata": {},
   "source": [
    "sliding window"
   ]
  },
  {
   "cell_type": "code",
   "execution_count": 132,
   "metadata": {},
   "outputs": [],
   "source": [
    "#O(n) time | O(1) space\n",
    "def hasSequence(nums, k):\n",
    "    #if count<k add to count and right++\n",
    "    #if count>k subtract from count and left++\n",
    "    #loop condition: left <= right and right < length(nums)\n",
    "    if k <= 0:\n",
    "        return False\n",
    "    total = 0\n",
    "    left = 0\n",
    "    right = 0\n",
    "    while left <= right and right < len(nums):\n",
    "        if total < k:\n",
    "            total += nums[right]\n",
    "            right += 1\n",
    "            print(\"if\",total)\n",
    "        elif total > k:\n",
    "            total -= nums[left]\n",
    "            left += 1\n",
    "            print(\"elif\", total)\n",
    "        elif total == k:\n",
    "            return True\n",
    "    return False"
   ]
  },
  {
   "cell_type": "code",
   "execution_count": 125,
   "metadata": {},
   "outputs": [],
   "source": [
    "def hasSequence(nums, t):\n",
    "    if not nums or t <= 0: return False\n",
    "    left, right, total = 0, 0, 0\n",
    "\n",
    "    while right < len(nums):\n",
    "        total += nums[right]\n",
    "        right += 1\n",
    "        \n",
    "        while total > t:\n",
    "            total -= nums[left]\n",
    "            left += 1\n",
    "\n",
    "        if total == t:\n",
    "            return True\n",
    "\n",
    "    return False"
   ]
  },
  {
   "cell_type": "code",
   "execution_count": 133,
   "metadata": {
    "scrolled": true
   },
   "outputs": [
    {
     "name": "stdout",
     "output_type": "stream",
     "text": [
      "if 23\n",
      "elif 0\n",
      "if 5\n",
      "if 9\n",
      "if 16\n",
      "if 18\n",
      "if 29\n"
     ]
    },
    {
     "data": {
      "text/plain": [
       "False"
      ]
     },
     "execution_count": 133,
     "metadata": {},
     "output_type": "execute_result"
    }
   ],
   "source": [
    "nums = [23, 5, 4, 7, 2, 11]\n",
    "k = 20\n",
    "hasSequence(nums, k)"
   ]
  },
  {
   "cell_type": "code",
   "execution_count": 134,
   "metadata": {},
   "outputs": [
    {
     "name": "stdout",
     "output_type": "stream",
     "text": [
      "if 1\n",
      "if 4\n",
      "if 9\n",
      "elif 8\n"
     ]
    },
    {
     "data": {
      "text/plain": [
       "True"
      ]
     },
     "execution_count": 134,
     "metadata": {},
     "output_type": "execute_result"
    }
   ],
   "source": [
    "nums = [1, 3, 5, 23, 2]\n",
    "k = 8\n",
    "hasSequence(nums, k)"
   ]
  },
  {
   "cell_type": "code",
   "execution_count": 135,
   "metadata": {},
   "outputs": [
    {
     "name": "stdout",
     "output_type": "stream",
     "text": [
      "if 1\n",
      "if 4\n",
      "if 9\n",
      "elif 8\n",
      "elif 5\n",
      "if 28\n",
      "elif 23\n",
      "elif 0\n",
      "if 2\n"
     ]
    },
    {
     "data": {
      "text/plain": [
       "False"
      ]
     },
     "execution_count": 135,
     "metadata": {},
     "output_type": "execute_result"
    }
   ],
   "source": [
    "nums = [1, 3, 5, 23, 2]\n",
    "k = 7\n",
    "hasSequence(nums, k)"
   ]
  },
  {
   "cell_type": "code",
   "execution_count": 136,
   "metadata": {},
   "outputs": [
    {
     "name": "stdout",
     "output_type": "stream",
     "text": [
      "if 5\n",
      "elif 0\n",
      "if 3\n",
      "if 5\n",
      "elif 2\n",
      "if 3\n",
      "if 10\n"
     ]
    },
    {
     "data": {
      "text/plain": [
       "False"
      ]
     },
     "execution_count": 136,
     "metadata": {},
     "output_type": "execute_result"
    }
   ],
   "source": [
    "nums = [5, 3, 2, 1, 7]\n",
    "k = 4\n",
    "hasSequence(nums, k)"
   ]
  },
  {
   "cell_type": "code",
   "execution_count": null,
   "metadata": {},
   "outputs": [],
   "source": []
  },
  {
   "cell_type": "code",
   "execution_count": null,
   "metadata": {},
   "outputs": [],
   "source": []
  }
 ],
 "metadata": {
  "kernelspec": {
   "display_name": "Python 3",
   "language": "python",
   "name": "python3"
  },
  "language_info": {
   "codemirror_mode": {
    "name": "ipython",
    "version": 3
   },
   "file_extension": ".py",
   "mimetype": "text/x-python",
   "name": "python",
   "nbconvert_exporter": "python",
   "pygments_lexer": "ipython3",
   "version": "3.7.1"
  }
 },
 "nbformat": 4,
 "nbformat_minor": 2
}
