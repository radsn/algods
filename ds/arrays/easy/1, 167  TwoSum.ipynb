{
 "cells": [
  {
   "cell_type": "code",
   "execution_count": 1,
   "metadata": {},
   "outputs": [],
   "source": [
    "nums = [3, 5, -4, 8, 11, 1, -1, 6]\n",
    "targetSum = 10"
   ]
  },
  {
   "cell_type": "code",
   "execution_count": 2,
   "metadata": {},
   "outputs": [],
   "source": [
    "# BruteForce: O(n^2) time | O(1) space\n",
    "def twoSum1(nums, targetSum):\n",
    "    for i in range(len(nums)-1):\n",
    "        for j in range(i+1, len(nums)):\n",
    "            currentSum = nums[i] + nums[j]\n",
    "            if currentSum == targetSum:\n",
    "                return [nums[i], nums[j]]\n",
    "    return []"
   ]
  },
  {
   "cell_type": "code",
   "execution_count": 3,
   "metadata": {},
   "outputs": [
    {
     "data": {
      "text/plain": [
       "[11, -1]"
      ]
     },
     "execution_count": 3,
     "metadata": {},
     "output_type": "execute_result"
    }
   ],
   "source": [
    "twoSum1(nums, targetSum)"
   ]
  },
  {
   "cell_type": "code",
   "execution_count": 4,
   "metadata": {},
   "outputs": [],
   "source": [
    "# Sorting 2pointers approach: O(nlogn) time | O(1) space\n",
    "def twoSum2(nums, targetSum):\n",
    "    nums.sort()\n",
    "    left = 0\n",
    "    right = len(nums)-1\n",
    "    while left < right:\n",
    "        currentSum = nums[left] + nums[right]\n",
    "        if currentSum > targetSum:\n",
    "            right -= 1\n",
    "        elif currentSum < targetSum:\n",
    "            left += 1\n",
    "        else:\n",
    "            return [nums[left], nums[right]]\n",
    "    return []"
   ]
  },
  {
   "cell_type": "code",
   "execution_count": 5,
   "metadata": {},
   "outputs": [
    {
     "data": {
      "text/plain": [
       "[-1, 11]"
      ]
     },
     "execution_count": 5,
     "metadata": {},
     "output_type": "execute_result"
    }
   ],
   "source": [
    "twoSum2(nums, targetSum)"
   ]
  },
  {
   "cell_type": "code",
   "execution_count": 6,
   "metadata": {},
   "outputs": [],
   "source": [
    "# Set: O(n) time | O(n) space\n",
    "def twoSum3(nums, targetSum):\n",
    "    hmap = set()\n",
    "    for num in nums:\n",
    "        target = targetSum - num\n",
    "        if target not in hmap:\n",
    "            hmap.add(num)\n",
    "        else:\n",
    "            return [num, target]\n",
    "    return []"
   ]
  },
  {
   "cell_type": "code",
   "execution_count": 7,
   "metadata": {},
   "outputs": [
    {
     "data": {
      "text/plain": [
       "[11, -1]"
      ]
     },
     "execution_count": 7,
     "metadata": {},
     "output_type": "execute_result"
    }
   ],
   "source": [
    "twoSum3(nums, targetSum)"
   ]
  }
 ],
 "metadata": {
  "kernelspec": {
   "display_name": "Python 3",
   "language": "python",
   "name": "python3"
  },
  "language_info": {
   "codemirror_mode": {
    "name": "ipython",
    "version": 3
   },
   "file_extension": ".py",
   "mimetype": "text/x-python",
   "name": "python",
   "nbconvert_exporter": "python",
   "pygments_lexer": "ipython3",
   "version": "3.7.1"
  }
 },
 "nbformat": 4,
 "nbformat_minor": 2
}
