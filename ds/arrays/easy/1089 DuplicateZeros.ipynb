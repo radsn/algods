{
 "cells": [
  {
   "cell_type": "markdown",
   "metadata": {},
   "source": [
    "Given a fixed length array arr of integers, duplicate each occurrence of zero, shifting the remaining elements to the right. Return same length as original array."
   ]
  },
  {
   "cell_type": "markdown",
   "metadata": {},
   "source": [
    "copy from source into destination and return only until length of source"
   ]
  },
  {
   "cell_type": "code",
   "execution_count": 52,
   "metadata": {},
   "outputs": [],
   "source": [
    "def duplicateZeros(arr):\n",
    "    d = 0\n",
    "    destination = []\n",
    "    for i in range(len(arr)):\n",
    "        if arr[i] == 0:\n",
    "            destination.append(0)\n",
    "            d += 1\n",
    "            destination.append(0)\n",
    "        else:\n",
    "            destination.append(arr[i])\n",
    "        d += 1\n",
    "    return destination[:len(arr)]"
   ]
  },
  {
   "cell_type": "code",
   "execution_count": 53,
   "metadata": {},
   "outputs": [
    {
     "data": {
      "text/plain": [
       "[1, 0, 0, 2, 3, 0, 0, 4]"
      ]
     },
     "execution_count": 53,
     "metadata": {},
     "output_type": "execute_result"
    }
   ],
   "source": [
    "arr = [1,0,2,3,0,4,5,0]\n",
    "duplicateZeros(arr)"
   ]
  },
  {
   "cell_type": "code",
   "execution_count": 49,
   "metadata": {},
   "outputs": [],
   "source": [
    " def duplicateZeros(arr):\n",
    "    i = 0\n",
    "    while i < len(arr)-1:\n",
    "        if arr[i] == 0:\n",
    "            j = len(arr)-1\n",
    "            while j > i:\n",
    "                arr[j] = arr[j-1]\n",
    "                j -= 1\n",
    "            i += 2\n",
    "        else:\n",
    "            i += 1"
   ]
  }
 ],
 "metadata": {
  "kernelspec": {
   "display_name": "Python 3",
   "language": "python",
   "name": "python3"
  },
  "language_info": {
   "codemirror_mode": {
    "name": "ipython",
    "version": 3
   },
   "file_extension": ".py",
   "mimetype": "text/x-python",
   "name": "python",
   "nbconvert_exporter": "python",
   "pygments_lexer": "ipython3",
   "version": "3.7.1"
  }
 },
 "nbformat": 4,
 "nbformat_minor": 2
}
