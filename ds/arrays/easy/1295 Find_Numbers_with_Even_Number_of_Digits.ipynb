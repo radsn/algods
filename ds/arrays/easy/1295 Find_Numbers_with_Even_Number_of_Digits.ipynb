{
 "cells": [
  {
   "cell_type": "markdown",
   "metadata": {},
   "source": [
    "Given an array nums of integers, return how many of them contain an even number of digits."
   ]
  },
  {
   "cell_type": "markdown",
   "metadata": {},
   "source": [
    "convert to a string and find the length"
   ]
  },
  {
   "cell_type": "code",
   "execution_count": 1,
   "metadata": {},
   "outputs": [],
   "source": [
    "def findNumbers(nums):\n",
    "    evens = 0\n",
    "    for num in nums:\n",
    "        if len(str(num)) % 2 == 0:\n",
    "            evens += 1\n",
    "    return evens"
   ]
  },
  {
   "cell_type": "markdown",
   "metadata": {},
   "source": [
    "how to count number of digits?"
   ]
  },
  {
   "cell_type": "code",
   "execution_count": 2,
   "metadata": {},
   "outputs": [],
   "source": [
    "def findNumbers(nums):\n",
    "    evens = 0\n",
    "    for num in nums:\n",
    "        count = 1\n",
    "        while num != 0:\n",
    "            if num//10 > 0:\n",
    "                count += 1\n",
    "            num = num//10  #terminating while loop\n",
    "        if count % 2 == 0:\n",
    "            evens += 1\n",
    "    return evens"
   ]
  },
  {
   "cell_type": "code",
   "execution_count": 3,
   "metadata": {},
   "outputs": [
    {
     "data": {
      "text/plain": [
       "1"
      ]
     },
     "execution_count": 3,
     "metadata": {},
     "output_type": "execute_result"
    }
   ],
   "source": [
    "nums = [555,901,482,1771]\n",
    "findNumbers(nums) #1 (1771)"
   ]
  },
  {
   "cell_type": "code",
   "execution_count": 4,
   "metadata": {},
   "outputs": [],
   "source": [
    "def findNumbers(nums):\n",
    "    def countDigits(num):\n",
    "        count = 0\n",
    "        while num:\n",
    "            count += 1\n",
    "            num //= 10\n",
    "        return count\n",
    "    evens = 0\n",
    "    for n in nums:\n",
    "        if countDigits(n) & 1 == 0: #bitwise\n",
    "            evens += 1\n",
    "    return evens"
   ]
  }
 ],
 "metadata": {
  "kernelspec": {
   "display_name": "Python 3",
   "language": "python",
   "name": "python3"
  },
  "language_info": {
   "codemirror_mode": {
    "name": "ipython",
    "version": 3
   },
   "file_extension": ".py",
   "mimetype": "text/x-python",
   "name": "python",
   "nbconvert_exporter": "python",
   "pygments_lexer": "ipython3",
   "version": "3.7.1"
  }
 },
 "nbformat": 4,
 "nbformat_minor": 2
}
