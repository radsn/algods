{
 "cells": [
  {
   "cell_type": "markdown",
   "metadata": {},
   "source": [
    "**Given an array A of 0s and 1s, we may change up to K values from 0 to 1.**\n",
    "\n",
    "**Return the length of the longest (contiguous) subarray that contains only 1s.**"
   ]
  },
  {
   "cell_type": "markdown",
   "metadata": {},
   "source": [
    " maintain atmost K zeros between two indices\n",
    " \n",
    " use for loop for idx2 while maintaining countzeros; whenever countzeros exceeds K, correct it by moving start index forward until countzeros == K; measure length at each iteration of for loop\n"
   ]
  },
  {
   "cell_type": "code",
   "execution_count": 1,
   "metadata": {},
   "outputs": [],
   "source": [
    "def longestOnes(A, K):\n",
    "    #start both idx1 and idx2 at 0 \n",
    "    #increment idx2 always (for loop) and maintain countzeros \n",
    "    #increment idx1 if countzeros > K\n",
    "    #measure length each time\n",
    "    idx1 = 0\n",
    "    countzeros = 0\n",
    "    maxones = 0\n",
    "\n",
    "    for idx2 in range(len(A)):\n",
    "\n",
    "        if A[idx2] == 0:\n",
    "            countzeros += 1\n",
    "\n",
    "        while countzeros > K:\n",
    "            if A[idx1]  == 0:\n",
    "                countzeros -= 1\n",
    "            idx1 += 1\n",
    "\n",
    "        maxones = max(maxones, idx2-idx1+1)\n",
    "\n",
    "    return maxones"
   ]
  },
  {
   "cell_type": "code",
   "execution_count": 2,
   "metadata": {},
   "outputs": [
    {
     "data": {
      "text/plain": [
       "6"
      ]
     },
     "execution_count": 2,
     "metadata": {},
     "output_type": "execute_result"
    }
   ],
   "source": [
    "A = [1,1,1,0,0,0,1,1,1,1,0]\n",
    "K = 2\n",
    "longestOnes(A, K)"
   ]
  }
 ],
 "metadata": {
  "kernelspec": {
   "display_name": "Python 3",
   "language": "python",
   "name": "python3"
  },
  "language_info": {
   "codemirror_mode": {
    "name": "ipython",
    "version": 3
   },
   "file_extension": ".py",
   "mimetype": "text/x-python",
   "name": "python",
   "nbconvert_exporter": "python",
   "pygments_lexer": "ipython3",
   "version": "3.7.1"
  }
 },
 "nbformat": 4,
 "nbformat_minor": 2
}
