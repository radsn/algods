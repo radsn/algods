{
 "cells": [
  {
   "cell_type": "markdown",
   "metadata": {},
   "source": [
    "Given an array arr of integers, check if there exists two integers N and M such that N is the double of M ( i.e. `N = 2 * M`). Return boolean."
   ]
  },
  {
   "cell_type": "markdown",
   "metadata": {},
   "source": [
    "key: hashset! \n",
    "Iterate through the entire loop and check if two targets already seen: **num*2** and **num//2 only if num%2==0** (means need an AND condition). Check for target in the hashset, if target already exists in the hashset, return true; else add the num in the hashset."
   ]
  },
  {
   "cell_type": "code",
   "execution_count": 1,
   "metadata": {},
   "outputs": [],
   "source": [
    "def checkIfExist(nums):\n",
    "    seen = set()\n",
    "    for num in nums:\n",
    "        if num*2 in seen:\n",
    "            return True\n",
    "        if num%2==0 and num//2 in seen:\n",
    "            return True\n",
    "       #if num*2 in seen or (num%2==0 and num//2 in seen)\n",
    "        seen.add(num)\n",
    "    return False"
   ]
  },
  {
   "cell_type": "code",
   "execution_count": 2,
   "metadata": {},
   "outputs": [
    {
     "name": "stdout",
     "output_type": "stream",
     "text": [
      "True\n",
      "True\n",
      "False\n"
     ]
    }
   ],
   "source": [
    "nums1 = [10,2,5,3]\n",
    "nums2 = [7,1,14,11]\n",
    "nums3 = [3,1,7,11]\n",
    "print(checkIfExist(nums1))\n",
    "print(checkIfExist(nums2))\n",
    "print(checkIfExist(nums3))"
   ]
  }
 ],
 "metadata": {
  "kernelspec": {
   "display_name": "Python 3",
   "language": "python",
   "name": "python3"
  },
  "language_info": {
   "codemirror_mode": {
    "name": "ipython",
    "version": 3
   },
   "file_extension": ".py",
   "mimetype": "text/x-python",
   "name": "python",
   "nbconvert_exporter": "python",
   "pygments_lexer": "ipython3",
   "version": "3.7.1"
  }
 },
 "nbformat": 4,
 "nbformat_minor": 2
}
