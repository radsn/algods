{
 "cells": [
  {
   "cell_type": "markdown",
   "metadata": {},
   "source": [
    "**Given an array `nums`, write a function to move all 0's to the end of it while maintaining the relative order of the non-zero elements.**"
   ]
  },
  {
   "cell_type": "markdown",
   "metadata": {},
   "source": [
    "invariants:\n",
    "\n",
    "1. All elements before the slow pointer will be non-zero. `nums[:i+1]`\n",
    "\n",
    "2. All elements between slow pointer and fast pointer are zeros. `nums[i+1 : j+1]`"
   ]
  },
  {
   "cell_type": "markdown",
   "metadata": {},
   "source": [
    "When we encounter a non-zero element, we need to swap elements pointed by fast and slow pointer, then advance both pointers. If it's zero element, we just advance fast pointer."
   ]
  },
  {
   "cell_type": "code",
   "execution_count": 1,
   "metadata": {},
   "outputs": [],
   "source": [
    "#inplace: O(n) time | O(1) space\n",
    "def moveZeros(nums):\n",
    "    #2 pointers: slow and fast (fast iterates in for loop)\n",
    "    #whenever encounter non-zero in fast -- swap and increment slow\n",
    "    slow = 0\n",
    "    for fast in range(len(nums)):\n",
    "        if nums[fast] != 0:\n",
    "            nums[fast], nums[slow] = nums[slow], nums[fast]\n",
    "            slow += 1\n",
    "    return nums"
   ]
  },
  {
   "cell_type": "code",
   "execution_count": 2,
   "metadata": {},
   "outputs": [],
   "source": [
    "#variant: not swapping when all digits and no zeros\n",
    "def moveZeros(nums):\n",
    "    slow = 0\n",
    "    for fast in range(len(nums)):\n",
    "        if nums[fast] != 0:\n",
    "            if slow != fast:\n",
    "                nums[fast], nums[slow] = nums[slow], nums[fast]\n",
    "            slow += 1\n",
    "    return nums"
   ]
  },
  {
   "cell_type": "code",
   "execution_count": 3,
   "metadata": {},
   "outputs": [],
   "source": [
    "#variant\n",
    "def moveZeros(arr):\n",
    "    idx1 = 0\n",
    "    for idx2 in range(len(arr)):    \n",
    "        if arr[idx1] == 0 and arr[idx2] != 0:          #swap only when slow=0 and fast!=0\n",
    "            arr[idx1],arr[idx2] = arr[idx2],arr[idx1]\n",
    "        if arr[idx1] != 0:                             #else increment if slow!=0\n",
    "            idx1 += 1\n",
    "    return arr"
   ]
  },
  {
   "cell_type": "code",
   "execution_count": 4,
   "metadata": {},
   "outputs": [],
   "source": [
    "#variant\n",
    "def moveZeros(arr):\n",
    "    idx1 = 0\n",
    "    for idx2 in range(len(arr)):   \n",
    "        if arr[idx1] != 0:                             #else increment if slow!=0\n",
    "            idx1 += 1\n",
    "        elif idx1 != idx2 and arr[idx2] != 0:          #swap only when slow=0 and fast!=0\n",
    "            arr[idx1],arr[idx2] = arr[idx2],arr[idx1]\n",
    "            idx1 += 1\n",
    "    return arr"
   ]
  },
  {
   "cell_type": "code",
   "execution_count": 5,
   "metadata": {},
   "outputs": [
    {
     "data": {
      "text/plain": [
       "[1, 3, 12, 0, 0]"
      ]
     },
     "execution_count": 5,
     "metadata": {},
     "output_type": "execute_result"
    }
   ],
   "source": [
    "nums = [0,1,0,3,12]\n",
    "moveZeros(nums)"
   ]
  },
  {
   "cell_type": "markdown",
   "metadata": {},
   "source": [
    "cannot do the approach of two pointers starting at 0 within while loop: where idx1 stops at zero and idx2 stops at non-zero and swap(nums[idx1==0] and nums[idx2!=0]). \n",
    "\n",
    "This will not work since if nums is entirely non-zero with some zeros at the end [1 2 3 4 0 0 0] -- idx2 will be stuck at the start while idx1 will keep going forward.\n",
    "\n",
    "need to think of solution where idx2 always keeps moving forward per iteration and all elements behind idx1 is non-zero."
   ]
  }
 ],
 "metadata": {
  "kernelspec": {
   "display_name": "Python 3",
   "language": "python",
   "name": "python3"
  },
  "language_info": {
   "codemirror_mode": {
    "name": "ipython",
    "version": 3
   },
   "file_extension": ".py",
   "mimetype": "text/x-python",
   "name": "python",
   "nbconvert_exporter": "python",
   "pygments_lexer": "ipython3",
   "version": "3.7.1"
  }
 },
 "nbformat": 4,
 "nbformat_minor": 2
}
