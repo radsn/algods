{
 "cells": [
  {
   "cell_type": "markdown",
   "metadata": {},
   "source": [
    "**Given a binary array, find the maximum number of consecutive 1s in this array if you can flip at most one 0.**"
   ]
  },
  {
   "cell_type": "markdown",
   "metadata": {},
   "source": [
    "two pointers -- both start at same side -- at any point in time the length from left to right will maintain one 0.\n",
    "\n",
    "whenever countzeros exceeds 1, correct it by moving start index forward untill countzeros goes back to 1, then measure the latest length"
   ]
  },
  {
   "cell_type": "code",
   "execution_count": 1,
   "metadata": {},
   "outputs": [],
   "source": [
    "def findMaxConsecutiveOnes(nums):\n",
    "    #idx1 and idx2 start at index 0\n",
    "    #Always increment idx2 and keep track of zeros (countzeros) -- use a for loop since idx2 increments always\n",
    "    #increment idx1 until countzeros<=1 (if num[idx]==1 increment, if num[idx]==0 also increment but decrease countzeros)\n",
    "    #measure length in every iteration of for loop\n",
    "    startidx = 0\n",
    "    maxones = 0\n",
    "    countzeros = 0\n",
    "    \n",
    "    for endidx in range(len(nums)):\n",
    "        if nums[endidx] == 0:\n",
    "            countzeros += 1\n",
    "        \n",
    "        while countzeros > 1: #incrementing startidx to always maintain at most 1 zero\n",
    "            if nums[startidx] == 0:\n",
    "                countzeros -= 1\n",
    "            startidx += 1\n",
    "        \n",
    "        maxones = max(maxones, endidx-startidx+1)\n",
    "    return maxones"
   ]
  },
  {
   "cell_type": "code",
   "execution_count": 2,
   "metadata": {},
   "outputs": [
    {
     "data": {
      "text/plain": [
       "4"
      ]
     },
     "execution_count": 2,
     "metadata": {},
     "output_type": "execute_result"
    }
   ],
   "source": [
    "nums = [1,0,1,1,0]\n",
    "findMaxConsecutiveOnes(nums)"
   ]
  }
 ],
 "metadata": {
  "kernelspec": {
   "display_name": "Python 3",
   "language": "python",
   "name": "python3"
  },
  "language_info": {
   "codemirror_mode": {
    "name": "ipython",
    "version": 3
   },
   "file_extension": ".py",
   "mimetype": "text/x-python",
   "name": "python",
   "nbconvert_exporter": "python",
   "pygments_lexer": "ipython3",
   "version": "3.7.1"
  }
 },
 "nbformat": 4,
 "nbformat_minor": 2
}
