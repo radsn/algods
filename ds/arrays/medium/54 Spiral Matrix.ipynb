{
 "cells": [
  {
   "cell_type": "markdown",
   "metadata": {},
   "source": [
    "Given a matrix of m x n elements (m rows, n columns), return all elements of the matrix in spiral order."
   ]
  },
  {
   "cell_type": "markdown",
   "metadata": {},
   "source": [
    "layer by layer: using 4 pointers and direction indicator"
   ]
  },
  {
   "cell_type": "code",
   "execution_count": 1,
   "metadata": {},
   "outputs": [],
   "source": [
    "# O(mn) time | O(n) space for output array\n",
    "def spiralOrder(matrix):\n",
    "    if not matrix:\n",
    "        return []\n",
    "    #use four pointers and dir indicator\n",
    "    T = 0\n",
    "    B = len(matrix)-1\n",
    "    L = 0\n",
    "    R = len(matrix[0])-1\n",
    "    dir = 0\n",
    "    ans = []\n",
    "    while T <= B and L <= R:\n",
    "        if dir == 0:\n",
    "            for i in range(L,R+1):      #right (cols change)\n",
    "                ans.append(matrix[T][i])\n",
    "            T += 1\n",
    "            dir = 1\n",
    "        elif dir == 1:\n",
    "            for i in range(T,B+1):      #down (row change)\n",
    "                ans.append(matrix[i][R])\n",
    "            R -= 1\n",
    "            dir = 2\n",
    "        elif dir == 2:\n",
    "            for i in range(R, L-1, -1): #left (cols change)\n",
    "                ans.append(matrix[B][i])\n",
    "            B -= 1\n",
    "            dir = 3\n",
    "        elif dir == 3:\n",
    "            for i in range(B, T-1, -1): #up (rows change)\n",
    "                ans.append(matrix[i][L])\n",
    "            L += 1\n",
    "            dir = 0\n",
    "    return ans"
   ]
  },
  {
   "cell_type": "code",
   "execution_count": 2,
   "metadata": {},
   "outputs": [
    {
     "data": {
      "text/plain": [
       "[1, 2, 3, 6, 9, 8, 7, 4, 5]"
      ]
     },
     "execution_count": 2,
     "metadata": {},
     "output_type": "execute_result"
    }
   ],
   "source": [
    "matrix = [ [ 1, 2, 3 ],\n",
    "           [ 4, 5, 6 ],\n",
    "           [ 7, 8, 9 ]]\n",
    "spiralOrder(matrix)"
   ]
  }
 ],
 "metadata": {
  "kernelspec": {
   "display_name": "Python 3",
   "language": "python",
   "name": "python3"
  },
  "language_info": {
   "codemirror_mode": {
    "name": "ipython",
    "version": 3
   },
   "file_extension": ".py",
   "mimetype": "text/x-python",
   "name": "python",
   "nbconvert_exporter": "python",
   "pygments_lexer": "ipython3",
   "version": "3.7.1"
  }
 },
 "nbformat": 4,
 "nbformat_minor": 2
}
