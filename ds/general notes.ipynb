{
 "cells": [
  {
   "cell_type": "markdown",
   "metadata": {},
   "source": [
    "range(end, start, -1)             =  [end, …, start+1]\n",
    "\n",
    "reversed(range(start, end))  =  [end-1, …, start]\n"
   ]
  },
  {
   "cell_type": "markdown",
   "metadata": {},
   "source": [
    "Comparing two adjacent values in an array:\n",
    "\n",
    "DO NOT REQUIRE two different indices to swap two numbers in an array\n",
    "\n",
    "`for i in range(len(array)-1):\n",
    "    if array[i] > array[i+1]:\n",
    "        swap(i, i+1, array) `"
   ]
  },
  {
   "cell_type": "markdown",
   "metadata": {},
   "source": [
    "Example:  Sorting list of lists by the first element of each sub-list \n",
    "[[1,4,7],[3,6,9],[2,59,8]]\n",
    "Answer: [[1,4,7],[2,59,8],[3,6,9]]\n",
    "\n",
    "lambda function: sorted(lis, key = lambda x: x[0]) \n",
    "or modify original list: lis.sort(key= lambda x: x[0])"
   ]
  },
  {
   "cell_type": "markdown",
   "metadata": {},
   "source": [
    "*keep track of duplicates -- use SET()"
   ]
  },
  {
   "cell_type": "markdown",
   "metadata": {},
   "source": [
    "Import heapq (min-heap) \n",
    "\n",
    "To get max heap multiply all nums in array by -1\n",
    "\n",
    "heapq.heapify(heap)   #inplace converts array into heap\n",
    "\n",
    "valToRemove = heapq.heappop(heap)\n",
    "\n",
    "heapq.heappush(heap,val)"
   ]
  },
  {
   "cell_type": "markdown",
   "metadata": {},
   "source": [
    "[ ….. ] + [.......] + [.......]   =   [................................]"
   ]
  },
  {
   "cell_type": "markdown",
   "metadata": {},
   "source": [
    "use IN operator for sequential search"
   ]
  },
  {
   "cell_type": "markdown",
   "metadata": {},
   "source": [
    "indexes versus num[index] careful attention\n",
    "\n",
    "in the loop need to update the index of the traversal -- and then move pointers around if needed"
   ]
  },
  {
   "cell_type": "code",
   "execution_count": null,
   "metadata": {},
   "outputs": [],
   "source": []
  }
 ],
 "metadata": {
  "kernelspec": {
   "display_name": "Python 3",
   "language": "python",
   "name": "python3"
  },
  "language_info": {
   "codemirror_mode": {
    "name": "ipython",
    "version": 3
   },
   "file_extension": ".py",
   "mimetype": "text/x-python",
   "name": "python",
   "nbconvert_exporter": "python",
   "pygments_lexer": "ipython3",
   "version": "3.7.1"
  }
 },
 "nbformat": 4,
 "nbformat_minor": 2
}
