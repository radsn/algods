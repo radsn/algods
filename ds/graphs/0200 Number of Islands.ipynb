{
 "cells": [
  {
   "cell_type": "markdown",
   "metadata": {},
   "source": [
    "Given a 2d grid map of `'1's` (land) and `'0's` (water), count the number of islands. An island is surrounded by water and is formed by connecting adjacent lands horizontally or vertically. You may assume all four edges of the grid are all surrounded by water."
   ]
  },
  {
   "cell_type": "code",
   "execution_count": 1,
   "metadata": {},
   "outputs": [],
   "source": [
    "def numIslands(grid):\n",
    "    \n",
    "    def getValidNeighbors(x,y):\n",
    "        #return valid neighbors that are \"1\"\n",
    "        #example: input = (1,1); output = (0,1) (2,1) (1,0)\n",
    "        neighbors = []\n",
    "        if x+1 < len(grid) and grid[x+1][y] == \"1\":\n",
    "            neighbor = (x+1, y)\n",
    "            neighbors.append(neighbor)\n",
    "        if x-1 >= 0 and grid[x-1][y] == \"1\":\n",
    "            neighbor = (x-1, y)\n",
    "            neighbors.append(neighbor)\n",
    "        if y+1 < len(grid[0]) and grid[x][y+1] == \"1\":\n",
    "            neighbor = (x, y+1)\n",
    "            neighbors.append(neighbor)\n",
    "        if y-1 >= 0 and grid[x][y-1] == \"1\":\n",
    "            neighbor = (x, y-1)\n",
    "            neighbors.append(neighbor)\n",
    "        return neighbors\n",
    "    \n",
    "    visited = set()\n",
    "    def dfs(x, y, grid):\n",
    "        #need: visited and neighbors\n",
    "        visited.add((x,y))\n",
    "        for neighbor in getValidNeighbors(x,y):\n",
    "            if neighbor not in visited:\n",
    "                dfs( neighbor[0], neighbor[1], grid )\n",
    "    \n",
    "    #count components -- if vertex (which equal \"1\") not visited -- run dfs repeatedly\n",
    "    component = 0\n",
    "    for x in range(len(grid)):\n",
    "        for y in range(len(grid[0])):\n",
    "            if (x,y) not in visited and grid[x][y]==\"1\": #run dfs on selective vertices only\n",
    "                component+=1\n",
    "                dfs(x, y, grid)\n",
    "    return component"
   ]
  },
  {
   "cell_type": "markdown",
   "metadata": {},
   "source": [
    "using the grid itself to track visited"
   ]
  },
  {
   "cell_type": "code",
   "execution_count": 2,
   "metadata": {},
   "outputs": [],
   "source": [
    "def numIslands(grid):\n",
    "    \n",
    "    def getNeighbors(x,y):\n",
    "        result = []\n",
    "        if x+1 < len(grid):\n",
    "            result.append((x+1,y))\n",
    "        if x-1 >= 0:\n",
    "            result.append((x-1,y))\n",
    "        if y+1 < len(grid[0]):\n",
    "            result.append((x,y+1))\n",
    "        if y-1 >= 0:\n",
    "            result.append((x,y-1))\n",
    "        return result\n",
    "    \n",
    "    def dfs(i,j):\n",
    "        grid[i][j] = \"0\"\n",
    "        for r,c in getNeighbors(i,j):\n",
    "            if grid[r][c] == \"1\":\n",
    "                dfs(r,c)\n",
    "    \n",
    "    def bfs(i,j):\n",
    "        q = deque([(i,j)])\n",
    "        grid[i][j] = \"0\"\n",
    "        while q:\n",
    "            row,col = q.popleft()\n",
    "            for r,c in getNeighbors(row,col):\n",
    "                if grid[r][c] == \"1\":\n",
    "                    q.append((r,c))\n",
    "                    grid[r][c] = \"0\"\n",
    "                    \n",
    "    islands = 0\n",
    "    for x in range(len(grid)):\n",
    "        for y in range(len(grid[0])):\n",
    "            if grid[x][y] == \"1\":\n",
    "                dfs(x,y)\n",
    "                islands += 1\n",
    "    return islands"
   ]
  },
  {
   "cell_type": "markdown",
   "metadata": {},
   "source": [
    "Don't need to use adjacency lists/maps to store the neighbors of a vertex. The neighbors can be dynamically calculated (by `getNeighbors` function) from a grid. Helps save us space without sacrificing time."
   ]
  },
  {
   "cell_type": "markdown",
   "metadata": {},
   "source": [
    "simple dfs<br>\n",
    "first mark node as visited and then run dfs on all valid neighbors (ie. not already visited)"
   ]
  },
  {
   "cell_type": "code",
   "execution_count": 3,
   "metadata": {},
   "outputs": [],
   "source": [
    "def numIslands(grid):\n",
    "    def dfs(x,y):\n",
    "        grid[x][y] = '0'\n",
    "        if x+1 < len(grid) and grid[x+1][y] == '1'   : dfs(x+1, y)\n",
    "        if x-1 >= 0 and grid[x-1][y] == '1'          : dfs(x-1, y)\n",
    "        if y+1 < len(grid[0]) and grid[x][y+1] == '1': dfs(x, y+1)\n",
    "        if y-1 >=0 and grid[x][y-1] == '1'           : dfs(x, y-1)\n",
    "\n",
    "    components = 0\n",
    "    for x in range(len(grid)):\n",
    "        for y in range(len(grid[0])):\n",
    "            if grid[x][y]=='1':\n",
    "                dfs(x,y)\n",
    "                components+=1\n",
    "    return components"
   ]
  },
  {
   "cell_type": "code",
   "execution_count": 4,
   "metadata": {},
   "outputs": [],
   "source": [
    "#more efficient code:\n",
    "def numIslands(grid):\n",
    "    \n",
    "    def dfs(x, y):\n",
    "        #dfs marks all islands that are visited (marks in the grid, extra visited array not required)\n",
    "        if x<0 or x>=len(grid) or y<0 or y>=len(grid[0]) or grid[x][y]!=\"1\": #basecase\n",
    "            return     \n",
    "        grid[x][y] = \"#\"         #mark as visited and run dfs on all 4 valid neighbors\n",
    "        dfs( x+1, y )  \n",
    "        dfs( x-1, y )\n",
    "        dfs( x, y+1 )\n",
    "        dfs( x, y-1 )\n",
    "        \n",
    "    islands = 0\n",
    "    for x in range(len(grid)):\n",
    "        for y in range(len(grid[0])):\n",
    "            if grid[x][y]==\"1\":  #not visited nodes are \"1\"\n",
    "                islands += 1\n",
    "                dfs(x, y)\n",
    "    return islands"
   ]
  },
  {
   "cell_type": "code",
   "execution_count": 5,
   "metadata": {},
   "outputs": [
    {
     "data": {
      "text/plain": [
       "1"
      ]
     },
     "execution_count": 5,
     "metadata": {},
     "output_type": "execute_result"
    }
   ],
   "source": [
    "grid = [\n",
    "  [\"1\",\"1\",\"1\",\"1\",\"0\"],\n",
    "  [\"1\",\"1\",\"0\",\"1\",\"0\"],\n",
    "  [\"1\",\"1\",\"0\",\"0\",\"0\"],\n",
    "  [\"0\",\"0\",\"0\",\"0\",\"0\"]\n",
    "]\n",
    "numIslands(grid)"
   ]
  },
  {
   "cell_type": "code",
   "execution_count": 6,
   "metadata": {},
   "outputs": [
    {
     "data": {
      "text/plain": [
       "3"
      ]
     },
     "execution_count": 6,
     "metadata": {},
     "output_type": "execute_result"
    }
   ],
   "source": [
    "grid = [\n",
    "  [\"1\",\"1\",\"0\",\"0\",\"0\"],\n",
    "  [\"1\",\"1\",\"0\",\"0\",\"0\"],\n",
    "  [\"0\",\"0\",\"1\",\"0\",\"0\"],\n",
    "  [\"0\",\"0\",\"0\",\"1\",\"1\"]\n",
    "]\n",
    "numIslands(grid)"
   ]
  },
  {
   "cell_type": "markdown",
   "metadata": {},
   "source": [
    "for each coordinate (x,y) there are four neighbors: ( x <u>+</u> 1 , y ) and ( x , y <u>+</u> 1 )\n",
    "\n",
    "time: O(MxN) where M is the number of rows and N is the number of columns.\n",
    "\n",
    "space: worst case O(MxN) in case that the grid map is filled with lands where dfs goes by M×N deep."
   ]
  }
 ],
 "metadata": {
  "kernelspec": {
   "display_name": "Python 3",
   "language": "python",
   "name": "python3"
  },
  "language_info": {
   "codemirror_mode": {
    "name": "ipython",
    "version": 3
   },
   "file_extension": ".py",
   "mimetype": "text/x-python",
   "name": "python",
   "nbconvert_exporter": "python",
   "pygments_lexer": "ipython3",
   "version": "3.7.1"
  }
 },
 "nbformat": 4,
 "nbformat_minor": 2
}
