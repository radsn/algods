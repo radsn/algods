{
 "cells": [
  {
   "cell_type": "markdown",
   "metadata": {},
   "source": [
    "Given a set of `N` people (numbered `1, 2, ..., N`), we would like to split everyone into two groups of any size.\n",
    "\n",
    "Each person may dislike some other people, and they should not go into the same group. \n",
    "\n",
    "Formally, if `dislikes[i] = [a, b]`, it means it is not allowed to put the people numbered `a` and `b` into the same group.\n",
    "\n",
    "Return `true` if and only if it is possible to split everyone into two groups in this way."
   ]
  },
  {
   "cell_type": "code",
   "execution_count": 1,
   "metadata": {},
   "outputs": [],
   "source": [
    "# time: O(N+E) | space: O(N+E)\n",
    "def possibleBipartition(N, dislikes):\n",
    "    #2 color problem: color node, color neighbors, check if always able to assign opposite\n",
    "    \n",
    "    #convert edges into adjList\n",
    "    adjList =  [ [] for i in range(N) ]\n",
    "    for s,d in dislikes:\n",
    "        adjList[s-1].append(d-1)\n",
    "        adjList[d-1].append(s-1)\n",
    "\n",
    "    color = [-1] * (N)\n",
    "    def colorAssignment(node):\n",
    "        #color the current node\n",
    "        #check if possible to assign color opposite of its neighbors? return true or false\n",
    "        used_colors = set()\n",
    "        for neighbor in adjList[node]:\n",
    "            if color[neighbor] != -1:            #gather all colors of neighbors\n",
    "                used_colors.add(color[neighbor])\n",
    "        if len(used_colors) == 0:                \n",
    "            color[node] = 1\n",
    "            return True\n",
    "        elif len(used_colors) == 1:\n",
    "            color[node] = not used_colors.pop()\n",
    "            return True\n",
    "        else:\n",
    "            return False\n",
    "\n",
    "    def dfs(node):\n",
    "        #traverse and color all nodes and neighbors\n",
    "        if not colorAssignment(node):\n",
    "            return False\n",
    "        for neighbor in adjList[node]:\n",
    "            if color[neighbor] == -1:\n",
    "                if not dfs(neighbor):\n",
    "                    return False\n",
    "        return True\n",
    "\n",
    "    #run dfs on all components that are not colored\n",
    "    for v in range(N):\n",
    "        if color[v] == -1:\n",
    "            if not dfs(v):\n",
    "                return False\n",
    "    return True"
   ]
  },
  {
   "cell_type": "code",
   "execution_count": 2,
   "metadata": {},
   "outputs": [
    {
     "data": {
      "text/plain": [
       "True"
      ]
     },
     "execution_count": 2,
     "metadata": {},
     "output_type": "execute_result"
    }
   ],
   "source": [
    "N = 4\n",
    "dislikes = [[1,2],[1,3],[2,4]]\n",
    "possibleBipartition(N, dislikes)"
   ]
  },
  {
   "cell_type": "code",
   "execution_count": 3,
   "metadata": {},
   "outputs": [
    {
     "data": {
      "text/plain": [
       "False"
      ]
     },
     "execution_count": 3,
     "metadata": {},
     "output_type": "execute_result"
    }
   ],
   "source": [
    "N = 5\n",
    "dislikes = [[1,2],[2,3],[3,4],[4,5],[1,5]]\n",
    "possibleBipartition(N, dislikes)"
   ]
  },
  {
   "cell_type": "code",
   "execution_count": 4,
   "metadata": {},
   "outputs": [],
   "source": [
    "#assigning color in dfs\n",
    "def possibleBipartition(N, dislikes):\n",
    "    \n",
    "    #convert edges into adjList\n",
    "    adjList =  [ [] for i in range(N+1) ]\n",
    "    for s,d in dislikes:\n",
    "        adjList[s].append(d)\n",
    "        adjList[d].append(s)\n",
    "    \n",
    "    color = [-1] * (N+1)\n",
    "    \n",
    "    def dfs(node):\n",
    "    #color in dfs -- track visited and if not visited run dfs on all neighbors\n",
    "        for neighbor in adjList[node]:\n",
    "            if color[neighbor] == -1:\n",
    "                color[neighbor] = not color[node]\n",
    "                if not dfs(neighbor):\n",
    "                    return False\n",
    "            else:\n",
    "                if color[neighbor] == color[node]:\n",
    "                    return False\n",
    "        return True\n",
    "\n",
    "    #check for all components -- if not colored, run dfs\n",
    "    for v in range(1, N+1):\n",
    "        if color[v] == -1:\n",
    "            color[v] = 0          #assign color to the initial node\n",
    "            if not dfs(v):\n",
    "                return False\n",
    "    return True"
   ]
  },
  {
   "cell_type": "code",
   "execution_count": 5,
   "metadata": {},
   "outputs": [],
   "source": [
    "#more efficient code:\n",
    "import collections\n",
    "\n",
    "def possibleBipartition(N, dislikes):\n",
    "    graph = collections.defaultdict(list)\n",
    "    for u,v in dislikes:\n",
    "        graph[u].append(v)\n",
    "        graph[v].append(u)\n",
    "\n",
    "    color = {}\n",
    "    def dfs(node, c=0):\n",
    "        if node in color:\n",
    "            return color[node] == c\n",
    "        color[node] = c\n",
    "        return all( dfs(neighbor,  c^1) for neighbor in graph[node] )  #to use `all` need for loop in same line\n",
    "\n",
    "    return all( dfs(v) for v in range(1, N+1) if v not in color )"
   ]
  }
 ],
 "metadata": {
  "kernelspec": {
   "display_name": "Python 3",
   "language": "python",
   "name": "python3"
  },
  "language_info": {
   "codemirror_mode": {
    "name": "ipython",
    "version": 3
   },
   "file_extension": ".py",
   "mimetype": "text/x-python",
   "name": "python",
   "nbconvert_exporter": "python",
   "pygments_lexer": "ipython3",
   "version": "3.7.1"
  }
 },
 "nbformat": 4,
 "nbformat_minor": 2
}
