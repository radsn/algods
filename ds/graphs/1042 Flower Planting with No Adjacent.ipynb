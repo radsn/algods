{
 "cells": [
  {
   "cell_type": "markdown",
   "metadata": {},
   "source": [
    "You have N gardens, labelled `1` to `N`.  In each garden, you want to plant one of 4 types of flowers.\n",
    "\n",
    "`paths[i] = [x, y]` describes the existence of a bidirectional path from garden x to garden y.\n",
    "\n",
    "Also, there is no garden that has more than 3 paths coming into or leaving it.\n",
    "\n",
    "Your task is to choose a flower type for each garden such that, for any two gardens connected by a path, they have different types of flowers.\n",
    "\n",
    "Return any such a choice as an array `answer`, where `answer[i]` is the type of flower planted in the `(i+1)`-th garden.  The flower types are denoted 1, 2, 3, or 4.  It is guaranteed an answer exists."
   ]
  },
  {
   "cell_type": "markdown",
   "metadata": {},
   "source": [
    "goal: return the color (flower) at each vertex (garden)"
   ]
  },
  {
   "cell_type": "code",
   "execution_count": 1,
   "metadata": {},
   "outputs": [],
   "source": [
    "def gardenNoAdj(N, paths):\n",
    "    #1. edge list given - make an adjList\n",
    "    #2. start at node - pick a color after checking all its neighbors color - assign color not used by neighbor\n",
    "    #3. traverse and assign color to all nodes - return color of each vertex\n",
    "    \n",
    "    #make adjList\n",
    "    adjList = [ [] for _ in range(N) ]\n",
    "    for s,d in paths:\n",
    "        adjList[s-1].append(d-1)\n",
    "        adjList[d-1].append(s-1)\n",
    "\n",
    "    color = [-1]*(N)\n",
    "    def colorAssignment(node):\n",
    "        #assigns color to the current node\n",
    "        #checks colors of all neighbors and then assigns color not used yet\n",
    "        all_colors = set([1,2,3,4])\n",
    "        used_colors = set()\n",
    "        for neighbor in adjList[node]:\n",
    "            if color[neighbor] != -1:\n",
    "                used_colors.add(color[neighbor])   #gather all colors of neighbors\n",
    "        diff = all_colors.difference(used_colors)\n",
    "        for c in diff:\n",
    "            color[node] = c                        #assign color to myself\n",
    "            break\n",
    "\n",
    "    def dfs(node):\n",
    "        #traverse - assign color to node - recurse on all its neighbors\n",
    "        colorAssignment(node)\n",
    "        for neighbor in adjList[node]:\n",
    "            if color[neighbor] == -1:\n",
    "                dfs(neighbor)\n",
    "\n",
    "    #for every vertex assign color (capture all unconnected components)\n",
    "    for garden in range(N):\n",
    "        if color[garden] == -1:\n",
    "            dfs(garden)\n",
    "    return color"
   ]
  },
  {
   "cell_type": "code",
   "execution_count": 2,
   "metadata": {},
   "outputs": [
    {
     "data": {
      "text/plain": [
       "[1, 2, 3]"
      ]
     },
     "execution_count": 2,
     "metadata": {},
     "output_type": "execute_result"
    }
   ],
   "source": [
    "N = 3\n",
    "paths = [[1,2],[2,3],[3,1]]\n",
    "gardenNoAdj(N, paths)"
   ]
  },
  {
   "cell_type": "code",
   "execution_count": 3,
   "metadata": {},
   "outputs": [],
   "source": [
    "#iterative:\n",
    "def gardenNoAdj(N, paths):\n",
    "    \n",
    "    #make adjList\n",
    "    adjList = [ [] for _ in range(N) ]\n",
    "    for s,d in paths:\n",
    "        adjList[s-1].append(d-1)\n",
    "        adjList[d-1].append(s-1)\n",
    "    \n",
    "    color = [-1] * N\n",
    "    for v in range(N): #for every vertex -- assign color that is different from neighbor\n",
    "        used_colors = set()\n",
    "        for neighbor in adjList[v]:\n",
    "            if color[neighbor] != -1:\n",
    "                used_colors.add(color[neighbor]) #gather all colors of neighbors\n",
    "        for flower in range(1,5):\n",
    "            if flower not in used_colors:\n",
    "                color[v] = flower\n",
    "                break\n",
    "    return color"
   ]
  }
 ],
 "metadata": {
  "kernelspec": {
   "display_name": "Python 3",
   "language": "python",
   "name": "python3"
  },
  "language_info": {
   "codemirror_mode": {
    "name": "ipython",
    "version": 3
   },
   "file_extension": ".py",
   "mimetype": "text/x-python",
   "name": "python",
   "nbconvert_exporter": "python",
   "pygments_lexer": "ipython3",
   "version": "3.7.1"
  }
 },
 "nbformat": 4,
 "nbformat_minor": 2
}
