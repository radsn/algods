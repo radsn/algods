{
 "cells": [
  {
   "cell_type": "markdown",
   "metadata": {},
   "source": [
    "**Given n nodes labeled from `0` to `n-1` and a list of undirected edges (each edge is a pair of nodes), write a function to check whether these edges make up a valid tree.**"
   ]
  },
  {
   "cell_type": "markdown",
   "metadata": {},
   "source": [
    "valid tree: connected graph with no cycles. <br>\n",
    "General tree is unrooted, so arbitrarily pick one of the vertices as a root, and draw a connected graph.\n",
    "\n",
    "How to determine if tree is valid or not?\n",
    "\n",
    "1. Is the tree connected?<br>\n",
    "launch bfs/dfs and check if components > 1\n",
    "\n",
    "2. Are there any cycles in the tree?<br>\n",
    "make bfs/dfs function return boolean (true if cycle, false if no cycle) <br>\n",
    "cross edge in bfs - cross edges are between same layer or adjacent layers (cannot bypass layer else its directly a child) <br>\n",
    "back edge in dfs \n",
    "\n",
    "AdjList: 3 types of neighbors -- unvisited, visited, parent"
   ]
  },
  {
   "cell_type": "markdown",
   "metadata": {},
   "source": [
    "following template"
   ]
  },
  {
   "cell_type": "code",
   "execution_count": 1,
   "metadata": {},
   "outputs": [],
   "source": [
    "from collections import deque\n",
    "\n",
    "# O(n+m) time | O(n+m) space\n",
    "def validTree(n, edges):\n",
    "    \n",
    "    #build the adjacency list\n",
    "    adjList = [ [] for _ in range(n) ]\n",
    "    for s,d in edges:\n",
    "        adjList[s].append(d)\n",
    "        adjList[d].append(s)    \n",
    "    \n",
    "    visited = [-1] * n\n",
    "    parent  = [-1] * n\n",
    "    \n",
    "    #return boolean for cycle(True) versus NOcycle(False)\n",
    "    def bfs(source):\n",
    "        visited[source] = 1\n",
    "        q = deque([source])\n",
    "        while q:\n",
    "            node = q.popleft()\n",
    "            for neighbor in adjList[node]:\n",
    "                if visited[neighbor] == -1:      #tree edge\n",
    "                    visited[neighbor] = 1\n",
    "                    parent[neighbor] = node\n",
    "                    q.append(neighbor)\n",
    "                else:                            #cross edge -- neighbor has been visited\n",
    "                    if neighbor != parent[node]: #check if cross edge is parent\n",
    "                        return True              #cycle present if visited and not parent\n",
    "        return False                             #cycle not found\n",
    "        \n",
    "    def dfs(node):\n",
    "        visited[node] = 1\n",
    "        for neighbor in adjList[node]:\n",
    "            if visited[neighbor] == -1:\n",
    "                parent[neighbor] = node\n",
    "                if dfs(neighbor):\n",
    "                    return True\n",
    "            else:                                #back edge -- neighbor has been visited\n",
    "                if neighbor != parent[node]:     #check if back edge is parent\n",
    "                    return True                  #cycle present if visited and not parent\n",
    "        return False                             #cycle not found\n",
    "    \n",
    "    components = 0\n",
    "    for v in range(n):\n",
    "        if visited[v] == -1:\n",
    "            components += 1\n",
    "            if components > 1:  #not connected, not a tree\n",
    "                return False\n",
    "            if dfs(v):          #if cycle found, not a tree\n",
    "                return False\n",
    "    return True                 #connected and no cycles = valid tree"
   ]
  },
  {
   "cell_type": "code",
   "execution_count": 2,
   "metadata": {},
   "outputs": [
    {
     "name": "stdout",
     "output_type": "stream",
     "text": [
      "True\n",
      "False\n"
     ]
    }
   ],
   "source": [
    "n1 = 5\n",
    "edges1 = [[0,1], [0,2], [0,3], [1,4]]\n",
    "n2 = 5\n",
    "edges2 = [[0,1], [1,2], [2,3], [1,3], [1,4]]\n",
    "print(validTree(n1, edges1))\n",
    "print(validTree(n2, edges2))"
   ]
  },
  {
   "cell_type": "markdown",
   "metadata": {},
   "source": [
    "function dfs/bfs return boolean (cycle = False, no cycle = True) <br>\n",
    "recursion (dfs): using `seen` set() and passing parent as a parameter in dfs<br>\n",
    "iterative (bfs): using `parent` as hashmap \n",
    "\n",
    "instead of counting connected components just check the length of `seen` set"
   ]
  },
  {
   "cell_type": "markdown",
   "metadata": {},
   "source": [
    "dfs recursive"
   ]
  },
  {
   "cell_type": "code",
   "execution_count": 3,
   "metadata": {},
   "outputs": [],
   "source": [
    "#variant:\n",
    "def validTree(n, edges):\n",
    "    if len(edges) != n-1: return False\n",
    "    \n",
    "    #build adjacency list from edges\n",
    "    adjList = [ [] for _ in range(n) ]\n",
    "    for s,d in edges:\n",
    "        adjList[s].append(d)\n",
    "        adjList[d].append(s)\n",
    "    \n",
    "    seen = set()\n",
    "    def dfs(node, parent):                   #recursion: returns boolean\n",
    "        seen.add(node)\n",
    "        for neighbor in adjList[node]:\n",
    "            if neighbor == parent:           #parent (line15 comes before line17)\n",
    "                continue\n",
    "            if neighbor in seen:             #backedge that is not parent = cycle\n",
    "                return False\n",
    "            if dfs(neighbor, node) == False: #early return\n",
    "                return False\n",
    "        return True\n",
    "    \n",
    "    return dfs(0,None) and len(seen) == n    #no cycles and all nodes are visited = valid tree"
   ]
  },
  {
   "cell_type": "markdown",
   "metadata": {},
   "source": [
    "bfs"
   ]
  },
  {
   "cell_type": "code",
   "execution_count": 4,
   "metadata": {},
   "outputs": [],
   "source": [
    "#variant:\n",
    "def validTree(n, edges):\n",
    "    if len(edges) != n-1: return False\n",
    "    \n",
    "    #build adjacency list from edges\n",
    "    adjList = [ [] for _ in range(n) ]\n",
    "    for s,d in edges:\n",
    "        adjList[s].append(d)\n",
    "        adjList[d].append(s)\n",
    "        \n",
    "    parent = {}   #for bfs - no need to maintain seen (parent can do both functions)\n",
    "    def bfs(node):                           #iterative: returns boolean\n",
    "        parent[node] = None\n",
    "        q = deque([node])\n",
    "        \n",
    "        while q:\n",
    "            node = q.popleft()\n",
    "            for neighbor in adjList[node]:\n",
    "                if neighbor == parent[node]:\n",
    "                    continue\n",
    "                if neighbor in parent:       #crossedge that is not parent = cycle\n",
    "                    return False\n",
    "                parent[neighbor] = node\n",
    "                q.append(neighbor)\n",
    "        return True\n",
    "    \n",
    "    return bfs(0) and len(parent) == n"
   ]
  }
 ],
 "metadata": {
  "kernelspec": {
   "display_name": "Python 3",
   "language": "python",
   "name": "python3"
  },
  "language_info": {
   "codemirror_mode": {
    "name": "ipython",
    "version": 3
   },
   "file_extension": ".py",
   "mimetype": "text/x-python",
   "name": "python",
   "nbconvert_exporter": "python",
   "pygments_lexer": "ipython3",
   "version": "3.7.1"
  }
 },
 "nbformat": 4,
 "nbformat_minor": 2
}
