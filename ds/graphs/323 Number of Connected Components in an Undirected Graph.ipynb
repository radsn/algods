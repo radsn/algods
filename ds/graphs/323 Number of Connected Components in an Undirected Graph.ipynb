{
 "cells": [
  {
   "cell_type": "markdown",
   "metadata": {},
   "source": [
    "**Given n nodes labeled from `0` to `n - 1` and a list of undirected edges (each edge is a pair of nodes), write a function to find the number of connected components in an undirected graph.**"
   ]
  },
  {
   "cell_type": "markdown",
   "metadata": {},
   "source": [
    "General Template:\n",
    "\n",
    "1. Build the graph \n",
    "    - need to know n, (n = # vertices) and their vertex ids - make Adjacency List\n",
    "    - AdjList - (list of lists) 1D array of lists (integers ~ vertexId) of size n -- use index of array as src and list as destination\n",
    "    - if vertex is string - use hash map - map string to integer\n",
    "2. bfs/dfs\n",
    "    - traversing -- trees: children; graphs: neighbors stored inside AdjList\n",
    "3. outer loop to explore whole graph"
   ]
  },
  {
   "cell_type": "markdown",
   "metadata": {},
   "source": [
    "explore whole graph using either dfs/bfs; start from any vertex; check if all the vertices are visited; explore dfs/bfs from the next unvisited vertex -- number of times dfs/bfs is launched to explore graph is number of connected components \n",
    "\n",
    "transform edge list into adjacency list"
   ]
  },
  {
   "cell_type": "code",
   "execution_count": 1,
   "metadata": {},
   "outputs": [],
   "source": [
    "from collections import deque\n",
    "\n",
    "# O(n+m) time | O(n) space\n",
    "def countComponents(n, edges):\n",
    "    \n",
    "    #make adjacency list from edges\n",
    "    adjList = [ [] for _ in range(n) ]\n",
    "    for s, d in edges:\n",
    "        adjList[s].append(d)\n",
    "        adjList[d].append(s)\n",
    "    \n",
    "    visited = [-1] * n\n",
    "    \n",
    "    def dfs(source):\n",
    "        visited[source] = 1\n",
    "        for neighbor in adjList[source]:\n",
    "            if visited[neighbor] == -1:\n",
    "                dfs(neighbor)\n",
    "    \n",
    "    def bfs(source):\n",
    "        visited[source] = 1\n",
    "        q = deque([source])\n",
    "        while q:\n",
    "            node = q.popleft()\n",
    "            for neighbor in adjList[node]: #neighbor = vertexid\n",
    "                if visited[neighbor] == -1:\n",
    "                    visited[neighbor] = 1\n",
    "                    q.append(neighbor)\n",
    "                    \n",
    "    components = 0\n",
    "    for v in range(n): #all vertices\n",
    "        if visited[v] == -1:\n",
    "            components += 1\n",
    "            dfs(v)\n",
    "    \n",
    "    return components"
   ]
  },
  {
   "cell_type": "code",
   "execution_count": 2,
   "metadata": {},
   "outputs": [
    {
     "name": "stdout",
     "output_type": "stream",
     "text": [
      "2\n",
      "1\n"
     ]
    }
   ],
   "source": [
    "n1 = 5\n",
    "edges1 = [[0, 1], [1, 2], [3, 4]]\n",
    "n2 = 5\n",
    "edges2 = [[0, 1], [1, 2], [2, 3], [3, 4]]\n",
    "print(countComponents(n1, edges1))\n",
    "print(countComponents(n2, edges2))"
   ]
  },
  {
   "cell_type": "markdown",
   "metadata": {},
   "source": [
    "time: O(n+m) <br>\n",
    "bfs: O(1) work push and pop into and out of queue ==> for all nodes: O(n)<br>\n",
    "look at all neighbours of the node = O(degree(node) ==> sum O(degree(node)) = 2m <br>\n",
    "total cost O(n+m) <br>\n",
    "dfs: O(n) to push/pop vertex out of stack + O(m) looking at adjList of each vertex ==> O(n+m)\n",
    "\n",
    "aux space: O(n) <br>\n",
    "max size of queue = worst case is src connected to every vertex = O(n) or <br>\n",
    "max size of stack = O(height) = O(n)"
   ]
  }
 ],
 "metadata": {
  "kernelspec": {
   "display_name": "Python 3",
   "language": "python",
   "name": "python3"
  },
  "language_info": {
   "codemirror_mode": {
    "name": "ipython",
    "version": 3
   },
   "file_extension": ".py",
   "mimetype": "text/x-python",
   "name": "python",
   "nbconvert_exporter": "python",
   "pygments_lexer": "ipython3",
   "version": "3.7.1"
  }
 },
 "nbformat": 4,
 "nbformat_minor": 2
}
