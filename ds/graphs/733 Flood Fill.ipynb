{
 "cells": [
  {
   "cell_type": "markdown",
   "metadata": {},
   "source": [
    "An image is represented by a 2-D array of integers, each integer representing the pixel value of the image (from 0 to 65535).\n",
    "\n",
    "Given a coordinate (sr, sc) representing the starting pixel (row and column) of the flood fill, and a pixel value newColor, \"flood fill\" the image.\n",
    "\n",
    "To perform a \"flood fill\", consider the starting pixel, plus any pixels connected 4-directionally to the starting pixel of the same color as the starting pixel, plus any pixels connected 4-directionally to those pixels (also with the same color as the starting pixel), and so on. Replace the color of all of the aforementioned pixels with the newColor.\n",
    "\n",
    "At the end, return the modified image."
   ]
  },
  {
   "cell_type": "markdown",
   "metadata": {},
   "source": [
    "dfs"
   ]
  },
  {
   "cell_type": "code",
   "execution_count": 1,
   "metadata": {},
   "outputs": [],
   "source": [
    "# O(n) time | O(n) space\n",
    "def floodFill(image, sr, sc, newColor):\n",
    "    \n",
    "    def dfs(r, c):\n",
    "        if r<0 or r>=len(image) or c<0 or c>=len(image[0]) or image[r][c]!=oldColor:\n",
    "            return \n",
    "        image[r][c] = newColor #track visited\n",
    "        dfs(r-1, c)\n",
    "        dfs(r+1, c)\n",
    "        dfs(r, c-1)\n",
    "        dfs(r, c+1)\n",
    "\n",
    "    oldColor = image[sr][sc]\n",
    "    if oldColor == newColor: return image #to prevent infinite loop\n",
    "    dfs(sr, sc)\n",
    "    return image"
   ]
  },
  {
   "cell_type": "markdown",
   "metadata": {},
   "source": [
    "bfs<br>\n",
    "bfs preferred since size of q is curr level + next level while if only one big connected component there can be stack overflow in dfs."
   ]
  },
  {
   "cell_type": "code",
   "execution_count": 2,
   "metadata": {},
   "outputs": [],
   "source": [
    "from collections import deque\n",
    "\n",
    "def floodFill(image, sr, sc, newColor):\n",
    "    \n",
    "    def bfs(sr, sc):\n",
    "        oldColor = image[sr][sc]\n",
    "        if oldColor == newColor: return image\n",
    "        \n",
    "        q = deque([(sr,sc)])\n",
    "        image[sr][sc] = newColor\n",
    "        \n",
    "        while q:\n",
    "            r,c = q.popleft()\n",
    "            for nr,nc in [(r+1,c), (r-1,c), (r,c+1), (r,c-1)]:\n",
    "                if nr>=0 and nr<len(image) and nc>=0 and nc<len(image[0]) and image[nr][nc]==oldColor:\n",
    "                    q.append((nr,nc))\n",
    "                    image[nr][nc] = newColor\n",
    "    bfs(sr, sc)\n",
    "    return image"
   ]
  },
  {
   "cell_type": "code",
   "execution_count": 3,
   "metadata": {},
   "outputs": [],
   "source": [
    "image = [[1,1,1],[1,1,0],[1,0,1]]\n",
    "sr = 1\n",
    "sc = 1\n",
    "newColor = 2"
   ]
  },
  {
   "cell_type": "code",
   "execution_count": 4,
   "metadata": {
    "scrolled": true
   },
   "outputs": [
    {
     "data": {
      "text/plain": [
       "[[2, 2, 2], [2, 2, 0], [2, 0, 1]]"
      ]
     },
     "execution_count": 4,
     "metadata": {},
     "output_type": "execute_result"
    }
   ],
   "source": [
    "floodFill(image, sr, sc, newColor)"
   ]
  },
  {
   "cell_type": "markdown",
   "metadata": {},
   "source": [
    "dfs <br>\n",
    "key is to first find the color of origin `image[sr][sc]` (oldColor) <br>\n",
    "traverse from the origin to all vertices that are oldColor in the connected component <br>\n",
    "track visited by changing oldColor into newColor <br>\n",
    "dfs on all neighbors if within the correct grid dimensions <br>\n",
    "to prevent infinity loop, if oldColor == newColor return image as is"
   ]
  }
 ],
 "metadata": {
  "kernelspec": {
   "display_name": "Python 3",
   "language": "python",
   "name": "python3"
  },
  "language_info": {
   "codemirror_mode": {
    "name": "ipython",
    "version": 3
   },
   "file_extension": ".py",
   "mimetype": "text/x-python",
   "name": "python",
   "nbconvert_exporter": "python",
   "pygments_lexer": "ipython3",
   "version": "3.7.1"
  }
 },
 "nbformat": 4,
 "nbformat_minor": 2
}
