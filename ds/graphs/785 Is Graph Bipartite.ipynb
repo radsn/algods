{
 "cells": [
  {
   "cell_type": "markdown",
   "metadata": {},
   "source": [
    "**Given an undirected graph, return true if and only if it is bipartite.**\n",
    "\n",
    "**Recall that a graph is bipartite if we can split it's set of nodes into two independent subsets A and B such that every edge in the graph has one node in A and another node in B.**\n",
    "\n",
    "**The graph is given in the following form: `graph[i]` is a list of indexes `j` for which the edge between nodes `i` and `j` exists.  Each node is an integer between `0` and `graph.length - 1`.  There are no self edges or parallel edges: `graph[i]` does not contain `i`, and it doesn't contain any element twice.**\n",
    "\n",
    "note: input given is adjList"
   ]
  },
  {
   "cell_type": "markdown",
   "metadata": {},
   "source": [
    "Bipartite:\n",
    "- any tree (no cycle) is bipartite -- can alternate every level in different teams\n",
    "- any graph with odd length cycle is not bipartite \n",
    "- any graph with even length cycle is bipartite\n",
    "- if bfs/dfs tree with no cross edge means no cycles --> bipartite\n",
    "\n",
    "in bfs: any cross edge will create a cycle -- but is the length of the cycle odd or even? <br>\n",
    "in dfs: any back  edge will create a cycle -- but is the length of the cycle odd or even? <br>\n",
    "2 types of cross edges: in same level or adjacent levels<br>\n",
    "2 types of back  edges: going to same label or complementary label\n",
    "\n",
    "create bfs/dfs that returns boolean if detect bipartite or not\n",
    "\n",
    "bfs tree - track by level# (distance array) -- shortest path distance values<br>\n",
    "- if cross edge which is not parent is in the same level ==> odd length cycle ==> not bipartite\n",
    "- if cross edge which is not parent goes to node in adjacent level ==> even length cycle ==> continue\n",
    "- if no odd length cycle in entire graph ==> conclude bipartite\n",
    "\n",
    "dfs tree - track by alternate colors/ complementary binary label<br>\n",
    "- if back edge which is not parent goes to node with same label ==> odd length cycle ==> not bipartite\n",
    "- if back edge which is not parent goes to node with complementary label ==> even length cycle ==> continue\n",
    "- if no odd length cycle in entire graph ==> conclude bipartite"
   ]
  },
  {
   "cell_type": "code",
   "execution_count": 1,
   "metadata": {},
   "outputs": [],
   "source": [
    "from collections import deque\n",
    "\n",
    "def isBipartite(graph):\n",
    "    adjList = graph  #input given is adjList\n",
    "    n = len(graph)   #number of vertices\n",
    "\n",
    "    visited  = [-1] * n\n",
    "    parent   = [-1] * n\n",
    "    distance = [-1] * n  #level numbers for bfs tree - shortest path distance values\n",
    "    color    = [-1] * n  #binary colors for dfs tree\n",
    "    \n",
    "    \n",
    "    def bfs(node):\n",
    "        visited[node] = 1\n",
    "        q = deque([node])\n",
    "        while q:\n",
    "            node = q.popleft()\n",
    "            for neighbor in adjList[node]:\n",
    "                if visited[neighbor] == -1:\n",
    "                    visited[neighbor] = 1\n",
    "                    parent[neighbor] = node\n",
    "                    distance[neighbor] = distance[node] + 1\n",
    "                    q.append(neighbor)\n",
    "                else:                            #cross edge\n",
    "                    if neighbor != parent[node]:\n",
    "                        if distance[neighbor] == distance[node]: #cross edge same level (odd length cycle) => not bipartite\n",
    "                            return False    \n",
    "        return True                                              #no odd length cycle in whole graph => bipartite\n",
    "\n",
    "    def dfs(node):\n",
    "        visited[node] = 1\n",
    "        if parent[node] == -1:                     #set color of parent\n",
    "            color[node] = 0\n",
    "        for neighbor in adjList[node]:\n",
    "            if visited[neighbor] == -1:\n",
    "                parent[neighbor] = node\n",
    "                color[neighbor] = not color[node]  #set color of neighbor complementary to its parent color\n",
    "                if dfs(neighbor) == False:         #indirect detect \n",
    "                    return False\n",
    "            else:\n",
    "                if color[neighbor] == color[node]: #backedge back to same color = not bipartite (direct detect)\n",
    "                    return False \n",
    "        return True                                #no odd length cycles in whole graph => bipartite\n",
    "    \n",
    "    \n",
    "    for v in range(n):           #check for odd length cycle in all components\n",
    "        if visited[v] == -1:\n",
    "            if bfs(v) == False:  #even if one CC not bipartite; then whole graph is not bipartite\n",
    "                return False\n",
    "    return True                  #all CC are have no odd cycle ==> bipartite"
   ]
  },
  {
   "cell_type": "code",
   "execution_count": 2,
   "metadata": {
    "scrolled": true
   },
   "outputs": [
    {
     "name": "stdout",
     "output_type": "stream",
     "text": [
      "True\n",
      "False\n"
     ]
    }
   ],
   "source": [
    "graph1 = [[1,3], [0,2], [1,3], [0,2]]\n",
    "graph2 = [[1,2,3], [0,2], [0,1,3], [0,2]]\n",
    "print(isBipartite(graph1))\n",
    "print(isBipartite(graph2))"
   ]
  },
  {
   "cell_type": "markdown",
   "metadata": {},
   "source": [
    "- cross edge in same level vertices --> odd length cycle --> not bipartite\n",
    "- cross edge in adjacent level vertices --> even length cycle --> continue\n",
    "- back edge going to node with same label --> odd length cycle --> not bipartite\n",
    "- back edge going to node with complementary label --> even length cycle --> continue"
   ]
  }
 ],
 "metadata": {
  "kernelspec": {
   "display_name": "Python 3",
   "language": "python",
   "name": "python3"
  },
  "language_info": {
   "codemirror_mode": {
    "name": "ipython",
    "version": 3
   },
   "file_extension": ".py",
   "mimetype": "text/x-python",
   "name": "python",
   "nbconvert_exporter": "python",
   "pygments_lexer": "ipython3",
   "version": "3.7.1"
  }
 },
 "nbformat": 4,
 "nbformat_minor": 2
}
