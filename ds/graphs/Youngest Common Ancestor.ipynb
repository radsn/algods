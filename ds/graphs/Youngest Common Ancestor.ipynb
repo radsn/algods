{
 "cells": [
  {
   "cell_type": "code",
   "execution_count": 19,
   "id": "0e859abf",
   "metadata": {},
   "outputs": [],
   "source": [
    "def getYoungestCommonAncestor(topAncestor, descendantOne, descendantTwo):\n",
    "    resultOne = []\n",
    "    resultTwo = []\n",
    "    helper(descendantOne, topAncestor, [], resultOne)\n",
    "    helper(descendantTwo, topAncestor, [], resultTwo)\n",
    "    \n",
    "    print(resultOne)\n",
    "    print(resultTwo)\n",
    "    \n",
    "    pt1, pt2 = len(resultOne)-1, len(resultTwo)-1\n",
    "    while pt1 >=0 and pt1 >= 0:\n",
    "        if resultOne[pt1] == resultTwo[pt2]:\n",
    "            pt1-=1\n",
    "            pt2-=1\n",
    "        else:\n",
    "            break\n",
    "    return resultOne[pt1+1]\n",
    "\n",
    "def helper(node, topAncestor, slate, result): \n",
    "    if not node: return\n",
    "    if node.name == topAncestor.name:\n",
    "        slate.append(node.name)\n",
    "        result += slate[:]\n",
    "        slate.pop()\n",
    "    slate.append(node.name)\n",
    "    helper(node.ancestor, topAncestor, slate, result)\n",
    "    slate.pop()"
   ]
  },
  {
   "cell_type": "code",
   "execution_count": 40,
   "id": "d6f5584d",
   "metadata": {},
   "outputs": [],
   "source": [
    "def getLowestCommonManager(topManager, reportOne, reportTwo):\n",
    "    # Write your code here.\n",
    "    resultOne = []\n",
    "    resultTwo = []\n",
    "\n",
    "    helper(topManager, reportOne, [], resultOne)\n",
    "    helper(topManager, reportTwo, [], resultTwo)\n",
    "    \n",
    "    print(resultOne)\n",
    "    print(resultTwo)\n",
    "\n",
    "    oneidx = 0\n",
    "    twoidx = 0\n",
    "    while oneidx < len(resultOne) and twoidx < len(resultTwo):\n",
    "        if resultOne[oneidx] == resultTwo[twoidx]:\n",
    "            oneidx += 1\n",
    "            twoidx += 1\n",
    "        else:\n",
    "            break\n",
    "    return resultOne[oneidx-1]\n",
    "\n",
    "def helper(node, destnode, slate, result):\n",
    "    if not node: return\n",
    "    if node.name == destnode.name:\n",
    "        slate.append(node.name)\n",
    "        result += slate[:]\n",
    "        slate.pop()\n",
    "    for each_report in node.directReports:\n",
    "        slate.append(node.name)\n",
    "        helper(each_report, destnode, slate, result)\n",
    "        slate.pop()"
   ]
  },
  {
   "cell_type": "code",
   "execution_count": 41,
   "id": "8b6c6ef5",
   "metadata": {},
   "outputs": [
    {
     "name": "stdout",
     "output_type": "stream",
     "text": [
      "['A', 'B', 'E']\n",
      "['A', 'B', 'D', 'I']\n"
     ]
    },
    {
     "data": {
      "text/plain": [
       "'B'"
      ]
     },
     "execution_count": 41,
     "metadata": {},
     "output_type": "execute_result"
    }
   ],
   "source": [
    "class OrgChart:\n",
    "    def __init__(self, name):\n",
    "        self.name = name\n",
    "        self.directReports = []\n",
    "        \n",
    "\n",
    "topManager = OrgChart(\"A\")\n",
    "nodeB = OrgChart(\"B\")\n",
    "nodeC = OrgChart(\"C\")\n",
    "nodeD = OrgChart(\"D\")\n",
    "nodeE = OrgChart(\"E\")\n",
    "nodeF = OrgChart(\"F\")\n",
    "nodeG = OrgChart(\"G\")\n",
    "nodeH = OrgChart(\"H\")\n",
    "nodeI = OrgChart(\"I\")\n",
    "\n",
    "topManager.directReports = [nodeB, nodeC]\n",
    "nodeB.directReports = [nodeD, nodeE]\n",
    "nodeC.directReports = [nodeF, nodeG]\n",
    "nodeD.directReports = [nodeH, nodeI]\n",
    "\n",
    "getLowestCommonManager(topManager, nodeE, nodeI)"
   ]
  },
  {
   "cell_type": "code",
   "execution_count": 20,
   "id": "98a90082",
   "metadata": {},
   "outputs": [
    {
     "name": "stdout",
     "output_type": "stream",
     "text": [
      "['E', 'B', 'A']\n",
      "['I', 'D', 'B', 'A']\n"
     ]
    },
    {
     "data": {
      "text/plain": [
       "'B'"
      ]
     },
     "execution_count": 20,
     "metadata": {},
     "output_type": "execute_result"
    }
   ],
   "source": [
    "class AncestralTree:\n",
    "    def __init__(self, name):\n",
    "        self.name = name\n",
    "        self.ancestor = None\n",
    "\n",
    "topAncestor = AncestralTree(\"A\")\n",
    "nodeB = AncestralTree(\"B\")\n",
    "nodeC = AncestralTree(\"C\")\n",
    "nodeD = AncestralTree(\"D\")\n",
    "nodeE = AncestralTree(\"E\")\n",
    "nodeF = AncestralTree(\"F\")\n",
    "nodeG = AncestralTree(\"G\")\n",
    "nodeH = AncestralTree(\"H\")\n",
    "nodeI = AncestralTree(\"I\")\n",
    "\n",
    "nodeB.ancestor = topAncestor\n",
    "nodeC.ancestor = topAncestor\n",
    "nodeD.ancestor = nodeB\n",
    "nodeE.ancestor = nodeB\n",
    "nodeF.ancestor = nodeC\n",
    "nodeG.ancestor = nodeC\n",
    "nodeH.ancestor = nodeD\n",
    "nodeI.ancestor = nodeD\n",
    "\n",
    "\n",
    "getYoungestCommonAncestor(topAncestor, nodeE, nodeI)"
   ]
  },
  {
   "cell_type": "code",
   "execution_count": null,
   "id": "4694b1d1",
   "metadata": {},
   "outputs": [],
   "source": []
  },
  {
   "cell_type": "code",
   "execution_count": null,
   "id": "95068dd5",
   "metadata": {},
   "outputs": [],
   "source": []
  }
 ],
 "metadata": {
  "kernelspec": {
   "display_name": "Python 3 (ipykernel)",
   "language": "python",
   "name": "python3"
  },
  "language_info": {
   "codemirror_mode": {
    "name": "ipython",
    "version": 3
   },
   "file_extension": ".py",
   "mimetype": "text/x-python",
   "name": "python",
   "nbconvert_exporter": "python",
   "pygments_lexer": "ipython3",
   "version": "3.8.2"
  }
 },
 "nbformat": 4,
 "nbformat_minor": 5
}
