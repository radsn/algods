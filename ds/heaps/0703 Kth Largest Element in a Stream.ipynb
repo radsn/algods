{
 "cells": [
  {
   "cell_type": "markdown",
   "metadata": {},
   "source": [
    "Takeaways:\n",
    "- maintain **min-heap** of only of **size k** elements (pop off all the small elements hence storing only kth largest elements)\n",
    "- with only k elements in the min heap, the smallest element will always be the kth largest element (root)\n",
    "- first always push val into heap --> check if len(heap)>k --> if yes, pop from heap --> return root"
   ]
  },
  {
   "cell_type": "code",
   "execution_count": 1,
   "metadata": {},
   "outputs": [],
   "source": [
    "#python default library for min heap\n",
    "import heapq"
   ]
  },
  {
   "cell_type": "code",
   "execution_count": 2,
   "metadata": {},
   "outputs": [],
   "source": [
    "class KLargest():\n",
    "    \"\"\"accepts integer k and array nums, which contains initial elements from the stream\"\"\"\n",
    "    def __init__(self, k, nums):\n",
    "        self.k = k\n",
    "        self.heap = nums\n",
    "        heapq.heapify(self.heap) #convert array into min-heap\n",
    "        \n",
    "        #this step can be done since nums is initial array with fixed size (not a stream)\n",
    "        while len(self.heap) > self.k: #maintain heap of only length k\n",
    "            heapq.heappop(self.heap)\n",
    "    \n",
    "    def add(self, val):\n",
    "        \"\"\"returns the element representing the kth largest element in the stream\"\"\"\n",
    "        heapq.heappush(self.heap, val) #always add (in case heap is empty and building it to kth element)\n",
    "        \n",
    "        if len(self.heap) > self.k: #maintain heap of length k \n",
    "            heapq.heappop(self.heap)\n",
    "            \n",
    "        return self.heap[0]"
   ]
  },
  {
   "cell_type": "code",
   "execution_count": 3,
   "metadata": {},
   "outputs": [],
   "source": [
    "arr = [4,5,8,2]\n",
    "k = 3\n",
    "kthLargest = KLargest(k, arr)"
   ]
  },
  {
   "cell_type": "code",
   "execution_count": 4,
   "metadata": {},
   "outputs": [
    {
     "data": {
      "text/plain": [
       "4"
      ]
     },
     "execution_count": 4,
     "metadata": {},
     "output_type": "execute_result"
    }
   ],
   "source": [
    "kthLargest.add(3)"
   ]
  },
  {
   "cell_type": "code",
   "execution_count": 5,
   "metadata": {},
   "outputs": [
    {
     "data": {
      "text/plain": [
       "5"
      ]
     },
     "execution_count": 5,
     "metadata": {},
     "output_type": "execute_result"
    }
   ],
   "source": [
    "kthLargest.add(5)"
   ]
  },
  {
   "cell_type": "code",
   "execution_count": 6,
   "metadata": {},
   "outputs": [
    {
     "data": {
      "text/plain": [
       "5"
      ]
     },
     "execution_count": 6,
     "metadata": {},
     "output_type": "execute_result"
    }
   ],
   "source": [
    "kthLargest.add(10)"
   ]
  },
  {
   "cell_type": "code",
   "execution_count": 7,
   "metadata": {},
   "outputs": [
    {
     "data": {
      "text/plain": [
       "8"
      ]
     },
     "execution_count": 7,
     "metadata": {},
     "output_type": "execute_result"
    }
   ],
   "source": [
    "kthLargest.add(9)"
   ]
  },
  {
   "cell_type": "code",
   "execution_count": 8,
   "metadata": {},
   "outputs": [
    {
     "data": {
      "text/plain": [
       "8"
      ]
     },
     "execution_count": 8,
     "metadata": {},
     "output_type": "execute_result"
    }
   ],
   "source": [
    "kthLargest.add(4)"
   ]
  }
 ],
 "metadata": {
  "kernelspec": {
   "display_name": "Python 3 (ipykernel)",
   "language": "python",
   "name": "python3"
  },
  "language_info": {
   "codemirror_mode": {
    "name": "ipython",
    "version": 3
   },
   "file_extension": ".py",
   "mimetype": "text/x-python",
   "name": "python",
   "nbconvert_exporter": "python",
   "pygments_lexer": "ipython3",
   "version": "3.8.2"
  }
 },
 "nbformat": 4,
 "nbformat_minor": 2
}
