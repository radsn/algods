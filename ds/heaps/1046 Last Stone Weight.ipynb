{
 "cells": [
  {
   "cell_type": "markdown",
   "metadata": {},
   "source": [
    "### 1046 Last Stone Weight\n",
    "choose two heaviest stones and smash them together"
   ]
  },
  {
   "cell_type": "code",
   "execution_count": 1,
   "metadata": {},
   "outputs": [],
   "source": [
    "import heapq\n",
    "\n",
    "def lastStoneWeight(stones): \n",
    "    for i in range(len(stones)): # [-s for s in stones] => -ve for maxheap\n",
    "        stones[i] *= -1\n",
    "    \n",
    "    heapq.heapify(stones)\n",
    "    \n",
    "    while len(stones) > 1:                #while there is more than one stone left, remove 2 largest\n",
    "        x = heapq.heappop(stones)\n",
    "        y = heapq.heappop(stones)\n",
    "        \n",
    "        if x != y:\n",
    "            y = - (abs(x)-abs(y))         #x > y since x popped first so x-y\n",
    "            heapq.heappush(stones, y) \n",
    "    \n",
    "    return -heapq.heappop(stones) if stones else 0 #return integer (not array) so need to pop"
   ]
  },
  {
   "cell_type": "code",
   "execution_count": 2,
   "metadata": {},
   "outputs": [
    {
     "data": {
      "text/plain": [
       "1"
      ]
     },
     "execution_count": 2,
     "metadata": {},
     "output_type": "execute_result"
    }
   ],
   "source": [
    "stones = [2,7,4,1,8,1]\n",
    "lastStoneWeight(stones)"
   ]
  },
  {
   "cell_type": "markdown",
   "metadata": {},
   "source": [
    "to store in **max heap** multiply all values in array by -1 before using heapq module\n",
    "\n",
    "Time complexity: O(nlogn)\n",
    "- heapify method: converting array into heap takes O(n) time\n",
    "- while loop takes O(n) time to iterate N-1 times with 3 O(logn) operation for 2pops and 1push. Total = N * O(logn)\n",
    "\n",
    "Space complexity: O(1) inplace -- in python, converting a list to a heap is done in-place, requiring O(1) auxillary space, giving a total space complexity of O(1). "
   ]
  },
  {
   "cell_type": "code",
   "execution_count": 3,
   "metadata": {},
   "outputs": [],
   "source": [
    "# O(n^2) time since total time in while loop is N-1 * O(n)\n",
    "import bisect\n",
    "def lastStoneWeight(stones):\n",
    "    stones.sort() #O(nlogn)\n",
    "    while len(stones) >= 2: #O(n)\n",
    "        x = stones.pop()\n",
    "        y = stones.pop()\n",
    "        if x != y:\n",
    "            y = x-y\n",
    "            bisect.insort(stones, y) #inserts y in sorted array O(n) time\n",
    "    return stones[0] if stones else 0"
   ]
  },
  {
   "cell_type": "code",
   "execution_count": 4,
   "metadata": {},
   "outputs": [
    {
     "data": {
      "text/plain": [
       "1"
      ]
     },
     "execution_count": 4,
     "metadata": {},
     "output_type": "execute_result"
    }
   ],
   "source": [
    "stones = [2,7,4,1,8,1]\n",
    "lastStoneWeight(stones)"
   ]
  }
 ],
 "metadata": {
  "kernelspec": {
   "display_name": "Python 3",
   "language": "python",
   "name": "python3"
  },
  "language_info": {
   "codemirror_mode": {
    "name": "ipython",
    "version": 3
   },
   "file_extension": ".py",
   "mimetype": "text/x-python",
   "name": "python",
   "nbconvert_exporter": "python",
   "pygments_lexer": "ipython3",
   "version": "3.7.1"
  }
 },
 "nbformat": 4,
 "nbformat_minor": 2
}
