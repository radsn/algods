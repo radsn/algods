{
 "cells": [
  {
   "cell_type": "markdown",
   "metadata": {},
   "source": [
    "You have some number of sticks with positive integer lengths. These lengths are given as an array sticks, where `sticks[i]` is the length of the ith stick.\n",
    "\n",
    "You can connect any two sticks of lengths `x` and `y` into one stick by paying a cost of `x + y`. You must connect all the sticks until there is only one stick remaining.\n",
    "\n",
    "Return the minimum cost of connecting all the given sticks into one stick in this way."
   ]
  },
  {
   "cell_type": "code",
   "execution_count": 1,
   "metadata": {},
   "outputs": [],
   "source": [
    "from heapq import heapify, heappush, heappop\n",
    "\n",
    "# O(nlogn) time | O(1) space\n",
    "def connectSticks(A):\n",
    "    \n",
    "    totalcost = 0\n",
    "    heapify(A)\n",
    "    \n",
    "    while len(A) > 1:\n",
    "        x = heappop(A)\n",
    "        y = heappop(A)\n",
    "        totalcost += x+y\n",
    "        heappush(A, x+y)\n",
    "    return totalcost"
   ]
  },
  {
   "cell_type": "code",
   "execution_count": 2,
   "metadata": {},
   "outputs": [
    {
     "data": {
      "text/plain": [
       "30"
      ]
     },
     "execution_count": 2,
     "metadata": {},
     "output_type": "execute_result"
    }
   ],
   "source": [
    "sticks = [1,8,3,5]\n",
    "connectSticks(sticks)"
   ]
  },
  {
   "cell_type": "markdown",
   "metadata": {},
   "source": [
    "each time can connect 2 sticks by paying cost of `x+y`. <br>\n",
    "greedy approach: always pick 2 smallest sticks, add the cost in totalcost, push the sum back into heap -- do this until only one stick. Using minheap ds, to keep track of smallest sticks.\n",
    "\n",
    "As we can see, the sticks which are connected first are included in the final cost more than the ones that are picked later. Hence, it is optimal to pick smaller sticks first to get the smallest cost.\n",
    "\n",
    "- Get two of the smallest sticks (stick1 and stick2) from the array. O(logn) heappop\n",
    "- Add one stick (stick1 + stick2) back to the array. O(logn) heappush"
   ]
  }
 ],
 "metadata": {
  "kernelspec": {
   "display_name": "Python 3",
   "language": "python",
   "name": "python3"
  },
  "language_info": {
   "codemirror_mode": {
    "name": "ipython",
    "version": 3
   },
   "file_extension": ".py",
   "mimetype": "text/x-python",
   "name": "python",
   "nbconvert_exporter": "python",
   "pygments_lexer": "ipython3",
   "version": "3.7.1"
  }
 },
 "nbformat": 4,
 "nbformat_minor": 2
}
