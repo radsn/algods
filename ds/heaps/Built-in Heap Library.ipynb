{
 "cells": [
  {
   "cell_type": "markdown",
   "id": "ddbc6f32",
   "metadata": {},
   "source": [
    "#### Constructing a Heap\n",
    "\n",
    "means initializing an instance of a Heap<br>\n",
    "Time complexity: O(N)<br>\n",
    "Space complexity: O(N)<br>"
   ]
  },
  {
   "cell_type": "code",
   "execution_count": 1,
   "id": "bc204785",
   "metadata": {},
   "outputs": [
    {
     "name": "stdout",
     "output_type": "stream",
     "text": [
      "[1, 3, 2]\n"
     ]
    }
   ],
   "source": [
    "import heapq\n",
    "\n",
    "minHeap = []\n",
    "heapq.heapify(minHeap)\n",
    "\n",
    "minHeap = [3,1,2]\n",
    "heapq.heapify(minHeap)\n",
    "print(minHeap)"
   ]
  },
  {
   "cell_type": "markdown",
   "id": "ae69d583",
   "metadata": {},
   "source": [
    "As there are no internal functions to construct a Max Heap<br>\n",
    "We can multiply each element by -1, then heapify with these modified elements.<br>"
   ]
  },
  {
   "cell_type": "code",
   "execution_count": 2,
   "id": "47568a80",
   "metadata": {},
   "outputs": [
    {
     "name": "stdout",
     "output_type": "stream",
     "text": [
      "[-3, -2, -1]\n"
     ]
    }
   ],
   "source": [
    "maxHeap = [1,2,3]\n",
    "maxHeap = [-x for x in maxHeap]\n",
    "heapq.heapify(maxHeap)\n",
    "print(maxHeap)"
   ]
  },
  {
   "cell_type": "markdown",
   "id": "fdae4b4b",
   "metadata": {},
   "source": [
    "#### Inserting an Element in Heap\n",
    "\n",
    "Time complexity: O(logN)<br>\n",
    "Space complexity: O(1)<br>"
   ]
  },
  {
   "cell_type": "code",
   "execution_count": 3,
   "id": "131d37ec",
   "metadata": {},
   "outputs": [
    {
     "name": "stdout",
     "output_type": "stream",
     "text": [
      "minHeap : [1, 3, 2, 5]\n",
      "maxHeap : [-5, -3, -1, -2]\n"
     ]
    }
   ],
   "source": [
    "# Insert an element to the Min Heap\n",
    "heapq.heappush(minHeap, 5)\n",
    "\n",
    "# Insert an element to the Max Heap\n",
    "# Multiply the element by -1\n",
    "# As we are converting the Min Heap to a Max Heap\n",
    "heapq.heappush(maxHeap, -1 * 5)\n",
    "\n",
    "print(\"minHeap :\", minHeap)\n",
    "print(\"maxHeap :\", maxHeap)"
   ]
  },
  {
   "cell_type": "markdown",
   "id": "d5272029",
   "metadata": {},
   "source": [
    "#### Peeking Top Element\n",
    "\n",
    "Time complexity: O(1)<br>\n",
    "Space complexity: O(1)<br>"
   ]
  },
  {
   "cell_type": "code",
   "execution_count": 4,
   "id": "38555a20",
   "metadata": {},
   "outputs": [
    {
     "name": "stdout",
     "output_type": "stream",
     "text": [
      "root in minHeap : 1\n",
      "root in maxHeap : 5\n"
     ]
    }
   ],
   "source": [
    "# Get top element from the Min Heap\n",
    "# i.e. the smallest element\n",
    "print(\"root in minHeap :\", minHeap[0])\n",
    "\n",
    "# Get top element from the Max Heap\n",
    "# i.e. the largest element\n",
    "# When inserting an element, we multiplied it by -1\n",
    "# Therefore, we need to multiply the element by -1 to revert it back\n",
    "print(\"root in maxHeap :\", -1 * maxHeap[0])"
   ]
  },
  {
   "cell_type": "markdown",
   "id": "e0c38eb8",
   "metadata": {},
   "source": [
    "#### Deleting Top Element\n",
    "\n",
    "Time complexity: O(logN)<br>\n",
    "Space complexity: O(1)<br>"
   ]
  },
  {
   "cell_type": "code",
   "execution_count": 5,
   "id": "f6e1b05f",
   "metadata": {},
   "outputs": [
    {
     "name": "stdout",
     "output_type": "stream",
     "text": [
      "deleted root in minHeap : 1\n",
      "deleted root in minHeap : -5\n"
     ]
    }
   ],
   "source": [
    "# Delete top element from the Min Heap\n",
    "print(\"deleted root in minHeap :\", heapq.heappop(minHeap))\n",
    "\n",
    "# Delete top element from the Max Heap\n",
    "print(\"deleted root in minHeap :\",heapq.heappop(maxHeap))"
   ]
  },
  {
   "cell_type": "markdown",
   "id": "95aea978",
   "metadata": {},
   "source": [
    "#### Getting Length of Heap\n",
    "\n",
    "Time complexity: O(1)<br>\n",
    "Space complexity: O(1)<br>"
   ]
  },
  {
   "cell_type": "code",
   "execution_count": 6,
   "id": "1689bc6d",
   "metadata": {},
   "outputs": [
    {
     "name": "stdout",
     "output_type": "stream",
     "text": [
      "len of minHeap : 3\n",
      "len in maxHeap : 3\n"
     ]
    }
   ],
   "source": [
    "# Length of the Min Heap\n",
    "print(\"len of minHeap :\", len(minHeap))\n",
    "\n",
    "# Length of the Max Heap\n",
    "print(\"len in maxHeap :\", len(maxHeap))"
   ]
  }
 ],
 "metadata": {
  "kernelspec": {
   "display_name": "Python 3 (ipykernel)",
   "language": "python",
   "name": "python3"
  },
  "language_info": {
   "codemirror_mode": {
    "name": "ipython",
    "version": 3
   },
   "file_extension": ".py",
   "mimetype": "text/x-python",
   "name": "python",
   "nbconvert_exporter": "python",
   "pygments_lexer": "ipython3",
   "version": "3.8.2"
  }
 },
 "nbformat": 4,
 "nbformat_minor": 5
}
