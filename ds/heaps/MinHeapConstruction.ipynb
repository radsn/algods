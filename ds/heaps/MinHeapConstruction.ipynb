{
 "cells": [
  {
   "cell_type": "markdown",
   "metadata": {},
   "source": [
    "##### MIN HEAP: Binary Tree with two properties\n",
    "1) preserves structural property: completeness (last level from left)\n",
    "\n",
    "2) preserves Heap Property: every nodes values will be smaller than or equal to its children's nodes values.\n",
    "\n",
    "Can be easily represented by **arrays**\n",
    "- currentNode = i (start at root=i=0)\n",
    "- left_child = 2i+1\n",
    "- right_child = 2i+2\n",
    "- parent = floor((i-1)/2)"
   ]
  },
  {
   "cell_type": "code",
   "execution_count": null,
   "metadata": {},
   "outputs": [],
   "source": []
  },
  {
   "cell_type": "code",
   "execution_count": 1,
   "metadata": {},
   "outputs": [
    {
     "ename": "IndentationError",
     "evalue": "expected an indented block (<ipython-input-1-409a7e71b105>, line 43)",
     "output_type": "error",
     "traceback": [
      "\u001b[0;36m  File \u001b[0;32m\"<ipython-input-1-409a7e71b105>\"\u001b[0;36m, line \u001b[0;32m43\u001b[0m\n\u001b[0;31m    def swap(self, i, j, heap):\u001b[0m\n\u001b[0m      ^\u001b[0m\n\u001b[0;31mIndentationError\u001b[0m\u001b[0;31m:\u001b[0m expected an indented block\n"
     ]
    }
   ],
   "source": [
    "class MinHeap:\n",
    "    def __init__(self, array):\n",
    "        self.heap = self.buildHeap(array)\n",
    "    \n",
    "    \n",
    "    # O(n) time | O(1) space\n",
    "    def buildHeap(self, array):\n",
    "        \"\"\"call siftdown on every parent node starting with last parent node\"\"\"\n",
    "        \n",
    "    \n",
    "    # O(logn) time | O(1) space\n",
    "    def heapifyDown(self, currentIdx, endIdx, heap):\n",
    "        left = 2*currentIdx+1\n",
    "        if left < right:\n",
    "            swap(currentIdx, )\n",
    "    \n",
    "    \n",
    "    # O(logn) time | O(1) space\n",
    "    def heapifyUp(self, currentIdx):\n",
    "        parentIdx = (currentIdx - 1) // 2\n",
    "        while currentIdx > 0: \n",
    "            if self.heap[currentIdx] < self.heap[parentIdx]:\n",
    "                swap(currentIdx, parentIdx)\n",
    "                currentIdx = parentIdx\n",
    "                parentIdx = (currentIdx - 1) // 2\n",
    "\n",
    "    \n",
    "    # O(1) time | O(1) space\n",
    "    def peek(self):\n",
    "        return self.heap[0]\n",
    "    \n",
    "    \n",
    "    # O(logn) time | O(1) space\n",
    "    def remove(self): #remove root value\n",
    "        self.swap(0, len(self.heap)-1)\n",
    "        valueToRemove = self.heap.pop()\n",
    "        self.heapifyDown(0, len(self.heap)-1)\n",
    "        return valueToRemove\n",
    "    \n",
    "    \n",
    "    # O(logn) time | O(1) space\n",
    "    def insert(self, value):\n",
    "        self.heap.append(value)\n",
    "        self.heapifyUp(len(self.heap)-1)\n",
    "        \n",
    "        \n",
    "    def swap(self, i, j):\n",
    "        self.heap[i], self.heap[j] = self.heap[j], self.heap[i]"
   ]
  },
  {
   "cell_type": "code",
   "execution_count": null,
   "metadata": {},
   "outputs": [],
   "source": []
  }
 ],
 "metadata": {
  "kernelspec": {
   "display_name": "Python 3",
   "language": "python",
   "name": "python3"
  },
  "language_info": {
   "codemirror_mode": {
    "name": "ipython",
    "version": 3
   },
   "file_extension": ".py",
   "mimetype": "text/x-python",
   "name": "python",
   "nbconvert_exporter": "python",
   "pygments_lexer": "ipython3",
   "version": "3.7.1"
  }
 },
 "nbformat": 4,
 "nbformat_minor": 2
}
