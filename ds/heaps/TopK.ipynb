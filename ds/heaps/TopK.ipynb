{
 "cells": [
  {
   "cell_type": "markdown",
   "metadata": {},
   "source": [
    "**Q:** Given array of integers (stream) where size of input stream is unknown. Find the K largest elements from a given stream of numbers (no duplicates). Note: cannot rely on the size of the input arr."
   ]
  },
  {
   "cell_type": "code",
   "execution_count": 10,
   "metadata": {},
   "outputs": [],
   "source": [
    "from heapq import heappush, heappop\n",
    "\n",
    "def topK(arr, k):\n",
    "    \n",
    "    heap = []\n",
    "    if len(arr)==0: return heap\n",
    "    \n",
    "    heapset = set() #avoid duplicates in heap - tracks the elements in heap\n",
    "    \n",
    "    \n",
    "    # build min heap of exactly k elements (iterate through entire array)\n",
    "    for num in arr:\n",
    "        \n",
    "        if num in heapset:  \n",
    "            continue           # don't add duplicates to heap\n",
    "            \n",
    "        if len(heap) < k:\n",
    "            heappush(heap, num)\n",
    "            heapset.add(num)\n",
    "            \n",
    "        else:\n",
    "            if num > heap[0]:  # only add if element bigger than minimum of top k elements otherwise ignore\n",
    "                valueToRemove = heappop(heap)\n",
    "                heapset.remove(valueToRemove)\n",
    "                heappush(heap, num)\n",
    "                heapset.add(num)\n",
    "    return heap"
   ]
  },
  {
   "cell_type": "code",
   "execution_count": 8,
   "metadata": {},
   "outputs": [
    {
     "data": {
      "text/plain": [
       "[4, 5]"
      ]
     },
     "execution_count": 8,
     "metadata": {},
     "output_type": "execute_result"
    }
   ],
   "source": [
    "arr = [1, 5, 4, 4, 2]\n",
    "k = 2\n",
    "topK(arr,k)"
   ]
  },
  {
   "cell_type": "code",
   "execution_count": 11,
   "metadata": {},
   "outputs": [
    {
     "data": {
      "text/plain": [
       "[1, 5]"
      ]
     },
     "execution_count": 11,
     "metadata": {},
     "output_type": "execute_result"
    }
   ],
   "source": [
    "arr = [1, 5, 1, 5, 1]\n",
    "k = 3\n",
    "topK(arr,k)"
   ]
  }
 ],
 "metadata": {
  "kernelspec": {
   "display_name": "Python 3",
   "language": "python",
   "name": "python3"
  },
  "language_info": {
   "codemirror_mode": {
    "name": "ipython",
    "version": 3
   },
   "file_extension": ".py",
   "mimetype": "text/x-python",
   "name": "python",
   "nbconvert_exporter": "python",
   "pygments_lexer": "ipython3",
   "version": "3.7.1"
  }
 },
 "nbformat": 4,
 "nbformat_minor": 2
}
