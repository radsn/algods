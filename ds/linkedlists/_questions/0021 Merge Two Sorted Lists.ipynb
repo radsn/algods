{
 "cells": [
  {
   "cell_type": "markdown",
   "metadata": {},
   "source": [
    "Merge two sorted linked lists and return it as a new sorted list. The new list should be made by splicing together the nodes of the first two lists."
   ]
  },
  {
   "cell_type": "markdown",
   "metadata": {},
   "source": [
    "iterative: make sentinel node and iterate thru both lists"
   ]
  },
  {
   "cell_type": "code",
   "execution_count": 1,
   "metadata": {},
   "outputs": [],
   "source": [
    "#iterative: O(n+m) time | O(1) space\n",
    "def mergeTwoLists(l1, l2):\n",
    "    dummy = ListNode(-1) #make a dummy node\n",
    "    dummy_head = dummy   #track head of dummy\n",
    "\n",
    "    while l1 and l2:     #while both valid so we can compare\n",
    "        if l1.val <= l2.val:\n",
    "            dummy.next = l1\n",
    "            l1 = l1.next\n",
    "        else:\n",
    "            dummy.next = l2\n",
    "            l2 = l2.next\n",
    "        dummy = dummy.next\n",
    "    \n",
    "    #gone through atleast one of the lists\n",
    "    if l1:\n",
    "        dummy.next = l1\n",
    "    else:\n",
    "        dummy.next = l2\n",
    "\n",
    "    return dummy_head.next"
   ]
  },
  {
   "cell_type": "markdown",
   "metadata": {},
   "source": [
    "recursion make problem smaller each time<br>\n",
    "basecase: if l1 is null or l2 is null or both are null<br>\n",
    "recursive: determine which is smaller return one node and recursively set next and call function"
   ]
  },
  {
   "cell_type": "code",
   "execution_count": 2,
   "metadata": {},
   "outputs": [],
   "source": [
    "#recursive: O(n+m) time | O(n+m) space\n",
    "def mergeTwoLists(l1, l2):\n",
    "    #basecase: usually same as while loop condition\n",
    "    if l1 and not l2:\n",
    "        return l1\n",
    "    elif not l1 and l2:\n",
    "        return l2\n",
    "    elif not l1 and not l2:\n",
    "        return \n",
    "    \n",
    "    elif l1.val <= l2.val:\n",
    "        l1.next = mergeTwoLists(l1.next, l2)\n",
    "        return l1\n",
    "    else:\n",
    "        l2.next = mergeTwoLists(l1, l2.next)\n",
    "        return l2"
   ]
  }
 ],
 "metadata": {
  "kernelspec": {
   "display_name": "Python 3",
   "language": "python",
   "name": "python3"
  },
  "language_info": {
   "codemirror_mode": {
    "name": "ipython",
    "version": 3
   },
   "file_extension": ".py",
   "mimetype": "text/x-python",
   "name": "python",
   "nbconvert_exporter": "python",
   "pygments_lexer": "ipython3",
   "version": "3.7.1"
  }
 },
 "nbformat": 4,
 "nbformat_minor": 2
}
