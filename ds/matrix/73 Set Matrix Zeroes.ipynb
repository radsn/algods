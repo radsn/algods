{
 "cells": [
  {
   "cell_type": "markdown",
   "id": "04e0443c",
   "metadata": {},
   "source": [
    "Given an m x n integer matrix matrix, if an element is 0, set its entire row and column to 0's, and return the matrix.\n",
    "\n",
    "You must do it in place."
   ]
  },
  {
   "cell_type": "raw",
   "id": "f112c529",
   "metadata": {},
   "source": [
    "1 1 1     1 0 1\n",
    "1 0 1     0 0 0\n",
    "1 1 1     1 0 1\n",
    "\n",
    "1 0 1     0 0 0\n",
    "0 1 1     0 0 0\n",
    "1 0 1     0 0 0"
   ]
  },
  {
   "cell_type": "markdown",
   "id": "d3a5271b",
   "metadata": {},
   "source": [
    "zeros_list = [(1,1)]\n",
    "\n",
    "\n",
    "Brute Force: <br>\n",
    "- loop thru entire matrix : if 0, append into zeros_list as tuple=(row,col)\n",
    "- loop thru zeros_list : for all rows, covert 0 at row; for all cols, convert 0 at col\n",
    "- Optimization : since while looping thru zeros_list - separately converting rows and cols into zero\n",
    "- better way is to use row_set and col_set to store only unique rows and cols that need to be converted to zero\n",
    "\n",
    "\n",
    "\n",
    "Track errors and observation:\n",
    "- cannot update as I traverse matrix - I can lose track of 0's and incorrect answer\n",
    "- traverse and collect ALL places where there is 0"
   ]
  },
  {
   "cell_type": "code",
   "execution_count": 1,
   "id": "e758e729",
   "metadata": {},
   "outputs": [],
   "source": [
    "#Brute: time O(m*n) | space O(m+n)\n",
    "def setZeroes(matrix):\n",
    "    zeros_row = set()\n",
    "    zeros_col = set()\n",
    "    \n",
    "    #traverse and collect 0\n",
    "    for r in range(len(matrix)):\n",
    "        for c in range(len(matrix[0])):\n",
    "            if matrix[r][c] == 0:\n",
    "                zeros_row.add(r)\n",
    "                zeros_col.add(c)\n",
    "    \n",
    "    #set zeros in rows\n",
    "    for zero_r in zeros_row:\n",
    "        for j in range(len(matrix[0])):\n",
    "            matrix[zero_r][j] = 0\n",
    "    #set zeros in cols\n",
    "    for zero_c in zeros_col:\n",
    "        for i in range(len(matrix)):\n",
    "            matrix[i][zero_c] = 0\n",
    "    \n",
    "    return matrix"
   ]
  },
  {
   "cell_type": "raw",
   "id": "5eb8292b",
   "metadata": {},
   "source": [
    "# Iterate over the array once again and using the rows and cols sets, update the elements\n",
    "for i in range(len(matrix)):\n",
    "    for j in range(len(matrix[0])):\n",
    "        if i in rows or j in cols:\n",
    "            matrix[i][j] = 0"
   ]
  },
  {
   "cell_type": "markdown",
   "id": "e8549390",
   "metadata": {},
   "source": [
    "modify the given matrix in place i.e. our space complexity needs to be O(1)."
   ]
  },
  {
   "cell_type": "markdown",
   "id": "4ff1afa4",
   "metadata": {},
   "source": [
    "- Rather than using additional variables to keep track of rows and columns to be reset, use matrix itself.\n",
    "- Store zeros in row0 and col0 : use as zeros_row set and zeros_col set.\n",
    "- keep track of row_flag and col_flag for row0 and col0\n",
    "- traverse rest of matrix : 1 to n-1 and set zeros (i.e. if matrix[i][j]==0, set matrix[0][j]=0 and matrix[i][0]=0)"
   ]
  },
  {
   "cell_type": "code",
   "execution_count": 2,
   "id": "9c3c5014",
   "metadata": {},
   "outputs": [],
   "source": [
    "#time O(m*n) | space O(1)\n",
    "def setZeroes(matrix):\n",
    "    #setting flag for row0\n",
    "    row_flag = False\n",
    "    for j in range(len(matrix[0])):\n",
    "        if matrix[0][j] == 0:\n",
    "            row_flag = True\n",
    "\n",
    "    #setting flag for col0\n",
    "    col_flag = False\n",
    "    for i in range(len(matrix)):\n",
    "        if matrix[i][0] == 0:\n",
    "            col_flag = True\n",
    "\n",
    "    #storing zero in row0 and col0\n",
    "    for r in range(1, len(matrix)):\n",
    "        for c in range(1, len(matrix[0])):\n",
    "            if matrix[r][c] == 0:\n",
    "                matrix[r][0] = 0\n",
    "                matrix[0][c] = 0\n",
    "\n",
    "    #traverse matrix and set zeros\n",
    "    for i in range(1, len(matrix)):\n",
    "        for j in range(1, len(matrix[0])):\n",
    "            if matrix[i][0] == 0 or matrix[0][j] == 0:\n",
    "                matrix[i][j] = 0\n",
    "\n",
    "    #set zero for row0 and col0\n",
    "    if row_flag:\n",
    "        for c in range(len(matrix[0])):\n",
    "            matrix[0][c] = 0\n",
    "    if col_flag:\n",
    "        for r in range(len(matrix)):\n",
    "            matrix[r][0] = 0\n",
    "\n",
    "    return matrix"
   ]
  },
  {
   "cell_type": "markdown",
   "id": "51866860",
   "metadata": {},
   "source": [
    "- setting flags for row0 and col0 can be done while traversing the matrix (no extra loops required)\n",
    "- set col_flag=True if any zeros in col0\n",
    "- row_flag is at matrix[0][0] which automatically gets updated while traversing\n",
    "- key looping: traverse all rows but start at col1 and check for col0 in if condition\n",
    "- set zeros looping: starting at matrix[1][1]\n",
    "- check flags and set zeros in col0 and row0 : check col_flag and matrix[0][0]"
   ]
  },
  {
   "cell_type": "code",
   "execution_count": 3,
   "id": "661b20f5",
   "metadata": {},
   "outputs": [],
   "source": [
    "#time O(m*n) | space O(1)\n",
    "def setZeroes(matrix):\n",
    "    \n",
    "    col_flag = False\n",
    "    for r in range(len(matrix)):\n",
    "        if matrix[r][0] == 0: #set col_flag for col0\n",
    "            col_flag = True\n",
    "        for c in range(1, len(matrix[0])):\n",
    "            if matrix[r][c] == 0:\n",
    "                matrix[r][0] = 0\n",
    "                matrix[0][c] = 0\n",
    "\n",
    "    #traverse matrix and set zeros\n",
    "    for i in range(1, len(matrix)):\n",
    "        for j in range(1, len(matrix[0])):\n",
    "            if matrix[i][0] == 0 or matrix[0][j] == 0:\n",
    "                matrix[i][j] = 0\n",
    "\n",
    "    #set zero for row0 and col0\n",
    "    if not matrix[0][0]:\n",
    "        for c in range(len(matrix[0])):\n",
    "            matrix[0][c] = 0\n",
    "    if col_flag:\n",
    "        for r in range(len(matrix)):\n",
    "            matrix[r][0] = 0\n",
    "\n",
    "    return matrix"
   ]
  }
 ],
 "metadata": {
  "kernelspec": {
   "display_name": "Python 3 (ipykernel)",
   "language": "python",
   "name": "python3"
  },
  "language_info": {
   "codemirror_mode": {
    "name": "ipython",
    "version": 3
   },
   "file_extension": ".py",
   "mimetype": "text/x-python",
   "name": "python",
   "nbconvert_exporter": "python",
   "pygments_lexer": "ipython3",
   "version": "3.8.2"
  }
 },
 "nbformat": 4,
 "nbformat_minor": 5
}
