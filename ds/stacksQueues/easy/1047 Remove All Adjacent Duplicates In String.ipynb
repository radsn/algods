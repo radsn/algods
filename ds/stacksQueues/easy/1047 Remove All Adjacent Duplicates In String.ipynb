{
 "cells": [
  {
   "cell_type": "markdown",
   "metadata": {},
   "source": [
    "Given a string S of lowercase letters, a duplicate removal consists of choosing two adjacent and equal letters, and removing them. We repeatedly make duplicate removals on S until we no longer can. Return the final string after all such duplicate removals have been made. It is guaranteed the answer is unique."
   ]
  },
  {
   "cell_type": "code",
   "execution_count": 1,
   "metadata": {},
   "outputs": [],
   "source": [
    "# O(n^2) time | O(n) space\n",
    "def removeDuplicates(s):\n",
    "    while True:\n",
    "        curr = len(s)\n",
    "        for char in set(s):\n",
    "            s = s.replace(2*char, \"\")\n",
    "        if len(s) == curr:\n",
    "            break\n",
    "    return s"
   ]
  },
  {
   "cell_type": "code",
   "execution_count": 2,
   "metadata": {},
   "outputs": [],
   "source": [
    "from string import ascii_lowercase\n",
    "def removeDuplicates(s):\n",
    "    duplicates = {2*ch for ch in ascii_lowercase}\n",
    "    prev = -1\n",
    "    while prev != len(s):\n",
    "        prev = len(s)\n",
    "        for d in duplicates:\n",
    "            s = s.replace(d, \"\")\n",
    "    return s"
   ]
  },
  {
   "cell_type": "markdown",
   "metadata": {},
   "source": [
    "iterate through the set(string) each time length of string is less than previously.\n",
    "\n",
    "or generate set of all 26 possible duplicates from aa to zz. Iterate over the 26 duplicates and replace them all in string by empty char."
   ]
  },
  {
   "cell_type": "code",
   "execution_count": 3,
   "metadata": {},
   "outputs": [],
   "source": [
    "# O(n) time | O(n-d) space where d = length of duplicates\n",
    "def removeDuplicates(s):\n",
    "    stack = []\n",
    "    for char in s:\n",
    "        if stack and char == stack[-1]:\n",
    "            stack.pop()\n",
    "        else:\n",
    "            stack.append(char)\n",
    "    return \"\".join(stack)"
   ]
  },
  {
   "cell_type": "markdown",
   "metadata": {},
   "source": [
    "using a stack to keep track of only non-duplicate characters:<br>\n",
    "1. curr char == stack[-1] ---> pop (note: need to check if stack not empty)\n",
    "2. curr char != stack[-1] ---> append"
   ]
  },
  {
   "cell_type": "code",
   "execution_count": 4,
   "metadata": {},
   "outputs": [
    {
     "data": {
      "text/plain": [
       "'ca'"
      ]
     },
     "execution_count": 4,
     "metadata": {},
     "output_type": "execute_result"
    }
   ],
   "source": [
    "removeDuplicates(\"abbaca\")"
   ]
  }
 ],
 "metadata": {
  "kernelspec": {
   "display_name": "Python 3",
   "language": "python",
   "name": "python3"
  },
  "language_info": {
   "codemirror_mode": {
    "name": "ipython",
    "version": 3
   },
   "file_extension": ".py",
   "mimetype": "text/x-python",
   "name": "python",
   "nbconvert_exporter": "python",
   "pygments_lexer": "ipython3",
   "version": "3.7.1"
  }
 },
 "nbformat": 4,
 "nbformat_minor": 2
}
