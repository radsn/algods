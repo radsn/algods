{
 "cells": [
  {
   "cell_type": "markdown",
   "metadata": {},
   "source": [
    "1. Initialize a stack S.\n",
    "\n",
    "2. Process each bracket of the expression one at a time as traverse the string.\n",
    "\n",
    "3. opening bracket - push onto stack; closing bracket - pop and check top of stack \n",
    "       \n",
    "    - if top is opening bracket of the same type, then pop and continue \n",
    "    - else invalid expression\n",
    "\n",
    "key: return is to check if any elements left in the stack"
   ]
  },
  {
   "cell_type": "code",
   "execution_count": 5,
   "metadata": {},
   "outputs": [],
   "source": [
    "# O(n) time simply traverse the given string one character at a time, push/pop is O(1) time\n",
    "# O(n) pushing all opening brackets onto stack\n",
    "def isValid(s):\n",
    "    mapping = { \"(\": \")\", \"{\":\"}\", \"[\":\"]\" }\n",
    "    stack = []\n",
    "    for char in s:\n",
    "        if char in mapping:\n",
    "            stack.append(char)\n",
    "        else:\n",
    "            if stack == []:\n",
    "                return False\n",
    "            else:\n",
    "                top = stack.pop()\n",
    "                if mapping[top] != char:\n",
    "                    return False\n",
    "    return not stack"
   ]
  },
  {
   "cell_type": "code",
   "execution_count": 4,
   "metadata": {},
   "outputs": [],
   "source": [
    "def isValid(s):\n",
    "    stack = []\n",
    "    for char in s:\n",
    "        if char in \"([{\":\n",
    "            stack.append(char)\n",
    "        elif char == \")\" and len(stack)!=0 and stack[-1] == \"(\":\n",
    "            stack.pop()\n",
    "        elif char == \"]\" and len(stack)!=0 and stack[-1] == \"[\":\n",
    "            stack.pop()\n",
    "        elif char == \"}\" and len(stack)!=0 and stack[-1] == \"{\":\n",
    "            stack.pop()\n",
    "        else:\n",
    "            return False\n",
    "    return len(stack)==0"
   ]
  },
  {
   "cell_type": "code",
   "execution_count": 8,
   "metadata": {},
   "outputs": [
    {
     "name": "stdout",
     "output_type": "stream",
     "text": [
      "False\n",
      "True\n"
     ]
    }
   ],
   "source": [
    "s1 = \"([)]\"\n",
    "s2 = \"{[]}\"\n",
    "print(isValid(s1))\n",
    "print(isValid(s2))"
   ]
  }
 ],
 "metadata": {
  "kernelspec": {
   "display_name": "Python 3",
   "language": "python",
   "name": "python3"
  },
  "language_info": {
   "codemirror_mode": {
    "name": "ipython",
    "version": 3
   },
   "file_extension": ".py",
   "mimetype": "text/x-python",
   "name": "python",
   "nbconvert_exporter": "python",
   "pygments_lexer": "ipython3",
   "version": "3.7.1"
  }
 },
 "nbformat": 4,
 "nbformat_minor": 2
}
