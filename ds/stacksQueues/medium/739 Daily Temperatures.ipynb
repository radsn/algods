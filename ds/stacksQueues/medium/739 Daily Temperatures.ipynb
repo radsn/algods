{
 "cells": [
  {
   "cell_type": "markdown",
   "metadata": {},
   "source": [
    "Given a list of daily temperatures `T`, return a list such that, for each day in the input, tells you how many days you would have to wait until a warmer temperature. If there is no future day for which this is possible, put `0` instead.\n",
    "\n",
    "For example, given the list of temperatures T = [73, 74, 75, 71, 69, 72, 76, 73], your output should be [1, 1, 4, 2, 1, 1, 0, 0]."
   ]
  },
  {
   "cell_type": "code",
   "execution_count": 1,
   "metadata": {},
   "outputs": [],
   "source": [
    "# brute force: O(n^2)\n",
    "def dailyTemperatures(T):\n",
    "    result = []\n",
    "    for i in range(len(T)):\n",
    "        found = False\n",
    "        for j in range(i+1, len(T)):\n",
    "            if T[j] > T[i]:\n",
    "                found = True\n",
    "                result.append(j-i)\n",
    "                break\n",
    "        if not found:\n",
    "            result.append(0)\n",
    "    return result"
   ]
  },
  {
   "cell_type": "code",
   "execution_count": 2,
   "metadata": {},
   "outputs": [],
   "source": [
    "# O(n) time | O(w) size of stack represents strictly increasing temp\n",
    "def dailyTemperatures(T):\n",
    "    result = []\n",
    "    stack = []\n",
    "    \n",
    "    for i in range(len(T)-1, -1, -1):\n",
    "        while stack and T[i] >= T[stack[-1]]:\n",
    "            stack.pop()\n",
    "        if stack and T[i] < T[stack[-1]]:\n",
    "            idx = stack[-1] - i\n",
    "            result.append(idx)\n",
    "        else:\n",
    "            result.append(0)\n",
    "        stack.append(i)\n",
    "    return result[::-1]"
   ]
  },
  {
   "cell_type": "markdown",
   "metadata": {},
   "source": [
    "need to look ahead and append how much ahead do we encounter higher value? Approach:\n",
    "\n",
    "iterate backward and use a stack <br>\n",
    "append in stack; note: for last element can append 0 <br>\n",
    "if el >= top: keep popping until false <br>\n",
    "if el < top: append idx-diff if found else append 0 <br>\n",
    "always push index of the el into stack"
   ]
  },
  {
   "cell_type": "code",
   "execution_count": 3,
   "metadata": {},
   "outputs": [
    {
     "data": {
      "text/plain": [
       "[1, 1, 4, 2, 1, 1, 0, 0]"
      ]
     },
     "execution_count": 3,
     "metadata": {},
     "output_type": "execute_result"
    }
   ],
   "source": [
    "T = [73, 74, 75, 71, 69, 72, 76, 73]\n",
    "dailyTemperatures(T)"
   ]
  }
 ],
 "metadata": {
  "kernelspec": {
   "display_name": "Python 3",
   "language": "python",
   "name": "python3"
  },
  "language_info": {
   "codemirror_mode": {
    "name": "ipython",
    "version": 3
   },
   "file_extension": ".py",
   "mimetype": "text/x-python",
   "name": "python",
   "nbconvert_exporter": "python",
   "pygments_lexer": "ipython3",
   "version": "3.7.1"
  }
 },
 "nbformat": 4,
 "nbformat_minor": 2
}
