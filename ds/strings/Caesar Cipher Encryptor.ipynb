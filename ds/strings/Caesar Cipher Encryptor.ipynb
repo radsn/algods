{
 "cells": [
  {
   "cell_type": "code",
   "execution_count": 1,
   "id": "e5ce2229",
   "metadata": {},
   "outputs": [],
   "source": [
    "def caesarCipherEncryptor(string, key):\n",
    "    newstring = []\n",
    "    alphabet=list(\"abcdefghijklmnopqrstuvwxyz\") #since starts at 0 - use mod\n",
    "    for each_char in string:\n",
    "        mod = alphabet.index(\"z\") - alphabet.index(\"a\") + 1\n",
    "        newvalue = alphabet.index(each_char) + key\n",
    "        if newvalue > alphabet.index(\"z\"):\n",
    "            newvalue = (newvalue % mod)\n",
    "        newchar = alphabet[newvalue]\n",
    "        newstring.append(newchar)\n",
    "    return \"\".join(newstring)"
   ]
  },
  {
   "cell_type": "code",
   "execution_count": 2,
   "id": "b0bde94b",
   "metadata": {},
   "outputs": [
    {
     "data": {
      "text/plain": [
       "'y'"
      ]
     },
     "execution_count": 2,
     "metadata": {},
     "output_type": "execute_result"
    }
   ],
   "source": [
    "caesarCipherEncryptor(\"z\", 25)"
   ]
  },
  {
   "cell_type": "code",
   "execution_count": 3,
   "id": "058e823d",
   "metadata": {},
   "outputs": [],
   "source": [
    "def caesarCipherEncryptor(string, key):\n",
    "    newstring = []\n",
    "    for each_char in string:\n",
    "        mod = ord(\"z\") - ord(\"a\") + 1\n",
    "        newvalue = ord(each_char) + (key % mod)\n",
    "        if newvalue > ord(\"z\"):\n",
    "            newvalue = (newvalue % ord(\"z\")) + ord(\"a\") - 1  #z=122, a=97\n",
    "        newchar = chr(newvalue)\n",
    "        newstring.append(newchar)\n",
    "    return \"\".join(newstring)"
   ]
  },
  {
   "cell_type": "code",
   "execution_count": 4,
   "id": "77c7bbc1",
   "metadata": {},
   "outputs": [
    {
     "data": {
      "text/plain": [
       "'j'"
      ]
     },
     "execution_count": 4,
     "metadata": {},
     "output_type": "execute_result"
    }
   ],
   "source": [
    "caesarCipherEncryptor(\"z\", 140)"
   ]
  }
 ],
 "metadata": {
  "kernelspec": {
   "display_name": "Python 3 (ipykernel)",
   "language": "python",
   "name": "python3"
  },
  "language_info": {
   "codemirror_mode": {
    "name": "ipython",
    "version": 3
   },
   "file_extension": ".py",
   "mimetype": "text/x-python",
   "name": "python",
   "nbconvert_exporter": "python",
   "pygments_lexer": "ipython3",
   "version": "3.8.2"
  }
 },
 "nbformat": 4,
 "nbformat_minor": 5
}
