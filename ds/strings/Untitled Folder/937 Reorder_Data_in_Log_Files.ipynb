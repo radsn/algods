{
 "cells": [
  {
   "cell_type": "markdown",
   "metadata": {},
   "source": [
    "You have an array of logs.  Each log is a space delimited string of words. For each log, the first word in each log is an alphanumeric identifier.\n",
    "\n",
    "1) letter-logs prioritized above all digit-logs.\n",
    "\n",
    "2) letter-logs first sort based on contents and then on identifiers if the contents are identical.\n",
    "\n",
    "3) digit-logs should remain in the same order as they are in the collection."
   ]
  },
  {
   "cell_type": "code",
   "execution_count": 1,
   "metadata": {},
   "outputs": [],
   "source": [
    "student= [ ('john', 'A', 15), \n",
    "          ('jane', 'B', 12), \n",
    "          ('dave', 'B', 10) ]"
   ]
  },
  {
   "cell_type": "code",
   "execution_count": 2,
   "metadata": {},
   "outputs": [],
   "source": [
    "sorted(student, key = lambda x: x[2])"
   ]
  },
  {
   "cell_type": "markdown",
   "metadata": {},
   "source": [
    "sorting keys based on tuple of multiple keys i.e. `tuple(key1, key2, ..., keyn)`\n",
    "\n",
    "if two elements have same value on key1 then comparison will carry on for the following keys i.e. key2, ..., keyn"
   ]
  },
  {
   "cell_type": "code",
   "execution_count": 3,
   "metadata": {},
   "outputs": [],
   "source": [
    "# compound key for sorting\n",
    "sorted(student, key = lambda x: (x[1], x[2]))"
   ]
  },
  {
   "cell_type": "markdown",
   "metadata": {},
   "source": [
    "`str.isdigit()` - all characters are digits -- space is not digit (strictly digits only)\n",
    "\n",
    "`str.isalpha()` -  all characters are alphabets -- space is not alphabet\n",
    "\n",
    "`str.strip()` - removes all leading and ending spaces (not spaces in the middle)\n",
    "\n",
    "`str.replace(\" \", \"\")` - removes all spaces characters\n",
    "\n",
    "`str.split(separator, maxsplit)` "
   ]
  },
  {
   "cell_type": "markdown",
   "metadata": {},
   "source": [
    "- rearrange first based on letter versus digit \n",
    "- sort the letters\n",
    "\n",
    "key: cannot rearrange since space so either remove it or check the first element whether it is letter or digit\n",
    "\n",
    "need to split() to check!"
   ]
  },
  {
   "cell_type": "code",
   "execution_count": 4,
   "metadata": {},
   "outputs": [],
   "source": [
    "def reorderLogFiles(logs):\n",
    "    letters  = []\n",
    "    digits = []\n",
    "\n",
    "    for log in logs:\n",
    "        identifier, rest = log.split(\" \", 1)\n",
    "        if rest.replace(\" \",  \"\").isdigit(): #check if entirely digits \n",
    "            digits.append(log)\n",
    "        else:\n",
    "            letters.append(log)\n",
    "            \n",
    "    letters.sort(key = lambda x: (x.split(\" \", 1)[1], x.split(\" \", 1)[0]) ) #compound key need to be in parentheses\n",
    "    return letters + digits"
   ]
  },
  {
   "cell_type": "code",
   "execution_count": 5,
   "metadata": {},
   "outputs": [],
   "source": [
    "def reorderLogFiles(logs):\n",
    "    digit = []\n",
    "    letter = []\n",
    "\n",
    "    for log in logs:\n",
    "        if log.split()[1].isalpha(): #just check first element\n",
    "            letter.append(log)\n",
    "        else:\n",
    "            digit.append(log)\n",
    "    letter.sort(key = (lambda x: (x.split()[1:], x.split()[0]))) \n",
    "\n",
    "    return letter + digit"
   ]
  },
  {
   "cell_type": "markdown",
   "metadata": {},
   "source": [
    "Translate the rules defined into a tuple of keys:\n",
    "\n",
    "Define tuple of 3 keys: (key1, key2, key3)\n",
    "\n",
    "key1: indicator for the type of logs: 0 for letter_log, 1 for digit_log\n",
    "\n",
    "key2: use content of letter-log as its value to sort\n",
    "\n",
    "key3: use identifier of letter-log as its value to sort\n",
    "\n",
    "For digit_logs, don't need key2 or key3 so assign None `(1, None, None)`\n",
    "\n",
    "Make a function that returns a tuple (in terms of sequence of sorting)  for just one instance of log. Then use this for sorting as a key for all logs."
   ]
  },
  {
   "cell_type": "code",
   "execution_count": 6,
   "metadata": {},
   "outputs": [],
   "source": [
    "def reorderLogFiles(logs):\n",
    "    \n",
    "    def get_key(log):\n",
    "        _id, rest = log.split(\" \", 1)\n",
    "        if rest[0].isalpha():\n",
    "            return (0, rest, _id) #assign priority 0 if letter log\n",
    "        else:\n",
    "            return (1, None, None) #assign priority 1 if digit log\n",
    "        \n",
    "    logs.sort(key = get_key)\n",
    "    return logs"
   ]
  },
  {
   "cell_type": "code",
   "execution_count": 7,
   "metadata": {},
   "outputs": [],
   "source": [
    " def reorderLogFiles(logs):\n",
    "\n",
    "    def get_key(log):\n",
    "        _id, rest = log.split(\" \", maxsplit=1)\n",
    "        return (0, rest, _id) if rest[0].isalpha() else (1, )\n",
    "\n",
    "    return sorted(logs, key=get_key)"
   ]
  },
  {
   "cell_type": "code",
   "execution_count": 8,
   "metadata": {},
   "outputs": [
    {
     "data": {
      "text/plain": [
       "['let1 art can',\n",
       " 'let3 art zero',\n",
       " 'let2 own kit dig',\n",
       " 'dig1 8 1 5 1',\n",
       " 'dig2 3 6']"
      ]
     },
     "execution_count": 8,
     "metadata": {},
     "output_type": "execute_result"
    }
   ],
   "source": [
    "logs = [\"dig1 8 1 5 1\",\"let1 art can\",\"dig2 3 6\",\"let2 own kit dig\",\"let3 art zero\"]\n",
    "reorderLogFiles(logs)"
   ]
  },
  {
   "cell_type": "markdown",
   "metadata": {},
   "source": [
    "#### Complexity Analysis\n",
    "\n",
    "N = number of logs in the list\n",
    "\n",
    "M = maximum length of a single log\n",
    "\n",
    "Time complexity: O(M * NlogN)\n",
    "\n",
    "Space Complexity: O(M⋅N) to store keys for the log"
   ]
  }
 ],
 "metadata": {
  "kernelspec": {
   "display_name": "Python 3",
   "language": "python",
   "name": "python3"
  },
  "language_info": {
   "codemirror_mode": {
    "name": "ipython",
    "version": 3
   },
   "file_extension": ".py",
   "mimetype": "text/x-python",
   "name": "python",
   "nbconvert_exporter": "python",
   "pygments_lexer": "ipython3",
   "version": "3.7.1"
  }
 },
 "nbformat": 4,
 "nbformat_minor": 2
}
