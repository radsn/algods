{
 "cells": [
  {
   "cell_type": "code",
   "execution_count": 4,
   "id": "e5ce2229",
   "metadata": {},
   "outputs": [],
   "source": [
    "def caesarCipherEncryptor(string, key):\n",
    "    # Write your code here.\n",
    "    newstring = []\n",
    "    alphabet=list(\"abcdefghijklmnopqrstuvwxyz\")\n",
    "    #z=122, a=97\n",
    "    for each_char in string:\n",
    "\n",
    "        mod = alphabet.index(\"z\") - alphabet.index(\"a\") + 1\n",
    "        newvalue = alphabet.index(each_char) + (key % mod)\n",
    "        if newvalue > alphabet.index(\"z\"):\n",
    "            newvalue = (newvalue % alphabet.index(\"z\")) + alphabet.index(\"a\") - 1\n",
    "            print(newvalue)\n",
    "        newchar = alphabet[newvalue]\n",
    "        newstring.append(newchar)\n",
    "    return \"\".join(newstring)"
   ]
  },
  {
   "cell_type": "code",
   "execution_count": 5,
   "id": "b0bde94b",
   "metadata": {},
   "outputs": [
    {
     "name": "stdout",
     "output_type": "stream",
     "text": [
      "-1\n"
     ]
    },
    {
     "data": {
      "text/plain": [
       "'z'"
      ]
     },
     "execution_count": 5,
     "metadata": {},
     "output_type": "execute_result"
    }
   ],
   "source": [
    "caesarCipherEncryptor(\"z\", 25)"
   ]
  },
  {
   "cell_type": "code",
   "execution_count": 9,
   "id": "058e823d",
   "metadata": {},
   "outputs": [],
   "source": [
    "def caesarCipherEncryptor(string, key):\n",
    "    # Write your code here.\n",
    "    newstring = []\n",
    "    #z=122, a=97\n",
    "    for each_char in string:\n",
    "        mod = ord(\"z\") - ord(\"a\") + 1\n",
    "        newvalue = ord(each_char) + (key % mod)\n",
    "        if newvalue > ord(\"z\"):\n",
    "            print(newvalue)\n",
    "            newvalue = (newvalue % ord(\"z\")) + ord(\"a\") - 1\n",
    "            print(newvalue)\n",
    "        newchar = chr(newvalue)\n",
    "        newstring.append(newchar)\n",
    "    return \"\".join(newstring)"
   ]
  },
  {
   "cell_type": "code",
   "execution_count": 10,
   "id": "77c7bbc1",
   "metadata": {},
   "outputs": [
    {
     "name": "stdout",
     "output_type": "stream",
     "text": [
      "140\n",
      "114\n"
     ]
    },
    {
     "data": {
      "text/plain": [
       "'r'"
      ]
     },
     "execution_count": 10,
     "metadata": {},
     "output_type": "execute_result"
    }
   ],
   "source": [
    "caesarCipherEncryptor(\"z\", 140)"
   ]
  },
  {
   "cell_type": "code",
   "execution_count": 11,
   "id": "cc59484d",
   "metadata": {},
   "outputs": [
    {
     "data": {
      "text/plain": [
       "122"
      ]
     },
     "execution_count": 11,
     "metadata": {},
     "output_type": "execute_result"
    }
   ],
   "source": [
    "ord(\"z\")"
   ]
  },
  {
   "cell_type": "code",
   "execution_count": null,
   "id": "c63f63a2",
   "metadata": {},
   "outputs": [],
   "source": []
  }
 ],
 "metadata": {
  "kernelspec": {
   "display_name": "Python 3 (ipykernel)",
   "language": "python",
   "name": "python3"
  },
  "language_info": {
   "codemirror_mode": {
    "name": "ipython",
    "version": 3
   },
   "file_extension": ".py",
   "mimetype": "text/x-python",
   "name": "python",
   "nbconvert_exporter": "python",
   "pygments_lexer": "ipython3",
   "version": "3.8.2"
  }
 },
 "nbformat": 4,
 "nbformat_minor": 5
}
