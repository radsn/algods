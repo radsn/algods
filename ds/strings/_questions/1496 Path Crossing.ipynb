{
 "cells": [
  {
   "cell_type": "markdown",
   "metadata": {},
   "source": [
    "Given a string path, where path[i] = 'N', 'S', 'E' or 'W', each representing moving one unit north, south, east, or west, respectively. You start at the origin (0, 0) on a 2D plane and walk on the path specified by path.\n",
    "\n",
    "Return True if the path crosses itself at any point, that is, if at any time you are on a location you've previously visited. Return False otherwise."
   ]
  },
  {
   "cell_type": "code",
   "execution_count": 1,
   "metadata": {},
   "outputs": [],
   "source": [
    "def isPathCrossing(path):\n",
    "    d = {\"N\":(0,1), \"E\":(1,0), \"W\":(-1,0), \"S\":(0,-1)}\n",
    "    curr = (0,0)\n",
    "    visited = {curr}\n",
    "    for i in path:\n",
    "        curr = (curr[0]+d[i][0] , curr[1]+d[i][1])\n",
    "        if curr in visited:\n",
    "            return True\n",
    "        else:\n",
    "            visited.add(curr)\n",
    "    return False"
   ]
  },
  {
   "cell_type": "code",
   "execution_count": 2,
   "metadata": {},
   "outputs": [],
   "source": [
    "def isPathCrossing(path):\n",
    "    x, y = 0, 0\n",
    "    visited = {(x,y)}\n",
    "    for move in path:\n",
    "        if move == \"N\":\n",
    "            y += 1\n",
    "        elif move == \"S\":\n",
    "            y -= 1\n",
    "        elif move == \"E\":\n",
    "            x += 1\n",
    "        elif move == \"W\":\n",
    "            x -= 1\n",
    "        \n",
    "        if (x, y) in visited:\n",
    "            return True\n",
    "        else:\n",
    "            visited.add((x,y))\n",
    "    return False"
   ]
  },
  {
   "cell_type": "code",
   "execution_count": 3,
   "metadata": {},
   "outputs": [
    {
     "data": {
      "text/plain": [
       "False"
      ]
     },
     "execution_count": 3,
     "metadata": {},
     "output_type": "execute_result"
    }
   ],
   "source": [
    "path = \"NES\"\n",
    "isPathCrossing(path)"
   ]
  },
  {
   "cell_type": "code",
   "execution_count": 4,
   "metadata": {},
   "outputs": [
    {
     "data": {
      "text/plain": [
       "True"
      ]
     },
     "execution_count": 4,
     "metadata": {},
     "output_type": "execute_result"
    }
   ],
   "source": [
    "path = \"NESWW\"\n",
    "isPathCrossing(path)"
   ]
  },
  {
   "cell_type": "markdown",
   "metadata": {},
   "source": [
    "key is using a set since we need to keep track of all the points visited so far and ensure that any new point is not already visited"
   ]
  }
 ],
 "metadata": {
  "kernelspec": {
   "display_name": "Python 3",
   "language": "python",
   "name": "python3"
  },
  "language_info": {
   "codemirror_mode": {
    "name": "ipython",
    "version": 3
   },
   "file_extension": ".py",
   "mimetype": "text/x-python",
   "name": "python",
   "nbconvert_exporter": "python",
   "pygments_lexer": "ipython3",
   "version": "3.7.1"
  }
 },
 "nbformat": 4,
 "nbformat_minor": 2
}
