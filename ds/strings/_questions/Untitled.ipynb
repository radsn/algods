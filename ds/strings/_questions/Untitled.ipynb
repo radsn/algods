{
 "cells": [
  {
   "cell_type": "code",
   "execution_count": 5,
   "id": "fc528528",
   "metadata": {},
   "outputs": [
    {
     "name": "stdout",
     "output_type": "stream",
     "text": [
      "0\n",
      "['L']\n",
      "1\n",
      "['L', 'e']\n",
      "2\n",
      "['L', 'e', 'e']\n",
      "3\n",
      "['L', 'e', 'e', 't']\n",
      "4\n",
      "['L', 'e', 'e', 't', 'c']\n",
      "5\n",
      "['L', 'e', 'e', 't', 'c', 'o']\n",
      "6\n",
      "['L', 'e', 'e', 't', 'c', 'o', 'd']\n",
      "7\n",
      "['L', 'e', 'e', 't', 'c', 'o', 'd', 'e']\n",
      "8\n",
      "8 7\n",
      "['L', 'e', 'e', 't', 'c', 'o', 'd', 'e', ' ']\n",
      "8\n",
      "['L', 'e', 'e', 't', 'c', 'o', 'd', 'e', ' ', 'H']\n",
      "9\n",
      "['L', 'e', 'e', 't', 'c', 'o', 'd', 'e', ' ', 'H', 'e']\n",
      "10\n",
      "['L', 'e', 'e', 't', 'c', 'o', 'd', 'e', ' ', 'H', 'e', 'l']\n",
      "11\n",
      "['L', 'e', 'e', 't', 'c', 'o', 'd', 'e', ' ', 'H', 'e', 'l', 'p']\n",
      "12\n",
      "['L', 'e', 'e', 't', 'c', 'o', 'd', 'e', ' ', 'H', 'e', 'l', 'p', 's']\n",
      "13\n",
      "13 12\n",
      "['L', 'e', 'e', 't', 'c', 'o', 'd', 'e', ' ', 'H', 'e', 'l', 'p', 's', ' ']\n",
      "13\n",
      "['L', 'e', 'e', 't', 'c', 'o', 'd', 'e', ' ', 'H', 'e', 'l', 'p', 's', ' ', 'M']\n",
      "14\n",
      "['L', 'e', 'e', 't', 'c', 'o', 'd', 'e', ' ', 'H', 'e', 'l', 'p', 's', ' ', 'M', 'e']\n",
      "15\n",
      "15 14\n",
      "['L', 'e', 'e', 't', 'c', 'o', 'd', 'e', ' ', 'H', 'e', 'l', 'p', 's', ' ', 'M', 'e', ' ']\n"
     ]
    },
    {
     "data": {
      "text/plain": [
       "'Leetcode Helps Me '"
      ]
     },
     "execution_count": 5,
     "metadata": {},
     "output_type": "execute_result"
    }
   ],
   "source": [
    "def addSpaces(s, spaces): # s=\"LeetcodeHelpsMeLearn\"; spaces=[8,13,15]\n",
    "    new_string_list = []\n",
    "    spaceIdx = 0\n",
    "    i = 0\n",
    "    while i < len(s) and spaceIdx < len(spaces):\n",
    "        print(i)\n",
    "        char = s[i]\n",
    "        if i == spaces[spaceIdx]:\n",
    "            print(i, spaces[spaceIdx]-1)\n",
    "            new_string_list.append(\" \")\n",
    "            spaceIdx += 1\n",
    "        else:\n",
    "            new_string_list.append(char)\n",
    "            i += 1\n",
    "        print(new_string_list)\n",
    "    return \"\".join(new_string_list)\n",
    "\n",
    "addSpaces(\"LeetcodeHelpsMeLearn\", [8,13,15])"
   ]
  },
  {
   "cell_type": "code",
   "execution_count": null,
   "id": "ee947da4",
   "metadata": {},
   "outputs": [],
   "source": []
  }
 ],
 "metadata": {
  "kernelspec": {
   "display_name": "Python 3 (ipykernel)",
   "language": "python",
   "name": "python3"
  },
  "language_info": {
   "codemirror_mode": {
    "name": "ipython",
    "version": 3
   },
   "file_extension": ".py",
   "mimetype": "text/x-python",
   "name": "python",
   "nbconvert_exporter": "python",
   "pygments_lexer": "ipython3",
   "version": "3.8.2"
  }
 },
 "nbformat": 4,
 "nbformat_minor": 5
}
