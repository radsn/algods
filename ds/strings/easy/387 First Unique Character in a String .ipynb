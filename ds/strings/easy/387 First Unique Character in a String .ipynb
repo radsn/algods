{
 "cells": [
  {
   "cell_type": "markdown",
   "metadata": {},
   "source": [
    "**STAR** Given a string, find the first non-repeating character in it and return its index. If it doesn't exist, return -1."
   ]
  },
  {
   "cell_type": "code",
   "execution_count": 1,
   "metadata": {},
   "outputs": [],
   "source": [
    "def firstUniqChar(s):\n",
    "    d = {}\n",
    "\n",
    "    #store key: char and value: [idx, count]\n",
    "    for idx, char in enumerate(s):\n",
    "        if char not in d:\n",
    "            d[char] = [ idx, 1 ]\n",
    "        else:\n",
    "            d[char] = [ idx, d[char][1]+1 ]  #note no += sign\n",
    "\n",
    "    minidx = float(\"inf\")\n",
    "    for key, value in d.items():\n",
    "        if value[1] == 1:\n",
    "            if value[0] < minidx:\n",
    "                minidx = value[0]\n",
    "    return minidx if minidx != float(\"inf\") else -1"
   ]
  },
  {
   "cell_type": "code",
   "execution_count": 2,
   "metadata": {},
   "outputs": [],
   "source": [
    "def firstUniqChar(s):\n",
    "    d = {}\n",
    "\n",
    "    #iterate thru string and store count of each char in dictionary \n",
    "    for char in s:\n",
    "        if char in d:\n",
    "            d[char] += 1\n",
    "        else:\n",
    "            d[char] = 1\n",
    "\n",
    "    #iterate thru string and check if count == 1\n",
    "    for idx, char in enumerate(s):\n",
    "        if d[char] == 1:\n",
    "            return idx\n",
    "    return -1"
   ]
  },
  {
   "cell_type": "code",
   "execution_count": 3,
   "metadata": {},
   "outputs": [
    {
     "name": "stdout",
     "output_type": "stream",
     "text": [
      "3\n",
      "-1\n"
     ]
    }
   ],
   "source": [
    "print(firstUniqChar(\"aaaebcccdddb\"))\n",
    "print(firstUniqChar(\"\"))"
   ]
  },
  {
   "cell_type": "markdown",
   "metadata": {},
   "source": [
    "Follow up question: return the first char index with maximum value"
   ]
  },
  {
   "cell_type": "code",
   "execution_count": 4,
   "metadata": {},
   "outputs": [],
   "source": [
    "def firstMaxChar(s):\n",
    "    d = {}\n",
    "\n",
    "    #store key: char and value: [idx, count]\n",
    "    for idx, char in enumerate(s):\n",
    "        if char not in d:\n",
    "            d[char] = [ idx, 1 ]\n",
    "        else:\n",
    "            d[char] = [ d[char][0], d[char][1]+1 ]  #note dont want idx updated\n",
    "    \n",
    "    #find max value\n",
    "    maxval = 0\n",
    "    minidx = float(\"inf\")\n",
    "    for key, value in d.items():\n",
    "        if value[1] > maxval:\n",
    "            maxval = value[1]\n",
    "    \n",
    "    #iterate thru string and check if count == maxval\n",
    "    for char in s:\n",
    "        if d[char][1] == maxval:\n",
    "            return d[char][0]\n",
    "    return -1"
   ]
  },
  {
   "cell_type": "code",
   "execution_count": 5,
   "metadata": {},
   "outputs": [
    {
     "name": "stdout",
     "output_type": "stream",
     "text": [
      "1\n",
      "0\n",
      "-1\n"
     ]
    }
   ],
   "source": [
    "print(firstMaxChar(\"abbcc\"))\n",
    "print(firstMaxChar(\"abc\"))\n",
    "print(firstMaxChar(\"\"))"
   ]
  }
 ],
 "metadata": {
  "kernelspec": {
   "display_name": "Python 3",
   "language": "python",
   "name": "python3"
  },
  "language_info": {
   "codemirror_mode": {
    "name": "ipython",
    "version": 3
   },
   "file_extension": ".py",
   "mimetype": "text/x-python",
   "name": "python",
   "nbconvert_exporter": "python",
   "pygments_lexer": "ipython3",
   "version": "3.7.1"
  }
 },
 "nbformat": 4,
 "nbformat_minor": 2
}
