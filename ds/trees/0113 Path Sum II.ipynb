{
 "cells": [
  {
   "cell_type": "markdown",
   "metadata": {},
   "source": [
    "**Given a binary tree and a sum, determine if the tree has a root-to-leaf path such that adding up all the values along the path equals the given sum.**"
   ]
  },
  {
   "cell_type": "markdown",
   "metadata": {},
   "source": [
    "First Question: is this Top-Down DFS? i.e. is it possible to solve this problem pretending that info only flows top  down and no info needs to be passed back up? If yes, then need to pass additional parameters; need globalbox which will be directly updated in the leaf node level (basecase); and there will be no returns."
   ]
  },
  {
   "cell_type": "markdown",
   "metadata": {},
   "source": [
    "top-down dfs: additional information needs to be passed down from the top hierarchy to bottom subordinates.\n",
    "\n",
    "subproblem definition  [subtree (node), target value] and partial solution (path so far!)\n",
    "\n",
    "leaf node: add path into globalbox; internal node: recurse on left and right child with updated params"
   ]
  },
  {
   "cell_type": "code",
   "execution_count": 1,
   "metadata": {},
   "outputs": [],
   "source": [
    "def pathSum(root, sum):\n",
    "    if not root:\n",
    "        return []\n",
    "\n",
    "    result = []  #globalbox\n",
    "\n",
    "    def dfs(node, target, slate):\n",
    "        #BaseCase: leaf node\n",
    "        if not node.left and not node.right: \n",
    "            if target == node.val:  #single value of leaf node not accounted for yet\n",
    "                slate.append(node.val)   #add own value into partial solution\n",
    "                result.append(slate[:])  #add the path (copy of slate) into globalbox\n",
    "                slate.pop()\n",
    "            return\n",
    "        #RecursiveCase: internal node\n",
    "        else:\n",
    "            slate.append(node.val)  #left and right children will inherit partial soln with curr node's val\n",
    "            if node.left:\n",
    "                dfs(node.left, target-node.val, slate)\n",
    "            if node.right:\n",
    "                dfs(node.right, target-node.val, slate)\n",
    "            slate.pop()\n",
    "\n",
    "    dfs(root, sum, [])\n",
    "    return result"
   ]
  },
  {
   "cell_type": "code",
   "execution_count": 2,
   "metadata": {},
   "outputs": [],
   "source": [
    "#variant: track running sum and slate\n",
    "def pathSum(root, sum):\n",
    "    result = []\n",
    "\n",
    "    def findPaths(node, target, runningSum, slate):\n",
    "        if not node:\n",
    "            return None\n",
    "        if not node.left and not node.right:\n",
    "            if runningSum + node.val == target:\n",
    "                result.append(slate + [node.val])\n",
    "        else:\n",
    "            findPaths(node.left,  target, runningSum+node.val, slate+[node.val])\n",
    "            findPaths(node.right, target, runningSum+node.val, slate+[node.val])\n",
    "\n",
    "    findPaths(root,sum,0,[])\n",
    "    return result"
   ]
  },
  {
   "cell_type": "code",
   "execution_count": 3,
   "metadata": {},
   "outputs": [],
   "source": [
    "#pass slate - append and pop node while traversing tree - at root node make copy of slate and add into result\n",
    "#pass summ - to track summ so far and important condition for leaf node\n",
    "def pathSum(root, targetSum):\n",
    "    result = []\n",
    "    if not root: return result\n",
    "    def helper(node, slate, summ):\n",
    "        summ += node.val\n",
    "        slate.append(node.val)\n",
    "        #Base Case\n",
    "        if not node.left and not node.right:\n",
    "            if summ == targetSum:\n",
    "                result.append(slate[:])\n",
    "            slate.pop()  #pop from slate if last leaf node\n",
    "            return\n",
    "        #Recursive Case\n",
    "        if node.left:\n",
    "            helper(node.left, slate, summ)\n",
    "        if node.right:\n",
    "            helper(node.right, slate, summ)\n",
    "        slate.pop()  #pop from slate if last internal node\n",
    "    helper(root, [], 0)\n",
    "    return result"
   ]
  },
  {
   "cell_type": "code",
   "execution_count": 4,
   "metadata": {},
   "outputs": [],
   "source": [
    "class Node:\n",
    "    def __init__(self, value):\n",
    "        self.val = value\n",
    "        self.left = None\n",
    "        self.right = None"
   ]
  },
  {
   "cell_type": "code",
   "execution_count": 5,
   "metadata": {},
   "outputs": [],
   "source": [
    "root = Node(5)  \n",
    "root.left = Node(4)  \n",
    "root.right = Node(8)  \n",
    "root.left.left = Node(11)\n",
    "root.left.left.left = Node(7)  \n",
    "root.left.left.right = Node(2)  \n",
    "root.right.left = Node(13)  \n",
    "root.right.right = Node(4)\n",
    "root.right.right.left = Node(5)\n",
    "root.right.right.right = Node(1)"
   ]
  },
  {
   "cell_type": "code",
   "execution_count": 6,
   "metadata": {},
   "outputs": [
    {
     "data": {
      "text/plain": [
       "[[5, 4, 11, 2], [5, 8, 4, 5]]"
      ]
     },
     "execution_count": 6,
     "metadata": {},
     "output_type": "execute_result"
    }
   ],
   "source": [
    "pathSum(root, 22)"
   ]
  },
  {
   "cell_type": "markdown",
   "metadata": {},
   "source": [
    "**time:** each leaf level worker (n/2 nodes) will make copy of slate length (logn) ==> total O(nlogn).\n",
    "    \n",
    "all work in function dfs does constant time, except for when making copy of the slate. What is the time complexity of making copy of slate: worst case all nodes? So then `globalbox.append(slate[:])` -- if vertical unbalanced tree: number of leaf nodes: 1 and slate length = n. So, O(n) total. What is the worst case input? complete binary tree not unbalanced tree. In balanced tree: number of leaf nodes = n/2 and slate length = logn.\n",
    "\n",
    "\n",
    "**space:** how large is the globalbox? n/2 paths which are logn length ==> O(nlogn)\n",
    "\n",
    "in dfs usually call stack causes the bottleneck; however, here the bottleneck is from copy of the slate of multiple paths which is appended into globalbox."
   ]
  }
 ],
 "metadata": {
  "kernelspec": {
   "display_name": "Python 3 (ipykernel)",
   "language": "python",
   "name": "python3"
  },
  "language_info": {
   "codemirror_mode": {
    "name": "ipython",
    "version": 3
   },
   "file_extension": ".py",
   "mimetype": "text/x-python",
   "name": "python",
   "nbconvert_exporter": "python",
   "pygments_lexer": "ipython3",
   "version": "3.8.2"
  }
 },
 "nbformat": 4,
 "nbformat_minor": 2
}
