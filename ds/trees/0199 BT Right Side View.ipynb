{
 "cells": [
  {
   "cell_type": "markdown",
   "metadata": {},
   "source": [
    "Given a binary tree, imagine yourself standing on the right side of it, return the values of the nodes you can see ordered from top to bottom."
   ]
  },
  {
   "cell_type": "markdown",
   "metadata": {},
   "source": [
    "approach: start by writing out the code for top-down gathering all nodes in temp array on level by level basis. However, instead of appending the whole level (temp array) into the final result, we only append the last node of each level."
   ]
  },
  {
   "cell_type": "code",
   "execution_count": 1,
   "metadata": {},
   "outputs": [],
   "source": [
    "class Node:\n",
    "    def __init__(self, value):\n",
    "        self.val = value\n",
    "        self.left = None\n",
    "        self.right = None"
   ]
  },
  {
   "cell_type": "code",
   "execution_count": 2,
   "metadata": {},
   "outputs": [],
   "source": [
    "from collections import deque\n",
    "\n",
    "def rightSideView1(root):\n",
    "    if not root: \n",
    "        return []\n",
    "\n",
    "    result = []\n",
    "    q = deque([root])\n",
    "\n",
    "    while q:\n",
    "        size = len(q)\n",
    "        temp = []\n",
    "\n",
    "        for _ in range(size):\n",
    "            node = q.popleft()\n",
    "            temp.append(node.val)\n",
    "            if node.left:\n",
    "                q.append(node.left)\n",
    "            if node.right:\n",
    "                q.append(node.right)\n",
    "        result.append(temp[-1])  #only appending the last node in the level\n",
    "\n",
    "    return result"
   ]
  },
  {
   "cell_type": "code",
   "execution_count": 3,
   "metadata": {},
   "outputs": [],
   "source": [
    "root = Node(1)  \n",
    "root.left = Node(2)  \n",
    "root.right = Node(3)  \n",
    "root.left.right = Node(5)  \n",
    "root.right.right = Node(4)\n",
    "root.left.right.left = Node(6)"
   ]
  },
  {
   "cell_type": "code",
   "execution_count": 4,
   "metadata": {},
   "outputs": [
    {
     "data": {
      "text/plain": [
       "[1, 3, 4, 6]"
      ]
     },
     "execution_count": 4,
     "metadata": {},
     "output_type": "execute_result"
    }
   ],
   "source": [
    "rightSideView1(root)"
   ]
  },
  {
   "cell_type": "code",
   "execution_count": 5,
   "metadata": {},
   "outputs": [],
   "source": [
    "#optimize code by not storing the entire level (temp array) instead only store last node of each level\n",
    "\n",
    "def rightSideView2(root):\n",
    "    if not root: \n",
    "        return []\n",
    "\n",
    "    result = []\n",
    "    q = deque([root])\n",
    "\n",
    "    while q:\n",
    "        size = len(q)\n",
    "\n",
    "        for _ in range(size):\n",
    "            node = q.popleft()\n",
    "            temp = node.val  #temp is variable instead of array  (overwrites to last node in each level)\n",
    "            if node.left:\n",
    "                q.append(node.left)\n",
    "            if node.right:\n",
    "                q.append(node.right)\n",
    "        result.append(temp)\n",
    "\n",
    "    return result"
   ]
  },
  {
   "cell_type": "code",
   "execution_count": 6,
   "metadata": {},
   "outputs": [
    {
     "data": {
      "text/plain": [
       "[1, 3, 4, 6]"
      ]
     },
     "execution_count": 6,
     "metadata": {},
     "output_type": "execute_result"
    }
   ],
   "source": [
    "rightSideView2(root)"
   ]
  },
  {
   "cell_type": "markdown",
   "metadata": {},
   "source": [
    "DFS recursive - reverse preorder traversal"
   ]
  },
  {
   "cell_type": "code",
   "execution_count": 7,
   "metadata": {},
   "outputs": [],
   "source": [
    "def rightSideView3(root):\n",
    "    rightonly = []\n",
    "    def helper(node, level):\n",
    "        if not node: return\n",
    "        if level == len(rightonly):\n",
    "            rightonly.append(node.val)\n",
    "        helper(node.right, level+1)\n",
    "        helper(node.left, level+1)\n",
    "    helper(root, 0)\n",
    "    return rightonly"
   ]
  },
  {
   "cell_type": "code",
   "execution_count": 8,
   "metadata": {},
   "outputs": [
    {
     "data": {
      "text/plain": [
       "[1, 3, 4, 6]"
      ]
     },
     "execution_count": 8,
     "metadata": {},
     "output_type": "execute_result"
    }
   ],
   "source": [
    "rightSideView3(root)"
   ]
  }
 ],
 "metadata": {
  "kernelspec": {
   "display_name": "Python 3 (ipykernel)",
   "language": "python",
   "name": "python3"
  },
  "language_info": {
   "codemirror_mode": {
    "name": "ipython",
    "version": 3
   },
   "file_extension": ".py",
   "mimetype": "text/x-python",
   "name": "python",
   "nbconvert_exporter": "python",
   "pygments_lexer": "ipython3",
   "version": "3.8.2"
  }
 },
 "nbformat": 4,
 "nbformat_minor": 2
}
