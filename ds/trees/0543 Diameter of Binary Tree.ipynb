{
 "cells": [
  {
   "cell_type": "markdown",
   "metadata": {},
   "source": [
    "**Given a binary tree, you need to compute the length of the diameter of the tree. The diameter of a binary tree is the length of the longest path between any two nodes in a tree. This path may or may not pass through the root.**"
   ]
  },
  {
   "cell_type": "markdown",
   "metadata": {},
   "source": [
    "Global: find the diameter of the whole tree (find the longest inverted v-path).\n",
    "\n",
    "Can this be translated into a local problem that each node can solve?\n",
    "Local problem (per node): each node finds the longest inverted v-path through itself.\n",
    "\n",
    "Local -> Global : global will be the max of all local paths\n",
    "\n"
   ]
  },
  {
   "cell_type": "markdown",
   "metadata": {},
   "source": [
    "What does each node need to do in order to find the longest inverted v-path through itself?\n",
    "-  what info is needed from the left and right subordinates?\n",
    "\n",
    " \n",
    "1. compute my own height and return that to parent  (required: need to pass info to parent = need return value i.e. max height to that node)\n",
    "2. compute local solution from left height and right height (calculate local diameter and compare with the global diameter)\n",
    "\n",
    "**Bottom-Up dfs approach** -  no additional parameters --- updating global variable for diameter"
   ]
  },
  {
   "cell_type": "code",
   "execution_count": 1,
   "metadata": {},
   "outputs": [],
   "source": [
    "def diameterOfBinaryTree(self, root):\n",
    "    dia = [0]\n",
    "    def helper(node):\n",
    "        if not node: return 0\n",
    "        lh = helper(node.left)\n",
    "        rh = helper(node.right)\n",
    "        dia[0] = max(dia[0], lh+rh)\n",
    "        return max(lh,rh)+1\n",
    "    helper(root)\n",
    "    return dia[0]"
   ]
  },
  {
   "cell_type": "markdown",
   "metadata": {},
   "source": [
    "Bottom up dfs: **return tuple (height, diameter)** --- not using global variable for diameter\n",
    "\n",
    "Diameter will be the largest of :\n",
    "1. diameter of left subtree\n",
    "2. diameter of right subtree\n",
    "3. longest path through root of tree (heights of left + right subtrees)\n",
    "\n",
    "leaf node : height=1; dia=max(0,0,1)"
   ]
  },
  {
   "cell_type": "code",
   "execution_count": 2,
   "metadata": {},
   "outputs": [],
   "source": [
    "def diameter(root):\n",
    "    def helper(node):\n",
    "        if not node: return (0,0)\n",
    "        lh, ld = helper(node.left)\n",
    "        rh, rd = helper(node.right)\n",
    "        height = max(lh, rh) + 1      #find hei at every node\n",
    "        diameter = max(ld, rd, lh+rh) #find dia at every node\n",
    "        return (height, diameter)     #from bottomUp - return max dia & max hei at root\n",
    "    h, d = helper(root)\n",
    "    return d"
   ]
  },
  {
   "cell_type": "markdown",
   "metadata": {},
   "source": [
    "*****\n",
    "*****\n",
    "*****"
   ]
  },
  {
   "cell_type": "code",
   "execution_count": 3,
   "metadata": {},
   "outputs": [],
   "source": [
    "# most straight forward approach - separate out 1 & 2 points above\n",
    "def findDia(root):\n",
    "    globaldia = [0]\n",
    "    if not root: return 0\n",
    "    def helper(node):\n",
    "        if not node.left and not node.right:\n",
    "            return 0\n",
    "        mydia = 0\n",
    "        lh, rh = 0, 0\n",
    "        if node.left:\n",
    "            lh = helper(node.left) #left subordinate height\n",
    "            mydia += 1 + lh\n",
    "        if node.right:\n",
    "            rh = helper(node.right) #right subordinate height\n",
    "            mydia += 1 + rh\n",
    "        globaldia[0] = max(globaldia[0], mydia)\n",
    "        return max(lh, rh)+1\n",
    "    helper(root)\n",
    "    return globaldia[0]"
   ]
  },
  {
   "cell_type": "code",
   "execution_count": 4,
   "metadata": {},
   "outputs": [],
   "source": [
    "def diameterOfBinaryTree(root):\n",
    "    globalDiameter = [1]        #number of nodes\n",
    "\n",
    "    def dfs(node):\n",
    "        if not node: return 0\n",
    "\n",
    "        LH = dfs(node.left) \n",
    "        RH = dfs(node.right) \n",
    "\n",
    "        myDiameter = LH + RH + 1\n",
    "        globalDiameter[0] = max(myDiameter, globalDiameter[0]) #update global diameter\n",
    "\n",
    "        return max(LH, RH) + 1  #max depth return\n",
    "\n",
    "    dfs(root)\n",
    "    return globalDiameter[0]-1  #number of edges"
   ]
  },
  {
   "cell_type": "code",
   "execution_count": 5,
   "metadata": {},
   "outputs": [],
   "source": [
    "#variant\n",
    "def diameterOfBinaryTree2(root):\n",
    "    if not root:\n",
    "        return 0\n",
    "\n",
    "    globalDiameter= [0]\n",
    "\n",
    "    #Bottom-Up dfs: no additional parameters\n",
    "    def dfs(node): #returns the height of the subtree rooted at node\n",
    "        \n",
    "        #BaseCase: leaf node\n",
    "        if not node.left and not node.right:\n",
    "            pass              #leaf node returns its height to its parent\n",
    "\n",
    "        #RecursiveCase: internal node   \n",
    "        myheight = 0\n",
    "        mydiameter = 0            #calculate local soln from left and right subordinates\n",
    "        if node.left:\n",
    "            leftsubtreeheight = dfs(node.left)   #left subordinate returns a height\n",
    "            myheight = 1 + leftsubtreeheight\n",
    "            mydiameter = 1 + leftsubtreeheight\n",
    "        if node.right:\n",
    "            rightsubtreeheight = dfs(node.right)  #right subordinate returns a height\n",
    "            myheight = max(myheight, 1+rightsubtreeheight)\n",
    "            mydiameter += 1 + rightsubtreeheight\n",
    "\n",
    "        globalDiameter[0] = max(mydiameter, globalDiameter[0])  #update global diameter\n",
    "\n",
    "        return myheight     #internal node returns its height to its parent\n",
    "\n",
    "    dfs(root)\n",
    "    return globalDiameter[0]"
   ]
  },
  {
   "cell_type": "markdown",
   "metadata": {},
   "source": [
    "time: excuting function dfs takes O(1) time by n nodes (visiting every node once) ==> O(n)\n",
    "\n",
    "space: size of implicit call stack ==> O(height)"
   ]
  },
  {
   "cell_type": "code",
   "execution_count": 6,
   "metadata": {},
   "outputs": [],
   "source": [
    "#variant\n",
    "def diameterOfBinaryTree3(root):\n",
    "    if not root:\n",
    "        return 0\n",
    "    globalDiameter = [0]\n",
    "\n",
    "    def dfs(node):\n",
    "        \n",
    "        #BaseCase: leaf node\n",
    "        if not node.left and not node.right:\n",
    "            return 0\n",
    "\n",
    "        #RecursiveCase: internal node\n",
    "        LH, RH, myDiameter = 0, 0, 0\n",
    "        if node.left:\n",
    "            LH = dfs(node.left) + 1\n",
    "        if node.right:\n",
    "            RH = dfs(node.right) + 1\n",
    "\n",
    "        myDiameter = LH + RH\n",
    "        globalDiameter[0] = max(myDiameter, globalDiameter[0])\n",
    "\n",
    "        return max(LH, RH)\n",
    "\n",
    "    dfs(root)\n",
    "    return globalDiameter[0]"
   ]
  },
  {
   "cell_type": "markdown",
   "metadata": {},
   "source": [
    "*****\n",
    "*****"
   ]
  },
  {
   "cell_type": "code",
   "execution_count": 7,
   "metadata": {},
   "outputs": [],
   "source": [
    "def getDia(root):\n",
    "    return helper(root).diameter\n",
    "    \n",
    "def helper(node):\n",
    "    # rather than return tuple (dia,heig)\n",
    "    # return Object which is an instance of TreeInfo, access dia/heig directly \n",
    "    if node is None: \n",
    "        return TreeInfo(0,0)\n",
    "    lh = helper(node.left)\n",
    "    rh = helper(node.right)\n",
    "    currdia = max(lh.diameter, rh.diameter, lh.height+rh.height)\n",
    "    currhei = max(lh.height, rh.height) + 1\n",
    "    return TreeInfo(currdia, currhei)\n",
    "    \n",
    "class TreeInfo:\n",
    "    # act as the return type for recursive function \n",
    "    def __init__(self, diameter, height):\n",
    "        self.diameter = diameter\n",
    "        self.height = height"
   ]
  },
  {
   "cell_type": "code",
   "execution_count": 8,
   "metadata": {},
   "outputs": [],
   "source": [
    "class Node:\n",
    "    def __init__(self, value):\n",
    "        self.val = value\n",
    "        self.left = None\n",
    "        self.right = None"
   ]
  },
  {
   "cell_type": "code",
   "execution_count": 9,
   "metadata": {},
   "outputs": [],
   "source": [
    "root = Node(1)  \n",
    "root.left = Node(2)  \n",
    "root.right = Node(3)  \n",
    "root.left.left = Node(4)\n",
    "root.left.right = Node(5)\n",
    "root.left.left.left = Node(3)"
   ]
  },
  {
   "cell_type": "code",
   "execution_count": 10,
   "metadata": {},
   "outputs": [
    {
     "name": "stdout",
     "output_type": "stream",
     "text": [
      "4\n",
      "4\n",
      "4\n",
      "4\n",
      "4\n",
      "4\n"
     ]
    }
   ],
   "source": [
    "print(findDia(root))\n",
    "print(diameterOfBinaryTree(root))\n",
    "print(diameterOfBinaryTree2(root))\n",
    "print(diameterOfBinaryTree3(root))\n",
    "print(diameter(root))\n",
    "print(getDia(root))"
   ]
  },
  {
   "cell_type": "markdown",
   "metadata": {},
   "source": [
    "at each internal node, calculate the height of longest path by max(subordinate left, subordinate right) + 1 (height of the node itself). The height of longest path is passed up from bottom to top of the tree. Also, at each internal node, calculate the local solution (local diameter) and compare it with the globalDiameter. After every node is visited, return the globalDiameter.\n",
    "\n",
    "or return tuple of (height, diameter) no need for global diameter"
   ]
  }
 ],
 "metadata": {
  "kernelspec": {
   "display_name": "Python 3 (ipykernel)",
   "language": "python",
   "name": "python3"
  },
  "language_info": {
   "codemirror_mode": {
    "name": "ipython",
    "version": 3
   },
   "file_extension": ".py",
   "mimetype": "text/x-python",
   "name": "python",
   "nbconvert_exporter": "python",
   "pygments_lexer": "ipython3",
   "version": "3.8.2"
  }
 },
 "nbformat": 4,
 "nbformat_minor": 2
}
