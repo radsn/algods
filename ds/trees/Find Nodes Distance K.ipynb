{
 "cells": [
  {
   "cell_type": "code",
   "execution_count": 2,
   "id": "44862347",
   "metadata": {},
   "outputs": [],
   "source": [
    "class Node:\n",
    "    def __init__(self, value):\n",
    "        self.value = value\n",
    "        self.left = None\n",
    "        self.right = None"
   ]
  },
  {
   "cell_type": "code",
   "execution_count": 29,
   "id": "39e98398",
   "metadata": {},
   "outputs": [],
   "source": [
    "root = Node(15)  \n",
    "root.left = Node(5)  \n",
    "root.right = Node(20)\n",
    "root.left.left = Node(2)  \n",
    "root.left.right = Node(5)\n",
    "root.right.left = Node(17)\n",
    "root.right.right = Node(22)  \n",
    "root.left.left.left = Node(1)\n",
    "root.left.left.right = Node(3)"
   ]
  },
  {
   "cell_type": "code",
   "execution_count": 49,
   "id": "acce155c",
   "metadata": {},
   "outputs": [],
   "source": [
    "def findKthLargestValueInBst(tree):\n",
    "    adjList = [[] for _ in range(25)]\n",
    "    bfs()\n",
    "   \n",
    "\n",
    "    def dfs(node):\n",
    "        if not node: return \n",
    "        if node.left: \n",
    "            adjList[node.left.value].append(node.value)\n",
    "            adjList[node.value].append(node.left.value)\n",
    "            dfs(node.left)\n",
    "        if node.right:\n",
    "            adjList[node.right.value].append(node.value)\n",
    "            adjList[node.value].append(node.right.value)\n",
    "            dfs(node.right)\n",
    "            \n",
    "    dfs(tree)\n",
    "    return adjList"
   ]
  },
  {
   "cell_type": "code",
   "execution_count": 48,
   "id": "8b0ae962",
   "metadata": {},
   "outputs": [
    {
     "data": {
      "text/plain": [
       "[[],\n",
       " [2],\n",
       " [5, 1, 3],\n",
       " [2],\n",
       " [],\n",
       " [15, 2, 5, 5],\n",
       " [],\n",
       " [],\n",
       " [],\n",
       " [],\n",
       " [],\n",
       " [],\n",
       " [],\n",
       " [],\n",
       " [],\n",
       " [5, 20],\n",
       " [],\n",
       " [20],\n",
       " [],\n",
       " [],\n",
       " [15, 17, 22],\n",
       " [],\n",
       " [20],\n",
       " [],\n",
       " []]"
      ]
     },
     "execution_count": 48,
     "metadata": {},
     "output_type": "execute_result"
    }
   ],
   "source": [
    "findKthLargestValueInBst(root)"
   ]
  },
  {
   "cell_type": "code",
   "execution_count": 24,
   "id": "233fef6b",
   "metadata": {},
   "outputs": [],
   "source": [
    "def search(curr, target):\n",
    "    if not curr: return None\n",
    "    if curr.value == target:\n",
    "        return curr\n",
    "    else:\n",
    "        search(curr.left, target)\n",
    "        search(curr.right, target)"
   ]
  },
  {
   "cell_type": "code",
   "execution_count": 26,
   "id": "6bed7727",
   "metadata": {},
   "outputs": [],
   "source": [
    "x = search(root, 3)"
   ]
  },
  {
   "cell_type": "code",
   "execution_count": 27,
   "id": "aaa13537",
   "metadata": {},
   "outputs": [
    {
     "name": "stdout",
     "output_type": "stream",
     "text": [
      "None\n"
     ]
    }
   ],
   "source": [
    "print(x)"
   ]
  },
  {
   "cell_type": "code",
   "execution_count": null,
   "id": "c042eb00",
   "metadata": {},
   "outputs": [],
   "source": []
  }
 ],
 "metadata": {
  "kernelspec": {
   "display_name": "Python 3 (ipykernel)",
   "language": "python",
   "name": "python3"
  },
  "language_info": {
   "codemirror_mode": {
    "name": "ipython",
    "version": 3
   },
   "file_extension": ".py",
   "mimetype": "text/x-python",
   "name": "python",
   "nbconvert_exporter": "python",
   "pygments_lexer": "ipython3",
   "version": "3.8.2"
  }
 },
 "nbformat": 4,
 "nbformat_minor": 5
}
