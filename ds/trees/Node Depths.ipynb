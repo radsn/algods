{
 "cells": [
  {
   "cell_type": "markdown",
   "metadata": {},
   "source": [
    "The distance between a node in a BT and the tree's root is called the node's depth. Write a function that takes in a BT and returns the sum of its nodes' depth."
   ]
  },
  {
   "cell_type": "markdown",
   "metadata": {},
   "source": [
    "Top Down DFS<br>\n",
    "info flowing from parent to the leaf so extra parameter partialsol passed in helper function.<br>\n",
    "since no special treatment for leaf node : only add null node condition <br>\n",
    "Global variable used to sum all the depths at every node."
   ]
  },
  {
   "cell_type": "code",
   "execution_count": 1,
   "metadata": {},
   "outputs": [],
   "source": [
    "def nodeDepths0(root):\n",
    "    globalsum = [0]\n",
    "    \n",
    "    def helper(node, partialsum):\n",
    "        if not node: return 0\n",
    "        globalsum[0] += partialsum\n",
    "        helper(node.left, partialsum+1)\n",
    "        helper(node.right, partialsum+1)\n",
    "    \n",
    "    helper(root, 0)\n",
    "    return globalsum[0]"
   ]
  },
  {
   "cell_type": "markdown",
   "metadata": {},
   "source": [
    "Bottom Up DFS<br>\n",
    "call recursive function on a particular node: return my depth + depth of my left + depth of my right\n",
    "\n",
    "f(n,d) = d + f(L,d+1) + f(R,d+1)"
   ]
  },
  {
   "cell_type": "code",
   "execution_count": 2,
   "metadata": {},
   "outputs": [],
   "source": [
    "def nodeDepths1(root):\n",
    "    def helper(node, partialsum):\n",
    "        if not node:\n",
    "            return 0\n",
    "        leftDepth  = partialsum + helper(node.left, partialsum+1)  #previous depth of parent + recurse on depth+1\n",
    "        rightDepth = partialsum + helper(node.right, partialsum+1) #previous depth of parent + recurse on depth+1\n",
    "        return leftDepth + rightDepth #going up is the globalsum at every node -- all depths of its L/R subtrees + its own depth\n",
    "    return helper(root, 0)"
   ]
  },
  {
   "cell_type": "code",
   "execution_count": 3,
   "metadata": {},
   "outputs": [],
   "source": [
    "#variant\n",
    "def nodeDepths1(root):\n",
    "    def helper(node, partialsum):\n",
    "        if not node:\n",
    "            return 0\n",
    "        leftDepth  = helper(node.left, partialsum+1)\n",
    "        rightDepth = helper(node.right, partialsum+1)\n",
    "        return partialsum + leftDepth + rightDepth\n",
    "    return helper(root, 0)"
   ]
  },
  {
   "cell_type": "markdown",
   "metadata": {},
   "source": [
    "Iterative"
   ]
  },
  {
   "cell_type": "code",
   "execution_count": 4,
   "metadata": {},
   "outputs": [],
   "source": [
    "def nodeDepths2(root):\n",
    "    stack = [(root, 0)]\n",
    "    depthSum = 0\n",
    "    \n",
    "    while len(stack)>0:\n",
    "        node, depth = stack.pop()\n",
    "        if not node:\n",
    "            continue\n",
    "        depthSum += depth\n",
    "        stack.append((node.left, depth+1))\n",
    "        stack.append((node.right, depth+1))\n",
    "        \n",
    "    return depthSum"
   ]
  },
  {
   "cell_type": "code",
   "execution_count": 5,
   "metadata": {},
   "outputs": [],
   "source": [
    "#variant for null node checks\n",
    "def nodeDepths2(root):\n",
    "    if not root:\n",
    "        return \n",
    "\n",
    "    sumdepths = 0\n",
    "    stack = [(root, 0)]\n",
    "\n",
    "    while stack:\n",
    "        node, depth = stack.pop()\n",
    "        sumdepths += depth\n",
    "\n",
    "        if node.left:\n",
    "            stack.append( (node.left, depth+1) )\n",
    "        if node.right:\n",
    "            stack.append( (node.right, depth+1) )\n",
    "\n",
    "    return sumdepths"
   ]
  },
  {
   "cell_type": "markdown",
   "metadata": {},
   "source": [
    "into empty stack add root node on top of the stack; pop node off the stack; push its two children nodes into the stack; keep track of the running sum\n",
    "\n",
    "make sure to check whether node is null is not\n",
    "\n",
    "store node's depth along with each node in the stack"
   ]
  },
  {
   "cell_type": "markdown",
   "metadata": {},
   "source": [
    "time: O(n) traversing through every node and doing constant time operation\n",
    "    \n",
    "space: O(height) "
   ]
  },
  {
   "cell_type": "code",
   "execution_count": 6,
   "metadata": {},
   "outputs": [],
   "source": [
    "class Node:\n",
    "    def __init__(self, value):\n",
    "        self.value = value\n",
    "        self.left = None\n",
    "        self.right = None"
   ]
  },
  {
   "cell_type": "code",
   "execution_count": 7,
   "metadata": {},
   "outputs": [],
   "source": [
    "root = Node(1)  \n",
    "root.left = Node(2)  \n",
    "root.right = Node(3)\n",
    "root.left.left = Node(4)  \n",
    "root.left.right = Node(5)\n",
    "root.right.left = Node(6)  \n",
    "root.right.right = Node(7)\n",
    "root.left.left.left = Node(8)\n",
    "root.left.left.right = Node(9)"
   ]
  },
  {
   "cell_type": "code",
   "execution_count": 8,
   "metadata": {},
   "outputs": [
    {
     "data": {
      "text/plain": [
       "16"
      ]
     },
     "execution_count": 8,
     "metadata": {},
     "output_type": "execute_result"
    }
   ],
   "source": [
    "nodeDepths2(root)"
   ]
  }
 ],
 "metadata": {
  "kernelspec": {
   "display_name": "Python 3 (ipykernel)",
   "language": "python",
   "name": "python3"
  },
  "language_info": {
   "codemirror_mode": {
    "name": "ipython",
    "version": 3
   },
   "file_extension": ".py",
   "mimetype": "text/x-python",
   "name": "python",
   "nbconvert_exporter": "python",
   "pygments_lexer": "ipython3",
   "version": "3.8.2"
  }
 },
 "nbformat": 4,
 "nbformat_minor": 2
}
