{
 "cells": [
  {
   "cell_type": "markdown",
   "metadata": {},
   "source": [
    "Given two binary trees, write a function to check if they are the same or not.\n",
    "\n",
    "Two binary trees are considered the same if they are structurally identical and the nodes have the same value."
   ]
  },
  {
   "cell_type": "code",
   "execution_count": 1,
   "metadata": {},
   "outputs": [],
   "source": [
    "#O(n) time, where n is number of nodes in the tree, since one visits each node exactly once\n",
    "#O(height) space\n",
    "def isSameTree(p, q):\n",
    "    #check for null nodes\n",
    "    #check if root value is same\n",
    "    #check if left subtree is same btw p and q\n",
    "    #check if right subtree is same btw p and q\n",
    "    \n",
    "    if not p and not q:  #both are none\n",
    "        return True\n",
    "    if not p or not q:   #only one of them is None\n",
    "        return False\n",
    "    if p.val != q.val:   #check for root val\n",
    "        return False\n",
    "    \n",
    "    #if all checks okay -- do same for the child nodes recursively\n",
    "    left  = isSameTree(p.left, q.left)\n",
    "    right = isSameTree(p.right, q.right)\n",
    "    return left and right"
   ]
  },
  {
   "cell_type": "code",
   "execution_count": 2,
   "metadata": {},
   "outputs": [],
   "source": [
    "class Node:\n",
    "    def __init__(self, value):\n",
    "        self.val = value\n",
    "        self.left = None\n",
    "        self.right = None"
   ]
  },
  {
   "cell_type": "code",
   "execution_count": 3,
   "metadata": {},
   "outputs": [
    {
     "data": {
      "text/plain": [
       "True"
      ]
     },
     "execution_count": 3,
     "metadata": {},
     "output_type": "execute_result"
    }
   ],
   "source": [
    "p = Node(1)  \n",
    "p.left = Node(2)  \n",
    "p.right = Node(3)\n",
    "\n",
    "q = Node(1)  \n",
    "q.left = Node(2)  \n",
    "q.right = Node(3)\n",
    "\n",
    "isSameTree(p, q)"
   ]
  },
  {
   "cell_type": "code",
   "execution_count": 4,
   "metadata": {},
   "outputs": [
    {
     "data": {
      "text/plain": [
       "False"
      ]
     },
     "execution_count": 4,
     "metadata": {},
     "output_type": "execute_result"
    }
   ],
   "source": [
    "p = Node(1)  \n",
    "p.left = Node(2)  \n",
    "\n",
    "q = Node(1)  \n",
    "q.right = Node(2)\n",
    "\n",
    "isSameTree(p, q)"
   ]
  }
 ],
 "metadata": {
  "kernelspec": {
   "display_name": "Python 3",
   "language": "python",
   "name": "python3"
  },
  "language_info": {
   "codemirror_mode": {
    "name": "ipython",
    "version": 3
   },
   "file_extension": ".py",
   "mimetype": "text/x-python",
   "name": "python",
   "nbconvert_exporter": "python",
   "pygments_lexer": "ipython3",
   "version": "3.7.1"
  }
 },
 "nbformat": 4,
 "nbformat_minor": 2
}
