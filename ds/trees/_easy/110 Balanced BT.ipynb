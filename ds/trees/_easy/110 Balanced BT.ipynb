{
 "cells": [
  {
   "cell_type": "markdown",
   "metadata": {},
   "source": [
    "Given a binary tree, determine if it is height-balanced.\n",
    "\n",
    "For this problem, a height-balanced binary tree is defined as: a binary tree in which the left and right subtrees of every node differ in height by no more than 1."
   ]
  },
  {
   "cell_type": "code",
   "execution_count": 1,
   "metadata": {},
   "outputs": [],
   "source": [
    "# O(n) time | O(height) space\n",
    "def isBalanced(root):\n",
    "    \n",
    "    def helper(node):\n",
    "        \n",
    "        if not node:\n",
    "            return (0,1)\n",
    "        \n",
    "        lh, isbalancedL = helper(node.left)\n",
    "        rh, isbalancedR = helper(node.right)\n",
    "        \n",
    "        return ( max(lh, rh)+1 , isbalancedL and isbalancedR and abs(lh-rh)<=1 )\n",
    "    \n",
    "    height, isbalanced = helper(root)\n",
    "    return isbalanced"
   ]
  },
  {
   "cell_type": "markdown",
   "metadata": {},
   "source": [
    "To determine if BT is balanced: bottom-up dfs \n",
    "\n",
    "to write a recursive function, thinking, \"the tree is balanced if the left subtree is balanced and the right subtree is balanced.\" is wrong -- there is also a 3rd case\n",
    "\n",
    "\n",
    "An empty tree is height-balanced. <br>\n",
    "A non-empty BT is balanced if:<br>\n",
    "1) Left subtree of BT is balanced<br>\n",
    "2) Right subtree of BT is balanced<br>\n",
    "3) The difference between heights of left subtree and right subtree is not more than 1.\n",
    "\n",
    "Return a tuple: (height, boolean isbalanced)"
   ]
  },
  {
   "cell_type": "code",
   "execution_count": 2,
   "metadata": {},
   "outputs": [],
   "source": [
    "# O(n*height) time | O(height) space\n",
    "def getHeight(root):\n",
    "    if not root: \n",
    "        return 0\n",
    "    return max(getHeight(root.left), getHeight(root.right))+1\n",
    "\n",
    "def isBalanced(root):\n",
    "    if not root:\n",
    "        return True\n",
    "    heightDiff = getHeight(root.left) - getHeight(root.right)\n",
    "    if abs(heightDiff) > 1:\n",
    "        return False\n",
    "    else:\n",
    "        return isBalanced(root.left) and isBalanced(root.right)"
   ]
  },
  {
   "cell_type": "markdown",
   "metadata": {},
   "source": [
    "Not very efficient. On each node, we recurse through its entire subtree - top down approach. getHeight is repeatedly called on the same nodes. The algorithm is O(nlogn) since each node is touched once per node above it."
   ]
  },
  {
   "cell_type": "code",
   "execution_count": 3,
   "metadata": {},
   "outputs": [],
   "source": [
    "# O(n) time | O(height) space\n",
    "def checkHeight(root):\n",
    "    if not root:\n",
    "        return 0\n",
    "    lh = checkHeight(root.left)\n",
    "    if lh == -1: return -1   #not balanced\n",
    "    \n",
    "    rh = checkHeight(root.right)\n",
    "    if rh == -1: return -1   #not balanced\n",
    "    \n",
    "    heightDiff = lh -  rh\n",
    "    \n",
    "    if abs(heightDiff) > 1:\n",
    "        return -1            #not balanced\n",
    "    else:\n",
    "        return max(lh, rh)+1 #return height\n",
    "\n",
    "def isBalanced(root):\n",
    "    return checkHeight(root) != -1"
   ]
  },
  {
   "cell_type": "code",
   "execution_count": 4,
   "metadata": {},
   "outputs": [],
   "source": [
    "#variant:\n",
    "def checkHeight(root):\n",
    "    if not root: return 0\n",
    "    \n",
    "    lh = checkHeight(root.left)\n",
    "    rh = checkHeight(root.right)\n",
    "    \n",
    "    heightDiff = lh -  rh\n",
    "    if lh == -1 or rh == -1 or abs(heightDiff) > 1:  #check all 3 in one line\n",
    "        return -1\n",
    "    return max(lh, rh)+1\n",
    "\n",
    "def isBalanced(root):\n",
    "    return checkHeight(root) != -1"
   ]
  },
  {
   "cell_type": "markdown",
   "metadata": {},
   "source": [
    "getHeight function can check if the tree is balanced at the same time as it checks for height. This improved algorithm checks the height of each subtree as we recurse down from the root. On each node, we recursively get the heights of the left and right subtrees. If the subtree is balanced, then height is returned else -1 is returned."
   ]
  },
  {
   "cell_type": "code",
   "execution_count": 5,
   "metadata": {},
   "outputs": [],
   "source": [
    "class Node:\n",
    "    def __init__(self, value):\n",
    "        self.val = value\n",
    "        self.left = None\n",
    "        self.right = None"
   ]
  },
  {
   "cell_type": "code",
   "execution_count": 6,
   "metadata": {},
   "outputs": [],
   "source": [
    "root = Node(3)  \n",
    "root.left = Node(9)  \n",
    "root.right = Node(20)  \n",
    "root.left.left = Node(15)  \n",
    "root.left.right = Node(7)"
   ]
  },
  {
   "cell_type": "code",
   "execution_count": 7,
   "metadata": {},
   "outputs": [
    {
     "data": {
      "text/plain": [
       "True"
      ]
     },
     "execution_count": 7,
     "metadata": {},
     "output_type": "execute_result"
    }
   ],
   "source": [
    "isBalanced(root)"
   ]
  }
 ],
 "metadata": {
  "kernelspec": {
   "display_name": "Python 3",
   "language": "python",
   "name": "python3"
  },
  "language_info": {
   "codemirror_mode": {
    "name": "ipython",
    "version": 3
   },
   "file_extension": ".py",
   "mimetype": "text/x-python",
   "name": "python",
   "nbconvert_exporter": "python",
   "pygments_lexer": "ipython3",
   "version": "3.7.1"
  }
 },
 "nbformat": 4,
 "nbformat_minor": 2
}
