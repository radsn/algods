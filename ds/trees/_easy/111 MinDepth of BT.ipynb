{
 "cells": [
  {
   "cell_type": "markdown",
   "metadata": {},
   "source": [
    "**Given a binary tree, find its minimum depth.**\n",
    "\n",
    "**The minimum depth is the number of nodes along the shortest path from the root node down to the nearest leaf node.**"
   ]
  },
  {
   "cell_type": "markdown",
   "metadata": {},
   "source": [
    "top-down approach -- update global min (initialized to infinity) at every leaf node -- no returns and extra depth parameter is passed in helper fnc"
   ]
  },
  {
   "cell_type": "code",
   "execution_count": 1,
   "metadata": {},
   "outputs": [],
   "source": [
    "#O(n) time | O(height) space\n",
    "def minDepth1(root):\n",
    "    if not root:\n",
    "        return 0\n",
    "\n",
    "    mindepth = [float(\"inf\")] #global min initialized to infinity\n",
    "    \n",
    "    def findDepth(node, depth):\n",
    "        if not node.left and not node.right:  #depth updated at leafnode\n",
    "            mindepth[0] = min(mindepth[0], depth)\n",
    "            \n",
    "        if node.left:\n",
    "            findDepth(node.left, depth+1)\n",
    "        if node.right:\n",
    "            findDepth(node.right, depth+1)\n",
    "\n",
    "    findDepth(root, 1)  #depth of rootnode is 1\n",
    "    return mindepth[0]"
   ]
  },
  {
   "cell_type": "markdown",
   "metadata": {},
   "source": [
    "bottom up approach -- returning depth at every node from leaf to parent -- no extra parameters in helper fnc -- note left and right are initialized to infinity"
   ]
  },
  {
   "cell_type": "code",
   "execution_count": 2,
   "metadata": {},
   "outputs": [],
   "source": [
    "def minDepth2(root):\n",
    "    if not root:\n",
    "        return 0\n",
    "    \n",
    "    def findDepth(node):\n",
    "        if not node.left and not node.right:\n",
    "            return 1\n",
    "            \n",
    "        left = float(\"inf\")\n",
    "        right = float(\"inf\")\n",
    "        if node.left:\n",
    "            left = findDepth(node.left)\n",
    "        if node.right:\n",
    "            right = findDepth(node.right)\n",
    "        return min(left, right) + 1\n",
    "\n",
    "    return findDepth(root)"
   ]
  },
  {
   "cell_type": "code",
   "execution_count": 3,
   "metadata": {},
   "outputs": [],
   "source": [
    "#variant: no helper fnc required\n",
    "def minDepth2(root):\n",
    "    if not root:\n",
    "        return 0\n",
    "    \n",
    "    if not root.left and not root.right:\n",
    "        return 1\n",
    "\n",
    "    left = float(\"inf\")\n",
    "    right = float(\"inf\")\n",
    "    if root.left:\n",
    "        left = minDepth2(root.left)\n",
    "    if root.right:\n",
    "        right = minDepth2(root.right)\n",
    "    return min(left, right) + 1"
   ]
  },
  {
   "cell_type": "code",
   "execution_count": 4,
   "metadata": {},
   "outputs": [],
   "source": [
    "#variant: not initializing left and right to infinity\n",
    "def minDepth2(root):\n",
    "    if not root:\n",
    "        return 0\n",
    "    if not root.left and not root.right: #optional lines 5,6\n",
    "        return 1\n",
    "\n",
    "    if root.left is None:\n",
    "        return minDepth2(root.right)+1\n",
    "    if root.right is None:\n",
    "        return minDepth2(root.left)+1\n",
    "\n",
    "    else:\n",
    "        l = minDepth2(root.left)   #return left subtree height\n",
    "        r = minDepth2(root.right)  #return right subtree height\n",
    "        return min(l,r) + 1  "
   ]
  },
  {
   "cell_type": "markdown",
   "metadata": {},
   "source": [
    "if you add the basecase `if not node: return 0` and remove the checks of `if node.left` and `if node.right`, then you need to add the lines 8-11 ---> this is because if one of the left/right subtree is missing, the depth of that side will be recorded as 0 and then the minimum depth calc will be wrong.\n",
    "\n",
    "So best way is to initialize left and right to infinity and then perform mindepth calc only if left/right subtree is present."
   ]
  },
  {
   "cell_type": "code",
   "execution_count": 5,
   "metadata": {},
   "outputs": [],
   "source": [
    "def minDepth3(root):\n",
    "    if not root:\n",
    "        return 0\n",
    "    \n",
    "    children = [root.left, root.right]\n",
    "    \n",
    "    if not any(children): #at leaf node\n",
    "        return 1\n",
    "    \n",
    "    mini_depth = float(\"inf\")\n",
    "    \n",
    "    for c in children:\n",
    "        if c:\n",
    "            mini_depth = min( minDepth3(c), mini_depth )\n",
    "    return mini_depth + 1"
   ]
  },
  {
   "cell_type": "code",
   "execution_count": 6,
   "metadata": {},
   "outputs": [],
   "source": [
    "class Node:\n",
    "    def __init__(self, value):\n",
    "        self.val = value\n",
    "        self.left = None\n",
    "        self.right = None"
   ]
  },
  {
   "cell_type": "code",
   "execution_count": 7,
   "metadata": {},
   "outputs": [],
   "source": [
    "root = Node(3)  \n",
    "root.left = Node(9)  \n",
    "root.right = Node(20)  \n",
    "root.left.left = Node(15)  \n",
    "root.left.right = Node(7)"
   ]
  },
  {
   "cell_type": "code",
   "execution_count": 8,
   "metadata": {},
   "outputs": [
    {
     "data": {
      "text/plain": [
       "2"
      ]
     },
     "execution_count": 8,
     "metadata": {},
     "output_type": "execute_result"
    }
   ],
   "source": [
    "minDepth3(root)"
   ]
  }
 ],
 "metadata": {
  "kernelspec": {
   "display_name": "Python 3",
   "language": "python",
   "name": "python3"
  },
  "language_info": {
   "codemirror_mode": {
    "name": "ipython",
    "version": 3
   },
   "file_extension": ".py",
   "mimetype": "text/x-python",
   "name": "python",
   "nbconvert_exporter": "python",
   "pygments_lexer": "ipython3",
   "version": "3.7.1"
  }
 },
 "nbformat": 4,
 "nbformat_minor": 2
}
