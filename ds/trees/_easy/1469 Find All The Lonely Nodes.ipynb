{
 "cells": [
  {
   "cell_type": "markdown",
   "metadata": {},
   "source": [
    "In a binary tree, a lonely node is a node that is the only child of its parent node. The root of the tree is not lonely because it does not have a parent node.<br>\n",
    "Given the root of a binary tree, return an array containing the values of all lonely nodes in the tree. Return the list in any order."
   ]
  },
  {
   "cell_type": "markdown",
   "metadata": {},
   "source": [
    "idea is to append node.val to an array when its the only child of its parent. <br>\n",
    "1. track parent -- only append node when parent has one child\n",
    "2. check children of nodes -- only append child when node has one child"
   ]
  },
  {
   "cell_type": "code",
   "execution_count": 1,
   "metadata": {},
   "outputs": [],
   "source": [
    "def getLonelyNodes(root):\n",
    "    if not root:\n",
    "        return []\n",
    "    \n",
    "    result = []\n",
    "    \n",
    "    def getLonely(node, parent):\n",
    "        if not node:\n",
    "            return \n",
    "\n",
    "        if parent and not (parent.left and parent.right):\n",
    "            result.append(node.val)\n",
    "\n",
    "        getLonely(node.left, node)\n",
    "        getLonely(node.right, node)\n",
    "\n",
    "    getLonely(root, None)\n",
    "    return result"
   ]
  },
  {
   "cell_type": "code",
   "execution_count": 2,
   "metadata": {},
   "outputs": [],
   "source": [
    "def getLonelyNodes(root):\n",
    "    if not root:\n",
    "        return []\n",
    "    \n",
    "    result = []\n",
    "    \n",
    "    def collectLonely(node):\n",
    "        \n",
    "        if not node.left and node.right:\n",
    "            result.append(node.right.val)\n",
    "        if node.left and not node.right:\n",
    "            result.append(node.left.val)\n",
    "        \n",
    "        if node.left:\n",
    "            collectLonely(node.left)\n",
    "        if node.right:\n",
    "            collectLonely(node.right)\n",
    "    \n",
    "    collectLonely(root)\n",
    "    return result"
   ]
  },
  {
   "cell_type": "code",
   "execution_count": 3,
   "metadata": {},
   "outputs": [],
   "source": [
    "class Node:\n",
    "    def __init__(self, value):\n",
    "        self.val = value\n",
    "        self.left = None\n",
    "        self.right = None\n",
    "\n",
    "root = Node(1)\n",
    "root.left = Node(2)\n",
    "root.right = Node(3)\n",
    "root.left.right = Node(4)"
   ]
  },
  {
   "cell_type": "code",
   "execution_count": 4,
   "metadata": {},
   "outputs": [
    {
     "data": {
      "text/plain": [
       "[4]"
      ]
     },
     "execution_count": 4,
     "metadata": {},
     "output_type": "execute_result"
    }
   ],
   "source": [
    "getLonelyNodes(root)"
   ]
  }
 ],
 "metadata": {
  "kernelspec": {
   "display_name": "Python 3",
   "language": "python",
   "name": "python3"
  },
  "language_info": {
   "codemirror_mode": {
    "name": "ipython",
    "version": 3
   },
   "file_extension": ".py",
   "mimetype": "text/x-python",
   "name": "python",
   "nbconvert_exporter": "python",
   "pygments_lexer": "ipython3",
   "version": "3.7.1"
  }
 },
 "nbformat": 4,
 "nbformat_minor": 2
}
