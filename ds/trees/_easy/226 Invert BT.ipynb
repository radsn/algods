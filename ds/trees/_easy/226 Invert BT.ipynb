{
 "cells": [
  {
   "cell_type": "markdown",
   "metadata": {},
   "source": [
    "Invert a binary tree."
   ]
  },
  {
   "cell_type": "code",
   "execution_count": 1,
   "metadata": {},
   "outputs": [],
   "source": [
    "#recursion\n",
    "def invertTree(root):\n",
    "    if not root:\n",
    "        return None\n",
    "    \n",
    "    left  = invertTree(root.left)  #at 2 -- 3 1\n",
    "    right = invertTree(root.right) #at 7 -- 9 6\n",
    "    \n",
    "    root.left = right  #4 - at 7\n",
    "    root.right = left  #4 - at 2\n",
    "    \n",
    "    return root"
   ]
  },
  {
   "cell_type": "markdown",
   "metadata": {},
   "source": [
    "recursion: think recursion in terms of breathwise - what will happen at one level down.<br>\n",
    "\n",
    "write recursive steps first - believe it will give what I want <br>\n",
    "\n",
    "now think how to get the overall solution once I have the solution from recursive step<br>\n",
    "\n",
    "finally think what will base case (edge case) give me -- either no node or leaf node -- the solution given if function was run on no node or leaf node"
   ]
  }
 ],
 "metadata": {
  "kernelspec": {
   "display_name": "Python 3",
   "language": "python",
   "name": "python3"
  },
  "language_info": {
   "codemirror_mode": {
    "name": "ipython",
    "version": 3
   },
   "file_extension": ".py",
   "mimetype": "text/x-python",
   "name": "python",
   "nbconvert_exporter": "python",
   "pygments_lexer": "ipython3",
   "version": "3.7.1"
  }
 },
 "nbformat": 4,
 "nbformat_minor": 2
}
