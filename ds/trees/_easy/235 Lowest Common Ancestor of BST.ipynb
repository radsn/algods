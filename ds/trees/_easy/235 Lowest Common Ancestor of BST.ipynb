{
 "cells": [
  {
   "cell_type": "markdown",
   "metadata": {},
   "source": [
    "Given a binary search tree (BST), find the lowest common ancestor (LCA) of two given nodes in the BST.<br>\n",
    "Note: Lowest common ancestor for two nodes p and q would be the `last` ancestor node common to both of them. Last is defined in terms of depth of the node."
   ]
  },
  {
   "cell_type": "markdown",
   "metadata": {},
   "source": [
    "bruteforce: store paths for p and q and return the last common parent node in the path (ie. the last common intersection after which diverges)"
   ]
  },
  {
   "cell_type": "code",
   "execution_count": 1,
   "metadata": {},
   "outputs": [],
   "source": [
    "def lowestCommonAncestor(root, p, q):\n",
    "    #store paths of p and q\n",
    "    #find the last commom parent\n",
    "    \n",
    "    def findPath(node, x, arr):\n",
    "        if not node:\n",
    "            return \n",
    "        arr.append(node.val)\n",
    "        if node.val == x.val:\n",
    "            return \n",
    "        if node.val > x.val:\n",
    "            findPath(node.left, x, arr)\n",
    "        if node.val < x.val:\n",
    "            findPath(node.right, x, arr)\n",
    "    \n",
    "    pathp = []\n",
    "    findPath(root, p, pathp)\n",
    "    \n",
    "    pathq = []\n",
    "    findPath(root, q, pathq)\n",
    "    \n",
    "    i = 0\n",
    "    j = 0\n",
    "    while i < len(pathp) and j < len(pathq):\n",
    "        if pathp[i] == pathq[i]:\n",
    "            i += 1\n",
    "            j += 1\n",
    "        else:\n",
    "            break\n",
    "    return pathp[i-1]"
   ]
  },
  {
   "cell_type": "markdown",
   "metadata": {},
   "source": [
    "recursive: since this is BST, find where the paths diverge for the two nodes"
   ]
  },
  {
   "cell_type": "code",
   "execution_count": 2,
   "metadata": {},
   "outputs": [],
   "source": [
    "#recursive: O(height) time | O(height) space\n",
    "def lowestCommonAncestor(root, p, q):\n",
    "    #if both nodes are in left subtree, continue searching in left subtree\n",
    "    #if both nodes are in right subtree, continue searching in right subtree\n",
    "    #else diverging, return root which is the parent\n",
    "    \n",
    "    if root.val > p.val and root.val > q.val:\n",
    "        return lowestCommonAncestor(root.left, p, q)\n",
    "\n",
    "    elif root.val < p.val and root.val < q.val: \n",
    "        return lowestCommonAncestor(root.right, p, q)\n",
    "\n",
    "    else:\n",
    "        return root"
   ]
  },
  {
   "cell_type": "code",
   "execution_count": 3,
   "metadata": {},
   "outputs": [],
   "source": [
    "#variant\n",
    "def lowestCommonAncestor(root, p, q):\n",
    "    \n",
    "    if root.val > p.val and root.val > q.val:\n",
    "        ans = lowestCommonAncestor(root.left, p, q)\n",
    "    elif root.val < p.val and root.val < q.val: \n",
    "        ans = lowestCommonAncestor(root.right, p, q)\n",
    "    else:\n",
    "        ans = root\n",
    "    \n",
    "    return ans  #at every condition (if/elif/else), there is a return"
   ]
  },
  {
   "cell_type": "code",
   "execution_count": 4,
   "metadata": {},
   "outputs": [],
   "source": [
    "#variant:\n",
    "def lowestCommonAncestor(root, p, q):\n",
    "    min_ = min(p.val, q.val)\n",
    "    max_ = max(p.val, q.val)\n",
    "    def LCA(node):\n",
    "        if not node:\n",
    "            return \n",
    "        if node.val > max_:\n",
    "            return LCA(node.left)\n",
    "        if node.val < min_:\n",
    "            return LCA(node.right)\n",
    "        return node\n",
    "    return LCA(root)"
   ]
  },
  {
   "cell_type": "markdown",
   "metadata": {},
   "source": [
    "iterative:"
   ]
  },
  {
   "cell_type": "code",
   "execution_count": 5,
   "metadata": {},
   "outputs": [],
   "source": [
    "#iterative: O(height) time | O(1) space\n",
    "def lowestCommonAncestor(root, p, q):\n",
    "    while root:\n",
    "        if root.val > p.val and root.val > q.val:\n",
    "            root = root.left\n",
    "        elif root.val < p.val and root.val < q.val:\n",
    "            root = root.right\n",
    "        else:\n",
    "            return root"
   ]
  },
  {
   "cell_type": "code",
   "execution_count": 6,
   "metadata": {},
   "outputs": [],
   "source": [
    "class Node():\n",
    "    def __init__(self, value):\n",
    "        self.val = value\n",
    "        self.left  = None\n",
    "        self.right = None"
   ]
  },
  {
   "cell_type": "code",
   "execution_count": 7,
   "metadata": {},
   "outputs": [],
   "source": [
    "root = Node(6)  \n",
    "root.left = Node(2)  \n",
    "root.right = Node(8)  \n",
    "root.left.left = Node(0)  \n",
    "root.left.right = Node(4)\n",
    "root.right.left = Node(7)  \n",
    "root.right.right = Node(9)\n",
    "root.left.right.left = Node(3)\n",
    "root.left.right.right = Node(5)\n",
    "p = root.right.left\n",
    "q = root.left.right.left"
   ]
  },
  {
   "cell_type": "code",
   "execution_count": 8,
   "metadata": {},
   "outputs": [
    {
     "data": {
      "text/plain": [
       "6"
      ]
     },
     "execution_count": 8,
     "metadata": {},
     "output_type": "execute_result"
    }
   ],
   "source": [
    "lowestCommonAncestor(root, p, q)"
   ]
  },
  {
   "cell_type": "markdown",
   "metadata": {},
   "source": [
    "time: O(height) -- balanced: O(logn) and worst case: visit all nodes O(n)<br>\n",
    "space: recursive: O(height); iterative: O(1)"
   ]
  }
 ],
 "metadata": {
  "kernelspec": {
   "display_name": "Python 3",
   "language": "python",
   "name": "python3"
  },
  "language_info": {
   "codemirror_mode": {
    "name": "ipython",
    "version": 3
   },
   "file_extension": ".py",
   "mimetype": "text/x-python",
   "name": "python",
   "nbconvert_exporter": "python",
   "pygments_lexer": "ipython3",
   "version": "3.7.1"
  }
 },
 "nbformat": 4,
 "nbformat_minor": 2
}
