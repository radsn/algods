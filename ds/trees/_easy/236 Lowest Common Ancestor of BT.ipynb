{
 "cells": [
  {
   "cell_type": "markdown",
   "metadata": {},
   "source": [
    "Given a binary tree, find the lowest common ancestor (LCA) of two given nodes in the tree."
   ]
  },
  {
   "cell_type": "markdown",
   "metadata": {},
   "source": [
    "bruteforce: store paths for p and q and return the last common parent node in the path"
   ]
  },
  {
   "cell_type": "code",
   "execution_count": 1,
   "metadata": {},
   "outputs": [],
   "source": [
    "def lowestCommonAncestor(root, p, q):\n",
    "    #find path of p and find path of q\n",
    "    #find the last common node between p and q\n",
    "    \n",
    "    if not root:\n",
    "        return \n",
    "\n",
    "    def findPath(node, p):\n",
    "        if not node:\n",
    "            return\n",
    "        \n",
    "        if node.val == p.val:\n",
    "            return [node]\n",
    "        \n",
    "        left = findPath(node.left, p)\n",
    "        if left:\n",
    "            left = [node] + left\n",
    "            return left\n",
    "        \n",
    "        right = findPath(node.right, p)\n",
    "        if right:\n",
    "            right = [node] + right\n",
    "            return right\n",
    "    \n",
    "    pathp = findPath(root, p)\n",
    "    pathq = findPath(root, q)\n",
    "    \n",
    "    i = 0\n",
    "    j = 0\n",
    "    while i < len(pathp) and j < len(pathq):\n",
    "        if pathp[i] == pathq[j]:\n",
    "            i+=1\n",
    "            j+=1\n",
    "        else:\n",
    "            break\n",
    "    return pathp[i-1]        "
   ]
  },
  {
   "cell_type": "markdown",
   "metadata": {},
   "source": [
    "store parents in dictionary while traversing the tree<br>\n",
    "1. start from root and traverse the tree and store parents\n",
    "2. store all parents of p into ancestor set\n",
    "3. traverse thru parents of q and check if present in ancestor set. If ancestor present in ancestor set for p, means LCA."
   ]
  },
  {
   "cell_type": "code",
   "execution_count": 2,
   "metadata": {},
   "outputs": [],
   "source": [
    "def lowestCommonAncestor(root, p, q):\n",
    "    if not root:\n",
    "        return\n",
    "    \n",
    "    parent = {root: None}\n",
    "    \n",
    "    def traverse(node, p):\n",
    "        if not node:\n",
    "            return \n",
    "        traverse(node.left, p)\n",
    "        parent[node.left] = node\n",
    "        traverse(node.right, p)\n",
    "        parent[node.right] = node\n",
    "    \n",
    "    traverse(root, p)\n",
    "    traverse(root, q)\n",
    "    \n",
    "    ancestors = set()\n",
    "    \n",
    "    #process all ancestors for node p using parent pointers\n",
    "    while p:\n",
    "        ancestors.add(p)\n",
    "        p = parent[p]\n",
    "    \n",
    "    #first ancesto of q that appears in p's ancestor set is LCA\n",
    "    while q not in ancestors:\n",
    "        q = parent[q]\n",
    "    return q"
   ]
  },
  {
   "cell_type": "markdown",
   "metadata": {},
   "source": [
    "recursion<br>\n",
    "store global lowest common ancestor [=2] <br>\n",
    "since BT need to search every node and check if val == p or q in depthwise traversal<br>\n",
    "return boolean flag whenever encounter either p or q <br>\n",
    "LCA = node for which both its subtree recursions return True\n",
    "\n",
    "1. start traversing tree from root node\n",
    "2. if current node itself is one of p or q, mark variable mid as True and continue search for the other node in left and right subtrees\n",
    "3. if either left or right branch returns True, means one of the two nodes was found below\n",
    "4. LCA = two of the three flag is True (left, right, or mid) [=2] -- store as global"
   ]
  },
  {
   "cell_type": "code",
   "execution_count": 3,
   "metadata": {},
   "outputs": [],
   "source": [
    "#recursion: storing global and returning boolean (0 or 1)\n",
    "# O(n) time | O(height) space\n",
    "def lowestCommonAncestor(root, p, q):\n",
    "    ancestor = [None]\n",
    "    \n",
    "    def LCA(node):\n",
    "        if not node:\n",
    "            return False\n",
    "        mid = (node == p or node == q)\n",
    "        left = LCA(node.left)\n",
    "        right = LCA(node.right)\n",
    "        if mid + left + right >=2: \n",
    "            ancestor[0] = node\n",
    "        return mid or left or right\n",
    "    \n",
    "    LCA(root)\n",
    "    return ancestor[0]"
   ]
  },
  {
   "cell_type": "code",
   "execution_count": 4,
   "metadata": {},
   "outputs": [],
   "source": [
    "#recursion: no global and returning node\n",
    "def lowestCommonAncestor(root, p, q):\n",
    "    if not root:\n",
    "        return \n",
    "    \n",
    "    if root == p or root == q:  #if myself, LCA is myself\n",
    "        return root\n",
    "    \n",
    "    left = lowestCommonAncestor(root.left, p, q)\n",
    "    right = lowestCommonAncestor(root.right, p, q)\n",
    "    \n",
    "    if left and right:   #both return node, (exist in diff subtree) so LCA is parent\n",
    "        return root\n",
    "    else:                #one node found, means other node is below node found, (exist in same subtree) so LCA is node found\n",
    "        return left or right"
   ]
  },
  {
   "cell_type": "code",
   "execution_count": 5,
   "metadata": {},
   "outputs": [],
   "source": [
    "class Node():\n",
    "    def __init__(self, value):\n",
    "        self.val = value\n",
    "        self.left  = None\n",
    "        self.right = None"
   ]
  },
  {
   "cell_type": "code",
   "execution_count": 6,
   "metadata": {},
   "outputs": [],
   "source": [
    "root = Node(3)  \n",
    "root.left = Node(5)  \n",
    "root.right = Node(1)  \n",
    "root.left.left = Node(6)  \n",
    "root.left.right = Node(2)\n",
    "root.right.left = Node(0)  \n",
    "root.right.right = Node(8)\n",
    "root.left.right.left = Node(7)\n",
    "root.left.right.right = Node(4)\n",
    "p = root.left\n",
    "q = root.right.right\n"
   ]
  },
  {
   "cell_type": "code",
   "execution_count": 7,
   "metadata": {},
   "outputs": [
    {
     "data": {
      "text/plain": [
       "3"
      ]
     },
     "execution_count": 7,
     "metadata": {},
     "output_type": "execute_result"
    }
   ],
   "source": [
    "lowestCommonAncestor(root, p, q).val"
   ]
  }
 ],
 "metadata": {
  "kernelspec": {
   "display_name": "Python 3",
   "language": "python",
   "name": "python3"
  },
  "language_info": {
   "codemirror_mode": {
    "name": "ipython",
    "version": 3
   },
   "file_extension": ".py",
   "mimetype": "text/x-python",
   "name": "python",
   "nbconvert_exporter": "python",
   "pygments_lexer": "ipython3",
   "version": "3.7.1"
  }
 },
 "nbformat": 4,
 "nbformat_minor": 2
}
