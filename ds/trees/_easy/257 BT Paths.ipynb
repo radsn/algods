{
 "cells": [
  {
   "cell_type": "markdown",
   "metadata": {},
   "source": [
    "Given a binary tree, return all root-to-leaf paths. "
   ]
  },
  {
   "cell_type": "markdown",
   "metadata": {},
   "source": [
    "top down dfs"
   ]
  },
  {
   "cell_type": "code",
   "execution_count": 1,
   "metadata": {},
   "outputs": [],
   "source": [
    "def binaryTreePaths(root):\n",
    "    \n",
    "    if not root:\n",
    "        return \"\"\n",
    "    \n",
    "    result = []\n",
    "    \n",
    "    def allPaths(node, slate):\n",
    "        if not node:\n",
    "            return\n",
    "        \n",
    "        if not node.left and not node.right:\n",
    "            result.append( \"->\".join(slate + [str(node.val)]) )\n",
    "            \n",
    "        allPaths(node.left , slate + [str(node.val)])\n",
    "        allPaths(node.right, slate + [str(node.val)])\n",
    "    \n",
    "    allPaths(root, [])\n",
    "    \n",
    "    return result"
   ]
  },
  {
   "cell_type": "markdown",
   "metadata": {},
   "source": [
    "bottom up dfs"
   ]
  },
  {
   "cell_type": "code",
   "execution_count": 2,
   "metadata": {},
   "outputs": [],
   "source": [
    "def binaryTreePaths(root):\n",
    "    \n",
    "    if not root: return \n",
    "    \n",
    "    def allPaths(node):                  #return is list of list\n",
    "        if not node.left and not node.right:\n",
    "            return [[node.val]]          #list of list\n",
    "        \n",
    "        left  = []\n",
    "        right = []\n",
    "        if node.left:\n",
    "            left  = allPaths(node.left)  #at left node: return is list of list of all left paths \n",
    "            for i in range(len(left)):   #to get overall left node solution: add node.val to each left path list\n",
    "                left[i] = [node.val] + left[i]\n",
    "\n",
    "        if node.right:\n",
    "            right = allPaths(node.right) #at right node: return is list of list of all right paths\n",
    "            for i in range(len(right)):  #to get overall right node solution: add node.val to each right path list\n",
    "                right[i] = [node.val] + right[i]\n",
    "        \n",
    "        return left + right              #overall solution is all paths from left subtree and right subtree\n",
    "    \n",
    "    return allPaths(root)"
   ]
  },
  {
   "cell_type": "markdown",
   "metadata": {},
   "source": [
    "add if not node: return [ ]<br>\n",
    "then no need to initialize left or right and no need to check if node.left and if node.right since there is no return 'None'"
   ]
  },
  {
   "cell_type": "code",
   "execution_count": 3,
   "metadata": {},
   "outputs": [],
   "source": [
    "#cleaner and no helper -- using list comprehension\n",
    "def binaryTreePaths(root):\n",
    "    if not root:\n",
    "        return []                        #return None is no longer a problem\n",
    "    if not root.left and not root.right:\n",
    "        return [str(root.val)]\n",
    "    allpaths  = [str(root.val) + '->' + path for path in binaryTreePaths(root.left)]\n",
    "    allpaths += [str(root.val) + '->' + path for path in binaryTreePaths(root.right)]\n",
    "    return allpaths"
   ]
  },
  {
   "cell_type": "markdown",
   "metadata": {},
   "source": [
    "time/space: worst case for complete binary tree = O(nlogn)"
   ]
  },
  {
   "cell_type": "code",
   "execution_count": 4,
   "metadata": {},
   "outputs": [],
   "source": [
    "class Node:\n",
    "    def __init__(self, value):\n",
    "        self.val = value\n",
    "        self.left = None\n",
    "        self.right = None"
   ]
  },
  {
   "cell_type": "code",
   "execution_count": 5,
   "metadata": {},
   "outputs": [],
   "source": [
    "root = Node(1)  \n",
    "root.left = Node(2)  \n",
    "root.right = Node(3)  \n",
    "root.left.right = Node(5)"
   ]
  },
  {
   "cell_type": "code",
   "execution_count": 6,
   "metadata": {},
   "outputs": [
    {
     "data": {
      "text/plain": [
       "['1->2->5', '1->3']"
      ]
     },
     "execution_count": 6,
     "metadata": {},
     "output_type": "execute_result"
    }
   ],
   "source": [
    "binaryTreePaths(root)"
   ]
  }
 ],
 "metadata": {
  "kernelspec": {
   "display_name": "Python 3",
   "language": "python",
   "name": "python3"
  },
  "language_info": {
   "codemirror_mode": {
    "name": "ipython",
    "version": 3
   },
   "file_extension": ".py",
   "mimetype": "text/x-python",
   "name": "python",
   "nbconvert_exporter": "python",
   "pygments_lexer": "ipython3",
   "version": "3.7.1"
  }
 },
 "nbformat": 4,
 "nbformat_minor": 2
}
