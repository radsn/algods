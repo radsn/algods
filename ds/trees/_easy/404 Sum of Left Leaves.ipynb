{
 "cells": [
  {
   "cell_type": "markdown",
   "metadata": {},
   "source": [
    "Find the sum of all left leaves in a given binary tree."
   ]
  },
  {
   "cell_type": "code",
   "execution_count": 1,
   "metadata": {},
   "outputs": [],
   "source": [
    "def sumOfLeftLeaves(root):\n",
    "    #left leaf means leaf node and left is left child of parent\n",
    "    if not root:\n",
    "        return 0\n",
    "\n",
    "    def leftLeaf(node, parent):\n",
    "        if not node:\n",
    "            return 0\n",
    "\n",
    "        if not node.left and not node.right:\n",
    "            if parent and parent.left == node:\n",
    "                return node.val\n",
    "\n",
    "        left = leftLeaf(node.left,node)\n",
    "        right = leftLeaf(node.right,node)\n",
    "        return left + right  #add left + right + (not itself -- because if node has left or right => not leaf)\n",
    "\n",
    "    return leftLeaf(root,None)"
   ]
  },
  {
   "cell_type": "markdown",
   "metadata": {},
   "source": [
    "check if node is left child (so passing the parent information down) <br>\n",
    "but to pass minimum information, simply pass boolean parameter down specifying whether or not subtree is a left one\n",
    "\n",
    "basecase: subtree is leaf node and left leaf node, only then return value<br>\n",
    "recursive: add results from left subtree and right subtree"
   ]
  },
  {
   "cell_type": "code",
   "execution_count": 2,
   "metadata": {},
   "outputs": [],
   "source": [
    "def sumOfLeftLeaves(root):\n",
    "    if not root:\n",
    "        return 0\n",
    "    \n",
    "    def process_subtree(node, is_left):\n",
    "        \n",
    "        if not node.left and not node.right:\n",
    "            if is_left:\n",
    "                return node.val\n",
    "        \n",
    "        total = 0\n",
    "        if node.left:\n",
    "            total += process_subtree(node.left, True)\n",
    "        if node.right:\n",
    "            total += process_subtree(node.right, False)\n",
    "        return total\n",
    "    \n",
    "    return process_subtree(root, False)"
   ]
  },
  {
   "cell_type": "code",
   "execution_count": 3,
   "metadata": {},
   "outputs": [],
   "source": [
    "class Node:\n",
    "    def __init__(self, value):\n",
    "        self.val = value\n",
    "        self.left = None\n",
    "        self.right = None\n",
    "        \n",
    "root = Node(3)  \n",
    "root.left = Node(9)  \n",
    "root.right = Node(20)  \n",
    "root.right.left = Node(15)  \n",
    "root.right.right = Node(7)"
   ]
  },
  {
   "cell_type": "code",
   "execution_count": 4,
   "metadata": {},
   "outputs": [
    {
     "data": {
      "text/plain": [
       "24"
      ]
     },
     "execution_count": 4,
     "metadata": {},
     "output_type": "execute_result"
    }
   ],
   "source": [
    "sumOfLeftLeaves(root)"
   ]
  }
 ],
 "metadata": {
  "kernelspec": {
   "display_name": "Python 3",
   "language": "python",
   "name": "python3"
  },
  "language_info": {
   "codemirror_mode": {
    "name": "ipython",
    "version": 3
   },
   "file_extension": ".py",
   "mimetype": "text/x-python",
   "name": "python",
   "nbconvert_exporter": "python",
   "pygments_lexer": "ipython3",
   "version": "3.7.1"
  }
 },
 "nbformat": 4,
 "nbformat_minor": 2
}
