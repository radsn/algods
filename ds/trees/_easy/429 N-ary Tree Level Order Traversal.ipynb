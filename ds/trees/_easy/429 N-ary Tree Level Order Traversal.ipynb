{
 "cells": [
  {
   "cell_type": "markdown",
   "metadata": {},
   "source": [
    "Given an n-ary tree, return the level order traversal of its nodes' values."
   ]
  },
  {
   "cell_type": "markdown",
   "metadata": {},
   "source": [
    "bfs - partition by level - add all the nodes in each level into a separate array -- same as Q102 except Nary instead of binary.\n",
    "\n",
    "number of nodes = number of edges + 1 (root node is the only unpaired node)"
   ]
  },
  {
   "cell_type": "code",
   "execution_count": 1,
   "metadata": {},
   "outputs": [],
   "source": [
    "class Node:\n",
    "    def __init__(self, val=None):\n",
    "        self.val = val\n",
    "        self.children = [] #instead of left and right pointer to Nodes, we have one children pointer to list of Nodes"
   ]
  },
  {
   "cell_type": "code",
   "execution_count": 2,
   "metadata": {},
   "outputs": [],
   "source": [
    "from collections import deque\n",
    "\n",
    "# O(n) time - work is proportional to number of edges\n",
    "# O(n) space - worst case n-1 leaves (minus root node)\n",
    "def levelOrder(root):  \n",
    "    if not root:\n",
    "        return []\n",
    "    \n",
    "    result = []\n",
    "    q = deque([root])\n",
    "    \n",
    "    while q:\n",
    "        size = len(q)  #number of nodes in the current level\n",
    "        temp = []\n",
    "        \n",
    "        for _ in range(size):     #pop until nodes empty out of current level\n",
    "            node = q.popleft()\n",
    "            temp.append(node.val) \n",
    "            \n",
    "            #check if children exist and append each child into the end of the queue\n",
    "            if node.children:\n",
    "                for child in node.children:  #iterate over children list\n",
    "                    q.append(child)\n",
    "        result.append(temp)\n",
    "    \n",
    "    return result"
   ]
  },
  {
   "cell_type": "code",
   "execution_count": 3,
   "metadata": {},
   "outputs": [],
   "source": [
    "root = Node(1) \n",
    "root.children = [ Node(3), Node(2), Node(4) ]\n",
    "root.children[0].children = [ Node(5), Node(6) ]"
   ]
  },
  {
   "cell_type": "code",
   "execution_count": 4,
   "metadata": {},
   "outputs": [
    {
     "data": {
      "text/plain": [
       "[[1], [3, 2, 4], [5, 6]]"
      ]
     },
     "execution_count": 4,
     "metadata": {},
     "output_type": "execute_result"
    }
   ],
   "source": [
    "levelOrder(root)"
   ]
  }
 ],
 "metadata": {
  "kernelspec": {
   "display_name": "Python 3",
   "language": "python",
   "name": "python3"
  },
  "language_info": {
   "codemirror_mode": {
    "name": "ipython",
    "version": 3
   },
   "file_extension": ".py",
   "mimetype": "text/x-python",
   "name": "python",
   "nbconvert_exporter": "python",
   "pygments_lexer": "ipython3",
   "version": "3.7.1"
  }
 },
 "nbformat": 4,
 "nbformat_minor": 2
}
