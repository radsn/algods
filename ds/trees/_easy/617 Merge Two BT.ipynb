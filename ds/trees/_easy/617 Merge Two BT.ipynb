{
 "cells": [
  {
   "cell_type": "markdown",
   "metadata": {},
   "source": [
    "Given two binary trees and imagine that when you put one of them to cover the other, some nodes of the two trees are overlapped while the others are not.\n",
    "\n",
    "You need to merge them into a new binary tree. The merge rule is that if two nodes overlap, then sum node values up as the new value of the merged node. Otherwise, the NOT null node will be used as the node of new tree."
   ]
  },
  {
   "cell_type": "code",
   "execution_count": 1,
   "metadata": {},
   "outputs": [],
   "source": [
    "#recursion\n",
    "def merge(t1, t2):\n",
    "    if not t1:\n",
    "        return t2\n",
    "    if not t2:\n",
    "        return t1\n",
    "    t1.val = t1.val + t2.val\n",
    "    t1.left = mergeTrees(t1.left, t2.left)\n",
    "    t1.right = mergeTrees(t1.right, t2.right)\n",
    "    return t1"
   ]
  },
  {
   "cell_type": "markdown",
   "metadata": {},
   "source": [
    "idea is to update t1 and return t1 as the merged BT<br>\n",
    "traverse both the given trees in preorder fashion<br>\n",
    "if current node exists in both trees, add values and update t1 val<br>\n",
    "recurse on left of both trees and right of both trees, if any child null, t1.child points to child of non-null tree"
   ]
  }
 ],
 "metadata": {
  "kernelspec": {
   "display_name": "Python 3",
   "language": "python",
   "name": "python3"
  },
  "language_info": {
   "codemirror_mode": {
    "name": "ipython",
    "version": 3
   },
   "file_extension": ".py",
   "mimetype": "text/x-python",
   "name": "python",
   "nbconvert_exporter": "python",
   "pygments_lexer": "ipython3",
   "version": "3.7.1"
  }
 },
 "nbformat": 4,
 "nbformat_minor": 2
}
