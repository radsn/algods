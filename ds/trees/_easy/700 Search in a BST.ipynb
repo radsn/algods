{
 "cells": [
  {
   "cell_type": "markdown",
   "metadata": {},
   "source": [
    "Given the root node of a binary search tree (BST) and a value. You need to find the node in the BST that the node's value equals the given value. Return the subtree rooted with that node. If such node doesn't exist, you should return NULL."
   ]
  },
  {
   "cell_type": "code",
   "execution_count": 1,
   "metadata": {},
   "outputs": [],
   "source": [
    "#recursion: O(height) time | O(height) space\n",
    "def searchBST(root, val):\n",
    "    if not root:\n",
    "        return \n",
    "    if val > root.val:\n",
    "        return searchBST(root.right, val)\n",
    "    elif val < root.val:\n",
    "        return searchBST(root.left, val)\n",
    "    elif val == root.val:\n",
    "        return root\n",
    "    else:\n",
    "        return None"
   ]
  },
  {
   "cell_type": "code",
   "execution_count": 2,
   "metadata": {},
   "outputs": [],
   "source": [
    "def searchBST(root, val):\n",
    "    if root is None or val == root.val:\n",
    "        return root\n",
    "    return searchBST(root.left, val) if val < root.val else searchBST(root.right, val)"
   ]
  },
  {
   "cell_type": "markdown",
   "metadata": {},
   "source": [
    "iterative"
   ]
  },
  {
   "cell_type": "code",
   "execution_count": 3,
   "metadata": {},
   "outputs": [],
   "source": [
    "#iterative: O(height) time | O(1) space\n",
    "def searchBST(root, val):\n",
    "    while root:\n",
    "        if val > root.val:\n",
    "            root = root.right\n",
    "        elif val < root.val:\n",
    "            root = root.left\n",
    "        elif val == root.val:\n",
    "            return root\n",
    "    return "
   ]
  }
 ],
 "metadata": {
  "kernelspec": {
   "display_name": "Python 3",
   "language": "python",
   "name": "python3"
  },
  "language_info": {
   "codemirror_mode": {
    "name": "ipython",
    "version": 3
   },
   "file_extension": ".py",
   "mimetype": "text/x-python",
   "name": "python",
   "nbconvert_exporter": "python",
   "pygments_lexer": "ipython3",
   "version": "3.7.1"
  }
 },
 "nbformat": 4,
 "nbformat_minor": 2
}
