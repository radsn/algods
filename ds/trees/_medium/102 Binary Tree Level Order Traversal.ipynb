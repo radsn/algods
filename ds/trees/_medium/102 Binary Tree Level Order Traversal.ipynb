{
 "cells": [
  {
   "cell_type": "markdown",
   "metadata": {},
   "source": [
    "Given a binary tree, return the level order traversal of its nodes' values. (ie, from left to right, level by level)."
   ]
  },
  {
   "cell_type": "markdown",
   "metadata": {},
   "source": [
    "bfs - partition by level - add all the nodes in each level into a separate array"
   ]
  },
  {
   "cell_type": "code",
   "execution_count": 1,
   "metadata": {},
   "outputs": [],
   "source": [
    "class Node:\n",
    "    def __init__(self, value):\n",
    "        self.val = value\n",
    "        self.left = None\n",
    "        self.right = None"
   ]
  },
  {
   "cell_type": "code",
   "execution_count": 2,
   "metadata": {},
   "outputs": [],
   "source": [
    "from collections import deque\n",
    "\n",
    "def levelOrder(root):\n",
    "    if not root:  #mandatory check\n",
    "        return []\n",
    "\n",
    "    result = []\n",
    "    q = deque([root])\n",
    "\n",
    "    while q:\n",
    "        temp = []\n",
    "        size = len(q)  #maintain snapshot of size at start of each level\n",
    "\n",
    "        for _ in range(size):  #iterate until the size of q in that level is empty\n",
    "            node = q.popleft()\n",
    "            temp.append(node.val)\n",
    "            if node.left:\n",
    "                q.append(node.left)\n",
    "            if node.right:\n",
    "                q.append(node.right)\n",
    "\n",
    "        result.append(temp)\n",
    "\n",
    "    return result"
   ]
  },
  {
   "cell_type": "code",
   "execution_count": 3,
   "metadata": {},
   "outputs": [],
   "source": [
    "root = Node(3)  \n",
    "root.left = Node(9)  \n",
    "root.right = Node(20)  \n",
    "root.left.left = Node(15)  \n",
    "root.left.right = Node(7)"
   ]
  },
  {
   "cell_type": "code",
   "execution_count": 4,
   "metadata": {},
   "outputs": [
    {
     "data": {
      "text/plain": [
       "[[3], [9, 20], [15, 7]]"
      ]
     },
     "execution_count": 4,
     "metadata": {},
     "output_type": "execute_result"
    }
   ],
   "source": [
    "levelOrder(root)"
   ]
  }
 ],
 "metadata": {
  "kernelspec": {
   "display_name": "Python 3",
   "language": "python",
   "name": "python3"
  },
  "language_info": {
   "codemirror_mode": {
    "name": "ipython",
    "version": 3
   },
   "file_extension": ".py",
   "mimetype": "text/x-python",
   "name": "python",
   "nbconvert_exporter": "python",
   "pygments_lexer": "ipython3",
   "version": "3.7.1"
  }
 },
 "nbformat": 4,
 "nbformat_minor": 2
}
