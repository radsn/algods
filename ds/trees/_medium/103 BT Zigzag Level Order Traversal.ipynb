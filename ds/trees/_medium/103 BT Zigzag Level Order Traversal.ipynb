{
 "cells": [
  {
   "cell_type": "markdown",
   "metadata": {},
   "source": [
    "Given a binary tree, return the zigzag level order traversal of its nodes' values. (ie, from left to right, then right to left for the next level and alternate between)."
   ]
  },
  {
   "cell_type": "markdown",
   "metadata": {},
   "source": [
    "approach: start by writing out the code for top-down gathering all nodes in temp array on level by level basis. Keep a **boolean flag** or **level count mod 2** to zigzag left-to-right or right-to-left when appending each level (temp array) into the final result."
   ]
  },
  {
   "cell_type": "code",
   "execution_count": 1,
   "metadata": {},
   "outputs": [],
   "source": [
    "class Node:\n",
    "    def __init__(self, value):\n",
    "        self.val = value\n",
    "        self.left = None\n",
    "        self.right = None"
   ]
  },
  {
   "cell_type": "code",
   "execution_count": 2,
   "metadata": {},
   "outputs": [],
   "source": [
    "from collections import deque\n",
    "\n",
    "# O(n) time | O(n) space\n",
    "def zigzagLevelOrder(root):\n",
    "    if not root:\n",
    "        return []\n",
    "\n",
    "    result = []\n",
    "    q = deque([root])\n",
    "    flag = False\n",
    "\n",
    "    while q:\n",
    "        size = len(q)\n",
    "        temp = []\n",
    "\n",
    "        for _ in range(size):\n",
    "            node = q.popleft()\n",
    "            temp.append(node.val)\n",
    "            if node.left:\n",
    "                q.append(node.left)\n",
    "            if node.right:\n",
    "                q.append(node.right)\n",
    "        if not flag:\n",
    "            result.append(temp)\n",
    "        else:\n",
    "            result.append(temp[::-1])\n",
    "        flag = not flag  #outside both if and else\n",
    "    return result"
   ]
  },
  {
   "cell_type": "code",
   "execution_count": 3,
   "metadata": {},
   "outputs": [],
   "source": [
    "root = Node(3)  \n",
    "root.left = Node(9)  \n",
    "root.right = Node(20)  \n",
    "root.left.left = Node(15)  \n",
    "root.left.right = Node(7)"
   ]
  },
  {
   "cell_type": "code",
   "execution_count": 4,
   "metadata": {},
   "outputs": [
    {
     "data": {
      "text/plain": [
       "[[3], [20, 9], [15, 7]]"
      ]
     },
     "execution_count": 4,
     "metadata": {},
     "output_type": "execute_result"
    }
   ],
   "source": [
    "zigzagLevelOrder(root)"
   ]
  }
 ],
 "metadata": {
  "kernelspec": {
   "display_name": "Python 3",
   "language": "python",
   "name": "python3"
  },
  "language_info": {
   "codemirror_mode": {
    "name": "ipython",
    "version": 3
   },
   "file_extension": ".py",
   "mimetype": "text/x-python",
   "name": "python",
   "nbconvert_exporter": "python",
   "pygments_lexer": "ipython3",
   "version": "3.7.1"
  }
 },
 "nbformat": 4,
 "nbformat_minor": 2
}
