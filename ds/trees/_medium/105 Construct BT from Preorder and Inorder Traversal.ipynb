{
 "cells": [
  {
   "cell_type": "markdown",
   "metadata": {},
   "source": [
    "Given preorder and inorder traversal of a tree, construct the binary tree. You may assume that duplicates do not exist in the tree (note: if duplicates then cannot form unique BT)"
   ]
  },
  {
   "cell_type": "markdown",
   "metadata": {},
   "source": [
    "preorder: **root** --> preorder(L subtree) --> preorder(R subtree)\n",
    "\n",
    "inorder: inorder(L subtree) --> **root** --> inorder(R subtree)"
   ]
  },
  {
   "cell_type": "markdown",
   "metadata": {},
   "source": [
    "Approach: divide and conquer by Top-down tree construction\n",
    "\n",
    "1. Find the root (first node) from preorder array (construct the root node)\n",
    "2. Find where the root appears in inorder array to find the boundary between left subtree and right subtree -- find number of elements in left subtree and number of elements in right subtree.\n",
    "3. once we know the boundaries of left and right -- subdivide the subproblem by passing the two subarrays down to subordinates to build the left and right subtrees.\n",
    "\n",
    "size will be same for:\n",
    "- preorder(L) == inorder(L) ==> numleft\n",
    "- preorder(R) == inorder(R) ==> numright\n",
    "\n",
    "note: order is not same but the size will be same"
   ]
  },
  {
   "cell_type": "markdown",
   "metadata": {},
   "source": [
    "What is the general arbitrary worker in this hierarchy going to get from their manager as their subproblem? \n",
    "\n",
    "TWO subarrays - subarray from preorder,  subarray from inorder"
   ]
  },
  {
   "cell_type": "code",
   "execution_count": 1,
   "metadata": {},
   "outputs": [],
   "source": [
    "def buildTree(preorder, inorder):\n",
    "    inorder_map = {}\n",
    "    for i in range(len(inorder)):   #put all the elements of inorder inside hashmap for O(1) lookup of root index\n",
    "        inorder_map[inorder[i]] = i\n",
    "\n",
    "    def helper(P, startP, endP, I, startI, endI):\n",
    "        #BaseCase: size0 or size1\n",
    "        #both P and I have same sizes so does not matter which array we pick\n",
    "        if startP > endP: #size0 \n",
    "            return None\n",
    "        if startP == endP: #size1\n",
    "            root = TreeNode(P[startP])\n",
    "            return root\n",
    "\n",
    "        #RecursiveCase: subproblem size more than 1\n",
    "        rootnode = TreeNode(P[startP])      #first element of preorder subarray is root - construct the root\n",
    "        rootindex = inorder_map[P[startP]]  #search where rootnode appears in inorder from hashtable lookup\n",
    "\n",
    "        numleft = rootindex - startI   #number of elements in left subtree -- inorder(L)==preorder(L)\n",
    "        numright = endI - rootindex    #number of elements in right subtree -- inorder(R)==preorder(R)\n",
    "\n",
    "        #create left and right subproblems\n",
    "        rootnode.left = helper(P, startP+1, startP+numleft, I, startI, rootindex-1) #returns root of left subtree\n",
    "        rootnode.right = helper(P, startP+numleft+1, endP, I, rootindex+1, endI)    #returns root of right subtree\n",
    "\n",
    "        return rootnode\n",
    "\n",
    "    return helper(preorder, 0, len(preorder)-1, inorder, 0, len(inorder)-1)         #returns root of the whole tree     "
   ]
  },
  {
   "cell_type": "markdown",
   "metadata": {},
   "source": [
    "**time:** constant time for every line and total n nodes ==> O(n)\n",
    "\n",
    "at every step, figuring out a new root node, creating that new root node, looking up the index in hashmap and deciding where the boundaries lie to further divide the subproblem. Tree gets created top down.\n",
    "\n",
    "**space:** explicit space O(n) hashtable + O(n) output tree + implicit call stack O(height) ==> O(n)"
   ]
  },
  {
   "cell_type": "markdown",
   "metadata": {},
   "source": [
    "The inorder array is not sorted since BT not BST and thus cannot do binary search to find the rootnode index in inorder. We can do linear search to find root index at O(n). But to improve efficiency of search to O(1), put all elements of inorder in hashtable. Thus, lookup of rootnode index in inorder subarray will be O(1) lookup."
   ]
  }
 ],
 "metadata": {
  "kernelspec": {
   "display_name": "Python 3",
   "language": "python",
   "name": "python3"
  },
  "language_info": {
   "codemirror_mode": {
    "name": "ipython",
    "version": 3
   },
   "file_extension": ".py",
   "mimetype": "text/x-python",
   "name": "python",
   "nbconvert_exporter": "python",
   "pygments_lexer": "ipython3",
   "version": "3.7.1"
  }
 },
 "nbformat": 4,
 "nbformat_minor": 2
}
