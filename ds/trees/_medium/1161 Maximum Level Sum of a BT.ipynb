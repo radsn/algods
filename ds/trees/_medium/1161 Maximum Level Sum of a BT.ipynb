{
 "cells": [
  {
   "cell_type": "markdown",
   "metadata": {},
   "source": [
    "Given the root of a binary tree, the level of its root is 1, the level of its children is 2, and so on.\n",
    "\n",
    "Return the smallest level X such that the sum of all the values of nodes at level X is maximal."
   ]
  },
  {
   "cell_type": "markdown",
   "metadata": {},
   "source": [
    "bfs iterative level order traversal with queue"
   ]
  },
  {
   "cell_type": "code",
   "execution_count": 1,
   "metadata": {},
   "outputs": [],
   "source": [
    "import collections \n",
    "\n",
    "def maxLevelSum(root):\n",
    "    if not root:\n",
    "        return \n",
    "    q = collections.deque([root])\n",
    "    maxsum = float(\"-inf\")\n",
    "    maxlevel = 0\n",
    "    currlevel = 0\n",
    "    while q:\n",
    "        size = len(q)\n",
    "        sum = 0\n",
    "        for _ in range(size):\n",
    "            node = q.popleft()\n",
    "            sum += node.val\n",
    "            if node.left:\n",
    "                q.append(node.left)\n",
    "            if node.right:\n",
    "                q.append(node.right)\n",
    "        currlevel += 1\n",
    "        if maxsum < sum:\n",
    "            maxsum = sum\n",
    "            maxlevel = currlevel \n",
    "    return maxlevel"
   ]
  },
  {
   "cell_type": "code",
   "execution_count": null,
   "metadata": {},
   "outputs": [],
   "source": []
  }
 ],
 "metadata": {
  "kernelspec": {
   "display_name": "Python 3",
   "language": "python",
   "name": "python3"
  },
  "language_info": {
   "codemirror_mode": {
    "name": "ipython",
    "version": 3
   },
   "file_extension": ".py",
   "mimetype": "text/x-python",
   "name": "python",
   "nbconvert_exporter": "python",
   "pygments_lexer": "ipython3",
   "version": "3.7.1"
  }
 },
 "nbformat": 4,
 "nbformat_minor": 2
}
