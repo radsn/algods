{
 "cells": [
  {
   "cell_type": "markdown",
   "metadata": {},
   "source": [
    "Given a binary tree, find the lowest common ancestor (LCA) of two given nodes in the tree."
   ]
  },
  {
   "cell_type": "markdown",
   "metadata": {},
   "source": [
    "bruteforce: store paths for p and q and return the last common parent node in the path"
   ]
  },
  {
   "cell_type": "code",
   "execution_count": 5,
   "metadata": {},
   "outputs": [],
   "source": [
    "def lowestCommonAncestor(root, p, q):\n",
    "    #find path of p and find path of q\n",
    "    #find the last common node between p and q\n",
    "    \n",
    "    if not root:\n",
    "        return \n",
    "\n",
    "    def findPath(node, p):\n",
    "        if not node:\n",
    "            return\n",
    "        \n",
    "        if node.val == p.val:\n",
    "            return [node]\n",
    "        \n",
    "        left = findPath(node.left, p)\n",
    "        if left:\n",
    "            left = [node] + left\n",
    "            return left\n",
    "        \n",
    "        right = findPath(node.right, p)\n",
    "        if right:\n",
    "            right = [node] + right\n",
    "            return right\n",
    "    \n",
    "    pathp = findPath(root, p)\n",
    "    pathq = findPath(root, q)\n",
    "    \n",
    "    i = 0\n",
    "    j = 0\n",
    "    while i < len(pathp) and j < len(pathq):\n",
    "        if pathp[i] == pathq[j]:\n",
    "            i+=1\n",
    "            j+=1\n",
    "        else:\n",
    "            break\n",
    "    return pathp[i-1]        "
   ]
  },
  {
   "cell_type": "markdown",
   "metadata": {},
   "source": [
    "store parents in dictionary"
   ]
  },
  {
   "cell_type": "code",
   "execution_count": null,
   "metadata": {},
   "outputs": [],
   "source": [
    "def lowestCommonAncestor(root, p, q):\n",
    "    #traverse the tree to find p and q and keep storing parents\n",
    "    \n",
    "    parent = {root: None}\n",
    "    \n",
    "    \n",
    "    "
   ]
  },
  {
   "cell_type": "code",
   "execution_count": null,
   "metadata": {},
   "outputs": [],
   "source": []
  },
  {
   "cell_type": "code",
   "execution_count": 6,
   "metadata": {},
   "outputs": [],
   "source": [
    "class Node():\n",
    "    def __init__(self, value):\n",
    "        self.val = value\n",
    "        self.left  = None\n",
    "        self.right = None"
   ]
  },
  {
   "cell_type": "code",
   "execution_count": 7,
   "metadata": {},
   "outputs": [],
   "source": [
    "root = Node(3)  \n",
    "root.left = Node(5)  \n",
    "root.right = Node(1)  \n",
    "root.left.left = Node(6)  \n",
    "root.left.right = Node(2)\n",
    "root.right.left = Node(0)  \n",
    "root.right.right = Node(8)\n",
    "root.left.right.left = Node(7)\n",
    "root.left.right.right = Node(4)\n",
    "p = root.left\n",
    "q = root.right.right\n"
   ]
  },
  {
   "cell_type": "code",
   "execution_count": 9,
   "metadata": {},
   "outputs": [
    {
     "data": {
      "text/plain": [
       "3"
      ]
     },
     "execution_count": 9,
     "metadata": {},
     "output_type": "execute_result"
    }
   ],
   "source": [
    "lowestCommonAncestor(root, p, q).val"
   ]
  },
  {
   "cell_type": "code",
   "execution_count": null,
   "metadata": {},
   "outputs": [],
   "source": []
  }
 ],
 "metadata": {
  "kernelspec": {
   "display_name": "Python 3",
   "language": "python",
   "name": "python3"
  },
  "language_info": {
   "codemirror_mode": {
    "name": "ipython",
    "version": 3
   },
   "file_extension": ".py",
   "mimetype": "text/x-python",
   "name": "python",
   "nbconvert_exporter": "python",
   "pygments_lexer": "ipython3",
   "version": "3.7.1"
  }
 },
 "nbformat": 4,
 "nbformat_minor": 2
}
