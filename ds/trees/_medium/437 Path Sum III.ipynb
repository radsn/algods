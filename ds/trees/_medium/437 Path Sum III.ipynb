{
 "cells": [
  {
   "cell_type": "markdown",
   "metadata": {},
   "source": [
    "You are given a binary tree in which each node contains an integer value.\n",
    "\n",
    "Find the number of paths that sum to a given value.\n",
    "\n",
    "The path does not need to start or end at the root or a leaf, but it must go downwards (traveling only from parent nodes to child nodes)."
   ]
  },
  {
   "cell_type": "code",
   "execution_count": 2,
   "metadata": {},
   "outputs": [],
   "source": [
    "def pathSum(root, sum):\n",
    "    counter = 0\n",
    "    \n",
    "    def countPaths(node, target):\n",
    "        if not node:\n",
    "            return 0\n",
    "        if target == 0:\n",
    "            counter += 1\n",
    "            return\n",
    "        if not node.left and not node.right:\n",
    "            if node.val == target:\n",
    "                counter += 1\n",
    "            return\n",
    "        else:\n",
    "            countPaths(node.left, target-node.val)\n",
    "            countPaths(node.right, target-node.val)"
   ]
  },
  {
   "cell_type": "code",
   "execution_count": null,
   "metadata": {},
   "outputs": [],
   "source": [
    "def pathSum(root, sum):\n",
    "\n",
    "    def findPaths(node, target):\n",
    "        #output: list of lists: different paths that sum to target \n",
    "        #ex: [[10,5,3],[10,5,2,1],[10,-3,11]]\n",
    "        \n",
    "        if not node:\n",
    "            return [[]]\n",
    "        if not node.left and not node.right:\n",
    "            if node.val == target:\n",
    "                return [[node.val]]\n",
    "            else:\n",
    "                return []\n",
    "        \n",
    "        center = []\n",
    "        if node.val == target:\n",
    "            center = [[node.val]]\n",
    "            \n",
    "        leftPaths = findPaths(node.left, target-node.val)   #left: [[5,2,1], [5,3]]\n",
    "        for i in range(len(leftPaths)):\n",
    "            leftPaths[i]  = [node.val] + leftPaths[i]       #left: [[10,5,2,1], [10,5,3]]\n",
    "    \n",
    "        rightPaths = findPaths(node.right, target-node.val) #right: [[-3,11]]\n",
    "        for i in range(len(rightPaths)):\n",
    "            rightPaths[i] = [node.val] + rightPaths[i]      #right: [[10,-3,11]]\n",
    "            \n",
    "        return center + leftPaths + rightPaths\n",
    "        \n",
    "    result = []\n",
    "    def traverse(node):\n",
    "        if node:\n",
    "            traverse(node.left)\n",
    "            result.append(findPaths(node, target))\n",
    "            traverse(node.right)\n",
    "    \n",
    "    traverse(root)"
   ]
  }
 ],
 "metadata": {
  "kernelspec": {
   "display_name": "Python 3",
   "language": "python",
   "name": "python3"
  },
  "language_info": {
   "codemirror_mode": {
    "name": "ipython",
    "version": 3
   },
   "file_extension": ".py",
   "mimetype": "text/x-python",
   "name": "python",
   "nbconvert_exporter": "python",
   "pygments_lexer": "ipython3",
   "version": "3.7.1"
  }
 },
 "nbformat": 4,
 "nbformat_minor": 2
}
