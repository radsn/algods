{
 "cells": [
  {
   "cell_type": "markdown",
   "metadata": {},
   "source": [
    "Given a binary tree, find the leftmost value in the last row of the tree."
   ]
  },
  {
   "cell_type": "markdown",
   "metadata": {},
   "source": [
    "bfs"
   ]
  },
  {
   "cell_type": "code",
   "execution_count": null,
   "metadata": {},
   "outputs": [],
   "source": [
    "def findBottomLeftValue(root):\n",
    "    if not root:\n",
    "        return \n",
    "    q = collections.deque([root])\n",
    "    while q:\n",
    "        size = len(q)\n",
    "        lastleft = None       #initialize to None at start of each level\n",
    "        for _ in range(size): #inner loop executed once for each level\n",
    "            node = q.popleft()\n",
    "            if not lastleft:\n",
    "                lastleft = node.val\n",
    "            if node.left:\n",
    "                q.append(node.left)\n",
    "            if node.right:\n",
    "                q.append(node.right)\n",
    "    return lastleft"
   ]
  },
  {
   "cell_type": "markdown",
   "metadata": {},
   "source": [
    "top-down dfs - can accumulate level by level but by path by path<br>\n",
    "leaves will always be accumulated left to right"
   ]
  },
  {
   "cell_type": "code",
   "execution_count": null,
   "metadata": {},
   "outputs": [],
   "source": [
    "def findBottomLeftValue(root):\n",
    "    if not root:\n",
    "        return \n",
    "    leftmost = []\n",
    "    def dfs(node, parentdepth):\n",
    "        mydepth = parentdepth + 1\n",
    "        if mydepth > len(leftmost):\n",
    "            leftmost.append(node.val)\n",
    "        if node.left:\n",
    "            dfs(node.left, mydepth)\n",
    "        if node.right:\n",
    "            dfs(node.right, mydepth)\n",
    "    dfs(root, 0)\n",
    "    return leftmost[-1]"
   ]
  }
 ],
 "metadata": {
  "kernelspec": {
   "display_name": "Python 3",
   "language": "python",
   "name": "python3"
  },
  "language_info": {
   "codemirror_mode": {
    "name": "ipython",
    "version": 3
   },
   "file_extension": ".py",
   "mimetype": "text/x-python",
   "name": "python",
   "nbconvert_exporter": "python",
   "pygments_lexer": "ipython3",
   "version": "3.7.1"
  }
 },
 "nbformat": 4,
 "nbformat_minor": 2
}
