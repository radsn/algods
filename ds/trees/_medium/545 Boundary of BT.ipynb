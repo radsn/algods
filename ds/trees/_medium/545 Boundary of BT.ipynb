{
 "cells": [
  {
   "cell_type": "markdown",
   "metadata": {},
   "source": [
    "Given a binary tree, return the values of its boundary in anti-clockwise direction starting from root. Boundary includes left boundary, leaves, and right boundary in order without duplicate nodes.  (The values of the nodes may still be duplicates.)"
   ]
  },
  {
   "cell_type": "markdown",
   "metadata": {},
   "source": [
    "divide into 3 subproblems: left boundary, leaves, right boundary"
   ]
  },
  {
   "cell_type": "code",
   "execution_count": 1,
   "metadata": {},
   "outputs": [],
   "source": [
    "def boundaryOfBinaryTree(root):\n",
    "    \n",
    "    def leftmost(node): #preorder\n",
    "        if (not node) or (not node.left and not node.right):\n",
    "            return\n",
    "        ans.append(node.val) #pre\n",
    "        if node.left:\n",
    "            leftmost(node.left)\n",
    "        else:\n",
    "            leftmost(node.right)\n",
    "    \n",
    "    def leaves(node):\n",
    "        if not node or node==root:\n",
    "            return\n",
    "        if not node.left and not node.right:\n",
    "            ans.append(node.val)\n",
    "        leaves(node.left)\n",
    "        leaves(node.right)\n",
    "    \n",
    "    def rightmost(node): #postorder\n",
    "        if (not node) or (not node.left and not node.right):\n",
    "            return\n",
    "        if node.right:\n",
    "            rightmost(node.right)\n",
    "        else:\n",
    "            rightmost(node.left)\n",
    "        ans.append(node.val) #post\n",
    "    \n",
    "    if not root:\n",
    "        return []\n",
    "    ans = [root.val]\n",
    "    leftmost(root.left)\n",
    "    leaves(root)\n",
    "    rightmost(root.right)\n",
    "    return ans"
   ]
  },
  {
   "cell_type": "markdown",
   "metadata": {},
   "source": [
    "leftmost and rightmost - ensure curr node exists and not leaf node<br>\n",
    "leaves - ensure if only one node, donot append<br>\n",
    "start leftmost on root.left, start rightmost on root.right, start leaves on root"
   ]
  },
  {
   "cell_type": "code",
   "execution_count": 2,
   "metadata": {},
   "outputs": [],
   "source": [
    "class Node:\n",
    "    def __init__(self, value):\n",
    "        self.val = value\n",
    "        self.left = None\n",
    "        self.right = None"
   ]
  },
  {
   "cell_type": "code",
   "execution_count": 3,
   "metadata": {},
   "outputs": [],
   "source": [
    "root = Node(1)  \n",
    "root.left = Node(2)  \n",
    "root.right = Node(3)\n",
    "root.left.left = Node(4)  \n",
    "root.left.right = Node(5)  \n",
    "root.right.left = Node(6)\n",
    "root.left.right.left = Node(7)\n",
    "root.left.right.right = Node(8)\n",
    "root.right.left.left = Node(9)\n",
    "root.right.left.right = Node(10)"
   ]
  },
  {
   "cell_type": "code",
   "execution_count": 4,
   "metadata": {},
   "outputs": [
    {
     "data": {
      "text/plain": [
       "[1, 2, 6, 3]"
      ]
     },
     "execution_count": 4,
     "metadata": {},
     "output_type": "execute_result"
    }
   ],
   "source": [
    "boundaryOfBinaryTree(root)"
   ]
  }
 ],
 "metadata": {
  "kernelspec": {
   "display_name": "Python 3",
   "language": "python",
   "name": "python3"
  },
  "language_info": {
   "codemirror_mode": {
    "name": "ipython",
    "version": 3
   },
   "file_extension": ".py",
   "mimetype": "text/x-python",
   "name": "python",
   "nbconvert_exporter": "python",
   "pygments_lexer": "ipython3",
   "version": "3.7.1"
  }
 },
 "nbformat": 4,
 "nbformat_minor": 2
}
