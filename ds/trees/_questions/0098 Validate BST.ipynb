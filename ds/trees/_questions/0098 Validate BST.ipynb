{
 "cells": [
  {
   "cell_type": "markdown",
   "metadata": {},
   "source": [
    "**Given a binary tree, determine if it is a valid binary search tree (BST).**"
   ]
  },
  {
   "cell_type": "markdown",
   "metadata": {},
   "source": [
    "brute solution\n",
    "\n",
    "**BST property:** inorder traversal is sorted\n",
    "\n",
    "inorder traversal, copy elements from inorder traversal into an array, check if the array is sorted.\n",
    "\n",
    "This solution will only work if L is less and R is more (no equal - ie. no duplicates on either side is allowed)"
   ]
  },
  {
   "cell_type": "code",
   "execution_count": 1,
   "metadata": {},
   "outputs": [],
   "source": [
    "# O(n) time | O(n) space\n",
    "def isValidBST(root):\n",
    "\n",
    "    result = []\n",
    "    def inorder(node):\n",
    "        if node:\n",
    "            inorder(node.left)\n",
    "            result.append(node.val)\n",
    "            inorder(node.right)\n",
    "    \n",
    "    inorder(root)\n",
    "    return result == sorted(result)"
   ]
  },
  {
   "cell_type": "code",
   "execution_count": null,
   "metadata": {},
   "outputs": [],
   "source": [
    "# O(n) time => (2n)| O(n) space\n",
    "def isValidBST(root):\n",
    "    result = []\n",
    "    def inorder(node):\n",
    "        if node:\n",
    "            inorder(node.left)\n",
    "            result.append(node.val)\n",
    "            inorder(node.right)\n",
    "    inorder(root)\n",
    "    for i in range(len(result)-1):\n",
    "        if result[i] >= result[i+1]:\n",
    "            return False\n",
    "    return True"
   ]
  },
  {
   "cell_type": "markdown",
   "metadata": {},
   "source": [
    "inorder traversal -- without storing extra array space\n",
    "\n",
    "Do we need to keep the whole inorder traversal list?\n",
    "\n",
    "storing entire result array is not necessary, only need to compare every element to the previous element (prev) <br>\n",
    "store previous as global to compare and return boolean from inorder."
   ]
  },
  {
   "cell_type": "code",
   "execution_count": 2,
   "metadata": {},
   "outputs": [],
   "source": [
    "# O(n) time | O(height) space\n",
    "def isValidBST(root):\n",
    "    \n",
    "    prev = [float(\"-inf\")]\n",
    "        \n",
    "    def inorder(node): #returns True or False \n",
    "        if not node: return True\n",
    "\n",
    "        left = inorder(node.left)\n",
    "        if not left: return False\n",
    "\n",
    "        if node.val < prev[0]:\n",
    "            prev[0] = node.val\n",
    "        else:\n",
    "            return False\n",
    "\n",
    "        right = inorder(node.right)\n",
    "        if not right: return False\n",
    "        \n",
    "        #if not left or not right: return False (instead of lines 10 and 18)           \n",
    "        \n",
    "        return True\n",
    "\n",
    "    return inorder(root)"
   ]
  },
  {
   "cell_type": "code",
   "execution_count": null,
   "metadata": {},
   "outputs": [],
   "source": [
    "# O(n) time | O(height) space\n",
    "def isValidBST(root):\n",
    "    prev = [float(\"-inf\")]\n",
    "    def inorder(node): #returns True or False \n",
    "        if not node: return True\n",
    "        lh = inorder(node.left)\n",
    "        if node.val > prev[0]:\n",
    "            return False\n",
    "        prev[0] = node.val\n",
    "        rh = inorder(node.right)\n",
    "        return lh and rh\n",
    "    return inorder(root)"
   ]
  },
  {
   "cell_type": "markdown",
   "metadata": {},
   "source": [
    "**Recursive Traversal with Valid Range** : min/max solution\n",
    "\n",
    "**BST Property:** all left nodes must be less than or equal to the current node, which must be less than all the right nodes.\n",
    "\n",
    "At every node, the recursive function ensures each node is within an allowable (min, max) range. Pass down min and max values as we iterate thru tree, verifying against progressively narrower ranges.\n",
    "\n",
    "When branch left, the max gets updated.<br>\n",
    "When branch right, the min gets updated.\n",
    "\n",
    "This solution will also work if duplicates are allowed on either side of the tree."
   ]
  },
  {
   "cell_type": "code",
   "execution_count": 6,
   "metadata": {},
   "outputs": [],
   "source": [
    "# O(n) time | O(height) space\n",
    "def isValidBST(root):\n",
    "    #need to pass an allowable range for each node -- min and max values\n",
    "    \n",
    "    def checkBST(node, minimum=float(\"-inf\"), maximum=float(\"+inf\")):\n",
    "        if not node:\n",
    "            return True\n",
    "        if node.val < minimum or node.val >= maximum:\n",
    "            return False\n",
    "        leftBst  = checkBST(node.left, minimum, node.val)   #update max when branch left\n",
    "        rightBst = checkBST(node.right, node.val, maximum)  #update min when branch right\n",
    "        return leftBst and rightBst\n",
    "    \n",
    "    return checkBST(root)"
   ]
  },
  {
   "cell_type": "code",
   "execution_count": 2,
   "metadata": {},
   "outputs": [],
   "source": [
    "class Node:\n",
    "    def __init__(self, value):\n",
    "        self.val = value\n",
    "        self.left = None\n",
    "        self.right = None"
   ]
  },
  {
   "cell_type": "code",
   "execution_count": 3,
   "metadata": {},
   "outputs": [
    {
     "data": {
      "text/plain": [
       "True"
      ]
     },
     "execution_count": 3,
     "metadata": {},
     "output_type": "execute_result"
    }
   ],
   "source": [
    "root = Node(2)  \n",
    "root.left = Node(1)  \n",
    "root.right = Node(3)  \n",
    "isValidBST(root)"
   ]
  },
  {
   "cell_type": "code",
   "execution_count": 4,
   "metadata": {},
   "outputs": [
    {
     "data": {
      "text/plain": [
       "False"
      ]
     },
     "execution_count": 4,
     "metadata": {},
     "output_type": "execute_result"
    }
   ],
   "source": [
    "root = Node(5)  \n",
    "root.left = Node(1)  \n",
    "root.right = Node(4)  \n",
    "root.right.left = Node(3)  \n",
    "root.right.right = Node(6)\n",
    "isValidBST(root)"
   ]
  },
  {
   "cell_type": "code",
   "execution_count": 7,
   "metadata": {},
   "outputs": [
    {
     "data": {
      "text/plain": [
       "False"
      ]
     },
     "execution_count": 7,
     "metadata": {},
     "output_type": "execute_result"
    }
   ],
   "source": [
    "root = Node(10)  \n",
    "root.left = Node(5)  \n",
    "root.right = Node(15)  \n",
    "root.left.right = Node(10)\n",
    "isValidBST(root)"
   ]
  },
  {
   "cell_type": "markdown",
   "metadata": {},
   "source": [
    "Note: empty tree or tree with one node is valid bst."
   ]
  }
 ],
 "metadata": {
  "kernelspec": {
   "display_name": "Python 3 (ipykernel)",
   "language": "python",
   "name": "python3"
  },
  "language_info": {
   "codemirror_mode": {
    "name": "ipython",
    "version": 3
   },
   "file_extension": ".py",
   "mimetype": "text/x-python",
   "name": "python",
   "nbconvert_exporter": "python",
   "pygments_lexer": "ipython3",
   "version": "3.8.2"
  }
 },
 "nbformat": 4,
 "nbformat_minor": 2
}
