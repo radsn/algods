{
 "cells": [
  {
   "cell_type": "markdown",
   "metadata": {},
   "source": [
    "Given an array where elements are sorted in ascending order, convert it to a height balanced BST.\n",
    "\n",
    "For this problem, a height-balanced binary tree is defined as a binary tree in which the depth of the two subtrees of every node never differ by more than 1. (AVL trees: height-balanced binary tree)"
   ]
  },
  {
   "cell_type": "markdown",
   "metadata": {},
   "source": [
    "Tree Construction\n",
    "\n",
    "divide and conquer approach - Top-Down tree construction\n",
    "1. Figure out what the root node is (middle element) and construct the root node\n",
    "2. delegate task to Recursively construct left subtree (left subordinate returns root node of left subtree)\n",
    "3. delegate task to Recursively construct right subtree (right subordinate returns root node of right subtree)\n",
    "4. set root.left to left subordinate and root.right to right subordinate\n",
    "\n",
    "what is the subproblem an arbitrary worker in the hierarchy is getting?\n",
    "\n",
    "subarray -- they need to build a balanced BST from sorted subarray -- need to give start and end index and return will be the root of the subtree. "
   ]
  },
  {
   "cell_type": "code",
   "execution_count": 1,
   "metadata": {},
   "outputs": [],
   "source": [
    "def sortedArrayToBST(nums):\n",
    "    def helper(A, start, end):\n",
    "        #BaseCase: size0 or size1\n",
    "        if start > end: #size0\n",
    "            return None\n",
    "        if start == end: #size1\n",
    "            root = TreeNode(A[start])  #create new TreeNode\n",
    "            return root                #return root \n",
    "\n",
    "        #RecursiveCase: subproblem size more than 1\n",
    "        mid = (start + end) // 2\n",
    "\n",
    "        root = TreeNode(A[mid])          #construct root\n",
    "        root.left = helper(A, start, mid-1) #construct left subtree - returns reference to root.left\n",
    "        root.right = helper(A, mid+1, end)  #construct right subtree - returns reference to root.right\n",
    "\n",
    "        return root                      #return root to parent\n",
    "\n",
    "    return helper(nums, 0, len(nums)-1)  #returns root of the whole tree"
   ]
  },
  {
   "cell_type": "markdown",
   "metadata": {},
   "source": [
    "time: every node creates a new node by O(1)time, number of nodes is n ==> O(n) time\n",
    "\n",
    "space: implicit call stack space: O(height) = O(logn) since each worker in hierarchy is building a node so chain of delegation by balanced path is O(logn) in length; explicit space output: O(n)  "
   ]
  }
 ],
 "metadata": {
  "kernelspec": {
   "display_name": "Python 3",
   "language": "python",
   "name": "python3"
  },
  "language_info": {
   "codemirror_mode": {
    "name": "ipython",
    "version": 3
   },
   "file_extension": ".py",
   "mimetype": "text/x-python",
   "name": "python",
   "nbconvert_exporter": "python",
   "pygments_lexer": "ipython3",
   "version": "3.7.1"
  }
 },
 "nbformat": 4,
 "nbformat_minor": 2
}
