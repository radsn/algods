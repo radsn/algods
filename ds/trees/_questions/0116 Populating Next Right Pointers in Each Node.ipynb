{
 "cells": [
  {
   "cell_type": "markdown",
   "metadata": {},
   "source": [
    "You are given a perfect binary tree where all leaves are on the same level, and every parent has two children. The binary tree has the following definition:\n",
    "\n",
    "`struct Node {\n",
    "  int val;\n",
    "  Node *left;\n",
    "  Node *right;\n",
    "  Node *next;\n",
    "}`\n",
    "\n",
    "Populate each next pointer to point to its next right node. If there is no next right node, the next pointer should be set to NULL. Initially, all next pointers are set to NULL."
   ]
  },
  {
   "cell_type": "markdown",
   "metadata": {},
   "source": [
    "**bfs**\n",
    "\n",
    "Use nested loop structure to get around the requirement of a NULL entry which marks end of the previous level and start of the next level. At each iteration of while loop, record the size of the queue which corresponds to all the nodes on a particular level. Once we have this size, only process these many elements and no more. By the time we are done processing size number of elements, the queue would contain all the nodes on the next level.\n",
    "\n",
    "` while (!Q.empty())              #iterates over each level \n",
    " {\n",
    "     size = Q.size()\n",
    "     for i in range 0..size      #iterates over all nodes per level\n",
    "     {\n",
    "         node = Q.pop()\n",
    "         Q.push(node.left)\n",
    "         Q.push(node.right)\n",
    "     }\n",
    " }`\n",
    " \n",
    "1. Start off by adding the root of the tree in the queue. Since there is just one node on the level 0, we don't need to establish any connections and can move onto the while loop.\n",
    " \n",
    "2. The while loop iterates over each level one by one and the inner for loop iterates over all the nodes on the particular level. Since we have access to all the nodes on the same level, we can establish the next pointers easily.\n",
    "\n",
    "3. BFS algo: pop a node inside the for loop, add its children at the back of the queue if they exist. Since the element at head of the queue is the next element in order on the current level, establish the next pointer between the node popped and the first element in the queue.\n",
    "\n",
    "time: O(N) since we process each node once\n",
    "\n",
    "space: O(N) -perfect binary tree means last level contains N/2 nodes. The space complexity for bfs is space occupied by queue which is dependent upon the maximum number of nodes in particular level.\n",
    "\n",
    "Note: The queue will contain nodes from at most 2 levels at any point in time."
   ]
  },
  {
   "cell_type": "code",
   "execution_count": 1,
   "metadata": {},
   "outputs": [],
   "source": [
    "import collections\n",
    "\n",
    "def connect(root):\n",
    "    if not root:\n",
    "        return root\n",
    "    \n",
    "    q = collections.deque([root])\n",
    "    \n",
    "    while q:                       #outer while loop iterates over each level\n",
    "        size = len(q)\n",
    "        \n",
    "        for i in range(size):      #inner for loop iterates over all the nodes on the current level\n",
    "            node = q.popleft()\n",
    "            \n",
    "            #do not establish next pointers beyond the end of a level\n",
    "            if i < size - 1:       #think of first iter element\n",
    "                node.next = q[0]\n",
    "            \n",
    "            if node.left:\n",
    "                q.append(node.left)\n",
    "            if node.right:\n",
    "                q.append(node.right)\n",
    "    return root"
   ]
  },
  {
   "cell_type": "code",
   "execution_count": 2,
   "metadata": {},
   "outputs": [],
   "source": [
    "#similar to previous except using temp array which stores nodes at every level    \n",
    "def connect(root):\n",
    "    if not root:\n",
    "        return None\n",
    "\n",
    "    q = collections.deque([root])\n",
    "\n",
    "    while q:\n",
    "        size = len(q)\n",
    "\n",
    "        temp = []\n",
    "        for _ in range(size):\n",
    "            node = q.popleft()\n",
    "            temp.append(node)\n",
    "            if node.left:\n",
    "                q.append(node.left)\n",
    "            if node.right:\n",
    "                q.append(node.right)\n",
    "\n",
    "        for i in range(len(temp)-1):\n",
    "            temp[i].next = temp[i+1]\n",
    "        #temp[-1].next = None  #.next is already set as NULL in the start\n",
    "    return root"
   ]
  },
  {
   "cell_type": "code",
   "execution_count": null,
   "metadata": {},
   "outputs": [],
   "source": []
  }
 ],
 "metadata": {
  "kernelspec": {
   "display_name": "Python 3",
   "language": "python",
   "name": "python3"
  },
  "language_info": {
   "codemirror_mode": {
    "name": "ipython",
    "version": 3
   },
   "file_extension": ".py",
   "mimetype": "text/x-python",
   "name": "python",
   "nbconvert_exporter": "python",
   "pygments_lexer": "ipython3",
   "version": "3.7.1"
  }
 },
 "nbformat": 4,
 "nbformat_minor": 2
}
