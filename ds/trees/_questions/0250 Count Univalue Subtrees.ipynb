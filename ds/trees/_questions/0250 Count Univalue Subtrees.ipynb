{
 "cells": [
  {
   "cell_type": "markdown",
   "metadata": {},
   "source": [
    "Given the root of a binary tree, return the number of uni-value subtrees. A uni-value subtree means all nodes of the subtree have the same value."
   ]
  },
  {
   "cell_type": "markdown",
   "metadata": {},
   "source": [
    "first question: how many subtrees do any tree have? every subtree is rooted at a node, so the max number of subtrees is n. <br>\n",
    "second question: can you solve this as top-down dfs? Need to solve via bottom-up dfs approach - info needs to come from below"
   ]
  },
  {
   "cell_type": "markdown",
   "metadata": {},
   "source": [
    "Think in terms of global problem and local problem.\n",
    "\n",
    "Global: count number of unival subtrees<br>\n",
    "How to distribute this global work into per node? \n",
    "\n",
    "Per node local problem: each node computes whether or not subtree rooted at it is univalue\n",
    "\n",
    "How to get global out of local?\n",
    "Local -> Global : summation of all local solns that are unival"
   ]
  },
  {
   "cell_type": "markdown",
   "metadata": {},
   "source": [
    "What info is needed to solve the local problem? How to determine whether subtree rooted at it is univalue or not?\n",
    "\n",
    "check whether left subordinate is unival, check whether right subordinate is unival, and then check the node's value with both its left and right children value.\n",
    "\n",
    "1. Compute whether I am unival and return that to parent -- (return boolean to parent -- for both leaf node and internal node)\n",
    "2. Based on whether I am unival or not, add 1 to the global count -- (update global count --  check for both base case and recursive case)\n",
    "\n",
    "also check if need to separate out leaf condition check instead of just null node check"
   ]
  },
  {
   "cell_type": "code",
   "execution_count": 1,
   "metadata": {},
   "outputs": [],
   "source": [
    "def countUnivalSubtrees(root):\n",
    "    if not root:\n",
    "        return 0\n",
    "\n",
    "    count = [0]   #globalcount\n",
    "\n",
    "    #Bottom-Up dfs: no additional parameters\n",
    "    def dfs(node):\n",
    "\n",
    "        #BaseCase: leaf node\n",
    "        if not node.left and not node.right:\n",
    "            count[0] += 1  #update global\n",
    "            return True\n",
    "        \n",
    "        #RecursiveCase: internal node\n",
    "        isunival = True   #assume don't know if left/right child exists\n",
    "        if node.left:\n",
    "            l = dfs(node.left)   #left child passing boolean to parent\n",
    "            if not l or node.val!=node.left.val:\n",
    "                isunival = False\n",
    "        if node.right:\n",
    "            r = dfs(node.right)  #right child passing boolean to parent\n",
    "            if not r or node.val!=node.right.val:\n",
    "                isunival = False\n",
    "\n",
    "        if isunival:  #update global\n",
    "            count[0] += 1\n",
    "\n",
    "        return isunival\n",
    "\n",
    "    dfs(root)\n",
    "    return count[0]"
   ]
  },
  {
   "cell_type": "markdown",
   "metadata": {},
   "source": [
    "time: O(n) \n",
    "\n",
    "space: O(height)"
   ]
  },
  {
   "cell_type": "code",
   "execution_count": 2,
   "metadata": {},
   "outputs": [],
   "source": [
    "class Node:\n",
    "    def __init__(self, value):\n",
    "        self.val = value\n",
    "        self.left = None\n",
    "        self.right = None"
   ]
  },
  {
   "cell_type": "code",
   "execution_count": 3,
   "metadata": {},
   "outputs": [],
   "source": [
    "root = Node(5)  \n",
    "root.left = Node(1)  \n",
    "root.right = Node(5)  \n",
    "root.left.left = Node(5)  \n",
    "root.left.right = Node(5)\n",
    "root.right.right = Node(5)  "
   ]
  },
  {
   "cell_type": "code",
   "execution_count": 4,
   "metadata": {},
   "outputs": [
    {
     "data": {
      "text/plain": [
       "4"
      ]
     },
     "execution_count": 4,
     "metadata": {},
     "output_type": "execute_result"
    }
   ],
   "source": [
    "countUnivalSubtrees(root)"
   ]
  }
 ],
 "metadata": {
  "kernelspec": {
   "display_name": "Python 3 (ipykernel)",
   "language": "python",
   "name": "python3"
  },
  "language_info": {
   "codemirror_mode": {
    "name": "ipython",
    "version": 3
   },
   "file_extension": ".py",
   "mimetype": "text/x-python",
   "name": "python",
   "nbconvert_exporter": "python",
   "pygments_lexer": "ipython3",
   "version": "3.8.2"
  }
 },
 "nbformat": 4,
 "nbformat_minor": 2
}
