{
 "cells": [
  {
   "cell_type": "markdown",
   "metadata": {},
   "source": [
    "Given a non-empty binary search tree and a target value, find the value in the BST that is closest to the target."
   ]
  },
  {
   "cell_type": "markdown",
   "metadata": {},
   "source": [
    "First Question to ask yourself : Use Top-Down DFS or Bottom Up DFS ?"
   ]
  },
  {
   "cell_type": "markdown",
   "metadata": {},
   "source": [
    "**Top Down DFS**<br>\n",
    "at every node, check if closest and update global"
   ]
  },
  {
   "cell_type": "code",
   "execution_count": 1,
   "metadata": {},
   "outputs": [],
   "source": [
    "def topdowndfs(tree, target):\n",
    "    closest_val = [float(\"inf\")]\n",
    "    def helper(node): #tree traversal\n",
    "        if not node: return None\n",
    "        diff = abs(node.value - target)\n",
    "        if diff < abs(target - closest_val[0]):\n",
    "            closest_val[0] = node.value\n",
    "        if node.left:\n",
    "            helper(node.left)\n",
    "        if node.right:\n",
    "            helper(node.right)\n",
    "    helper(tree)\n",
    "    return closest_val[0]"
   ]
  },
  {
   "cell_type": "markdown",
   "metadata": {},
   "source": [
    "a bit inefficient - since traverses the entire tree before returning closest value\n",
    "\n",
    "note: no need to keep leaf node separate as no special treatment if leaf -- so add if not node: return Null<br> \n",
    "note: after adding null node check, if node.left and if node.right checks are not required\n",
    "\n",
    "T(n): O(n) since traversing entire left and entire right regardless to find closest<br>\n",
    "S(n): O(height) call stack space"
   ]
  },
  {
   "cell_type": "code",
   "execution_count": 2,
   "metadata": {},
   "outputs": [],
   "source": [
    "# optimized\n",
    "def topdowndfs(tree, target):\n",
    "    closest_val = [float(\"inf\")]\n",
    "    def helper(node): #tree traversal\n",
    "        if not node: return None\n",
    "        diff = abs(node.value - target)\n",
    "        if diff < abs(target - closest_val[0]):\n",
    "            closest_val[0] = node.value\n",
    "        if target < node.value:\n",
    "            helper(node.left)\n",
    "        elif target > node.value:\n",
    "            helper(node.right)\n",
    "        else:\n",
    "            return\n",
    "    helper(tree)\n",
    "    return closest_val[0]"
   ]
  },
  {
   "cell_type": "markdown",
   "metadata": {},
   "source": [
    "T(n): O(height) since traversing either L/R subtree to find closest<br>\n",
    "S(n): O(height) call stack space"
   ]
  },
  {
   "cell_type": "markdown",
   "metadata": {},
   "source": [
    "**Bottom Up DFS**<br>\n",
    "1. find closest at each node and pass to parent<br>\n",
    "2. compute local soln and update global<br>"
   ]
  },
  {
   "cell_type": "code",
   "execution_count": 3,
   "metadata": {},
   "outputs": [],
   "source": [
    "def bottomupdfs(tree, target):\n",
    "    def helper(node, closest):\n",
    "        if not node: \n",
    "            return closest\n",
    "        diff = abs(node.value - target)\n",
    "        if diff < abs(target - closest):\n",
    "            closest = node.value\n",
    "        if target < node.value:\n",
    "            return helper(node.left, closest)\n",
    "        elif target > node.value:\n",
    "            return helper(node.right, closest)\n",
    "        else:\n",
    "            return closest\n",
    "    return helper(tree, float(\"inf\"))"
   ]
  },
  {
   "cell_type": "markdown",
   "metadata": {},
   "source": [
    "note: return at every statement; closest is returned if null node or if target==node.value; also need return for L/R subtrees\n",
    "\n",
    "T(n): O(height) since traversing either L/R subtree to find closest<br>\n",
    "S(n): O(height) call stack space"
   ]
  },
  {
   "cell_type": "markdown",
   "metadata": {},
   "source": [
    "**Iterative**"
   ]
  },
  {
   "cell_type": "code",
   "execution_count": 4,
   "metadata": {},
   "outputs": [],
   "source": [
    "def findClosestValueInBst(tree, target):\n",
    "    closest = float(\"inf\")\n",
    "    curr = tree\n",
    "    while curr:\n",
    "        diff = abs(curr.value - target)\n",
    "        if diff < abs(closest - target):\n",
    "            closest = curr.value\n",
    "        if target < curr.value:\n",
    "            curr = curr.left\n",
    "        elif target > curr.value:\n",
    "            curr = curr.right\n",
    "        else:\n",
    "            return closest\n",
    "    return closest"
   ]
  },
  {
   "cell_type": "markdown",
   "metadata": {},
   "source": [
    "T(n): O(height) since traversing either L/R subtree to find closest<br>\n",
    "S(n): O(1)"
   ]
  }
 ],
 "metadata": {
  "kernelspec": {
   "display_name": "Python 3 (ipykernel)",
   "language": "python",
   "name": "python3"
  },
  "language_info": {
   "codemirror_mode": {
    "name": "ipython",
    "version": 3
   },
   "file_extension": ".py",
   "mimetype": "text/x-python",
   "name": "python",
   "nbconvert_exporter": "python",
   "pygments_lexer": "ipython3",
   "version": "3.8.2"
  }
 },
 "nbformat": 4,
 "nbformat_minor": 2
}
