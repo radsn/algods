{
 "cells": [
  {
   "cell_type": "markdown",
   "id": "db411402",
   "metadata": {},
   "source": [
    "Given a root of an N-ary tree, you need to compute the length of the diameter of the tree.\n",
    "\n",
    "The diameter of an N-ary tree is the length of the longest path between any two nodes in the tree. This path may or may not pass through the root."
   ]
  },
  {
   "cell_type": "code",
   "execution_count": 1,
   "id": "3b8f9a57",
   "metadata": {},
   "outputs": [],
   "source": [
    "# T(n) : O(n) | S(n) : O(height)\n",
    "def diameter(root):\n",
    "    if not root: return 0\n",
    "    def helper(node):\n",
    "        if not node: return 0,0\n",
    "        maxheight1, maxheight2, maxdia = 0,0,0\n",
    "        for each_child in node.children:\n",
    "            h, d = helper(each_child)\n",
    "            #update maxheight and maxheight2 in ELIF condition\n",
    "            if h > maxheight1:\n",
    "                maxheight2 = maxheight1\n",
    "                maxheight1 = h\n",
    "            elif h > maxheight2:\n",
    "                maxheight2 = h\n",
    "            maxdia = max(maxdia, maxheight1+maxheight2, d)\n",
    "        return (maxheight1+1, maxdia)\n",
    "    h,d = helper(root)\n",
    "    return d"
   ]
  },
  {
   "cell_type": "markdown",
   "id": "9712543d",
   "metadata": {},
   "source": [
    "1) longest path in a tree can only happen between leaf+leaf or between leaf+root<br>\n",
    "2) for N-ary tree, dia = sum of two longest subpaths (maxheight1, maxheight2) in children. Note in binary tree: dia=lh+rh<br>\n",
    "    - store all heights of children in an array and sort and select top two heights\n",
    "    - space O(1) using two variables that gets updated while iterating through the heights of all children"
   ]
  },
  {
   "cell_type": "markdown",
   "id": "cb42c15a",
   "metadata": {},
   "source": [
    "*****\n",
    "*****"
   ]
  },
  {
   "cell_type": "markdown",
   "id": "c8f31887",
   "metadata": {},
   "source": [
    "Approach 1: Distance with Height\n",
    "\n",
    "height of a node : length of the longest downward path from that node to a leaf node<br>\n",
    "height of leaf node = 0<br>\n",
    "longest path = height(node.child_m) + height(node.child_n) + 2 <br>\n",
    "height(node)=max(height(child))+1, ∀child∈node.children"
   ]
  },
  {
   "cell_type": "code",
   "execution_count": 2,
   "id": "14368340",
   "metadata": {},
   "outputs": [],
   "source": [
    "def diameter(root):\n",
    "    dia = [0]\n",
    "    if not root: return dia[0]\n",
    "    def height(node):\n",
    "        if len(node.children)==0: return 0\n",
    "        maxheight1, maxheight2 = 0,0\n",
    "        for child in node.children:\n",
    "            h = height(child) + 1\n",
    "            if h > maxheight1:\n",
    "                maxheight1, maxheight2 = h, maxheight1\n",
    "            elif h > maxheight2:\n",
    "                maxheight2 = h\n",
    "        my_h = maxheight1\n",
    "        my_d = maxheight1 + maxheight2\n",
    "        dia[0] = max(dia[0], my_d)\n",
    "        return my_h\n",
    "    height(root)\n",
    "    return dia[0]"
   ]
  },
  {
   "cell_type": "markdown",
   "id": "7bd69e70",
   "metadata": {},
   "source": [
    "Approach2: Distance with Depth\n",
    "\n",
    "depth of a node : length of the upward path from that node to root node<br>\n",
    "depth of leaf node = max depth starting from node<br>\n",
    "longest path = depth(node.leaf_m) + depth(node.leaf_n) - 2 * depth(node)<br>\n",
    "maxDepth(node)=max(maxDepth(node.child)), ∀child ∈ node.children"
   ]
  },
  {
   "cell_type": "code",
   "execution_count": 3,
   "id": "21de5cb1",
   "metadata": {},
   "outputs": [],
   "source": [
    "def diameter(root: 'Node') -> int:\n",
    "    diameter = 0\n",
    "\n",
    "    def maxDepth(node, curr_depth):\n",
    "        nonlocal diameter\n",
    "\n",
    "        if len(node.children) == 0:\n",
    "            return curr_depth\n",
    "\n",
    "        # select the top 2 depths from its children\n",
    "        max_depth_1, max_depth_2 = curr_depth, 0\n",
    "        for child in node.children:\n",
    "            depth = maxDepth(child, curr_depth+1)\n",
    "            if depth > max_depth_1:\n",
    "                max_depth_1, max_depth_2 = depth, max_depth_1\n",
    "            elif depth > max_depth_2:\n",
    "                max_depth_2 = depth\n",
    "\n",
    "        # calculate the distance between the two farthest leaves nodes\n",
    "        distance = max_depth_1 + max_depth_2 - 2 * curr_depth\n",
    "        diameter = max(diameter, distance)\n",
    "\n",
    "        return max_depth_1\n",
    "\n",
    "    maxDepth(root, 0)\n",
    "    return diameter"
   ]
  },
  {
   "cell_type": "code",
   "execution_count": 4,
   "id": "db117cdf",
   "metadata": {},
   "outputs": [],
   "source": [
    "class Node:\n",
    "    def __init__(self, val=None):\n",
    "        self.val = val\n",
    "        self.children = [] "
   ]
  },
  {
   "cell_type": "code",
   "execution_count": 5,
   "id": "3607d93c",
   "metadata": {},
   "outputs": [],
   "source": [
    "root = Node(1) \n",
    "root.children = [ Node(3), Node(2), Node(4) ]\n",
    "root.children[0].children = [ Node(5), Node(6) ]"
   ]
  },
  {
   "cell_type": "code",
   "execution_count": 6,
   "id": "1e566a8b",
   "metadata": {},
   "outputs": [
    {
     "data": {
      "text/plain": [
       "3"
      ]
     },
     "execution_count": 6,
     "metadata": {},
     "output_type": "execute_result"
    }
   ],
   "source": [
    "diameter(root)"
   ]
  }
 ],
 "metadata": {
  "kernelspec": {
   "display_name": "Python 3 (ipykernel)",
   "language": "python",
   "name": "python3"
  },
  "language_info": {
   "codemirror_mode": {
    "name": "ipython",
    "version": 3
   },
   "file_extension": ".py",
   "mimetype": "text/x-python",
   "name": "python",
   "nbconvert_exporter": "python",
   "pygments_lexer": "ipython3",
   "version": "3.8.2"
  }
 },
 "nbformat": 4,
 "nbformat_minor": 5
}
