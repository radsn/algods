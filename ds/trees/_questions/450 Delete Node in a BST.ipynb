{
 "cells": [
  {
   "cell_type": "markdown",
   "metadata": {},
   "source": [
    "Given a root node reference of a BST and a key, delete the node with the given key in the BST. Return the root node reference (possibly updated) of the BST.\n",
    "\n",
    "Basically, the deletion can be divided into two stages:\n",
    "1. Search for a node to remove.\n",
    "2. If the node is found, delete the node."
   ]
  },
  {
   "cell_type": "code",
   "execution_count": 1,
   "metadata": {},
   "outputs": [],
   "source": [
    "# O(logn) time | O(height) space\n",
    "def deleteNode(root, key):\n",
    "    if not root:\n",
    "        return None\n",
    "    if key < root.val:\n",
    "        root.left = deleteNode(root.left, key)      #find node and delete in left subtree\n",
    "    elif key > root.val:\n",
    "        root.right = deleteNode(root.right, key)    #find node and delete in right subtree\n",
    "    else:                                           #found node! -- delete it now\n",
    "        if not root.left:\n",
    "            return root.right                       #if no left, delete root, new root is root.right\n",
    "        if not root.right:\n",
    "            return root.left                        #if no right, delete root, new root is root.left\n",
    "        #if node has both left and right children -- replace val by successor and then delete successor\n",
    "        temp = root.right\n",
    "        while temp.left:\n",
    "            temp = temp.left\n",
    "        root.val = temp.val         \n",
    "        root.right = deleteNode(root.right, root.val) #delete successor (min node in right subtree)\n",
    "    return root"
   ]
  },
  {
   "cell_type": "markdown",
   "metadata": {},
   "source": [
    "separating into functions and using successor and predecessor"
   ]
  },
  {
   "cell_type": "code",
   "execution_count": 2,
   "metadata": {},
   "outputs": [],
   "source": [
    "def deleteNode(root, key):\n",
    "    \n",
    "    def successor(node):\n",
    "        node = node.right\n",
    "        while node.left:\n",
    "            node = node.left\n",
    "        return node.val\n",
    "\n",
    "    def predecessor(node):\n",
    "        node = node.left\n",
    "        while node.right:\n",
    "            node = node.right\n",
    "        return node.val\n",
    "    \n",
    "    if not root: \n",
    "        return None\n",
    "    if key < root.val:\n",
    "        root.left = deleteNode(root.left, key)   #search and delete in left subtree\n",
    "    elif key > root.val:\n",
    "        root.right = deleteNode(root.right, key) #search and delete in right subtree\n",
    "    else:                                        #delete current node\n",
    "        if not root.left and not root.right:     #node is leaf, root is leaf\n",
    "            root = None\n",
    "        elif root.right:            #node has right, replace with successor and delete successor in right subtree\n",
    "            root.val = successor(root)\n",
    "            root.right = deleteNode(root.right, root.val)\n",
    "        elif root.left:             #node has left, replace with predecessor and delete predecessor in left subtree\n",
    "            root.val = predecessor(root)\n",
    "            root.left = deleteNode(root.left, root.val)\n",
    "    return root"
   ]
  }
 ],
 "metadata": {
  "kernelspec": {
   "display_name": "Python 3",
   "language": "python",
   "name": "python3"
  },
  "language_info": {
   "codemirror_mode": {
    "name": "ipython",
    "version": 3
   },
   "file_extension": ".py",
   "mimetype": "text/x-python",
   "name": "python",
   "nbconvert_exporter": "python",
   "pygments_lexer": "ipython3",
   "version": "3.7.1"
  }
 },
 "nbformat": 4,
 "nbformat_minor": 2
}
