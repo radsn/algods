{
 "cells": [
  {
   "cell_type": "markdown",
   "metadata": {},
   "source": [
    "Consider all the leaves of a binary tree, from left to right order, the values of those leaves form a leaf value sequence."
   ]
  },
  {
   "cell_type": "code",
   "execution_count": 1,
   "metadata": {},
   "outputs": [],
   "source": [
    "#1\n",
    "def leafSimilar(root1, root2):\n",
    "    #store leaves in an array for two diff trees and check if same\n",
    "\n",
    "    def storeLeaves(node):\n",
    "        if not node:\n",
    "            return []\n",
    "        if not node.left and not node.right:\n",
    "            return [node.val]\n",
    "\n",
    "        total = []\n",
    "        if node.left:\n",
    "            total += storeLeaves(node.left) \n",
    "        if node.right:\n",
    "            total += storeLeaves(node.right)\n",
    "        return total \n",
    "\n",
    "    leaves_t1 = storeLeaves(root1)\n",
    "    leaves_t2 = storeLeaves(root2)\n",
    "\n",
    "    return leaves_t1 == leaves_t2"
   ]
  },
  {
   "cell_type": "code",
   "execution_count": 2,
   "metadata": {},
   "outputs": [],
   "source": [
    "#2\n",
    "#same as above: except no return in the helper and array passed as an extra parameter\n",
    "def leafSimilar(root1, root2):\n",
    "    \n",
    "    #no return: pass array as a parameter\n",
    "    def storeLeaves(node, result):\n",
    "        if not node:\n",
    "            return\n",
    "        if not node.left and not node.right:\n",
    "            result.append(node.val)\n",
    "\n",
    "        storeLeaves(node.left , result) \n",
    "        storeLeaves(node.right, result)\n",
    "\n",
    "\n",
    "    leaves_t1 = []\n",
    "    storeLeaves(root1, leaves_t1)\n",
    "\n",
    "    leaves_t2 = []\n",
    "    storeLeaves(root2, leaves_t2)\n",
    "\n",
    "    return leaves_t1 == leaves_t2"
   ]
  },
  {
   "cell_type": "markdown",
   "metadata": {},
   "source": [
    "more efficient way of coding:"
   ]
  },
  {
   "cell_type": "code",
   "execution_count": 3,
   "metadata": {},
   "outputs": [],
   "source": [
    "#faster way of writing the same code as #1\n",
    "def leafSimilar(root1, root2):\n",
    "       \n",
    "    def storeLeaves(node):\n",
    "        if not node:\n",
    "            return []\n",
    "        if not node.left and not node.right:\n",
    "            return [node.val]\n",
    "        return storeLeaves(node.left) + storeLeaves(node.right)\n",
    "    \n",
    "    return storeLeaves(root1) == storeLeaves(root2)"
   ]
  }
 ],
 "metadata": {
  "kernelspec": {
   "display_name": "Python 3",
   "language": "python",
   "name": "python3"
  },
  "language_info": {
   "codemirror_mode": {
    "name": "ipython",
    "version": 3
   },
   "file_extension": ".py",
   "mimetype": "text/x-python",
   "name": "python",
   "nbconvert_exporter": "python",
   "pygments_lexer": "ipython3",
   "version": "3.7.1"
  }
 },
 "nbformat": 4,
 "nbformat_minor": 2
}
