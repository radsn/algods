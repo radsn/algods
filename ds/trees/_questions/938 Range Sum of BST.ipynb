{
 "cells": [
  {
   "cell_type": "markdown",
   "metadata": {},
   "source": [
    "Given the root node of a binary search tree, return the sum of values of all nodes with value between L and R (inclusive)."
   ]
  },
  {
   "cell_type": "markdown",
   "metadata": {},
   "source": [
    "do any traversal (pre/in/post) and add sum of the node only when in certain range"
   ]
  },
  {
   "cell_type": "code",
   "execution_count": 1,
   "metadata": {},
   "outputs": [],
   "source": [
    "#global sum: \n",
    "def rangeSumBST(root, L, R):\n",
    "    summ = [0]\n",
    "    def traverse(node, L, R):\n",
    "        if node:\n",
    "            if node.val >= L and node.val <= R:\n",
    "                summ[0] += node.val\n",
    "            traverse(node.left , L, R)\n",
    "            traverse(node.right, L, R)\n",
    "    traverse(root, L, R)\n",
    "    return summ[0]"
   ]
  },
  {
   "cell_type": "code",
   "execution_count": 2,
   "metadata": {},
   "outputs": [],
   "source": [
    "#pass sum as parameter:\n",
    "def rangeSumBST(root, L, R):\n",
    "    def traverse(node, summ, L, R):\n",
    "        if node:\n",
    "            if node.val >= L and node.val <= R:\n",
    "                summ += node.val\n",
    "            summ = traverse(node.left , summ, L, R)\n",
    "            summ = traverse(node.right, summ, L, R)\n",
    "        return summ\n",
    "    return traverse(root, 0, L, R)"
   ]
  },
  {
   "cell_type": "code",
   "execution_count": 3,
   "metadata": {},
   "outputs": [],
   "source": [
    "class Node:\n",
    "    def __init__(self, value):\n",
    "        self.val = value\n",
    "        self.left = None\n",
    "        self.right = None"
   ]
  },
  {
   "cell_type": "code",
   "execution_count": 4,
   "metadata": {},
   "outputs": [],
   "source": [
    "root = Node(10)  \n",
    "root.left = Node(5)  \n",
    "root.right = Node(15)  \n",
    "root.left.left = Node(3)  \n",
    "root.left.right = Node(7)\n",
    "root.right.right = Node(18)"
   ]
  },
  {
   "cell_type": "code",
   "execution_count": 5,
   "metadata": {},
   "outputs": [
    {
     "data": {
      "text/plain": [
       "32"
      ]
     },
     "execution_count": 5,
     "metadata": {},
     "output_type": "execute_result"
    }
   ],
   "source": [
    "rangeSumBST(root, 7, 15)"
   ]
  }
 ],
 "metadata": {
  "kernelspec": {
   "display_name": "Python 3",
   "language": "python",
   "name": "python3"
  },
  "language_info": {
   "codemirror_mode": {
    "name": "ipython",
    "version": 3
   },
   "file_extension": ".py",
   "mimetype": "text/x-python",
   "name": "python",
   "nbconvert_exporter": "python",
   "pygments_lexer": "ipython3",
   "version": "3.7.1"
  }
 },
 "nbformat": 4,
 "nbformat_minor": 2
}
