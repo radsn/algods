{
 "cells": [
  {
   "cell_type": "markdown",
   "metadata": {},
   "source": [
    "level order traversal (need Queue)\n",
    "\n",
    "1. create empty queue\n",
    "2. push the root of the tree into it\n",
    "3. while queue is not empty:\n",
    "    - pop node from queue\n",
    "    - if node has left child, push it in queue\n",
    "    - if node has right child, push it in queue"
   ]
  },
  {
   "cell_type": "markdown",
   "metadata": {},
   "source": [
    "bfs on tree"
   ]
  },
  {
   "cell_type": "code",
   "execution_count": 6,
   "metadata": {},
   "outputs": [],
   "source": [
    "from collections import deque\n",
    "\n",
    "# O(n) time, n nodes each do constant time work\n",
    "# O(n) space, max size of queue is worst case last leaf nodes (children) ~ roughly 1/2 = n/2 nodes \n",
    "def bfs(root):\n",
    "    if root is None:  #mandatory check in bfs and dfs\n",
    "        return []\n",
    "    \n",
    "    result = []\n",
    "    q = deque()\n",
    "    q.append(root)\n",
    "    \n",
    "    while q:\n",
    "        node = q.popleft()\n",
    "        result.append(node.val)\n",
    "        if node.left:\n",
    "            q.append(node.left)\n",
    "        if node.right:\n",
    "            q.append(node.right)\n",
    "    return result"
   ]
  },
  {
   "cell_type": "markdown",
   "metadata": {},
   "source": [
    "bfs on graph"
   ]
  },
  {
   "cell_type": "code",
   "execution_count": 2,
   "metadata": {},
   "outputs": [],
   "source": [
    "def bfs(n, source):\n",
    "    if source is None:  #mandatory check in bfs and dfs\n",
    "        return []\n",
    "    \n",
    "    visited = [-1] * n\n",
    "    visited[source] = 1\n",
    "    q = deque([source])\n",
    "    \n",
    "    while q:\n",
    "        node = q.popleft()\n",
    "        for neighbor in adjlist[node]:\n",
    "            if visited[neighbor] == -1:\n",
    "                visited[neighbor] = 1\n",
    "                q.append(neighbor)\n",
    "    return visited"
   ]
  },
  {
   "cell_type": "code",
   "execution_count": 3,
   "metadata": {},
   "outputs": [],
   "source": [
    "class Node:\n",
    "    def __init__(self, value):\n",
    "        self.val = value\n",
    "        self.left = None\n",
    "        self.right = None"
   ]
  },
  {
   "cell_type": "code",
   "execution_count": 4,
   "metadata": {},
   "outputs": [],
   "source": [
    "root = Node(3)  \n",
    "root.left = Node(9)  \n",
    "root.right = Node(20)  \n",
    "root.left.left = Node(15)  \n",
    "root.left.right = Node(7)"
   ]
  },
  {
   "cell_type": "code",
   "execution_count": 7,
   "metadata": {},
   "outputs": [
    {
     "data": {
      "text/plain": [
       "[3, 9, 20, 15, 7]"
      ]
     },
     "execution_count": 7,
     "metadata": {},
     "output_type": "execute_result"
    }
   ],
   "source": [
    "bfs(root)"
   ]
  }
 ],
 "metadata": {
  "kernelspec": {
   "display_name": "Python 3",
   "language": "python",
   "name": "python3"
  },
  "language_info": {
   "codemirror_mode": {
    "name": "ipython",
    "version": 3
   },
   "file_extension": ".py",
   "mimetype": "text/x-python",
   "name": "python",
   "nbconvert_exporter": "python",
   "pygments_lexer": "ipython3",
   "version": "3.7.1"
  }
 },
 "nbformat": 4,
 "nbformat_minor": 2
}
