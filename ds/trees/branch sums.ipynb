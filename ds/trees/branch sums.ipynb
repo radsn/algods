{
 "cells": [
  {
   "cell_type": "markdown",
   "metadata": {},
   "source": [
    "Write a function that takes in a BT and returns a list of its branch sums ordered from leftmost branch sum to rightmost branch sum.\n",
    "\n",
    "A branch sum is the sum of all values in a BT branch. A BT branch is a path of nodes in a tree that starts at the root node and ends at any leaf node."
   ]
  },
  {
   "cell_type": "markdown",
   "metadata": {},
   "source": [
    "calling recursive func on each node of tree, starting at root <br>\n",
    "keep track of running sum at every recursive call <br>"
   ]
  },
  {
   "cell_type": "code",
   "execution_count": 1,
   "metadata": {},
   "outputs": [],
   "source": [
    "# Time : O(n)\n",
    "# Space : [O(height)] + [O(n) (number of leaf nodes in result array)]\n",
    "def branchSums(root):\n",
    "    if not root: return 0\n",
    "    result = []  #globalbox\n",
    "\n",
    "    #Top-Down dfs: with additional parameters (info flows from top to bottom) and no returns\n",
    "    def helper(node, summ):\n",
    "        #BaseCase: leaf node\n",
    "        if not node.left and not node.right:\n",
    "            summ += node.value   #to visualize this: do a run thru from root to leaf node\n",
    "            result.append(summ)  #at leaf append branchsum into globalbox\n",
    "            return\n",
    "        \n",
    "        #RecursiveCase: internal node\n",
    "        if node.left:\n",
    "            helper(node.left, summ+node.value)\n",
    "        if node.right:\n",
    "            helper(node.right, summ+node.value)\n",
    "\n",
    "    helper(root, 0)\n",
    "    return result"
   ]
  },
  {
   "cell_type": "code",
   "execution_count": 2,
   "metadata": {},
   "outputs": [],
   "source": [
    "def branchSums(root):\n",
    "    result = []  #globalbox\n",
    "    if not root: return result\n",
    "    def helper(node, runningSum, sums):\n",
    "        runningSum = runningSum + node.value\n",
    "        if not node.left and not node.right:\n",
    "            result.append(runningSum)\n",
    "            return\n",
    "        if node.left:\n",
    "            helper(node.left, runningSum, sums)\n",
    "        if node.right:\n",
    "            helper(node.right, runningSum, sums)\n",
    "    helper(root, 0, result)\n",
    "    return result"
   ]
  },
  {
   "cell_type": "code",
   "execution_count": 3,
   "metadata": {},
   "outputs": [],
   "source": [
    "class Node:\n",
    "    def __init__(self, value):\n",
    "        self.value = value\n",
    "        self.left = None\n",
    "        self.right = None"
   ]
  },
  {
   "cell_type": "code",
   "execution_count": 4,
   "metadata": {},
   "outputs": [],
   "source": [
    "root = Node(1)  \n",
    "root.left = Node(2)  \n",
    "root.right = Node(3)\n",
    "root.left.left = Node(4)  \n",
    "root.left.right = Node(5)\n",
    "root.right.left = Node(6)  \n",
    "root.right.right = Node(7)\n",
    "root.left.left.left = Node(8)\n",
    "root.left.left.right = Node(9)\n",
    "root.left.right.left = Node(10)"
   ]
  },
  {
   "cell_type": "code",
   "execution_count": 5,
   "metadata": {},
   "outputs": [
    {
     "data": {
      "text/plain": [
       "[15, 16, 18, 10, 11]"
      ]
     },
     "execution_count": 5,
     "metadata": {},
     "output_type": "execute_result"
    }
   ],
   "source": [
    "branchSums(root)"
   ]
  },
  {
   "cell_type": "markdown",
   "metadata": {},
   "source": [
    "recursively traverse the BT in dfs fashion and pass a running sum of values of every previously-visited node to each node that you are traversing. \n",
    "\n",
    "At the leaf node, add the running sum to a list of sums that you return. If you reach a node that isn't leaf node (internal node), keep recursively traversing its children nodes, passing the correctly updated running sum to them."
   ]
  }
 ],
 "metadata": {
  "kernelspec": {
   "display_name": "Python 3 (ipykernel)",
   "language": "python",
   "name": "python3"
  },
  "language_info": {
   "codemirror_mode": {
    "name": "ipython",
    "version": 3
   },
   "file_extension": ".py",
   "mimetype": "text/x-python",
   "name": "python",
   "nbconvert_exporter": "python",
   "pygments_lexer": "ipython3",
   "version": "3.8.2"
  }
 },
 "nbformat": 4,
 "nbformat_minor": 2
}
