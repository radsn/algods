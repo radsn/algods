{
 "cells": [
  {
   "cell_type": "markdown",
   "metadata": {},
   "source": [
    "**Given a binary tree, check whether it is a mirror of itself (ie, symmetric around its center).**\n",
    "\n",
    "**For example, this binary tree `[1,2,2,3,4,4,3]` is symmetric.**"
   ]
  },
  {
   "cell_type": "markdown",
   "metadata": {},
   "source": [
    "When is a tree symmetric? -- if left subtree is a mirror reflection of the right subtree\n",
    "\n",
    "When are two trees a mirror reflection of each other? -- root has same value and outpair and inpair are same"
   ]
  },
  {
   "cell_type": "markdown",
   "metadata": {},
   "source": [
    "recursive\n",
    "\n",
    "pass root twice in the helper function -- return will be AND of all the met conditions"
   ]
  },
  {
   "cell_type": "code",
   "execution_count": 1,
   "metadata": {},
   "outputs": [],
   "source": [
    "# O(n) time | O(height) space\n",
    "def isSymmetric(root):\n",
    "    if not root:\n",
    "        return True\n",
    "\n",
    "    def isMirror(left, right):\n",
    "        if not left and not right:\n",
    "            return True\n",
    "        if not left or not right:\n",
    "            return False\n",
    "        if left.val != right.val:\n",
    "            return False\n",
    "        outPair = isMirror(left.left, right.right)\n",
    "        inPair  = isMirror(left.right, right.left)\n",
    "        return outPair and inPair\n",
    "\n",
    "    return isMirror(root.left, root.right)"
   ]
  },
  {
   "cell_type": "code",
   "execution_count": 2,
   "metadata": {},
   "outputs": [],
   "source": [
    "#variant\n",
    "def isSymmetric(root):\n",
    "    if not root:\n",
    "        return True\n",
    "\n",
    "    def isMirror(left, right):\n",
    "        if not left and not right:\n",
    "            return True\n",
    "        if not left or not right:\n",
    "            return False\n",
    "        if left.val == right.val:\n",
    "            outPair = isMirror(left.left, right.right)\n",
    "            inPair  = isMirror(left.right, right.left)\n",
    "            return outPair and inPair\n",
    "\n",
    "    return isMirror(root.left,root.right)"
   ]
  },
  {
   "cell_type": "code",
   "execution_count": 3,
   "metadata": {},
   "outputs": [],
   "source": [
    "def isSymmetric(root):\n",
    "    \n",
    "    def isMirror(left, right):\n",
    "        if not left and not right:\n",
    "            return True\n",
    "        if not left or not right:\n",
    "            return False\n",
    "        return left.val == right.val and isMirror(left.left, right.right) and isMirror(left.right, right.left) #all 3 conditions have to be met\n",
    "\n",
    "    return isMirror(root, root)"
   ]
  },
  {
   "cell_type": "markdown",
   "metadata": {},
   "source": [
    "stack"
   ]
  },
  {
   "cell_type": "code",
   "execution_count": 4,
   "metadata": {},
   "outputs": [],
   "source": [
    "def isSymmetric(root):\n",
    "    if not root:\n",
    "        return True\n",
    "    stack = [(root.left, root.right)]\n",
    "    while stack:\n",
    "        left, right = stack.pop()\n",
    "        if not left and not right:\n",
    "            continue\n",
    "        if not left or not right:\n",
    "            return False\n",
    "        if left.val != right.val:\n",
    "            return False\n",
    "        if left.val == right.val:\n",
    "            stack.append((left.left, right.right)) #outpair\n",
    "            stack.append((left.right, right.left)) #inpair\n",
    "    return True"
   ]
  },
  {
   "cell_type": "markdown",
   "metadata": {},
   "source": [
    "queue bfs"
   ]
  },
  {
   "cell_type": "code",
   "execution_count": 5,
   "metadata": {},
   "outputs": [],
   "source": [
    "import collections\n",
    "\n",
    "def isSymmetric(root):\n",
    "    if not root:\n",
    "        return True\n",
    "    q = collections.deque([root.left, root.right])\n",
    "\n",
    "    while q:\n",
    "        left, right = q.popleft(), q.popleft()\n",
    "        if not left and not right:\n",
    "            continue\n",
    "        if not left or not right:\n",
    "            return False\n",
    "        if left.val != right.val:\n",
    "            return False\n",
    "        if left.val == right.val:\n",
    "            q += [left.left, right.right, left.right, right.left] #if adding more that one item use += not append\n",
    "    return True"
   ]
  },
  {
   "cell_type": "code",
   "execution_count": 6,
   "metadata": {},
   "outputs": [],
   "source": [
    "class Node:\n",
    "    def __init__(self, value):\n",
    "        self.val = value\n",
    "        self.left = None\n",
    "        self.right = None"
   ]
  },
  {
   "cell_type": "code",
   "execution_count": 7,
   "metadata": {},
   "outputs": [],
   "source": [
    "root = Node(1)  \n",
    "root.left = Node(2)  \n",
    "root.right = Node(2)  \n",
    "root.left.left = Node(3)  \n",
    "root.left.right = Node(4)\n",
    "root.right.left = Node(4)  \n",
    "root.right.right = Node(3)"
   ]
  },
  {
   "cell_type": "code",
   "execution_count": 8,
   "metadata": {},
   "outputs": [
    {
     "data": {
      "text/plain": [
       "True"
      ]
     },
     "execution_count": 8,
     "metadata": {},
     "output_type": "execute_result"
    }
   ],
   "source": [
    "isSymmetric(root)"
   ]
  }
 ],
 "metadata": {
  "kernelspec": {
   "display_name": "Python 3",
   "language": "python",
   "name": "python3"
  },
  "language_info": {
   "codemirror_mode": {
    "name": "ipython",
    "version": 3
   },
   "file_extension": ".py",
   "mimetype": "text/x-python",
   "name": "python",
   "nbconvert_exporter": "python",
   "pygments_lexer": "ipython3",
   "version": "3.7.1"
  }
 },
 "nbformat": 4,
 "nbformat_minor": 2
}
