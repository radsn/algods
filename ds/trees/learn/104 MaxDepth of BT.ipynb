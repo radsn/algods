{
 "cells": [
  {
   "cell_type": "markdown",
   "metadata": {},
   "source": [
    "Given a binary tree, find its maximum depth.\n",
    "\n",
    "The maximum depth is the number of nodes along the longest path from the root node down to the farthest leaf node."
   ]
  },
  {
   "cell_type": "markdown",
   "metadata": {},
   "source": [
    "**Top-Down dfs**\n",
    "\n",
    "info is passed down from parent to leaf in form of an extra depth parameter in helper method (+1 is added at each level)\n",
    "\n",
    "maxDepth will be the maximum depths of all leaf nodes. Need to store a global variable which will be updated at the leaf node level.\n",
    "\n",
    "There is no return in top-down -- instead depth is passed down from parent to leaf -- since each of the leaf node is not connected to each other, to find the maxdepth, store a global variable which returns the max of all leaf depths."
   ]
  },
  {
   "cell_type": "code",
   "execution_count": 1,
   "metadata": {},
   "outputs": [],
   "source": [
    "def maxDepth1(root):\n",
    "    maxdepth = [0]\n",
    "\n",
    "    if not root:\n",
    "        return 0\n",
    "\n",
    "    def helper(node, depth):\n",
    "        if not node.left and not node.right:  #depth updated at leafnode\n",
    "            maxdepth[0] = max(maxdepth[0], depth)\n",
    "\n",
    "        if node.left:\n",
    "            helper(node.left, depth+1)\n",
    "        if node.right:\n",
    "            helper(node.right, depth+1)\n",
    "\n",
    "    helper(root, 1)  #depth of rootnode is 1 -> maxdepth at leaf\n",
    "    return maxdepth[0]"
   ]
  },
  {
   "cell_type": "code",
   "execution_count": 2,
   "metadata": {},
   "outputs": [],
   "source": [
    "#variants to write top-down\n",
    "def maxDepth1(root):\n",
    "    maxdepth = [0]\n",
    "\n",
    "    def helper(node, depth):\n",
    "        if node:   #can remove node.left and node.right checks\n",
    "            if not node.left and not node.right:\n",
    "                maxdepth[0] = max(maxdepth[0], depth)\n",
    "\n",
    "            helper(node.left, depth+1)\n",
    "            helper(node.right, depth+1)\n",
    "\n",
    "    helper(root, 1)\n",
    "    return maxdepth[0]"
   ]
  },
  {
   "cell_type": "code",
   "execution_count": 3,
   "metadata": {},
   "outputs": [],
   "source": [
    "#variants to write top-down\n",
    "def maxDepth1(root):\n",
    "    maxdepth = [0]\n",
    "\n",
    "    def helper(node, depth):\n",
    "        if not node:  #depth updated at null node instead of leaf node\n",
    "            maxdepth[0] = max(maxdepth[0], depth)\n",
    "        else:         #need else because if null node cannot access left or right\n",
    "            helper(node.left, depth+1)\n",
    "            helper(node.right, depth+1)\n",
    "\n",
    "    helper(root, 0)   #start at 0 since maxdepth at nullnode not leaf\n",
    "    return maxdepth[0]"
   ]
  },
  {
   "cell_type": "markdown",
   "metadata": {},
   "source": [
    "**Bottom-Up dfs**\n",
    "\n",
    "call the function recursively for all children nodes, and then come up with the answer for parent node according to returned values from children. For each node, we can get the answer only after solving the problem for its children.\n",
    "\n",
    "we are returning the depth at every node ( at leaf, depth is 1; at internal node, depth is max(left, right) ).\n",
    "\n",
    "Don't require globalvariable since we can just return.\n",
    "\n"
   ]
  },
  {
   "cell_type": "code",
   "execution_count": 4,
   "metadata": {},
   "outputs": [],
   "source": [
    "def maxDepth2(root):\n",
    "    if not root:\n",
    "        return 0\n",
    "\n",
    "    def helper(node):\n",
    "        #BaseCase: leaf node\n",
    "        if not node.left and not node.right:  #return 1 for leaf depth\n",
    "            return 1\n",
    "\n",
    "        #RecursiveCase: internal node\n",
    "        else:\n",
    "            LH, RH = 0, 0\n",
    "            if node.left:\n",
    "                LH = helper(node.left)   #depth of left\n",
    "            if node.right:\n",
    "                RH = helper(node.right)  #depth of right\n",
    "            return max(LH, RH) + 1       #max depth of left and right\n",
    " \n",
    "    return helper(root)                  #max depth of the entire tree"
   ]
  },
  {
   "cell_type": "code",
   "execution_count": 5,
   "metadata": {},
   "outputs": [],
   "source": [
    "#variants to write bottom-up\n",
    "def maxDepth2(root):\n",
    "    if not root:\n",
    "        return 0\n",
    "    else:\n",
    "        l = maxDepth2(root.left)   #return left subtree height\n",
    "        r = maxDepth2(root.right)  #return right subtree height\n",
    "        return max(l,r) + 1       # +1 is to add height of the current node  (return depth of subtree rooted at root)"
   ]
  },
  {
   "cell_type": "code",
   "execution_count": 6,
   "metadata": {},
   "outputs": [],
   "source": [
    "class Node:\n",
    "    def __init__(self, value):\n",
    "        self.val = value\n",
    "        self.left = None\n",
    "        self.right = None"
   ]
  },
  {
   "cell_type": "code",
   "execution_count": 7,
   "metadata": {},
   "outputs": [],
   "source": [
    "root = Node(3)  \n",
    "root.left = Node(9)  \n",
    "root.right = Node(20)  \n",
    "root.left.left = Node(15)  \n",
    "root.left.right = Node(7)"
   ]
  },
  {
   "cell_type": "code",
   "execution_count": 8,
   "metadata": {},
   "outputs": [
    {
     "data": {
      "text/plain": [
       "3"
      ]
     },
     "execution_count": 8,
     "metadata": {},
     "output_type": "execute_result"
    }
   ],
   "source": [
    "maxDepth2(root)"
   ]
  }
 ],
 "metadata": {
  "kernelspec": {
   "display_name": "Python 3",
   "language": "python",
   "name": "python3"
  },
  "language_info": {
   "codemirror_mode": {
    "name": "ipython",
    "version": 3
   },
   "file_extension": ".py",
   "mimetype": "text/x-python",
   "name": "python",
   "nbconvert_exporter": "python",
   "pygments_lexer": "ipython3",
   "version": "3.7.1"
  }
 },
 "nbformat": 4,
 "nbformat_minor": 2
}
