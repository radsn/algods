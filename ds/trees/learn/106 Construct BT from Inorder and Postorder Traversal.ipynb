{
 "cells": [
  {
   "cell_type": "markdown",
   "metadata": {},
   "source": [
    "Given inorder and postorder traversal of a tree, construct the binary tree. You may assume that duplicates do not exist in the tree."
   ]
  },
  {
   "cell_type": "markdown",
   "metadata": {},
   "source": [
    "postorder: preorder(L subtree) --> preorder(R subtree) --> **root**\n",
    "\n",
    "inorder: inorder(L subtree) --> **root** --> inorder(R subtree)\n",
    "\n",
    "Approach: divide and conquer by Top-down tree construction"
   ]
  },
  {
   "cell_type": "code",
   "execution_count": 1,
   "metadata": {},
   "outputs": [],
   "source": [
    "def buildTree(inorder, postorder):\n",
    "    io_map = {val:idx for idx, val in enumerate(inorder)} \n",
    "\n",
    "    def helper(P, startP, endP, I, startI, endI):\n",
    "        #BaseCase\n",
    "        if startP > endP:   #size0\n",
    "            return\n",
    "        if startP == endP:  #size1\n",
    "            root = TreeNode(P[startP])\n",
    "            return root\n",
    "\n",
    "        #RecursiveCase: size > 1\n",
    "        root = P[endP]\n",
    "        rootnode = TreeNode(root)\n",
    "        rootindex = io_map[P[endP]]\n",
    "\n",
    "        numleft  = len(inorder[startI:rootindex])\n",
    "        numright = len(inorder[rootindex+1:endI+1])\n",
    "\n",
    "        rootnode.left  = helper(P, startP, startP+numleft-1, I, startI, rootindex-1)\n",
    "        rootnode.right = helper(P, startP+numleft, endP-1, I, rootindex+1, endI)\n",
    "\n",
    "        return rootnode  #important otherwise cannot do rootnode.left and rootnode.right above\n",
    "\n",
    "    return helper(postorder, 0, len(postorder)-1, inorder, 0, len(inorder)-1)"
   ]
  },
  {
   "cell_type": "markdown",
   "metadata": {},
   "source": [
    "start by picking root in postorder, construct root node, find the root index in inorder (build hashmap value -> index for inorder), find number of elements in the left and right subtree based on inorder rootindex, recursively make rootnode in the left and right sub-problems and connect the root to its left and right subtree."
   ]
  }
 ],
 "metadata": {
  "kernelspec": {
   "display_name": "Python 3",
   "language": "python",
   "name": "python3"
  },
  "language_info": {
   "codemirror_mode": {
    "name": "ipython",
    "version": 3
   },
   "file_extension": ".py",
   "mimetype": "text/x-python",
   "name": "python",
   "nbconvert_exporter": "python",
   "pygments_lexer": "ipython3",
   "version": "3.7.1"
  }
 },
 "nbformat": 4,
 "nbformat_minor": 2
}
