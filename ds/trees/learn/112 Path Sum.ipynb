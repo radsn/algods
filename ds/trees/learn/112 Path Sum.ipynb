{
 "cells": [
  {
   "cell_type": "markdown",
   "metadata": {},
   "source": [
    "**Decision Problem:** Given a binary tree and a sum, determine if the tree has a root-to-leaf path such that adding up all the values along the path equals the given sum."
   ]
  },
  {
   "cell_type": "markdown",
   "metadata": {},
   "source": [
    "DFS top-down approach \n",
    "\n",
    "in top-down dfs, need to pass additional parameters during recursive call (top hierarchy passes down some information to the subordinates)"
   ]
  },
  {
   "cell_type": "code",
   "execution_count": 1,
   "metadata": {},
   "outputs": [],
   "source": [
    "def hasPathSum(root, sum):\n",
    "    if not root:      #mandatory check in overal fnc\n",
    "        return False\n",
    "\n",
    "    result = [False]\n",
    "\n",
    "    #Top-Down DFS: additional parameters needed. (info needs to be passed down)\n",
    "    def dfs(node, target):\n",
    "        #BaseCase: Leaf node\n",
    "        if not node.left and not node.right:\n",
    "            if node.val == target:\n",
    "                result[0] = [True]  #top-down dfs\n",
    "            return\n",
    "        #RecursiveCase: Internal node\n",
    "        else:\n",
    "            if node.left:\n",
    "                dfs(node.left, target-node.val)  #additional info: subtract own node's val\n",
    "            if node.right:\n",
    "                dfs(node.right, target-node.val)\n",
    "                \n",
    "    dfs(root, sum)\n",
    "    return result[0]"
   ]
  },
  {
   "cell_type": "code",
   "execution_count": 2,
   "metadata": {},
   "outputs": [],
   "source": [
    "#instead of subtracting from target along the path, maintain a pathsum and compare with target at leaf node\n",
    "def hasPathSum2(root, sum):\n",
    "    if not root:    \n",
    "        return False\n",
    "\n",
    "    result = [False]\n",
    "    \n",
    "    def dfs(node, target, summ):\n",
    "        #BaseCase: Leaf node\n",
    "        if not node.left and not node.right:\n",
    "            if summ + node.val == target:\n",
    "                result[0] = [True]  #top-down dfs\n",
    "            return\n",
    "        #RecursiveCase: Internal node\n",
    "        else:\n",
    "            if node.left:\n",
    "                dfs(node.left, target, summ+node.val)\n",
    "            if node.right:\n",
    "                dfs(node.right, target, summ+node.val)\n",
    "\n",
    "    dfs(root, sum, 0)\n",
    "    return result[0]"
   ]
  },
  {
   "cell_type": "markdown",
   "metadata": {},
   "source": [
    "recursion: at each step consider the node itself and its children. If node is not a leaf, one calls recursively hasPathSum method for its children with a sum decreased by the current node value. If node is a leaf, one checks if the the current sum is zero, i.e if the initial sum was discovered."
   ]
  },
  {
   "cell_type": "code",
   "execution_count": 3,
   "metadata": {},
   "outputs": [],
   "source": [
    "def hasPathSum3(root, sum):\n",
    "    if not root: \n",
    "        return False\n",
    "    \n",
    "    sum -= root.val\n",
    "    \n",
    "    if not root.left and not root.right: #at leaf\n",
    "        return sum == 0\n",
    "    \n",
    "    return hasPathSum3(root.left, sum) or hasPathSum3(root.right, sum)"
   ]
  },
  {
   "cell_type": "markdown",
   "metadata": {},
   "source": [
    "return is OR -- pathsum matches the target either in the left subtree OR in the right subtree\n",
    "\n",
    "keep subtracting root.val from sum and check if sum==0 at leaf node"
   ]
  },
  {
   "cell_type": "code",
   "execution_count": 4,
   "metadata": {},
   "outputs": [],
   "source": [
    "def hasPathSum(root, sum):\n",
    "    \n",
    "    def traversal(node, target):\n",
    "        if not node:\n",
    "            return False\n",
    "        if not node.left and not node.right:\n",
    "            if node.val == target:\n",
    "                return True\n",
    "        left = traversal(node.left, target-node.val)\n",
    "        right = traversal(node.right, target-node.val)\n",
    "        return left or right  #path is either in left or right subtree\n",
    "    \n",
    "    return traversal(root, sum)"
   ]
  },
  {
   "cell_type": "markdown",
   "metadata": {},
   "source": [
    "since returning in the basecase -- we will get answer when recursing on left and right subtrees which also needs to be returned -- \"OR\" the results of left and right since the path will exist either in left or in right or both."
   ]
  },
  {
   "cell_type": "code",
   "execution_count": 5,
   "metadata": {},
   "outputs": [],
   "source": [
    "class Node:\n",
    "    def __init__(self, value):\n",
    "        self.val = value\n",
    "        self.left = None\n",
    "        self.right = None"
   ]
  },
  {
   "cell_type": "code",
   "execution_count": 6,
   "metadata": {},
   "outputs": [],
   "source": [
    "root = Node(5)  \n",
    "root.left = Node(4)  \n",
    "root.right = Node(8)  \n",
    "root.left.left = Node(11)\n",
    "root.left.left.left = Node(7)  \n",
    "root.left.left.right = Node(2)  \n",
    "root.right.left = Node(13)  \n",
    "root.right.right = Node(4)\n",
    "root.right.right.right = Node(1)  "
   ]
  },
  {
   "cell_type": "code",
   "execution_count": 7,
   "metadata": {},
   "outputs": [
    {
     "data": {
      "text/plain": [
       "True"
      ]
     },
     "execution_count": 7,
     "metadata": {},
     "output_type": "execute_result"
    }
   ],
   "source": [
    "hasPathSum(root, 22)"
   ]
  },
  {
   "cell_type": "markdown",
   "metadata": {},
   "source": [
    "**time:** worst case visit all nodes (n); amount of work per node? (by dfs function = O(1) constant work). So total time ==> O(n) time.\n",
    "\n",
    "**space:** height of tree will determine the max size of call stack ==> O(height) space = O(n) if unbalanced / O(logn) if balanced."
   ]
  },
  {
   "cell_type": "markdown",
   "metadata": {},
   "source": [
    "think like lazy manager - focus on only root val and dont want to look at left or right subtrees. What to pass down to the two subordinates? Pass down **target minus root.val** along with node. Leaf nodes will figure out the answer to whether path exist or not. Once leaf node figures out the answer, no need to return anything back up the hierarchy, can update the global box (information only needs to be passed down without needing to be returned to the top)."
   ]
  }
 ],
 "metadata": {
  "kernelspec": {
   "display_name": "Python 3",
   "language": "python",
   "name": "python3"
  },
  "language_info": {
   "codemirror_mode": {
    "name": "ipython",
    "version": 3
   },
   "file_extension": ".py",
   "mimetype": "text/x-python",
   "name": "python",
   "nbconvert_exporter": "python",
   "pygments_lexer": "ipython3",
   "version": "3.7.1"
  }
 },
 "nbformat": 4,
 "nbformat_minor": 2
}
