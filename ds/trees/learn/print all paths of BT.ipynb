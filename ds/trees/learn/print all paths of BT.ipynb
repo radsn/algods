{
 "cells": [
  {
   "cell_type": "markdown",
   "metadata": {},
   "source": [
    "Given a binary tree, return all paths from root to leaf."
   ]
  },
  {
   "cell_type": "code",
   "execution_count": 5,
   "metadata": {},
   "outputs": [],
   "source": [
    "def allPathsOfABinaryTree(root):\n",
    "    if not root: return []  #mandatory check\n",
    "    result = []             #globalbox\n",
    "    \n",
    "    def helper(node, slate):\n",
    "        #BaseCase: leaf node\n",
    "        if not node.left and not node.right: #at leaf \n",
    "            slate.append(node.val)  \n",
    "            result.append(slate[:]) #append copy of slate into globalbox\n",
    "            slate.pop()\n",
    "            return\n",
    "        \n",
    "        #\n",
    "        if node.left:\n",
    "            helper(node.left, slate+[node.val])\n",
    "        \n",
    "        if node.right:\n",
    "            helper(node.right, slate+[node.val])\n",
    "\n",
    "    helper(root, []) #pass empty slate which will keep store of node values along the path\n",
    "    return result"
   ]
  },
  {
   "cell_type": "markdown",
   "metadata": {},
   "source": [
    "Top-Down dfs -- need to pass slate as an additional parameter in which every node (leaf and internal) appends its value; however, only in the leaf node level the slate gets appended into global result."
   ]
  },
  {
   "cell_type": "markdown",
   "metadata": {},
   "source": [
    "time? \n",
    "\n",
    "space?"
   ]
  },
  {
   "cell_type": "code",
   "execution_count": 2,
   "metadata": {},
   "outputs": [],
   "source": [
    "class Node:\n",
    "    def __init__(self, value):\n",
    "        self.val = value\n",
    "        self.left = None\n",
    "        self.right = None"
   ]
  },
  {
   "cell_type": "code",
   "execution_count": 3,
   "metadata": {},
   "outputs": [],
   "source": [
    "root = Node(1)  \n",
    "root.left = Node(2)  \n",
    "root.right = Node(3)  \n",
    "root.left.left = Node(4)\n",
    "root.left.right = Node(5)\n",
    "root.right.left = Node(6)\n",
    "root.right.right = Node(7)"
   ]
  },
  {
   "cell_type": "code",
   "execution_count": 4,
   "metadata": {},
   "outputs": [
    {
     "data": {
      "text/plain": [
       "[[1, 2, 4], [1, 2, 5], [1, 3, 6], [1, 3, 7]]"
      ]
     },
     "execution_count": 4,
     "metadata": {},
     "output_type": "execute_result"
    }
   ],
   "source": [
    "allPathsOfABinaryTree(root)"
   ]
  }
 ],
 "metadata": {
  "kernelspec": {
   "display_name": "Python 3",
   "language": "python",
   "name": "python3"
  },
  "language_info": {
   "codemirror_mode": {
    "name": "ipython",
    "version": 3
   },
   "file_extension": ".py",
   "mimetype": "text/x-python",
   "name": "python",
   "nbconvert_exporter": "python",
   "pygments_lexer": "ipython3",
   "version": "3.7.1"
  }
 },
 "nbformat": 4,
 "nbformat_minor": 2
}
