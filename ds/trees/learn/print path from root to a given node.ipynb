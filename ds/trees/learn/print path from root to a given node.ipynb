{
 "cells": [
  {
   "cell_type": "markdown",
   "metadata": {},
   "source": [
    "The problem is to print the path from root to a given node x. "
   ]
  },
  {
   "cell_type": "code",
   "execution_count": 1,
   "metadata": {},
   "outputs": [],
   "source": [
    "class Node():\n",
    "    def __init__(self, value):\n",
    "        self.val = value\n",
    "        self.left  = None\n",
    "        self.right = None"
   ]
  },
  {
   "cell_type": "code",
   "execution_count": 2,
   "metadata": {},
   "outputs": [],
   "source": [
    "root = Node(6)  \n",
    "root.left = Node(2)  \n",
    "root.right = Node(8)  \n",
    "root.left.left = Node(0)  \n",
    "root.left.right = Node(4)\n",
    "root.right.left = Node(7)  \n",
    "root.right.right = Node(9)\n",
    "root.left.right.left = Node(3)\n",
    "root.left.right.right = Node(5)\n",
    "p = root.left.right.right"
   ]
  },
  {
   "cell_type": "markdown",
   "metadata": {},
   "source": [
    "#### Binary Search Tree"
   ]
  },
  {
   "cell_type": "code",
   "execution_count": 3,
   "metadata": {},
   "outputs": [],
   "source": [
    "arr = []\n",
    "\n",
    "def path(node, x, arr):\n",
    "    #no return - append in arr\n",
    "    if not node:\n",
    "        return\n",
    "    arr.append(node.val)\n",
    "    if node.val == x.val:\n",
    "        return \n",
    "    elif node.val > x.val:\n",
    "        path(node.left, x, arr)\n",
    "    elif node.val < x.val:\n",
    "        path(node.right, x, arr)\n",
    "\n",
    "pathp = []\n",
    "path(root, p, pathp)\n",
    "print(pathp)"
   ]
  },
  {
   "cell_type": "code",
   "execution_count": 4,
   "metadata": {},
   "outputs": [
    {
     "name": "stdout",
     "output_type": "stream",
     "text": [
      "[6, 2, 4, 5]\n"
     ]
    }
   ],
   "source": [
    "arr = []\n",
    "\n",
    "def hasPath(node, x, arr):\n",
    "    if not node:\n",
    "        return False\n",
    "    arr.append(node.val)\n",
    "    if node.val == x.val:\n",
    "        return True\n",
    "    elif node.val > x.val:\n",
    "        if hasPath(node.left, x, arr): \n",
    "            return True\n",
    "    elif node.val < x.val:\n",
    "        if hasPath(node.right, x, arr): \n",
    "            return True\n",
    "\n",
    "if hasPath(root, p, arr):\n",
    "    print(arr)\n",
    "else:\n",
    "    print('[]')"
   ]
  },
  {
   "cell_type": "markdown",
   "metadata": {},
   "source": [
    "#### Binary Tree"
   ]
  },
  {
   "cell_type": "code",
   "execution_count": 5,
   "metadata": {},
   "outputs": [],
   "source": [
    "root = Node(3)  \n",
    "root.left = Node(5)  \n",
    "root.right = Node(1)  \n",
    "root.left.left = Node(6)  \n",
    "root.left.right = Node(2)\n",
    "root.right.left = Node(0)  \n",
    "root.right.right = Node(8)\n",
    "root.left.right.left = Node(7)\n",
    "root.left.right.right = Node(4)\n",
    "p = root.left.right"
   ]
  },
  {
   "cell_type": "code",
   "execution_count": 6,
   "metadata": {},
   "outputs": [
    {
     "name": "stdout",
     "output_type": "stream",
     "text": [
      "[3, 5, 2]\n"
     ]
    }
   ],
   "source": [
    "def findPath(node, p): #return [3,5,2,4]\n",
    "    \n",
    "    if not node:\n",
    "        return\n",
    "    \n",
    "    if node.val == p.val:\n",
    "        return [node.val]\n",
    "    \n",
    "    left = findPath(node.left, p) #[5,2,4]\n",
    "    if left:\n",
    "        left = [node.val] + left  #[3,5,2,4]\n",
    "        return left\n",
    "    \n",
    "    right = findPath(node.right, p) #[]\n",
    "    if right:\n",
    "        right = [node.val] + right  \n",
    "        return right\n",
    "    \n",
    "print( findPath(root, p) )"
   ]
  },
  {
   "cell_type": "code",
   "execution_count": 7,
   "metadata": {},
   "outputs": [
    {
     "name": "stdout",
     "output_type": "stream",
     "text": [
      "[3, 5, 2]\n"
     ]
    }
   ],
   "source": [
    "arr = []\n",
    "\n",
    "def hasPath(root, p, arr):\n",
    "    if not root:\n",
    "        return False\n",
    "\n",
    "    arr.append(root.val)\n",
    "    \n",
    "    if root.val == p.val:\n",
    "        return True\n",
    "    \n",
    "    #check if node lies in left subtree or right subtree\n",
    "    if hasPath(root.left, p, arr) or hasPath(root.right, p, arr):\n",
    "        return True\n",
    "    \n",
    "    #node does not lie in either left or right subtree - remove node from arr\n",
    "    arr.pop(-1)\n",
    "    return False\n",
    "\n",
    "if hasPath(root, p, arr):\n",
    "    print(arr)"
   ]
  },
  {
   "cell_type": "code",
   "execution_count": 2,
   "metadata": {},
   "outputs": [
    {
     "name": "stdout",
     "output_type": "stream",
     "text": [
      "{1: ['a', 'b', 'c', 'd'], 2: ['e', 'f'], 3: ['g', 'h']}\n"
     ]
    }
   ],
   "source": [
    "list_a = [1,1,1,1,2,2,3,3]\n",
    "list_b = ['a','b','c','d','e','f','g','h']\n",
    "\n",
    "d = {}\n",
    "#unique_a = list(set(list_a))\n",
    "for i in range(len(list_a)):\n",
    "    if list_a[i] in d:\n",
    "        d[list_a[i]].append(list_b[i])\n",
    "    else:\n",
    "        d[list_a[i]] = [list_b[i]]\n",
    "\n",
    "print(d)"
   ]
  },
  {
   "cell_type": "code",
   "execution_count": null,
   "metadata": {},
   "outputs": [],
   "source": []
  }
 ],
 "metadata": {
  "kernelspec": {
   "display_name": "Python 3",
   "language": "python",
   "name": "python3"
  },
  "language_info": {
   "codemirror_mode": {
    "name": "ipython",
    "version": 3
   },
   "file_extension": ".py",
   "mimetype": "text/x-python",
   "name": "python",
   "nbconvert_exporter": "python",
   "pygments_lexer": "ipython3",
   "version": "3.7.1"
  }
 },
 "nbformat": 4,
 "nbformat_minor": 2
}
