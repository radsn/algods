{
 "cells": [
  {
   "cell_type": "markdown",
   "metadata": {},
   "source": [
    "The distance between a node in a BT and the tree's root is called the node's depth. Write a function that takes in a BT and returns the sum of its nodes' depth."
   ]
  },
  {
   "cell_type": "code",
   "execution_count": 1,
   "metadata": {},
   "outputs": [],
   "source": [
    "def nodeDepths1(root):\n",
    "    depthSum = [0]\n",
    "    \n",
    "    def helper(node, depth):\n",
    "        if node:\n",
    "            depthSum[0] += depth\n",
    "            helper(node.left, depth+1)\n",
    "            helper(node.right, depth+1)\n",
    "    \n",
    "    helper(root, 0)\n",
    "    return depthSum[0]"
   ]
  },
  {
   "cell_type": "markdown",
   "metadata": {},
   "source": [
    "approach: top-down dfs -- info flowing from parent to the leaf so extra parameter depth passed in helper function. Global variable used to sum all the depths at every node."
   ]
  },
  {
   "cell_type": "code",
   "execution_count": 2,
   "metadata": {},
   "outputs": [],
   "source": [
    "#variant of recursive\n",
    "def nodeDepths1(root):\n",
    "    def helper(node, depth):\n",
    "        if not node:\n",
    "            return 0\n",
    "        leftDepth  = helper(node.left, depth+1)\n",
    "        rightDepth = helper(node.right, depth+1)\n",
    "        return depth + leftDepth + rightDepth\n",
    "    return helper(root, 0)"
   ]
  },
  {
   "cell_type": "markdown",
   "metadata": {},
   "source": [
    "call recursive function on a particular node: return my depth + depth of my left + depth of my right"
   ]
  },
  {
   "cell_type": "markdown",
   "metadata": {},
   "source": [
    "iterative"
   ]
  },
  {
   "cell_type": "code",
   "execution_count": 3,
   "metadata": {},
   "outputs": [],
   "source": [
    "def nodeDepths2(root):\n",
    "    stack = [(root, 0)]\n",
    "    depthSum = 0\n",
    "    \n",
    "    while len(stack)>0:\n",
    "        node, depth = stack.pop()\n",
    "        if not node:\n",
    "            continue\n",
    "        depthSum += depth\n",
    "        stack.append((node.left, depth+1))\n",
    "        stack.append((node.right, depth+1))\n",
    "        \n",
    "    return depthSum"
   ]
  },
  {
   "cell_type": "code",
   "execution_count": 4,
   "metadata": {},
   "outputs": [],
   "source": [
    "#variant for null node checks\n",
    "def nodeDepths2(root):\n",
    "    if not root:\n",
    "        return \n",
    "\n",
    "    sumdepths = 0\n",
    "    stack = [(root, 0)]\n",
    "\n",
    "    while stack:\n",
    "        node, depth = stack.pop()\n",
    "        sumdepths += depth\n",
    "\n",
    "        if node.left:\n",
    "            stack.append( (node.left, depth+1) )\n",
    "        if node.right:\n",
    "            stack.append( (node.right, depth+1) )\n",
    "\n",
    "    return sumdepths"
   ]
  },
  {
   "cell_type": "markdown",
   "metadata": {},
   "source": [
    "into empty stack add root node on top of the stack; pop node off the stack; push its two children nodes into the stack; keep track of the running sum\n",
    "\n",
    "make sure to check whether node is null is not\n",
    "\n",
    "store node's depth along with each node in the stack"
   ]
  },
  {
   "cell_type": "markdown",
   "metadata": {},
   "source": [
    "time: O(n) traversing through every node and doing constant time operation\n",
    "    \n",
    "space: O(height) "
   ]
  },
  {
   "cell_type": "code",
   "execution_count": 5,
   "metadata": {},
   "outputs": [],
   "source": [
    "class Node:\n",
    "    def __init__(self, value):\n",
    "        self.value = value\n",
    "        self.left = None\n",
    "        self.right = None"
   ]
  },
  {
   "cell_type": "code",
   "execution_count": 6,
   "metadata": {},
   "outputs": [],
   "source": [
    "root = Node(1)  \n",
    "root.left = Node(2)  \n",
    "root.right = Node(3)\n",
    "root.left.left = Node(4)  \n",
    "root.left.right = Node(5)\n",
    "root.right.left = Node(6)  \n",
    "root.right.right = Node(7)\n",
    "root.left.left.left = Node(8)\n",
    "root.left.left.right = Node(9)"
   ]
  },
  {
   "cell_type": "code",
   "execution_count": 7,
   "metadata": {},
   "outputs": [
    {
     "data": {
      "text/plain": [
       "16"
      ]
     },
     "execution_count": 7,
     "metadata": {},
     "output_type": "execute_result"
    }
   ],
   "source": [
    "nodeDepths2(root)"
   ]
  }
 ],
 "metadata": {
  "kernelspec": {
   "display_name": "Python 3",
   "language": "python",
   "name": "python3"
  },
  "language_info": {
   "codemirror_mode": {
    "name": "ipython",
    "version": 3
   },
   "file_extension": ".py",
   "mimetype": "text/x-python",
   "name": "python",
   "nbconvert_exporter": "python",
   "pygments_lexer": "ipython3",
   "version": "3.7.1"
  }
 },
 "nbformat": 4,
 "nbformat_minor": 2
}
