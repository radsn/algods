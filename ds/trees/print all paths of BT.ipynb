{
 "cells": [
  {
   "cell_type": "markdown",
   "metadata": {},
   "source": [
    "Given a binary tree, return all paths from root to leaf."
   ]
  },
  {
   "cell_type": "markdown",
   "metadata": {},
   "source": [
    "**Storing all paths into an array and returning the array**"
   ]
  },
  {
   "cell_type": "code",
   "execution_count": 1,
   "metadata": {},
   "outputs": [],
   "source": [
    "def allPathsOfABinaryTree1(root):\n",
    "    if not root: return []  #mandatory check\n",
    "    result = []             #globalbox\n",
    "    \n",
    "    def helper(node, slate):\n",
    "        #BaseCase: leaf node\n",
    "        if not node.left and not node.right: #at leaf \n",
    "            slate.append(node.val)  \n",
    "            result.append(slate[:]) #append copy of slate into globalbox\n",
    "            slate.pop()\n",
    "            return        \n",
    "        #RecursiveCase: internal node\n",
    "        if node.left:\n",
    "            helper(node.left, slate+[node.val])\n",
    "        if node.right:\n",
    "            helper(node.right, slate+[node.val])\n",
    "\n",
    "    helper(root, []) #pass empty slate which will keep store of node values along the path\n",
    "    return result"
   ]
  },
  {
   "cell_type": "markdown",
   "metadata": {},
   "source": [
    "Top-Down dfs -- need to pass slate as an additional parameter in which every node (leaf and internal) appends its value (info is passed down from the parent); however, only in the leaf node level the slate gets appended into the global result."
   ]
  },
  {
   "cell_type": "markdown",
   "metadata": {},
   "source": [
    "**time:** number of paths * length of path = O(nlogn)\n",
    "\n",
    "complete binary tree: n/2 leaf nodes so total n/2 paths; each path being logn in length since height of tree is logn ==> total: O(nlogn)\n",
    "\n",
    "unbalanced tree: 1 leaf node so 1 path which is n in length since worst case height of tree is n ==> total: O(n)\n",
    "\n",
    "**space**: O(nlogn)\n",
    "\n",
    "complete binary tree: implicit call stack height logn; append into array for n/2 paths ==> total O(nlogn)\n",
    "\n",
    "unbalanced tree: implicit call stack height: n; append into array for 1 path ==> O(n)"
   ]
  },
  {
   "cell_type": "markdown",
   "metadata": {},
   "source": [
    "**Printing all paths (no return)**"
   ]
  },
  {
   "cell_type": "code",
   "execution_count": 2,
   "metadata": {},
   "outputs": [],
   "source": [
    "def allPathsOfABinaryTree2(root):\n",
    "    if not root: return \"\"\n",
    "    \n",
    "    def helper(node, slate):\n",
    "        if not node.left and not node.right:\n",
    "            print(\" \".join(slate + [ str(node.val) ]) )\n",
    "        if node.left:\n",
    "            helper( node.left, slate+[str(node.val)] )\n",
    "        if node.right:\n",
    "            helper( node.right, slate+[str(node.val)] )\n",
    "    \n",
    "    helper(root, [])"
   ]
  },
  {
   "cell_type": "code",
   "execution_count": 3,
   "metadata": {},
   "outputs": [],
   "source": [
    "#variant\n",
    "def allPathsOfABinaryTree3(root):\n",
    "    if not root: return \"\"\n",
    "    \n",
    "    def helper(node, slate):\n",
    "        if not node.left and not node.right:\n",
    "            print( \" \".join(slate + [ str(node.val) ]) )\n",
    "        \n",
    "        slate.append( str(node.val) )\n",
    "        if node.left:\n",
    "            helper( node.left, slate )\n",
    "        if node.right:\n",
    "            helper( node.right, slate )\n",
    "        slate.pop()\n",
    "    \n",
    "    helper(root, [])"
   ]
  },
  {
   "cell_type": "markdown",
   "metadata": {},
   "source": [
    "**time:** number of paths * length of path = O(nlogn) \n",
    "\n",
    "same as above -- complete binary tree has time O(nlogn) whereas unbalanced tree has time O(n)\n",
    "\n",
    "**space**: O(height) = O(n) worst case\n",
    "\n",
    "complete binary tree: implicit call stack height logn\n",
    "\n",
    "unbalanced tree: implicit call stack height: n"
   ]
  },
  {
   "cell_type": "code",
   "execution_count": 4,
   "metadata": {},
   "outputs": [],
   "source": [
    "class Node:\n",
    "    def __init__(self, value):\n",
    "        self.val = value\n",
    "        self.left = None\n",
    "        self.right = None"
   ]
  },
  {
   "cell_type": "code",
   "execution_count": 5,
   "metadata": {},
   "outputs": [],
   "source": [
    "root = Node(1)  \n",
    "root.left = Node(2)  \n",
    "root.right = Node(3)  \n",
    "root.left.left = Node(4)\n",
    "root.left.right = Node(5)\n",
    "root.right.left = Node(6)\n",
    "root.right.right = Node(7)"
   ]
  },
  {
   "cell_type": "code",
   "execution_count": 6,
   "metadata": {},
   "outputs": [
    {
     "name": "stdout",
     "output_type": "stream",
     "text": [
      "[[1, 2, 4], [1, 2, 5], [1, 3, 6], [1, 3, 7]]\n",
      "-----\n",
      "1 2 4\n",
      "1 2 5\n",
      "1 3 6\n",
      "1 3 7\n",
      "-----\n",
      "1 2 4\n",
      "1 2 5\n",
      "1 3 6\n",
      "1 3 7\n"
     ]
    }
   ],
   "source": [
    "print(allPathsOfABinaryTree1(root))\n",
    "print(\"-----\")\n",
    "allPathsOfABinaryTree2(root)\n",
    "print(\"-----\")\n",
    "allPathsOfABinaryTree3(root)"
   ]
  }
 ],
 "metadata": {
  "kernelspec": {
   "display_name": "Python 3",
   "language": "python",
   "name": "python3"
  },
  "language_info": {
   "codemirror_mode": {
    "name": "ipython",
    "version": 3
   },
   "file_extension": ".py",
   "mimetype": "text/x-python",
   "name": "python",
   "nbconvert_exporter": "python",
   "pygments_lexer": "ipython3",
   "version": "3.7.1"
  }
 },
 "nbformat": 4,
 "nbformat_minor": 2
}
