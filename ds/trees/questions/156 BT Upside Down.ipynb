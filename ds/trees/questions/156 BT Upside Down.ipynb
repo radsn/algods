{
 "cells": [
  {
   "cell_type": "markdown",
   "metadata": {},
   "source": [
    "Given the root of a binary tree, turn the tree upside down and return the new root.\n",
    "\n",
    "You can turn a binary tree upside down with the following steps:<br>\n",
    "The original left child becomes the new root. <br>\n",
    "The original root becomes the new right child.<br>\n",
    "The original right child becomes the new left child."
   ]
  },
  {
   "cell_type": "markdown",
   "metadata": {},
   "source": [
    "recursive:"
   ]
  },
  {
   "cell_type": "code",
   "execution_count": 2,
   "metadata": {},
   "outputs": [],
   "source": [
    "# O(logn) time | O(logn) space\n",
    "def upsideDownBinaryTree(root):\n",
    "    #Basecase: either null root or no left child\n",
    "    if not root or not root.left: \n",
    "        return root\n",
    "    newroot = self.upsideDownBinaryTree(root.left) #return is root which is left child\n",
    "    root.left.left = root.right\n",
    "    root.left.right = root\n",
    "    root.left = None\n",
    "    root.right = None\n",
    "    return newroot"
   ]
  }
 ],
 "metadata": {
  "kernelspec": {
   "display_name": "Python 3",
   "language": "python",
   "name": "python3"
  },
  "language_info": {
   "codemirror_mode": {
    "name": "ipython",
    "version": 3
   },
   "file_extension": ".py",
   "mimetype": "text/x-python",
   "name": "python",
   "nbconvert_exporter": "python",
   "pygments_lexer": "ipython3",
   "version": "3.7.1"
  }
 },
 "nbformat": 4,
 "nbformat_minor": 2
}
