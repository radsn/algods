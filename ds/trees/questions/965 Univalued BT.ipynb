{
 "cells": [
  {
   "cell_type": "markdown",
   "metadata": {},
   "source": [
    "A binary tree is univalued if every node in the tree has the same value. Return true if and only if the given tree is univalued."
   ]
  },
  {
   "cell_type": "markdown",
   "metadata": {},
   "source": [
    "recursion:<br>\n",
    "check if left is unival and then check if right is unival --  return bool (note if null gives True)<br>\n",
    "now got values from my two subtrees, left and right, check myval with their val <br>\n",
    "check if myval == leftval and myval == rightval and if left and right"
   ]
  },
  {
   "cell_type": "code",
   "execution_count": 1,
   "metadata": {},
   "outputs": [],
   "source": [
    "#natural way of recursion - breaking into left, right and then checking itself\n",
    "def isUnivalTree(self, root):\n",
    "    if not root:\n",
    "        return True\n",
    "\n",
    "    isLeftUnival  = self.isUnivalTree(root.left)\n",
    "    isRightUnival = self.isUnivalTree(root.right)\n",
    "\n",
    "    if root.left:\n",
    "        if root.val != root.left.val: \n",
    "            return False\n",
    "    if root.right:\n",
    "        if root.val != root.right.val: \n",
    "            return False\n",
    "\n",
    "    return isLeftUnival and isRightUnival"
   ]
  },
  {
   "cell_type": "markdown",
   "metadata": {},
   "source": [
    "pass root value down from top and check it with every node's value"
   ]
  },
  {
   "cell_type": "code",
   "execution_count": 2,
   "metadata": {},
   "outputs": [],
   "source": [
    "def isUnivalTree(self, root):\n",
    "    \n",
    "    def traverse(node, val):\n",
    "        if not node:\n",
    "            return True\n",
    "        if node.val != val:\n",
    "            return False\n",
    "        return traverse(node.left, val) and traverse(node.right, val)\n",
    "\n",
    "    return traverse(root, root.val)"
   ]
  },
  {
   "cell_type": "markdown",
   "metadata": {},
   "source": [
    "##variants:"
   ]
  },
  {
   "cell_type": "code",
   "execution_count": 3,
   "metadata": {},
   "outputs": [],
   "source": [
    "def isUnivalTree(root):\n",
    "    if not root:\n",
    "        return True\n",
    "\n",
    "    left  = True\n",
    "    right = True\n",
    "    if root.left:\n",
    "        if root.left.val != root.val:\n",
    "            return False\n",
    "        left = self.isUnivalTree(root.left)\n",
    "\n",
    "    if root.right:\n",
    "        if root.right.val != root.val:\n",
    "            return False\n",
    "        right = self.isUnivalTree(root.right)\n",
    "\n",
    "    return left and right"
   ]
  },
  {
   "cell_type": "code",
   "execution_count": 4,
   "metadata": {},
   "outputs": [],
   "source": [
    "def isUnivalTree(root):\n",
    "    left_correct  = (not root.left)  or (root.val == root.left.val  and self.isUnivalTree(root.left)) \n",
    "    right_correct = (not root.right) or (root.val == root.right.val and self.isUnivalTree(root.right))\n",
    "    return left_correct and right_correct"
   ]
  }
 ],
 "metadata": {
  "kernelspec": {
   "display_name": "Python 3",
   "language": "python",
   "name": "python3"
  },
  "language_info": {
   "codemirror_mode": {
    "name": "ipython",
    "version": 3
   },
   "file_extension": ".py",
   "mimetype": "text/x-python",
   "name": "python",
   "nbconvert_exporter": "python",
   "pygments_lexer": "ipython3",
   "version": "3.7.1"
  }
 },
 "nbformat": 4,
 "nbformat_minor": 2
}
