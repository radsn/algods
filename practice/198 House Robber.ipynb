{
 "cells": [
  {
   "cell_type": "markdown",
   "id": "30155701",
   "metadata": {},
   "source": [
    "A house robber has a map of houses and the amount of gold in each home. The robber knows that if two adjacent homes are robbed, then the neighborhood security system will sound. Determine the total amount of gold the robber can get without setting off the alarm.\n",
    "\n",
    "Input: \t Array of Nonnegative Integers<br>\n",
    "Output: \tInteger\n",
    "\n",
    "Example:<br>\n",
    "Input: [1, 2, 3]\t\t\t\t      =>\tOutput: 4<br>\n",
    "Input: [1, 2, 4, 1, 5, 12, 5]\t=>\tOutput: 17\n",
    "\n",
    "Explanation:\n",
    "Knowing you can't rob from two adjacent houses, find the maximum gold you can steal.\n",
    "\n",
    "Example1:\n",
    "1 + 3 = 4\n",
    "\n",
    "Example2:\n",
    "1 + 4 + 12 = 17"
   ]
  },
  {
   "cell_type": "code",
   "execution_count": null,
   "id": "cd096d43",
   "metadata": {},
   "outputs": [],
   "source": [
    "\"\"\"\n",
    "Observations: \n",
    "- Thinking about this with recursion\n",
    "- Think in terms of BINARY DECISION making\n",
    "- For each house - 2 options : rob the current house OR don't rob the current house\n",
    "- left branch - rob current house (add gold from current house to left recusive call) \n",
    "- right branch - skip current house (only make right recursive call) \n",
    "- base case - index is out of bounds; outside the neighborhood \n",
    "  - return 0\n",
    "\n",
    "Recursion Tree: 1st step - draw out binary decision recursion tree\n",
    "\n",
    " 0  1  2  3  4   5  6\n",
    "[1, 2, 4, , 5, 12, 5]\n",
    "                                          index \n",
    "                                          0(17)\n",
    "                  /rob current house+1               \\don't rob current house+0\n",
    "                 2(16)                                 1\n",
    "            /+4         \\+0                    /+2           \\+0\n",
    "          4(12)           3                   3                2\n",
    "    /+5       \\+0\n",
    "   6(5)         5(12)\n",
    "            /+12    \\+0\n",
    "           7(0)       6(5)\n",
    "                  /+5     \\+0\n",
    "                 8          7\n",
    "   \n",
    "Top down recursive solution:\n",
    "DP-table will be built from last to front\n",
    "\n",
    "Basecase: think at last house, either i+2 or i+1 -- so need 2 out of bounds base conditions\n",
    "\n",
    "\n",
    "Tabulation:\n",
    "1. Identify factors - only one factor => index \n",
    "2. Create table \n",
    "  - Simplest version - no houses; index is out of bounds (need 2 out of bounds)\n",
    "  - Eventual version - answer at index 0\n",
    "3. Develop formula - choose max of (gold at index + 2 + current house gold) \n",
    "                     compared with (gold at index + 1 + 0 gold) \n",
    "4. Create foundation \n",
    "5. Fill out table \n",
    "\n",
    "Draw out the table before writing out the code :\n",
    "\n",
    "       0, 1, 2, 3, 4, 5,  6\n",
    "arr = [1, 2, 4, 1, 5, 12, 5]\n",
    "\n",
    "       i\n",
    "       0    1   2   3   4   5  6  7  8\n",
    "tab = [17, 16, 16, 13, 12, 12, 5, 0, 0]\n",
    "\n",
    "index=i will be moving from right to left and the answer will lie in tab[0]\n",
    "\n",
    "FORMULA => max(arr[i]+table[i+2], 0+table[i+1])\n",
    "\"\"\""
   ]
  },
  {
   "cell_type": "code",
   "execution_count": 1,
   "id": "438dba85",
   "metadata": {},
   "outputs": [
    {
     "name": "stdout",
     "output_type": "stream",
     "text": [
      "CALLS:  67\n",
      "17\n"
     ]
    }
   ],
   "source": [
    "#recursion\n",
    "def house_robber(arr):\n",
    "    calls = 0\n",
    "    def find_gold(i):\n",
    "        nonlocal calls\n",
    "        calls += 1\n",
    "        if i >= len(arr):\n",
    "            return 0\n",
    "        leftbranch = arr[i] + find_gold(i+2)\n",
    "        rightbranch = 0 + find_gold(i+1)\n",
    "        return max(leftbranch, rightbranch)\n",
    "    result = find_gold(0)\n",
    "    print(\"CALLS: \", calls)\n",
    "    return result\n",
    "\n",
    "print(house_robber([1, 2, 4, 1, 5, 12, 5]))"
   ]
  },
  {
   "cell_type": "code",
   "execution_count": 2,
   "id": "0722ec2f",
   "metadata": {},
   "outputs": [
    {
     "name": "stdout",
     "output_type": "stream",
     "text": [
      "CALLS:  15\n",
      "17\n"
     ]
    }
   ],
   "source": [
    "#memoization\n",
    "def house_robber(arr):\n",
    "    cache = dict()\n",
    "    calls = 0\n",
    "    def find_gold(i):\n",
    "        nonlocal calls\n",
    "        calls += 1\n",
    "        if i in cache:\n",
    "            return cache[i]\n",
    "        if i >= len(arr):\n",
    "            return 0\n",
    "        leftbranch = arr[i] + find_gold(i+2)\n",
    "        rightbranch = 0 + find_gold(i+1)\n",
    "        cache[i] = max(leftbranch, rightbranch)\n",
    "        return cache[i]\n",
    "    result = find_gold(0)\n",
    "    print(\"CALLS: \", calls)\n",
    "    return result\n",
    "\n",
    "print(house_robber([1, 2, 4, 1, 5, 12, 5]))"
   ]
  },
  {
   "cell_type": "code",
   "execution_count": 3,
   "id": "9cb6d13f",
   "metadata": {},
   "outputs": [
    {
     "name": "stdout",
     "output_type": "stream",
     "text": [
      "[17, 16, 16, 13, 12, 12, 5, 0, 0]\n",
      "17\n"
     ]
    }
   ],
   "source": [
    "#tabulation\n",
    "def house_robber(arr):\n",
    "    table = [0 for i in range(len(arr)+2)]\n",
    "    for i in range(len(arr)-1, -1, -1):\n",
    "        option1 = arr[i]+table[i+2]\n",
    "        option2 = 0 + table[i+1]\n",
    "        table[i] = max(option1, option2)\n",
    "    print(table)\n",
    "    return table[0]\n",
    "\n",
    "print(house_robber([1, 2, 4, 1, 5, 12, 5]))"
   ]
  },
  {
   "cell_type": "code",
   "execution_count": null,
   "id": "da941d9e",
   "metadata": {},
   "outputs": [],
   "source": [
    "\"\"\"\n",
    "Recursive tree: binary decision from last index\n",
    "\n",
    " 0  1  2  3  4  5   6\n",
    "[1, 2, 4, 1, 5, 12, 5]\n",
    "\n",
    "                                              index\n",
    "                                                6(17)\n",
    "                        /rob current house+5           \\don't rob current house+0\n",
    "                       4                                 5(17)\n",
    "                 /+5        \\+0                    /+12          \\+0\n",
    "                2            3                    3(5)            4\n",
    "                                           /+1           \\+0\n",
    "                                          1(2)             2(5)\n",
    "                                                    /+4           \\+0\n",
    "                                                   0(1)              1(2)\n",
    "                                                /+1  \\+0         /+2    \\+0\n",
    "                                              -2(0)   -1(0)     -1(0)    0(1)\n",
    "\n",
    "\n",
    "formula: max( arr[i] + helper(i-2), 0 + helper(i-1) )\n",
    "\n",
    "BaseCase: index out of bounds - return 0 (need 2 out of bounds : index at -1 and -2)\n",
    "left = arr[i] + helper(i-2)\n",
    "right = 0 + helper(i-1)\n",
    "return max(left, right)\n",
    "\n",
    "DP table can be built from left to right\n",
    "\n",
    "Tabulation:\n",
    "1. Identify factors - only one factor => index \n",
    "2. Create table \n",
    "  - Simplest version - no houses; index is out of bounds (need 2 out of bounds)\n",
    "  - Eventual version - answer at last index\n",
    "3. Develop formula - choose max of (gold at index - 2 + current house gold) \n",
    "                     compared with (gold at index + 1 + 0 gold) \n",
    "4. Create foundation \n",
    "5. Fill out table \n",
    "\n",
    "Draw out the table before writing out the code :\n",
    "\n",
    "       0, 1, 2, 3, 4, 5,  6\n",
    "arr = [1, 2, 4, 1, 5, 12, 5]\n",
    "\n",
    "                                 i\n",
    "      -2 -1  0  1  2  3  4   5   6\n",
    "tab = [0, 0, 1, 2, 5, 5, 10, 17, 17]\n",
    "\n",
    "index=i will be moving from left to right and answer will lie in tab[-1]\n",
    "\n",
    "loop over tab\n",
    "FORMULA => max(arr[i-2]+table[i-2], 0+table[i-1])\n",
    "\"\"\""
   ]
  },
  {
   "cell_type": "code",
   "execution_count": 4,
   "id": "ad434039",
   "metadata": {},
   "outputs": [
    {
     "name": "stdout",
     "output_type": "stream",
     "text": [
      "CALLS:  67\n",
      "17\n"
     ]
    }
   ],
   "source": [
    "#recursion\n",
    "def house_robber(arr):\n",
    "    calls = 0\n",
    "    def find_gold(i):\n",
    "        nonlocal calls\n",
    "        calls += 1\n",
    "        if i < 0:\n",
    "            return 0\n",
    "        leftbranch = arr[i] + find_gold(i-2)\n",
    "        rightbranch = 0 + find_gold(i-1)\n",
    "        return max(leftbranch, rightbranch)\n",
    "    result = find_gold(len(arr)-1)\n",
    "    print(\"CALLS: \", calls)\n",
    "    return result\n",
    "\n",
    "print(house_robber([1, 2, 4, 1, 5, 12, 5]))"
   ]
  },
  {
   "cell_type": "code",
   "execution_count": 5,
   "id": "90da23e8",
   "metadata": {},
   "outputs": [
    {
     "name": "stdout",
     "output_type": "stream",
     "text": [
      "CALLS:  15\n",
      "17\n"
     ]
    }
   ],
   "source": [
    "#memoization\n",
    "def house_robber(arr):\n",
    "    cache = dict()\n",
    "    calls = 0\n",
    "    def find_gold(i):\n",
    "        nonlocal calls\n",
    "        calls += 1\n",
    "        if i in cache:\n",
    "            return cache[i]\n",
    "        if i < 0:\n",
    "            return 0\n",
    "        leftbranch = arr[i] + find_gold(i-2)\n",
    "        rightbranch = 0 + find_gold(i-1)\n",
    "        cache[i] = max(leftbranch, rightbranch)\n",
    "        return cache[i]\n",
    "    result = find_gold(len(arr)-1)\n",
    "    print(\"CALLS: \", calls)\n",
    "    return result\n",
    "\n",
    "print(house_robber([1, 2, 4, 1, 5, 12, 5]))"
   ]
  },
  {
   "cell_type": "code",
   "execution_count": 6,
   "id": "7ca851ad",
   "metadata": {},
   "outputs": [
    {
     "name": "stdout",
     "output_type": "stream",
     "text": [
      "[0, 0, 1, 2, 5, 5, 10, 17, 17]\n",
      "17\n"
     ]
    }
   ],
   "source": [
    "#tabulation\n",
    "def house_robber(arr):\n",
    "    table = [0 for i in range(len(arr)+2)]\n",
    "    for i in range(len(table)):\n",
    "        if i >=2:\n",
    "            option1 = arr[i-2]+table[i-2]\n",
    "            option2 = 0 + table[i-1]\n",
    "            table[i] = max(option1, option2)\n",
    "    print(table)\n",
    "    return table[-1]\n",
    "\n",
    "print(house_robber([1, 2, 4, 1, 5, 12, 5]))"
   ]
  }
 ],
 "metadata": {
  "kernelspec": {
   "display_name": "Python 3 (ipykernel)",
   "language": "python",
   "name": "python3"
  },
  "language_info": {
   "codemirror_mode": {
    "name": "ipython",
    "version": 3
   },
   "file_extension": ".py",
   "mimetype": "text/x-python",
   "name": "python",
   "nbconvert_exporter": "python",
   "pygments_lexer": "ipython3",
   "version": "3.8.2"
  }
 },
 "nbformat": 4,
 "nbformat_minor": 5
}
