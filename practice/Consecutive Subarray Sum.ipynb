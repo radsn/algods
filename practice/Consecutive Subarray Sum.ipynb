{
 "cells": [
  {
   "cell_type": "markdown",
   "id": "c5e3dbfd",
   "metadata": {},
   "source": [
    "Given an array of positive integers and a target value, return true if there is a subarray of consecutive elements that sum up to this target value.\n",
    "\n",
    "Input: Array of integers, target value<br>\n",
    "Output: Boolean\n",
    "\n",
    "Examples:<br>\n",
    "Input: [6,12,1,7,5,2,3], 14      \t=>\tOutput: true (7+5+2) <br>\n",
    "Input: [8,3,7,9,10,1,13], 50\t\t=>\tOutput: false<br>\n",
    "\n",
    "Constraints:<br>\n",
    "Time Complexity: O(N) <br>\n",
    "Auxiliary Space Complexity: O(1)"
   ]
  },
  {
   "cell_type": "code",
   "execution_count": 1,
   "id": "648f8c5a",
   "metadata": {},
   "outputs": [
    {
     "name": "stdout",
     "output_type": "stream",
     "text": [
      "[6, 12]\n",
      "18\n",
      "[12, 1, 7]\n",
      "20\n",
      "[1, 7, 5, 2]\n",
      "15\n"
     ]
    },
    {
     "data": {
      "text/plain": [
       "True"
      ]
     },
     "execution_count": 1,
     "metadata": {},
     "output_type": "execute_result"
    }
   ],
   "source": [
    "\"\"\"\n",
    "Brute\n",
    "target=14\n",
    "\n",
    "        i\n",
    "[6,12,1,7,5,2,3]\n",
    "            j\n",
    "\n",
    "sum = 7\n",
    "\n",
    "\n",
    "Observations: \n",
    "- if target < currsum : j++ and update sum\n",
    "- if target > currsum : i++ and reset j to i+1\n",
    "\n",
    "\n",
    "for i = 0 to len(arr)-1\n",
    "    j = i+1; \n",
    "    while (j<len(arr)):\n",
    "        if sum(arr[i:j+1]) > 14 then \n",
    "            i++ \n",
    "            j = i+1 #reset j\n",
    "        if sum(arr[i:j+1]) < 14 then \n",
    "            j++\n",
    "        if sum(arr[i:j+1]) == 14 then \n",
    "            return True\n",
    "return False\n",
    "\n",
    "reseting j each time to i+1 : time O(n^2)\n",
    "\"\"\"\n",
    "\n",
    "def subarray_sum(arr, target):\n",
    "    for i in range(len(arr)):\n",
    "        j = i+1\n",
    "        currsum = arr[i]\n",
    "        subarray = [arr[i]]\n",
    "        while j < len(arr):\n",
    "            currsum += arr[j]\n",
    "            subarray.append(arr[j])\n",
    "            if currsum > target:\n",
    "                break\n",
    "            elif currsum < target:\n",
    "                j += 1\n",
    "            else:\n",
    "                return True\n",
    "        print(subarray)\n",
    "        print(currsum)\n",
    "    return False\n",
    "\n",
    "subarray_sum([6,12,1,7,5,2,3], 14)"
   ]
  },
  {
   "cell_type": "code",
   "execution_count": 2,
   "id": "1f3e366b",
   "metadata": {},
   "outputs": [
    {
     "name": "stdout",
     "output_type": "stream",
     "text": [
      "[6, 12]\n",
      "18\n",
      "[12]\n",
      "12\n",
      "[12, 1]\n",
      "13\n",
      "[12, 1, 7]\n",
      "20\n",
      "[1, 7]\n",
      "8\n",
      "[1, 7, 5]\n",
      "13\n",
      "[1, 7, 5, 2]\n",
      "15\n",
      "[7, 5, 2]\n",
      "14\n"
     ]
    },
    {
     "data": {
      "text/plain": [
       "True"
      ]
     },
     "execution_count": 2,
     "metadata": {},
     "output_type": "execute_result"
    }
   ],
   "source": [
    "\"\"\"\n",
    "Divide problem into Hunting Phase and Catching Phase\n",
    "target=14\n",
    "\n",
    "        i\n",
    "[6,12,1,7,5,2,3]\n",
    "            j\n",
    "\n",
    "sum = 14\n",
    "\n",
    "Hunting Phase: from our brute force approach, we know j++\n",
    "if sum < target:\n",
    "   sum+= arr[j]\n",
    "   j++\n",
    "   \n",
    "Catching Phase: from our brute force approach, we know i++\n",
    "if sum > target:\n",
    "    sum-=arr[i]\n",
    "    i++\n",
    "\n",
    "if sum==target: return\n",
    "\"\"\"\n",
    "\n",
    "def subarray_sum(arr, target):\n",
    "    i=0\n",
    "    j=i+1\n",
    "    currsum = arr[i]\n",
    "    subarray = [arr[i]]\n",
    "    while i < len(arr) and j < len(arr):\n",
    "        if currsum < target:\n",
    "            subarray.append(arr[j])\n",
    "            currsum += arr[j]\n",
    "            j+=1\n",
    "        elif currsum > target:\n",
    "            subarray.pop(0)\n",
    "            currsum -= arr[i]\n",
    "            i+=1\n",
    "        else:\n",
    "            return True\n",
    "        print(subarray)\n",
    "        print(currsum)\n",
    "    return False\n",
    "        \n",
    "subarray_sum([6,12,1,7,5,2,3], 14)"
   ]
  }
 ],
 "metadata": {
  "kernelspec": {
   "display_name": "Python 3 (ipykernel)",
   "language": "python",
   "name": "python3"
  },
  "language_info": {
   "codemirror_mode": {
    "name": "ipython",
    "version": 3
   },
   "file_extension": ".py",
   "mimetype": "text/x-python",
   "name": "python",
   "nbconvert_exporter": "python",
   "pygments_lexer": "ipython3",
   "version": "3.8.2"
  }
 },
 "nbformat": 4,
 "nbformat_minor": 5
}
