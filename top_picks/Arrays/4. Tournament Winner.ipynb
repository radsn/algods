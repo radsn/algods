{
 "cells": [
  {
   "cell_type": "markdown",
   "metadata": {},
   "source": [
    "Given an array of pairs representing the teams that have competed against each other and an array containing the results of each competition, write a function that returns the winner of the tournament. The input array named competitions and results, where competitions array has elements in the form of [homeTeam, awayTeam]. The results array contains information about the winner of each corresponding competition in the competitions array i.e. results[i] denotes the winner of competitions[i], where 1 means that homeTeam won while 0 means that awayTeam won."
   ]
  },
  {
   "cell_type": "code",
   "execution_count": 1,
   "metadata": {},
   "outputs": [],
   "source": [
    "competitions = [\n",
    "    [\"HTML\", \"C#\"],\n",
    "    [\"C#\", \"Python\"],\n",
    "    [\"Python\", \"HTML\"]]\n",
    "results = [0, 0, 1]"
   ]
  },
  {
   "cell_type": "code",
   "execution_count": 2,
   "metadata": {},
   "outputs": [],
   "source": [
    "def tournamentWinner(competitions, results):\n",
    "    scores = {}\n",
    "    for idx, team in enumerate(competitions):\n",
    "        if results[idx] == 0:\n",
    "            winner = team[1]\n",
    "        else:\n",
    "            winner = team[0]\n",
    "        if winner not in scores:\n",
    "            scores[winner] = 1\n",
    "        else:\n",
    "            scores[winner] += 1\n",
    "\n",
    "    max_val = 0\n",
    "    winner_team = \"\"\n",
    "    for key, val in scores.items():\n",
    "        if val > max_val:\n",
    "            max_val = val\n",
    "            winner_team = key\n",
    "    return winner_team"
   ]
  },
  {
   "cell_type": "markdown",
   "metadata": {},
   "source": [
    "- traverse each competition array pair\n",
    "- find the winner\n",
    "- track the count of winner in each pair in a dictionary\n",
    "- iterate thru the dictionary and find the key with highest count\n",
    "\n",
    "\n",
    "optimization:\n",
    "- instead of two loops - keep track of the best team in the for loop\n",
    "- initialize best_team as an empty string and count 0 inside the empty dictionary"
   ]
  },
  {
   "cell_type": "code",
   "execution_count": 3,
   "metadata": {},
   "outputs": [],
   "source": [
    "# O(n) time | O(k) space\n",
    "def tournamentWinner(competitions, results):\n",
    "    best_team = \"\"\n",
    "    scores = {best_team:0}\n",
    "    \n",
    "    for idx, team in enumerate(competitions):\n",
    "        result = results[idx]\n",
    "        homeTeam, awayTeam = team\n",
    "        \n",
    "        winner = homeTeam if result == 1 else awayTeam\n",
    "        \n",
    "        updateScores(winner, 3, scores)\n",
    "        \n",
    "        if scores[winner] > scores[best_team]:\n",
    "            best_team = winner\n",
    "            \n",
    "    return best_team\n",
    "\n",
    "def updateScores(team, points, scores):\n",
    "    if team not in scores:\n",
    "        scores[team] = 0\n",
    "    scores[team] += points"
   ]
  },
  {
   "cell_type": "code",
   "execution_count": 4,
   "metadata": {},
   "outputs": [
    {
     "data": {
      "text/plain": [
       "'Python'"
      ]
     },
     "execution_count": 4,
     "metadata": {},
     "output_type": "execute_result"
    }
   ],
   "source": [
    " tournamentWinner(competitions, results)"
   ]
  }
 ],
 "metadata": {
  "kernelspec": {
   "display_name": "Python 3",
   "language": "python",
   "name": "python3"
  },
  "language_info": {
   "codemirror_mode": {
    "name": "ipython",
    "version": 3
   },
   "file_extension": ".py",
   "mimetype": "text/x-python",
   "name": "python",
   "nbconvert_exporter": "python",
   "pygments_lexer": "ipython3",
   "version": "3.7.1"
  }
 },
 "nbformat": 4,
 "nbformat_minor": 2
}
