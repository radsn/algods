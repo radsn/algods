{
 "cells": [
  {
   "cell_type": "markdown",
   "metadata": {},
   "source": [
    "Given an array of positve integers representing the value of coins, write a function that returns the minimum amount of change (minimum sum of money) that you cannot create."
   ]
  },
  {
   "cell_type": "code",
   "execution_count": 1,
   "metadata": {},
   "outputs": [],
   "source": [
    "coins = [5,7,1,1,2,3,22]"
   ]
  },
  {
   "cell_type": "markdown",
   "metadata": {},
   "source": [
    "brute force: attempt to create every single amount of change using the coins available, starting at 1 and going up until you cannot create an amount."
   ]
  },
  {
   "cell_type": "markdown",
   "metadata": {},
   "source": [
    "- create a variable to store amount of maxChange that you can currently create up to\n",
    "    - if maxPossibleChange = k, then can make all change from 1 to k\n",
    "- sort array\n",
    "- loop thru the array in ascending order and compare the current coin to the maxChange that you can currently create\n",
    "    - if coin value > maxChange+1 --> return maxChange+1 (smallest non-Constructible change)\n",
    "    - if coin value <= maxChange+1 --> maxChange += coin value "
   ]
  },
  {
   "cell_type": "raw",
   "metadata": {},
   "source": [
    "coins = [1,2,4]\n",
    "we can create: 1,2,3,4,5,6,7\n",
    "maxChange = 7\n",
    "if we were to add a coin value of 9 to this set, cannot create 8.\n",
    "But if we add any number 8 or less, we can create 8."
   ]
  },
  {
   "cell_type": "markdown",
   "metadata": {},
   "source": [
    "in a sorted array, first numnber has to be 1, if not then we return 1 (smallest number non-constructible).\n",
    "\n",
    "as we go thru the sorted array, we have to think what should be the next number in the sequence inorder to preserve consecutivity.\n",
    "\n",
    "the next number has to be <= sum of all previous + 1, then the consecutivity is preserved. We can all change between 1...next_number"
   ]
  },
  {
   "cell_type": "raw",
   "metadata": {},
   "source": [
    "given coins = [1,2]\n",
    "we can create: 1,2,3\n",
    "maxChange = 3\n",
    "if we add coin value of 4, we can now also make 4, 5, 6, 7.\n",
    "if we add coin value of 5, it is greater than maxChange+1 and we cannot make 4."
   ]
  },
  {
   "cell_type": "code",
   "execution_count": 2,
   "metadata": {},
   "outputs": [],
   "source": [
    "# O(nlogn) time | O(1) space\n",
    "def nonConstructibleChange(coins):\n",
    "    maxPossibleChange = 0\n",
    "    coins.sort()\n",
    "    for coin in coins:\n",
    "        if coin <= maxPossibleChange + 1:\n",
    "            maxPossibleChange += coin\n",
    "        else:\n",
    "            break\n",
    "    return maxPossibleChange + 1"
   ]
  },
  {
   "cell_type": "code",
   "execution_count": 3,
   "metadata": {},
   "outputs": [
    {
     "data": {
      "text/plain": [
       "20"
      ]
     },
     "execution_count": 3,
     "metadata": {},
     "output_type": "execute_result"
    }
   ],
   "source": [
    "nonConstructibleChange(coins)"
   ]
  }
 ],
 "metadata": {
  "kernelspec": {
   "display_name": "Python 3",
   "language": "python",
   "name": "python3"
  },
  "language_info": {
   "codemirror_mode": {
    "name": "ipython",
    "version": 3
   },
   "file_extension": ".py",
   "mimetype": "text/x-python",
   "name": "python",
   "nbconvert_exporter": "python",
   "pygments_lexer": "ipython3",
   "version": "3.7.1"
  }
 },
 "nbformat": 4,
 "nbformat_minor": 2
}
