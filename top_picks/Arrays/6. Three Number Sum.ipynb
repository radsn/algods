{
 "cells": [
  {
   "cell_type": "markdown",
   "metadata": {},
   "source": [
    "Write a function that finds all triplets in the array that sum up to the target sum and returns a 2D array of triplets where each triplet is ordered in ascending order."
   ]
  },
  {
   "cell_type": "code",
   "execution_count": 1,
   "metadata": {},
   "outputs": [],
   "source": [
    "array = [12,3,1,2,-6,5,-8,6]\n",
    "targetSum = 0"
   ]
  },
  {
   "cell_type": "markdown",
   "metadata": {},
   "source": [
    "bruteforce: using 3 loops to calculate sums of all possible triplets in the array O(n^3) time."
   ]
  },
  {
   "cell_type": "markdown",
   "metadata": {},
   "source": [
    "optimized: using two loops \n",
    "\n",
    "How?\n",
    "\n",
    "- Sort the array and traverse it once\n",
    "- at each number, place a left pointer immediately right of current number and place a right pointer on the final number in array.\n",
    "- calculate currentSum = array[currentNumber] + array[left] + array[right]\n",
    "- compare currentSum with targetSum and update pointers"
   ]
  },
  {
   "cell_type": "code",
   "execution_count": 2,
   "metadata": {},
   "outputs": [],
   "source": [
    "# O(n^2) time | O(n) space\n",
    "def threeNumberSum(array, targetSum):\n",
    "    array.sort()\n",
    "    triplets = []\n",
    "    for i in range(len(array)-2):\n",
    "        left = i+1\n",
    "        right = len(array)-1\n",
    "        while left < right:\n",
    "            currentSum = array[i] + array[left] + array[right]\n",
    "            if currentSum > targetSum:\n",
    "                right -= 1\n",
    "            elif currentSum < targetSum:\n",
    "                left += 1\n",
    "            else:\n",
    "                triplet = [array[i], array[left], array[right]]\n",
    "                triplets.append(triplet)\n",
    "                left += 1\n",
    "                right -= 1\n",
    "    return triplets"
   ]
  },
  {
   "cell_type": "code",
   "execution_count": 3,
   "metadata": {},
   "outputs": [
    {
     "data": {
      "text/plain": [
       "[[-8, 2, 6], [-8, 3, 5], [-6, 1, 5]]"
      ]
     },
     "execution_count": 3,
     "metadata": {},
     "output_type": "execute_result"
    }
   ],
   "source": [
    "threeNumberSum(array, targetSum)"
   ]
  },
  {
   "cell_type": "markdown",
   "metadata": {},
   "source": [
    "key: we have to try all possible options in the array.\n",
    "That's why 3 for loops.\n",
    "You fix first number. Then you fix second number. Then go thru all of third number. Then move second number and fix it. Then again go thru all of third number. Repeat until exhausted all third number and second number options. Then move first number and fix it. And repeat again."
   ]
  },
  {
   "cell_type": "markdown",
   "metadata": {},
   "source": [
    "Instead of 3 for loops - you can sort and fix first number in one for loop. But use while loop for second and third numbers - where you strategically update pointers after comparing currentSum with targetSum. Note: you can only move one pointer at a time inorder to not miss any combination."
   ]
  },
  {
   "cell_type": "markdown",
   "metadata": {},
   "source": [
    "- range -> len-2 since left and right pointer next to current number.\n",
    "- move both pointers left and right when currentSum matches targetSum.\n",
    "- note: left < right -- if both on same number then break from loop.\n",
    "- note: don't forget to sort the array!"
   ]
  }
 ],
 "metadata": {
  "kernelspec": {
   "display_name": "Python 3",
   "language": "python",
   "name": "python3"
  },
  "language_info": {
   "codemirror_mode": {
    "name": "ipython",
    "version": 3
   },
   "file_extension": ".py",
   "mimetype": "text/x-python",
   "name": "python",
   "nbconvert_exporter": "python",
   "pygments_lexer": "ipython3",
   "version": "3.7.1"
  }
 },
 "nbformat": 4,
 "nbformat_minor": 2
}
