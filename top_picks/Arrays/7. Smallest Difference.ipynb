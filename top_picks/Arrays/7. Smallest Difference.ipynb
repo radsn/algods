{
 "cells": [
  {
   "cell_type": "markdown",
   "metadata": {},
   "source": [
    "Write a function that finds the pair of numbers (one from each array) whose absolute difference is closest to zero and returns an array containing these two numbers, with number from first array in the first position."
   ]
  },
  {
   "cell_type": "code",
   "execution_count": 1,
   "metadata": {},
   "outputs": [],
   "source": [
    "arrayOne = [-1,5,10,20,28,3]\n",
    "arrayTwo = [26,134,135,15,17]"
   ]
  },
  {
   "cell_type": "markdown",
   "metadata": {},
   "source": [
    "bruteforce: two for loops to generate all diff pairs of numbers using both arrays, calculate the diff and track the smallest diff."
   ]
  },
  {
   "cell_type": "markdown",
   "metadata": {},
   "source": [
    "- sort both arrays\n",
    "- use pointers starting at the beginning of both arrays\n",
    "- evaluate abs difference\n",
    "\n",
    "How to avoid two loops? --> move in such a way that going thru all pairs of numbers is not required.\n",
    "\n",
    "- break early out of the loop: if smallest diff = 0\n",
    "- for new pair of number -- need to generate optimal new pair -- since sorted arrays -- to decrease the difference everytime between the two numbers, need to increment the pointer of the smaller of the two numbers\n",
    "- continue until --> smallest diff = 0 or until one of the pointers gets out of range of its array."
   ]
  },
  {
   "cell_type": "raw",
   "metadata": {},
   "source": [
    "pick arbitrary X3 and Y5 \n",
    "- evaluate difference abs(X3-Y5) != 0\n",
    "\n",
    "if X3 < Y5:\n",
    "- X1,X2 will be smaller than Y5 --> diff will be greater than X3-Y5\n",
    "- Y6,Y7 will be greater than Y5 --> diff will be greater than X3-Y5\n",
    "\n",
    "Either increment X3 (increase the smaller number) <br>\n",
    "Either decrement Y5 (decrement the bigger number) <br>"
   ]
  },
  {
   "cell_type": "markdown",
   "metadata": {},
   "source": [
    "in this question: since both are sorted arrays in ascending order, we can only increment the smaller of the two numbers to decrease the difference."
   ]
  },
  {
   "cell_type": "code",
   "execution_count": 2,
   "metadata": {},
   "outputs": [],
   "source": [
    "# O(nlogn + mlogm) time | O(1) space\n",
    "def smallestDifference(arrayOne, arrayTwo):\n",
    "    arrayOne.sort()\n",
    "    arrayTwo.sort()\n",
    "    idxOne = 0\n",
    "    idxTwo = 0\n",
    "    smallest_diff = float(\"inf\")\n",
    "    smallest_pair = []\n",
    "    while idxOne < len(arrayOne) and idxTwo < len(arrayTwo):\n",
    "        diff = abs(arrayOne[idxOne] - arrayTwo[idxTwo])\n",
    "        if smallest_diff > diff:\n",
    "            smallest_diff = diff\n",
    "            smallest_pair = [arrayOne[idxOne], arrayTwo[idxTwo]]\n",
    "        if arrayOne[idxOne] < arrayTwo[idxTwo]:\n",
    "            idxOne += 1\n",
    "        elif arrayOne[idxOne] > arrayTwo[idxTwo]:\n",
    "            idxTwo += 1\n",
    "        else:\n",
    "            return smallest_pair\n",
    "    return smallest_pair"
   ]
  },
  {
   "cell_type": "code",
   "execution_count": 3,
   "metadata": {},
   "outputs": [
    {
     "data": {
      "text/plain": [
       "[28, 26]"
      ]
     },
     "execution_count": 3,
     "metadata": {},
     "output_type": "execute_result"
    }
   ],
   "source": [
    "smallestDifference(arrayOne, arrayTwo)"
   ]
  }
 ],
 "metadata": {
  "kernelspec": {
   "display_name": "Python 3",
   "language": "python",
   "name": "python3"
  },
  "language_info": {
   "codemirror_mode": {
    "name": "ipython",
    "version": 3
   },
   "file_extension": ".py",
   "mimetype": "text/x-python",
   "name": "python",
   "nbconvert_exporter": "python",
   "pygments_lexer": "ipython3",
   "version": "3.7.1"
  }
 },
 "nbformat": 4,
 "nbformat_minor": 2
}
